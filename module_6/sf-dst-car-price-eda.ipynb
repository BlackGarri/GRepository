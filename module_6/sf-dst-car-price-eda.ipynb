{
 "cells": [
  {
   "cell_type": "markdown",
   "metadata": {},
   "source": [
    "# Задача\n",
    "Необходимо создать модель, которая будет предсказывать стоимость автомобиля по его характеристикам. Для оценки использовать метрику MAPE \n",
    "\n",
    "В данном ноутбуке мы собрали в датасет все спарсенные файлы, провели разведывательный анализ данных, кодировку и получили готовый для обучения датасет.\n",
    "\n",
    "В этом проекте использовали: Ноутбук, через который парсили https://www.kaggle.com/igorchernov/sf-dst-car-price-parser\n",
    "\n",
    "Спарсенный датасет https://www.kaggle.com/igorchernov/input/data-car-sales/\n",
    "\n",
    "Ноутбук, в котором провели EDA https://www.kaggle.com/igorchernov/sf-dst-car-price-eda\n",
    "\n",
    "Ноутбук, в котором провели обучение https://www.kaggle.com/igorchernov/sf-dst-car-price-ml"
   ]
  },
  {
   "cell_type": "markdown",
   "metadata": {},
   "source": [
    "# Загрузка и предподготовка данных"
   ]
  },
  {
   "cell_type": "code",
   "execution_count": 519,
   "metadata": {},
   "outputs": [],
   "source": [
    "#Импорт библиотек\n",
    "\n",
    "import os\n",
    "import numpy as np \n",
    "import pandas as pd \n",
    "import pandas_profiling\n",
    "from pandas import Series\n",
    "from itertools import combinations\n",
    "from scipy.stats import ttest_ind\n",
    "\n",
    "import re\n",
    "import datetime\n",
    "\n",
    "from sklearn.preprocessing import LabelEncoder, StandardScaler, OneHotEncoder\n",
    "from sklearn.feature_selection import mutual_info_classif, f_classif\n",
    "\n",
    "import seaborn as sns\n",
    "import matplotlib.pyplot as plt\n",
    "\n",
    "%matplotlib inline"
   ]
  },
  {
   "cell_type": "code",
   "execution_count": 520,
   "metadata": {},
   "outputs": [],
   "source": [
    "import warnings \n",
    "warnings.filterwarnings(\"ignore\") "
   ]
  },
  {
   "cell_type": "code",
   "execution_count": 521,
   "metadata": {},
   "outputs": [
    {
     "name": "stdout",
     "output_type": "stream",
     "text": [
      "audi.csv\n",
      "bmw.csv\n",
      "chery.csv\n",
      "generated an exception: Error tokenizing data. C error: Expected 1 fields in line 40, saw 3\n",
      "\n",
      "citroen.csv\n",
      "generated an exception: Error tokenizing data. C error: Expected 1 fields in line 7, saw 13\n",
      "\n",
      "ford.csv\n",
      "generated an exception: Error tokenizing data. C error: Expected 1 fields in line 4, saw 8\n",
      "\n",
      "gaz.csv\n",
      "geely.csv\n",
      "generated an exception: Error tokenizing data. C error: Expected 1 fields in line 9, saw 7\n",
      "\n",
      "haval.csv\n",
      "generated an exception: Error tokenizing data. C error: Expected 6 fields in line 16, saw 8\n",
      "\n",
      "honda.csv\n",
      "generated an exception: Error tokenizing data. C error: Expected 1 fields in line 61, saw 3\n",
      "\n",
      "hundai.csv\n",
      "generated an exception: Error tokenizing data. C error: Expected 1 fields in line 8, saw 4\n",
      "\n",
      "infiniti.csv\n",
      "generated an exception: Error tokenizing data. C error: Expected 1 fields in line 67, saw 4\n",
      "\n",
      "kia.csv\n",
      "land_rover.csv\n",
      "generated an exception: Error tokenizing data. C error: Expected 2 fields in line 16, saw 3\n",
      "\n",
      "lexus.csv\n",
      "generated an exception: Error tokenizing data. C error: Expected 1 fields in line 10, saw 4\n",
      "\n",
      "lifan.csv\n",
      "generated an exception: Error tokenizing data. C error: Expected 1 fields in line 43, saw 9\n",
      "\n",
      "mazda.csv\n",
      "generated an exception: Error tokenizing data. C error: Expected 1 fields in line 30, saw 5\n",
      "\n",
      "mercedes.csv\n",
      "mitsubishi.csv\n",
      "nissan.csv\n",
      "opel.csv\n",
      "generated an exception: Error tokenizing data. C error: Expected 1 fields in line 171, saw 8\n",
      "\n",
      "peugeot.csv\n",
      "generated an exception: Error tokenizing data. C error: Expected 1 fields in line 33, saw 20\n",
      "\n",
      "porsche.csv\n",
      "generated an exception: Error tokenizing data. C error: Expected 3 fields in line 20, saw 4\n",
      "\n",
      "renault.csv\n",
      "skoda.csv\n",
      "subaru.csv\n",
      "generated an exception: Error tokenizing data. C error: Buffer overflow caught - possible malformed input file.\n",
      "\n",
      "suzuki.csv\n",
      "generated an exception: Error tokenizing data. C error: Expected 1 fields in line 18, saw 7\n",
      "\n",
      "toyota.csv\n",
      "vaz.csv\n",
      "volvo.csv\n",
      "generated an exception: Error tokenizing data. C error: Expected 1 fields in line 15, saw 7\n",
      "\n",
      "201696\n"
     ]
    }
   ],
   "source": [
    "#Импорт данных из соревнования\n",
    "\n",
    "data_test = pd.read_csv(os.path.join(os.getcwd(),'input/test.csv'))\n",
    "data_sample = pd.read_csv(os.path.join(os.getcwd(),'input/sample_submission.csv'))\n",
    "\n",
    "#Импорт своих данных\n",
    "\n",
    "data_train = pd.DataFrame()\n",
    "for dirname, _, filenames in os.walk(os.path.join(os.getcwd(),'input/data_car_sales')):\n",
    "    \n",
    "    for filename in filenames:\n",
    "        print(filename)\n",
    "        try:\n",
    "            df = pd.read_csv(os.path.join(dirname, filename), sep=';')        \n",
    "            data_train = data_train.append(df, ignore_index = True)\n",
    "        except Exception as exc:\n",
    "            print('generated an exception: %s' % (exc))\n",
    "            \n",
    "print(len(data_train))"
   ]
  },
  {
   "cell_type": "code",
   "execution_count": 522,
   "metadata": {},
   "outputs": [
    {
     "data": {
      "text/html": [
       "<div>\n",
       "<style scoped>\n",
       "    .dataframe tbody tr th:only-of-type {\n",
       "        vertical-align: middle;\n",
       "    }\n",
       "\n",
       "    .dataframe tbody tr th {\n",
       "        vertical-align: top;\n",
       "    }\n",
       "\n",
       "    .dataframe thead th {\n",
       "        text-align: right;\n",
       "    }\n",
       "</style>\n",
       "<table border=\"1\" class=\"dataframe\">\n",
       "  <thead>\n",
       "    <tr style=\"text-align: right;\">\n",
       "      <th></th>\n",
       "      <th>datetime</th>\n",
       "      <th>parsing_unixtime</th>\n",
       "      <th>card</th>\n",
       "      <th>region</th>\n",
       "      <th>sellerName</th>\n",
       "      <th>sell_id</th>\n",
       "      <th>car_url</th>\n",
       "      <th>price</th>\n",
       "      <th>description</th>\n",
       "      <th>image</th>\n",
       "      <th>...</th>\n",
       "      <th>brand</th>\n",
       "      <th>model_name</th>\n",
       "      <th>model_name2</th>\n",
       "      <th>name</th>\n",
       "      <th>equipment_dict</th>\n",
       "      <th>public_date</th>\n",
       "      <th>nview</th>\n",
       "      <th>model_name_full</th>\n",
       "      <th>confDict</th>\n",
       "      <th>dealerName</th>\n",
       "    </tr>\n",
       "  </thead>\n",
       "  <tbody>\n",
       "    <tr>\n",
       "      <th>0</th>\n",
       "      <td>2021-04-16 11:59:35.823737+03:00</td>\n",
       "      <td>1.618564e+09</td>\n",
       "      <td>Audi A6 III (C6)</td>\n",
       "      <td>Москва</td>\n",
       "      <td>Дмитрий</td>\n",
       "      <td>№ 1102441188</td>\n",
       "      <td>https://auto.ru/cars/used/sale/audi/a6/1102441...</td>\n",
       "      <td>545 000 ₽</td>\n",
       "      <td>Автомобиль в хорошем состояний. Комплектация: ...</td>\n",
       "      <td>https://avatars.mds.yandex.net/get-autoru-vos/...</td>\n",
       "      <td>...</td>\n",
       "      <td>Audi</td>\n",
       "      <td>A6</td>\n",
       "      <td>III (C6)</td>\n",
       "      <td>3.0 AT (218 л.с.) 4WD</td>\n",
       "      <td>{'asciiCat': 'cars', 'category': 'cars', 'engi...</td>\n",
       "      <td>14 апреля</td>\n",
       "      <td>911</td>\n",
       "      <td>Audi A6 III (C6)</td>\n",
       "      <td>{'category': 'cars', 'mark': 'AUDI', 'model': ...</td>\n",
       "      <td>NaN</td>\n",
       "    </tr>\n",
       "    <tr>\n",
       "      <th>1</th>\n",
       "      <td>2021-04-16 11:59:36.694825+03:00</td>\n",
       "      <td>1.618564e+09</td>\n",
       "      <td>Audi Q7 I (4L)</td>\n",
       "      <td>Новосибирск</td>\n",
       "      <td>Частное лицо</td>\n",
       "      <td>№ 1102877415</td>\n",
       "      <td>https://auto.ru/cars/used/sale/audi/q7/1102877...</td>\n",
       "      <td>1 470 000 ₽</td>\n",
       "      <td>Автомобиль в комплектации SLine, был в одной с...</td>\n",
       "      <td>https://autoru.naydex.net/1VPv37h28/4b1e74OtTr...</td>\n",
       "      <td>...</td>\n",
       "      <td>Audi</td>\n",
       "      <td>Q7</td>\n",
       "      <td>I (4L)</td>\n",
       "      <td>4.1d AT (326 л.с.) 4WD</td>\n",
       "      <td>{'asciiCat': 'cars', 'category': 'cars', 'engi...</td>\n",
       "      <td>11 апреля</td>\n",
       "      <td>322</td>\n",
       "      <td>Audi Q7 I (4L)</td>\n",
       "      <td>{'category': 'cars', 'mark': 'AUDI', 'model': ...</td>\n",
       "      <td>NaN</td>\n",
       "    </tr>\n",
       "    <tr>\n",
       "      <th>2</th>\n",
       "      <td>2021-04-16 11:59:36.880843+03:00</td>\n",
       "      <td>1.618564e+09</td>\n",
       "      <td>Audi Q5 I (8R) Рестайлинг</td>\n",
       "      <td>Калининград</td>\n",
       "      <td>Частное лицо</td>\n",
       "      <td>№ 1103078155</td>\n",
       "      <td>https://auto.ru/cars/used/sale/audi/q5/1103078...</td>\n",
       "      <td>1 830 000 ₽</td>\n",
       "      <td>Машина в идеальном состоянииПолностью в родной...</td>\n",
       "      <td>https://autoru.naydex.net/1VPv37h28/4b1e74OtTr...</td>\n",
       "      <td>...</td>\n",
       "      <td>Audi</td>\n",
       "      <td>Q5</td>\n",
       "      <td>I (8R) Рестайлинг</td>\n",
       "      <td>2.0 AT (225 л.с.) 4WD</td>\n",
       "      <td>{'asciiCat': 'cars', 'category': 'cars', 'engi...</td>\n",
       "      <td>13 апреля</td>\n",
       "      <td>89</td>\n",
       "      <td>Audi Q5 I (8R) Рестайлинг</td>\n",
       "      <td>{'category': 'cars', 'mark': 'AUDI', 'model': ...</td>\n",
       "      <td>NaN</td>\n",
       "    </tr>\n",
       "    <tr>\n",
       "      <th>3</th>\n",
       "      <td>2021-04-16 11:59:36.699825+03:00</td>\n",
       "      <td>1.618564e+09</td>\n",
       "      <td>Audi A6 allroad I (C5)</td>\n",
       "      <td>Москва</td>\n",
       "      <td>kor4min.mihail</td>\n",
       "      <td>№ 1102504513</td>\n",
       "      <td>https://auto.ru/cars/used/sale/audi/allroad/11...</td>\n",
       "      <td>390 000 ₽</td>\n",
       "      <td>Запрет оплачен все чеки есть. Автомобиль в xор...</td>\n",
       "      <td>https://avatars.mds.yandex.net/get-autoru-vos/...</td>\n",
       "      <td>...</td>\n",
       "      <td>Audi</td>\n",
       "      <td>A6 allroad</td>\n",
       "      <td>I (C5)</td>\n",
       "      <td>2.7 AT (250 л.с.) 4WD</td>\n",
       "      <td>{'asciiCat': 'cars', 'category': 'cars', 'engi...</td>\n",
       "      <td>15 апреля</td>\n",
       "      <td>296</td>\n",
       "      <td>Audi A6 allroad I (C5)</td>\n",
       "      <td>{'category': 'cars', 'mark': 'AUDI', 'model': ...</td>\n",
       "      <td>NaN</td>\n",
       "    </tr>\n",
       "    <tr>\n",
       "      <th>4</th>\n",
       "      <td>2021-04-16 11:59:35.711726+03:00</td>\n",
       "      <td>1.618564e+09</td>\n",
       "      <td>Audi A6 allroad II (C6) Рестайлинг</td>\n",
       "      <td>Зеленогорск</td>\n",
       "      <td>Частное лицо</td>\n",
       "      <td>№ 1103186036</td>\n",
       "      <td>https://auto.ru/cars/used/sale/audi/allroad/11...</td>\n",
       "      <td>990 000 ₽</td>\n",
       "      <td>Машинка в полном порядке! Никакого чип тюнинга...</td>\n",
       "      <td>https://autoru.naydex.net/1VPv37h28/4b1e74OtTr...</td>\n",
       "      <td>...</td>\n",
       "      <td>Audi</td>\n",
       "      <td>A6 allroad</td>\n",
       "      <td>II (C6) Рестайлинг</td>\n",
       "      <td>3.0d AT (239 л.с.) 4WD</td>\n",
       "      <td>{'asciiCat': 'cars', 'category': 'cars', 'engi...</td>\n",
       "      <td>14 апреля</td>\n",
       "      <td>345</td>\n",
       "      <td>Audi A6 allroad II (C6) Рестайлинг</td>\n",
       "      <td>{'category': 'cars', 'mark': 'AUDI', 'model': ...</td>\n",
       "      <td>NaN</td>\n",
       "    </tr>\n",
       "    <tr>\n",
       "      <th>...</th>\n",
       "      <td>...</td>\n",
       "      <td>...</td>\n",
       "      <td>...</td>\n",
       "      <td>...</td>\n",
       "      <td>...</td>\n",
       "      <td>...</td>\n",
       "      <td>...</td>\n",
       "      <td>...</td>\n",
       "      <td>...</td>\n",
       "      <td>...</td>\n",
       "      <td>...</td>\n",
       "      <td>...</td>\n",
       "      <td>...</td>\n",
       "      <td>...</td>\n",
       "      <td>...</td>\n",
       "      <td>...</td>\n",
       "      <td>...</td>\n",
       "      <td>...</td>\n",
       "      <td>...</td>\n",
       "      <td>...</td>\n",
       "      <td>...</td>\n",
       "    </tr>\n",
       "    <tr>\n",
       "      <th>201691</th>\n",
       "      <td>2021-04-16 06:42:59.866332+03:00</td>\n",
       "      <td>1.618545e+09</td>\n",
       "      <td>LADA (ВАЗ) Vesta I</td>\n",
       "      <td>Грозный</td>\n",
       "      <td>Авто</td>\n",
       "      <td>№ 1102916469</td>\n",
       "      <td>https://auto.ru/cars/used/sale/vaz/vesta/11029...</td>\n",
       "      <td>820 000 ₽</td>\n",
       "      <td>Комфорт Винтер без пробега Есть обогрев руля, ...</td>\n",
       "      <td>https://avatars.mds.yandex.net/get-autoru-vos/...</td>\n",
       "      <td>...</td>\n",
       "      <td>LADA (ВАЗ)</td>\n",
       "      <td>Vesta</td>\n",
       "      <td>I</td>\n",
       "      <td>1.6 MT (106 л.с.)</td>\n",
       "      <td>{'asciiCat': 'cars', 'category': 'cars', 'engi...</td>\n",
       "      <td>24 марта</td>\n",
       "      <td>112</td>\n",
       "      <td>LADA (ВАЗ) Vesta I</td>\n",
       "      <td>{'category': 'cars', 'mark': 'VAZ', 'model': '...</td>\n",
       "      <td>NaN</td>\n",
       "    </tr>\n",
       "    <tr>\n",
       "      <th>201692</th>\n",
       "      <td>2021-04-16 06:42:56.101955+03:00</td>\n",
       "      <td>1.618545e+09</td>\n",
       "      <td>LADA (ВАЗ) Vesta I</td>\n",
       "      <td>Екатеринбург</td>\n",
       "      <td>Частное лицо</td>\n",
       "      <td>№ 1103113581</td>\n",
       "      <td>https://auto.ru/cars/used/sale/vaz/vesta/11031...</td>\n",
       "      <td>812 900 ₽</td>\n",
       "      <td>Автомобиль приобретен в феврале 2021г., резина...</td>\n",
       "      <td>https://avatars.mds.yandex.net/get-autoru-vos/...</td>\n",
       "      <td>...</td>\n",
       "      <td>LADA (ВАЗ)</td>\n",
       "      <td>Vesta</td>\n",
       "      <td>I</td>\n",
       "      <td>1.6 MT (106 л.с.)</td>\n",
       "      <td>{'asciiCat': 'cars', 'category': 'cars', 'engi...</td>\n",
       "      <td>10 апреля</td>\n",
       "      <td>93</td>\n",
       "      <td>LADA (ВАЗ) Vesta I</td>\n",
       "      <td>{'category': 'cars', 'mark': 'VAZ', 'model': '...</td>\n",
       "      <td>NaN</td>\n",
       "    </tr>\n",
       "    <tr>\n",
       "      <th>201693</th>\n",
       "      <td>2021-04-16 06:42:49.143259+03:00</td>\n",
       "      <td>1.618545e+09</td>\n",
       "      <td>LADA (ВАЗ) Largus I</td>\n",
       "      <td>Ставрополь</td>\n",
       "      <td>Частное лицо</td>\n",
       "      <td>№ 1103048341</td>\n",
       "      <td>https://auto.ru/cars/used/sale/vaz/largus/1103...</td>\n",
       "      <td>835 000 ₽</td>\n",
       "      <td>Кондиционер,ГБО пропан,туманки все стеклоподъё...</td>\n",
       "      <td>https://autoru.naydex.net/1VPv37h28/4b1e74OtTr...</td>\n",
       "      <td>...</td>\n",
       "      <td>LADA (ВАЗ)</td>\n",
       "      <td>Largus</td>\n",
       "      <td>I</td>\n",
       "      <td>Cross 1.6 MT (106 л.с.)</td>\n",
       "      <td>{'asciiCat': 'cars', 'category': 'cars', 'engi...</td>\n",
       "      <td>14 апреля</td>\n",
       "      <td>44</td>\n",
       "      <td>LADA (ВАЗ) Largus I Cross</td>\n",
       "      <td>{'category': 'cars', 'mark': 'VAZ', 'model': '...</td>\n",
       "      <td>NaN</td>\n",
       "    </tr>\n",
       "    <tr>\n",
       "      <th>201694</th>\n",
       "      <td>2021-04-16 06:42:54.639809+03:00</td>\n",
       "      <td>1.618545e+09</td>\n",
       "      <td>LADA (ВАЗ) Vesta I</td>\n",
       "      <td>Махачкала</td>\n",
       "      <td>Частное лицо</td>\n",
       "      <td>№ 1103128497</td>\n",
       "      <td>https://auto.ru/cars/used/sale/vaz/vesta/11031...</td>\n",
       "      <td>835 000 ₽</td>\n",
       "      <td>LАDА Vеstа седан исполнение ''Соmfоrt''1.6 л 1...</td>\n",
       "      <td>https://autoru.naydex.net/1VPv37h28/4b1e74OtTr...</td>\n",
       "      <td>...</td>\n",
       "      <td>LADA (ВАЗ)</td>\n",
       "      <td>Vesta</td>\n",
       "      <td>I</td>\n",
       "      <td>1.6 MT (106 л.с.)</td>\n",
       "      <td>{'asciiCat': 'cars', 'category': 'cars', 'engi...</td>\n",
       "      <td>10 апреля</td>\n",
       "      <td>66</td>\n",
       "      <td>LADA (ВАЗ) Vesta I</td>\n",
       "      <td>{'category': 'cars', 'mark': 'VAZ', 'model': '...</td>\n",
       "      <td>NaN</td>\n",
       "    </tr>\n",
       "    <tr>\n",
       "      <th>201695</th>\n",
       "      <td>2021-04-16 06:43:02.911636+03:00</td>\n",
       "      <td>1.618545e+09</td>\n",
       "      <td>LADA (ВАЗ) Vesta I</td>\n",
       "      <td>Элиста</td>\n",
       "      <td>Частное лицо</td>\n",
       "      <td>№ 1102529129</td>\n",
       "      <td>https://auto.ru/cars/used/sale/vaz/vesta/11025...</td>\n",
       "      <td>715 900 ₽</td>\n",
       "      <td>LADA VestaАВТОМОБИЛЬ НОВЫЙБезопасность • Подуш...</td>\n",
       "      <td>https://autoru.naydex.net/1VPv37h28/4b1e74OtTr...</td>\n",
       "      <td>...</td>\n",
       "      <td>LADA (ВАЗ)</td>\n",
       "      <td>Vesta</td>\n",
       "      <td>I</td>\n",
       "      <td>1.6 MT (106 л.с.)</td>\n",
       "      <td>{'asciiCat': 'cars', 'category': 'cars', 'engi...</td>\n",
       "      <td>19 февраля</td>\n",
       "      <td>394</td>\n",
       "      <td>LADA (ВАЗ) Vesta I</td>\n",
       "      <td>{'category': 'cars', 'mark': 'VAZ', 'model': '...</td>\n",
       "      <td>NaN</td>\n",
       "    </tr>\n",
       "  </tbody>\n",
       "</table>\n",
       "<p>201696 rows × 36 columns</p>\n",
       "</div>"
      ],
      "text/plain": [
       "                                datetime  parsing_unixtime  \\\n",
       "0       2021-04-16 11:59:35.823737+03:00      1.618564e+09   \n",
       "1       2021-04-16 11:59:36.694825+03:00      1.618564e+09   \n",
       "2       2021-04-16 11:59:36.880843+03:00      1.618564e+09   \n",
       "3       2021-04-16 11:59:36.699825+03:00      1.618564e+09   \n",
       "4       2021-04-16 11:59:35.711726+03:00      1.618564e+09   \n",
       "...                                  ...               ...   \n",
       "201691  2021-04-16 06:42:59.866332+03:00      1.618545e+09   \n",
       "201692  2021-04-16 06:42:56.101955+03:00      1.618545e+09   \n",
       "201693  2021-04-16 06:42:49.143259+03:00      1.618545e+09   \n",
       "201694  2021-04-16 06:42:54.639809+03:00      1.618545e+09   \n",
       "201695  2021-04-16 06:43:02.911636+03:00      1.618545e+09   \n",
       "\n",
       "                                      card        region      sellerName  \\\n",
       "0                         Audi A6 III (C6)        Москва         Дмитрий   \n",
       "1                           Audi Q7 I (4L)   Новосибирск    Частное лицо   \n",
       "2                Audi Q5 I (8R) Рестайлинг   Калининград    Частное лицо   \n",
       "3                   Audi A6 allroad I (C5)        Москва  kor4min.mihail   \n",
       "4       Audi A6 allroad II (C6) Рестайлинг   Зеленогорск    Частное лицо   \n",
       "...                                    ...           ...             ...   \n",
       "201691                  LADA (ВАЗ) Vesta I       Грозный            Авто   \n",
       "201692                  LADA (ВАЗ) Vesta I  Екатеринбург    Частное лицо   \n",
       "201693                 LADA (ВАЗ) Largus I    Ставрополь    Частное лицо   \n",
       "201694                  LADA (ВАЗ) Vesta I     Махачкала    Частное лицо   \n",
       "201695                  LADA (ВАЗ) Vesta I        Элиста    Частное лицо   \n",
       "\n",
       "             sell_id                                            car_url  \\\n",
       "0       № 1102441188  https://auto.ru/cars/used/sale/audi/a6/1102441...   \n",
       "1       № 1102877415  https://auto.ru/cars/used/sale/audi/q7/1102877...   \n",
       "2       № 1103078155  https://auto.ru/cars/used/sale/audi/q5/1103078...   \n",
       "3       № 1102504513  https://auto.ru/cars/used/sale/audi/allroad/11...   \n",
       "4       № 1103186036  https://auto.ru/cars/used/sale/audi/allroad/11...   \n",
       "...              ...                                                ...   \n",
       "201691  № 1102916469  https://auto.ru/cars/used/sale/vaz/vesta/11029...   \n",
       "201692  № 1103113581  https://auto.ru/cars/used/sale/vaz/vesta/11031...   \n",
       "201693  № 1103048341  https://auto.ru/cars/used/sale/vaz/largus/1103...   \n",
       "201694  № 1103128497  https://auto.ru/cars/used/sale/vaz/vesta/11031...   \n",
       "201695  № 1102529129  https://auto.ru/cars/used/sale/vaz/vesta/11025...   \n",
       "\n",
       "              price                                        description  \\\n",
       "0         545 000 ₽  Автомобиль в хорошем состояний. Комплектация: ...   \n",
       "1       1 470 000 ₽  Автомобиль в комплектации SLine, был в одной с...   \n",
       "2       1 830 000 ₽  Машина в идеальном состоянииПолностью в родной...   \n",
       "3         390 000 ₽  Запрет оплачен все чеки есть. Автомобиль в xор...   \n",
       "4         990 000 ₽  Машинка в полном порядке! Никакого чип тюнинга...   \n",
       "...             ...                                                ...   \n",
       "201691    820 000 ₽  Комфорт Винтер без пробега Есть обогрев руля, ...   \n",
       "201692    812 900 ₽  Автомобиль приобретен в феврале 2021г., резина...   \n",
       "201693    835 000 ₽  Кондиционер,ГБО пропан,туманки все стеклоподъё...   \n",
       "201694    835 000 ₽  LАDА Vеstа седан исполнение ''Соmfоrt''1.6 л 1...   \n",
       "201695    715 900 ₽  LADA VestaАВТОМОБИЛЬ НОВЫЙБезопасность • Подуш...   \n",
       "\n",
       "                                                    image  ...       brand  \\\n",
       "0       https://avatars.mds.yandex.net/get-autoru-vos/...  ...        Audi   \n",
       "1       https://autoru.naydex.net/1VPv37h28/4b1e74OtTr...  ...        Audi   \n",
       "2       https://autoru.naydex.net/1VPv37h28/4b1e74OtTr...  ...        Audi   \n",
       "3       https://avatars.mds.yandex.net/get-autoru-vos/...  ...        Audi   \n",
       "4       https://autoru.naydex.net/1VPv37h28/4b1e74OtTr...  ...        Audi   \n",
       "...                                                   ...  ...         ...   \n",
       "201691  https://avatars.mds.yandex.net/get-autoru-vos/...  ...  LADA (ВАЗ)   \n",
       "201692  https://avatars.mds.yandex.net/get-autoru-vos/...  ...  LADA (ВАЗ)   \n",
       "201693  https://autoru.naydex.net/1VPv37h28/4b1e74OtTr...  ...  LADA (ВАЗ)   \n",
       "201694  https://autoru.naydex.net/1VPv37h28/4b1e74OtTr...  ...  LADA (ВАЗ)   \n",
       "201695  https://autoru.naydex.net/1VPv37h28/4b1e74OtTr...  ...  LADA (ВАЗ)   \n",
       "\n",
       "        model_name         model_name2                     name  \\\n",
       "0               A6            III (C6)    3.0 AT (218 л.с.) 4WD   \n",
       "1               Q7              I (4L)   4.1d AT (326 л.с.) 4WD   \n",
       "2               Q5   I (8R) Рестайлинг    2.0 AT (225 л.с.) 4WD   \n",
       "3       A6 allroad              I (C5)    2.7 AT (250 л.с.) 4WD   \n",
       "4       A6 allroad  II (C6) Рестайлинг   3.0d AT (239 л.с.) 4WD   \n",
       "...            ...                 ...                      ...   \n",
       "201691       Vesta                   I        1.6 MT (106 л.с.)   \n",
       "201692       Vesta                   I        1.6 MT (106 л.с.)   \n",
       "201693      Largus                   I  Cross 1.6 MT (106 л.с.)   \n",
       "201694       Vesta                   I        1.6 MT (106 л.с.)   \n",
       "201695       Vesta                   I        1.6 MT (106 л.с.)   \n",
       "\n",
       "                                           equipment_dict public_date nview  \\\n",
       "0       {'asciiCat': 'cars', 'category': 'cars', 'engi...   14 апреля   911   \n",
       "1       {'asciiCat': 'cars', 'category': 'cars', 'engi...   11 апреля   322   \n",
       "2       {'asciiCat': 'cars', 'category': 'cars', 'engi...   13 апреля    89   \n",
       "3       {'asciiCat': 'cars', 'category': 'cars', 'engi...   15 апреля   296   \n",
       "4       {'asciiCat': 'cars', 'category': 'cars', 'engi...   14 апреля   345   \n",
       "...                                                   ...         ...   ...   \n",
       "201691  {'asciiCat': 'cars', 'category': 'cars', 'engi...    24 марта   112   \n",
       "201692  {'asciiCat': 'cars', 'category': 'cars', 'engi...   10 апреля    93   \n",
       "201693  {'asciiCat': 'cars', 'category': 'cars', 'engi...   14 апреля    44   \n",
       "201694  {'asciiCat': 'cars', 'category': 'cars', 'engi...   10 апреля    66   \n",
       "201695  {'asciiCat': 'cars', 'category': 'cars', 'engi...  19 февраля   394   \n",
       "\n",
       "                           model_name_full  \\\n",
       "0                         Audi A6 III (C6)   \n",
       "1                           Audi Q7 I (4L)   \n",
       "2                Audi Q5 I (8R) Рестайлинг   \n",
       "3                   Audi A6 allroad I (C5)   \n",
       "4       Audi A6 allroad II (C6) Рестайлинг   \n",
       "...                                    ...   \n",
       "201691                  LADA (ВАЗ) Vesta I   \n",
       "201692                  LADA (ВАЗ) Vesta I   \n",
       "201693           LADA (ВАЗ) Largus I Cross   \n",
       "201694                  LADA (ВАЗ) Vesta I   \n",
       "201695                  LADA (ВАЗ) Vesta I   \n",
       "\n",
       "                                                 confDict dealerName  \n",
       "0       {'category': 'cars', 'mark': 'AUDI', 'model': ...        NaN  \n",
       "1       {'category': 'cars', 'mark': 'AUDI', 'model': ...        NaN  \n",
       "2       {'category': 'cars', 'mark': 'AUDI', 'model': ...        NaN  \n",
       "3       {'category': 'cars', 'mark': 'AUDI', 'model': ...        NaN  \n",
       "4       {'category': 'cars', 'mark': 'AUDI', 'model': ...        NaN  \n",
       "...                                                   ...        ...  \n",
       "201691  {'category': 'cars', 'mark': 'VAZ', 'model': '...        NaN  \n",
       "201692  {'category': 'cars', 'mark': 'VAZ', 'model': '...        NaN  \n",
       "201693  {'category': 'cars', 'mark': 'VAZ', 'model': '...        NaN  \n",
       "201694  {'category': 'cars', 'mark': 'VAZ', 'model': '...        NaN  \n",
       "201695  {'category': 'cars', 'mark': 'VAZ', 'model': '...        NaN  \n",
       "\n",
       "[201696 rows x 36 columns]"
      ]
     },
     "execution_count": 522,
     "metadata": {},
     "output_type": "execute_result"
    }
   ],
   "source": [
    "data_train"
   ]
  },
  {
   "cell_type": "markdown",
   "metadata": {},
   "source": [
    "Удалим дубликаты и пустые строки из спарсенных данных"
   ]
  },
  {
   "cell_type": "code",
   "execution_count": 523,
   "metadata": {},
   "outputs": [
    {
     "data": {
      "text/plain": [
       "150117"
      ]
     },
     "execution_count": 523,
     "metadata": {},
     "output_type": "execute_result"
    }
   ],
   "source": [
    "data_train = data_train.drop_duplicates(subset=['sell_id'])\n",
    "data_train = data_train.dropna(how='all')\n",
    "len(data_train)"
   ]
  },
  {
   "cell_type": "code",
   "execution_count": 524,
   "metadata": {},
   "outputs": [],
   "source": [
    "#посмотрим какие колонки из data_train есть в data_test\n",
    "\n",
    "#создадим пустой список, в который добавим колонки data_train, присутствующие в data_test\n",
    "in_test = []\n",
    "#создадим пустой список, в который добавим колонки data_train, отсутствующие в data_test\n",
    "not_in_test = []\n",
    "\n",
    "for column in data_train.columns:\n",
    "    if column in data_test.columns:\n",
    "        in_test.append(column)\n",
    "    else:\n",
    "        not_in_test.append(column)"
   ]
  },
  {
   "cell_type": "markdown",
   "metadata": {},
   "source": [
    "Посмотрим на колонки data_train, присутствующие в data_test"
   ]
  },
  {
   "cell_type": "code",
   "execution_count": 525,
   "metadata": {},
   "outputs": [
    {
     "data": {
      "text/plain": [
       "['parsing_unixtime',\n",
       " 'sell_id',\n",
       " 'car_url',\n",
       " 'description',\n",
       " 'image',\n",
       " 'bodyType',\n",
       " 'color',\n",
       " 'engineDisplacement',\n",
       " 'enginePower',\n",
       " 'fuelType',\n",
       " 'mileage',\n",
       " 'productionDate',\n",
       " 'vehicleTransmission',\n",
       " 'Владельцы',\n",
       " 'ПТС',\n",
       " 'Привод',\n",
       " 'Руль',\n",
       " 'Состояние',\n",
       " 'Таможня',\n",
       " 'brand',\n",
       " 'model_name',\n",
       " 'name',\n",
       " 'equipment_dict']"
      ]
     },
     "execution_count": 525,
     "metadata": {},
     "output_type": "execute_result"
    }
   ],
   "source": [
    "in_test"
   ]
  },
  {
   "cell_type": "markdown",
   "metadata": {},
   "source": [
    "Посмотрим на колонки data_train, отсутствующие в data_test¶"
   ]
  },
  {
   "cell_type": "code",
   "execution_count": 526,
   "metadata": {},
   "outputs": [
    {
     "data": {
      "text/plain": [
       "['datetime',\n",
       " 'card',\n",
       " 'region',\n",
       " 'sellerName',\n",
       " 'price',\n",
       " 'engine',\n",
       " 'card_type',\n",
       " 'model_name2',\n",
       " 'public_date',\n",
       " 'nview',\n",
       " 'model_name_full',\n",
       " 'confDict',\n",
       " 'dealerName']"
      ]
     },
     "execution_count": 526,
     "metadata": {},
     "output_type": "execute_result"
    }
   ],
   "source": [
    "not_in_test"
   ]
  },
  {
   "cell_type": "markdown",
   "metadata": {},
   "source": [
    "Удалим из data_train колонки, отсутствующие в data_test, кроме price"
   ]
  },
  {
   "cell_type": "code",
   "execution_count": 527,
   "metadata": {},
   "outputs": [],
   "source": [
    "columns_to_drop = not_in_test[:4] + not_in_test[5:]"
   ]
  },
  {
   "cell_type": "code",
   "execution_count": 528,
   "metadata": {},
   "outputs": [
    {
     "data": {
      "text/html": [
       "<div>\n",
       "<style scoped>\n",
       "    .dataframe tbody tr th:only-of-type {\n",
       "        vertical-align: middle;\n",
       "    }\n",
       "\n",
       "    .dataframe tbody tr th {\n",
       "        vertical-align: top;\n",
       "    }\n",
       "\n",
       "    .dataframe thead th {\n",
       "        text-align: right;\n",
       "    }\n",
       "</style>\n",
       "<table border=\"1\" class=\"dataframe\">\n",
       "  <thead>\n",
       "    <tr style=\"text-align: right;\">\n",
       "      <th></th>\n",
       "      <th>parsing_unixtime</th>\n",
       "      <th>sell_id</th>\n",
       "      <th>car_url</th>\n",
       "      <th>price</th>\n",
       "      <th>description</th>\n",
       "      <th>image</th>\n",
       "      <th>bodyType</th>\n",
       "      <th>color</th>\n",
       "      <th>engineDisplacement</th>\n",
       "      <th>enginePower</th>\n",
       "      <th>...</th>\n",
       "      <th>Владельцы</th>\n",
       "      <th>ПТС</th>\n",
       "      <th>Привод</th>\n",
       "      <th>Руль</th>\n",
       "      <th>Состояние</th>\n",
       "      <th>Таможня</th>\n",
       "      <th>brand</th>\n",
       "      <th>model_name</th>\n",
       "      <th>name</th>\n",
       "      <th>equipment_dict</th>\n",
       "    </tr>\n",
       "  </thead>\n",
       "  <tbody>\n",
       "    <tr>\n",
       "      <th>0</th>\n",
       "      <td>1.618564e+09</td>\n",
       "      <td>№ 1102441188</td>\n",
       "      <td>https://auto.ru/cars/used/sale/audi/a6/1102441...</td>\n",
       "      <td>545 000 ₽</td>\n",
       "      <td>Автомобиль в хорошем состояний. Комплектация: ...</td>\n",
       "      <td>https://avatars.mds.yandex.net/get-autoru-vos/...</td>\n",
       "      <td>седан</td>\n",
       "      <td>чёрный</td>\n",
       "      <td>3.0 л</td>\n",
       "      <td>218 л.с.</td>\n",
       "      <td>...</td>\n",
       "      <td>3 или более</td>\n",
       "      <td>Оригинал</td>\n",
       "      <td>полный</td>\n",
       "      <td>Левый</td>\n",
       "      <td>Не требует ремонта</td>\n",
       "      <td>Растаможен</td>\n",
       "      <td>Audi</td>\n",
       "      <td>A6</td>\n",
       "      <td>3.0 AT (218 л.с.) 4WD</td>\n",
       "      <td>{'asciiCat': 'cars', 'category': 'cars', 'engi...</td>\n",
       "    </tr>\n",
       "    <tr>\n",
       "      <th>1</th>\n",
       "      <td>1.618564e+09</td>\n",
       "      <td>№ 1102877415</td>\n",
       "      <td>https://auto.ru/cars/used/sale/audi/q7/1102877...</td>\n",
       "      <td>1 470 000 ₽</td>\n",
       "      <td>Автомобиль в комплектации SLine, был в одной с...</td>\n",
       "      <td>https://autoru.naydex.net/1VPv37h28/4b1e74OtTr...</td>\n",
       "      <td>внедорожник 5 дв.</td>\n",
       "      <td>чёрный</td>\n",
       "      <td>4.1 л</td>\n",
       "      <td>326 л.с.</td>\n",
       "      <td>...</td>\n",
       "      <td>2 владельца</td>\n",
       "      <td>Оригинал</td>\n",
       "      <td>полный</td>\n",
       "      <td>Левый</td>\n",
       "      <td>Не требует ремонта</td>\n",
       "      <td>Растаможен</td>\n",
       "      <td>Audi</td>\n",
       "      <td>Q7</td>\n",
       "      <td>4.1d AT (326 л.с.) 4WD</td>\n",
       "      <td>{'asciiCat': 'cars', 'category': 'cars', 'engi...</td>\n",
       "    </tr>\n",
       "    <tr>\n",
       "      <th>2</th>\n",
       "      <td>1.618564e+09</td>\n",
       "      <td>№ 1103078155</td>\n",
       "      <td>https://auto.ru/cars/used/sale/audi/q5/1103078...</td>\n",
       "      <td>1 830 000 ₽</td>\n",
       "      <td>Машина в идеальном состоянииПолностью в родной...</td>\n",
       "      <td>https://autoru.naydex.net/1VPv37h28/4b1e74OtTr...</td>\n",
       "      <td>внедорожник 5 дв.</td>\n",
       "      <td>красный</td>\n",
       "      <td>2.0 л</td>\n",
       "      <td>225 л.с.</td>\n",
       "      <td>...</td>\n",
       "      <td>3 или более</td>\n",
       "      <td>Оригинал</td>\n",
       "      <td>полный</td>\n",
       "      <td>Левый</td>\n",
       "      <td>Не требует ремонта</td>\n",
       "      <td>Растаможен</td>\n",
       "      <td>Audi</td>\n",
       "      <td>Q5</td>\n",
       "      <td>2.0 AT (225 л.с.) 4WD</td>\n",
       "      <td>{'asciiCat': 'cars', 'category': 'cars', 'engi...</td>\n",
       "    </tr>\n",
       "  </tbody>\n",
       "</table>\n",
       "<p>3 rows × 24 columns</p>\n",
       "</div>"
      ],
      "text/plain": [
       "   parsing_unixtime       sell_id  \\\n",
       "0      1.618564e+09  № 1102441188   \n",
       "1      1.618564e+09  № 1102877415   \n",
       "2      1.618564e+09  № 1103078155   \n",
       "\n",
       "                                             car_url        price  \\\n",
       "0  https://auto.ru/cars/used/sale/audi/a6/1102441...    545 000 ₽   \n",
       "1  https://auto.ru/cars/used/sale/audi/q7/1102877...  1 470 000 ₽   \n",
       "2  https://auto.ru/cars/used/sale/audi/q5/1103078...  1 830 000 ₽   \n",
       "\n",
       "                                         description  \\\n",
       "0  Автомобиль в хорошем состояний. Комплектация: ...   \n",
       "1  Автомобиль в комплектации SLine, был в одной с...   \n",
       "2  Машина в идеальном состоянииПолностью в родной...   \n",
       "\n",
       "                                               image           bodyType  \\\n",
       "0  https://avatars.mds.yandex.net/get-autoru-vos/...              седан   \n",
       "1  https://autoru.naydex.net/1VPv37h28/4b1e74OtTr...  внедорожник 5 дв.   \n",
       "2  https://autoru.naydex.net/1VPv37h28/4b1e74OtTr...  внедорожник 5 дв.   \n",
       "\n",
       "     color engineDisplacement enginePower  ...    Владельцы       ПТС  Привод  \\\n",
       "0   чёрный             3.0 л    218 л.с.   ...  3 или более  Оригинал  полный   \n",
       "1   чёрный             4.1 л    326 л.с.   ...  2 владельца  Оригинал  полный   \n",
       "2  красный             2.0 л    225 л.с.   ...  3 или более  Оригинал  полный   \n",
       "\n",
       "    Руль           Состояние     Таможня brand model_name  \\\n",
       "0  Левый  Не требует ремонта  Растаможен  Audi         A6   \n",
       "1  Левый  Не требует ремонта  Растаможен  Audi         Q7   \n",
       "2  Левый  Не требует ремонта  Растаможен  Audi         Q5   \n",
       "\n",
       "                     name                                     equipment_dict  \n",
       "0   3.0 AT (218 л.с.) 4WD  {'asciiCat': 'cars', 'category': 'cars', 'engi...  \n",
       "1  4.1d AT (326 л.с.) 4WD  {'asciiCat': 'cars', 'category': 'cars', 'engi...  \n",
       "2   2.0 AT (225 л.с.) 4WD  {'asciiCat': 'cars', 'category': 'cars', 'engi...  \n",
       "\n",
       "[3 rows x 24 columns]"
      ]
     },
     "execution_count": 528,
     "metadata": {},
     "output_type": "execute_result"
    }
   ],
   "source": [
    "data_train = data_train.drop(columns_to_drop, axis = 1)\n",
    "data_train.head(3)"
   ]
  },
  {
   "cell_type": "markdown",
   "metadata": {},
   "source": [
    "Перезапишем data_test с теми колонками, которые есть и в data_train, и в data_test"
   ]
  },
  {
   "cell_type": "code",
   "execution_count": 529,
   "metadata": {},
   "outputs": [
    {
     "data": {
      "text/html": [
       "<div>\n",
       "<style scoped>\n",
       "    .dataframe tbody tr th:only-of-type {\n",
       "        vertical-align: middle;\n",
       "    }\n",
       "\n",
       "    .dataframe tbody tr th {\n",
       "        vertical-align: top;\n",
       "    }\n",
       "\n",
       "    .dataframe thead th {\n",
       "        text-align: right;\n",
       "    }\n",
       "</style>\n",
       "<table border=\"1\" class=\"dataframe\">\n",
       "  <thead>\n",
       "    <tr style=\"text-align: right;\">\n",
       "      <th></th>\n",
       "      <th>parsing_unixtime</th>\n",
       "      <th>sell_id</th>\n",
       "      <th>car_url</th>\n",
       "      <th>description</th>\n",
       "      <th>image</th>\n",
       "      <th>bodyType</th>\n",
       "      <th>color</th>\n",
       "      <th>engineDisplacement</th>\n",
       "      <th>enginePower</th>\n",
       "      <th>fuelType</th>\n",
       "      <th>...</th>\n",
       "      <th>Владельцы</th>\n",
       "      <th>ПТС</th>\n",
       "      <th>Привод</th>\n",
       "      <th>Руль</th>\n",
       "      <th>Состояние</th>\n",
       "      <th>Таможня</th>\n",
       "      <th>brand</th>\n",
       "      <th>model_name</th>\n",
       "      <th>name</th>\n",
       "      <th>equipment_dict</th>\n",
       "    </tr>\n",
       "  </thead>\n",
       "  <tbody>\n",
       "    <tr>\n",
       "      <th>0</th>\n",
       "      <td>1603226273</td>\n",
       "      <td>1100575026</td>\n",
       "      <td>https://auto.ru/cars/used/sale/skoda/octavia/1...</td>\n",
       "      <td>Все автомобили, представленные в продаже, прох...</td>\n",
       "      <td>https://autoru.naydex.net/o9DBXQ270/5ac010hAY0...</td>\n",
       "      <td>лифтбек</td>\n",
       "      <td>синий</td>\n",
       "      <td>1.2 LTR</td>\n",
       "      <td>105 N12</td>\n",
       "      <td>бензин</td>\n",
       "      <td>...</td>\n",
       "      <td>3 или более</td>\n",
       "      <td>Оригинал</td>\n",
       "      <td>передний</td>\n",
       "      <td>Левый</td>\n",
       "      <td>Не требует ремонта</td>\n",
       "      <td>Растаможен</td>\n",
       "      <td>SKODA</td>\n",
       "      <td>OCTAVIA</td>\n",
       "      <td>1.2 AMT (105 л.с.)</td>\n",
       "      <td>{\"engine-proof\":true,\"tinted-glass\":true,\"airb...</td>\n",
       "    </tr>\n",
       "    <tr>\n",
       "      <th>1</th>\n",
       "      <td>1603226277</td>\n",
       "      <td>1100549428</td>\n",
       "      <td>https://auto.ru/cars/used/sale/skoda/octavia/1...</td>\n",
       "      <td>ЛОТ: 01217195\\nАвтопрага Север\\nДанный автомоб...</td>\n",
       "      <td>https://autoru.naydex.net/o9DBXQ270/5ac010hAY0...</td>\n",
       "      <td>лифтбек</td>\n",
       "      <td>чёрный</td>\n",
       "      <td>1.6 LTR</td>\n",
       "      <td>110 N12</td>\n",
       "      <td>бензин</td>\n",
       "      <td>...</td>\n",
       "      <td>1 владелец</td>\n",
       "      <td>Оригинал</td>\n",
       "      <td>передний</td>\n",
       "      <td>Левый</td>\n",
       "      <td>Не требует ремонта</td>\n",
       "      <td>Растаможен</td>\n",
       "      <td>SKODA</td>\n",
       "      <td>OCTAVIA</td>\n",
       "      <td>1.6 MT (110 л.с.)</td>\n",
       "      <td>{\"cruise-control\":true,\"asr\":true,\"esp\":true,\"...</td>\n",
       "    </tr>\n",
       "    <tr>\n",
       "      <th>2</th>\n",
       "      <td>1603226280</td>\n",
       "      <td>1100658222</td>\n",
       "      <td>https://auto.ru/cars/used/sale/skoda/superb/11...</td>\n",
       "      <td>Все автомобили, представленные в продаже, прох...</td>\n",
       "      <td>https://avatars.mds.yandex.net/get-autoru-vos/...</td>\n",
       "      <td>лифтбек</td>\n",
       "      <td>серый</td>\n",
       "      <td>1.8 LTR</td>\n",
       "      <td>152 N12</td>\n",
       "      <td>бензин</td>\n",
       "      <td>...</td>\n",
       "      <td>1 владелец</td>\n",
       "      <td>Оригинал</td>\n",
       "      <td>передний</td>\n",
       "      <td>Левый</td>\n",
       "      <td>Не требует ремонта</td>\n",
       "      <td>Растаможен</td>\n",
       "      <td>SKODA</td>\n",
       "      <td>SUPERB</td>\n",
       "      <td>DSG 1.8 AMT (152 л.с.)</td>\n",
       "      <td>{\"cruise-control\":true,\"tinted-glass\":true,\"es...</td>\n",
       "    </tr>\n",
       "  </tbody>\n",
       "</table>\n",
       "<p>3 rows × 23 columns</p>\n",
       "</div>"
      ],
      "text/plain": [
       "   parsing_unixtime     sell_id  \\\n",
       "0        1603226273  1100575026   \n",
       "1        1603226277  1100549428   \n",
       "2        1603226280  1100658222   \n",
       "\n",
       "                                             car_url  \\\n",
       "0  https://auto.ru/cars/used/sale/skoda/octavia/1...   \n",
       "1  https://auto.ru/cars/used/sale/skoda/octavia/1...   \n",
       "2  https://auto.ru/cars/used/sale/skoda/superb/11...   \n",
       "\n",
       "                                         description  \\\n",
       "0  Все автомобили, представленные в продаже, прох...   \n",
       "1  ЛОТ: 01217195\\nАвтопрага Север\\nДанный автомоб...   \n",
       "2  Все автомобили, представленные в продаже, прох...   \n",
       "\n",
       "                                               image bodyType   color  \\\n",
       "0  https://autoru.naydex.net/o9DBXQ270/5ac010hAY0...  лифтбек   синий   \n",
       "1  https://autoru.naydex.net/o9DBXQ270/5ac010hAY0...  лифтбек  чёрный   \n",
       "2  https://avatars.mds.yandex.net/get-autoru-vos/...  лифтбек   серый   \n",
       "\n",
       "  engineDisplacement enginePower fuelType  ...    Владельцы       ПТС  \\\n",
       "0            1.2 LTR     105 N12   бензин  ...  3 или более  Оригинал   \n",
       "1            1.6 LTR     110 N12   бензин  ...   1 владелец  Оригинал   \n",
       "2            1.8 LTR     152 N12   бензин  ...   1 владелец  Оригинал   \n",
       "\n",
       "     Привод   Руль           Состояние     Таможня  brand model_name  \\\n",
       "0  передний  Левый  Не требует ремонта  Растаможен  SKODA    OCTAVIA   \n",
       "1  передний  Левый  Не требует ремонта  Растаможен  SKODA    OCTAVIA   \n",
       "2  передний  Левый  Не требует ремонта  Растаможен  SKODA     SUPERB   \n",
       "\n",
       "                     name                                     equipment_dict  \n",
       "0      1.2 AMT (105 л.с.)  {\"engine-proof\":true,\"tinted-glass\":true,\"airb...  \n",
       "1       1.6 MT (110 л.с.)  {\"cruise-control\":true,\"asr\":true,\"esp\":true,\"...  \n",
       "2  DSG 1.8 AMT (152 л.с.)  {\"cruise-control\":true,\"tinted-glass\":true,\"es...  \n",
       "\n",
       "[3 rows x 23 columns]"
      ]
     },
     "execution_count": 529,
     "metadata": {},
     "output_type": "execute_result"
    }
   ],
   "source": [
    "data_test = data_test[in_test]\n",
    "data_test.head(3)"
   ]
  },
  {
   "cell_type": "markdown",
   "metadata": {},
   "source": [
    "Подготовим итоговый датасет для EDA"
   ]
  },
  {
   "cell_type": "code",
   "execution_count": 530,
   "metadata": {},
   "outputs": [],
   "source": [
    "#приведем целевую переменную к числовому типу\n",
    "data_train['price'] = data_train.price.apply(lambda x: int(\"\".join(filter(str.isdigit, x))))\n",
    "\n",
    "#объединяем трейн и тест, для учета всех возможных значений. Помечаем где у нас трейн\n",
    "data_train['sample_'] = 0\n",
    "data_test['sample_'] = 1\n",
    "data_full = pd.concat([data_test, data_train])\n",
    "data_full = data_full.reset_index().drop(['index'], axis = 1)\n",
    "\n",
    "#задаем порядок столбцов\n",
    "data_full = data_full[['parsing_unixtime', 'sell_id', 'car_url', 'description',\n",
    "       'image', 'bodyType', 'color', 'engineDisplacement', 'enginePower',\n",
    "       'fuelType', 'mileage', 'productionDate', 'vehicleTransmission',\n",
    "       'Владельцы', 'ПТС', 'Привод', 'Руль', 'Состояние', 'Таможня',\n",
    "       'equipment_dict', 'brand', 'model_name', 'name', 'sample_', 'price']]"
   ]
  },
  {
   "cell_type": "markdown",
   "metadata": {},
   "source": [
    "Удаляем дубликаты по ссылкам"
   ]
  },
  {
   "cell_type": "code",
   "execution_count": 531,
   "metadata": {},
   "outputs": [
    {
     "data": {
      "text/plain": [
       "183247"
      ]
     },
     "execution_count": 531,
     "metadata": {},
     "output_type": "execute_result"
    }
   ],
   "source": [
    "data_full = data_full.drop_duplicates(subset=['car_url'])\n",
    "len(data_full)"
   ]
  },
  {
   "cell_type": "markdown",
   "metadata": {},
   "source": [
    "Проверим на дубликаты по ИД объявлениям. Для этого приведем их к одному виду int, т.к. формат в трейне и тесте отличается. "
   ]
  },
  {
   "cell_type": "code",
   "execution_count": 532,
   "metadata": {},
   "outputs": [
    {
     "data": {
      "text/plain": [
       "1100086706    2\n",
       "1094975488    1\n",
       "1103119046    1\n",
       "1101359992    1\n",
       "1102936954    1\n",
       "             ..\n",
       "1102639752    1\n",
       "1103202338    1\n",
       "1099787686    1\n",
       "1055208716    1\n",
       "1103103999    1\n",
       "Name: sell_id, Length: 183246, dtype: int64"
      ]
     },
     "execution_count": 532,
     "metadata": {},
     "output_type": "execute_result"
    }
   ],
   "source": [
    "data_full['sell_id'] = data_full.sell_id.apply(lambda x: int(str(x).replace('№ ','')))\n",
    "data_full['sell_id'].value_counts()"
   ]
  },
  {
   "cell_type": "markdown",
   "metadata": {},
   "source": [
    "Обнаружены дублирующиеся ИД, посмотрим чем отличаются"
   ]
  },
  {
   "cell_type": "code",
   "execution_count": 533,
   "metadata": {},
   "outputs": [
    {
     "data": {
      "text/html": [
       "<div>\n",
       "<style scoped>\n",
       "    .dataframe tbody tr th:only-of-type {\n",
       "        vertical-align: middle;\n",
       "    }\n",
       "\n",
       "    .dataframe tbody tr th {\n",
       "        vertical-align: top;\n",
       "    }\n",
       "\n",
       "    .dataframe thead th {\n",
       "        text-align: right;\n",
       "    }\n",
       "</style>\n",
       "<table border=\"1\" class=\"dataframe\">\n",
       "  <thead>\n",
       "    <tr style=\"text-align: right;\">\n",
       "      <th></th>\n",
       "      <th>parsing_unixtime</th>\n",
       "      <th>sell_id</th>\n",
       "      <th>car_url</th>\n",
       "      <th>description</th>\n",
       "      <th>image</th>\n",
       "      <th>bodyType</th>\n",
       "      <th>color</th>\n",
       "      <th>engineDisplacement</th>\n",
       "      <th>enginePower</th>\n",
       "      <th>fuelType</th>\n",
       "      <th>...</th>\n",
       "      <th>Привод</th>\n",
       "      <th>Руль</th>\n",
       "      <th>Состояние</th>\n",
       "      <th>Таможня</th>\n",
       "      <th>equipment_dict</th>\n",
       "      <th>brand</th>\n",
       "      <th>model_name</th>\n",
       "      <th>name</th>\n",
       "      <th>sample_</th>\n",
       "      <th>price</th>\n",
       "    </tr>\n",
       "  </thead>\n",
       "  <tbody>\n",
       "    <tr>\n",
       "      <th>20414</th>\n",
       "      <td>1.603292e+09</td>\n",
       "      <td>1100086706</td>\n",
       "      <td>https://auto.ru/cars/used/sale/toyota/corolla/...</td>\n",
       "      <td>Надёжная машина. гидроусилитель руля, полный э...</td>\n",
       "      <td>https://autoru.naydex.net/LxPU17803/f5b8d77S/u...</td>\n",
       "      <td>хэтчбек 5 дв.</td>\n",
       "      <td>чёрный</td>\n",
       "      <td>1.5 LTR</td>\n",
       "      <td>110 N12</td>\n",
       "      <td>бензин</td>\n",
       "      <td>...</td>\n",
       "      <td>полный</td>\n",
       "      <td>Правый</td>\n",
       "      <td>Не требует ремонта</td>\n",
       "      <td>Растаможен</td>\n",
       "      <td>{\"airbag-driver\":true,\"aux\":true,\"usb\":true,\"s...</td>\n",
       "      <td>TOYOTA</td>\n",
       "      <td>COROLLA</td>\n",
       "      <td>Runx 1.5 AT (110 л.с.) 4WD</td>\n",
       "      <td>1</td>\n",
       "      <td>NaN</td>\n",
       "    </tr>\n",
       "    <tr>\n",
       "      <th>122056</th>\n",
       "      <td>1.618588e+09</td>\n",
       "      <td>1100086706</td>\n",
       "      <td>https://auto.ru/cars/used/sale/toyota/allex/11...</td>\n",
       "      <td>Надёжная машина. гидроусилитель руля, полный э...</td>\n",
       "      <td>https://avatars.mds.yandex.net/get-autoru-vos/...</td>\n",
       "      <td>хэтчбек 5 дв.</td>\n",
       "      <td>чёрный</td>\n",
       "      <td>1.5 л</td>\n",
       "      <td>110 л.с.</td>\n",
       "      <td>Бензин</td>\n",
       "      <td>...</td>\n",
       "      <td>полный</td>\n",
       "      <td>Правый</td>\n",
       "      <td>Не требует ремонта</td>\n",
       "      <td>Растаможен</td>\n",
       "      <td>{'asciiCat': 'cars', 'category': 'cars', 'engi...</td>\n",
       "      <td>Toyota</td>\n",
       "      <td>Allex</td>\n",
       "      <td>1.5 AT (110 л.с.) 4WD</td>\n",
       "      <td>0</td>\n",
       "      <td>350000.0</td>\n",
       "    </tr>\n",
       "  </tbody>\n",
       "</table>\n",
       "<p>2 rows × 25 columns</p>\n",
       "</div>"
      ],
      "text/plain": [
       "        parsing_unixtime     sell_id  \\\n",
       "20414       1.603292e+09  1100086706   \n",
       "122056      1.618588e+09  1100086706   \n",
       "\n",
       "                                                  car_url  \\\n",
       "20414   https://auto.ru/cars/used/sale/toyota/corolla/...   \n",
       "122056  https://auto.ru/cars/used/sale/toyota/allex/11...   \n",
       "\n",
       "                                              description  \\\n",
       "20414   Надёжная машина. гидроусилитель руля, полный э...   \n",
       "122056  Надёжная машина. гидроусилитель руля, полный э...   \n",
       "\n",
       "                                                    image       bodyType  \\\n",
       "20414   https://autoru.naydex.net/LxPU17803/f5b8d77S/u...  хэтчбек 5 дв.   \n",
       "122056  https://avatars.mds.yandex.net/get-autoru-vos/...  хэтчбек 5 дв.   \n",
       "\n",
       "         color engineDisplacement enginePower fuelType  ...  Привод    Руль  \\\n",
       "20414   чёрный            1.5 LTR     110 N12   бензин  ...  полный  Правый   \n",
       "122056  чёрный             1.5 л    110 л.с.    Бензин  ...  полный  Правый   \n",
       "\n",
       "                 Состояние     Таможня  \\\n",
       "20414   Не требует ремонта  Растаможен   \n",
       "122056  Не требует ремонта  Растаможен   \n",
       "\n",
       "                                           equipment_dict   brand model_name  \\\n",
       "20414   {\"airbag-driver\":true,\"aux\":true,\"usb\":true,\"s...  TOYOTA    COROLLA   \n",
       "122056  {'asciiCat': 'cars', 'category': 'cars', 'engi...  Toyota      Allex   \n",
       "\n",
       "                              name sample_     price  \n",
       "20414   Runx 1.5 AT (110 л.с.) 4WD       1       NaN  \n",
       "122056       1.5 AT (110 л.с.) 4WD       0  350000.0  \n",
       "\n",
       "[2 rows x 25 columns]"
      ]
     },
     "execution_count": 533,
     "metadata": {},
     "output_type": "execute_result"
    }
   ],
   "source": [
    "data_full[data_full['sell_id'] == 1100086706]"
   ]
  },
  {
   "cell_type": "markdown",
   "metadata": {},
   "source": [
    "У объявлений разные ссылки с идентичными параметрами.\n",
    "\n",
    "https://auto.ru/cars/used/sale/toyota/allex/1100086706-8d67a4c7/\n",
    "\n",
    "https://auto.ru/cars/used/sale/toyota/corolla/1100086706-8d67a4c7/\n",
    "\n",
    "Пройдя по ссылками убедились, что данные спарсены корректно, и на самом деле существует два идентичных объявления. Подобные объявления будем оставлять только в одном экземпляре."
   ]
  },
  {
   "cell_type": "code",
   "execution_count": 534,
   "metadata": {},
   "outputs": [
    {
     "data": {
      "text/plain": [
       "183246"
      ]
     },
     "execution_count": 534,
     "metadata": {},
     "output_type": "execute_result"
    }
   ],
   "source": [
    "data_full = data_full.drop_duplicates(subset=['sell_id'])\n",
    "len(data_full)"
   ]
  },
  {
   "cell_type": "markdown",
   "metadata": {},
   "source": [
    "# Описание датасета\n",
    "\n",
    "* parsing_unixtime - дата время парсинга \n",
    "* sell_id - идентификатор объявления\n",
    "* car_url - ссылка на объявление\n",
    "* description - описание, комментарий продавца\n",
    "* image - фото автомобиля\n",
    "* bodyType - кузов\n",
    "* color - цвет\n",
    "* engineDisplacement - объем двигателя\n",
    "* enginePower - мощность двигателя\n",
    "* fuelType - тип двигателя (Бензин, Дизель, Гибрид, электро, Газ, Бензин+Газ, Дизель+Газ, Гибрид+Газ\n",
    "* mileage - пробег\n",
    "* productionDate - год выпуска автомобиля\n",
    "* vehicleTransmission - тип коробки передач (механическая, автоматическая, вариатор, роботизированная)\n",
    "* Владельцы - число владельцев авто (1, 2, 3 и более)\n",
    "* ПТС - оригинальность ПТС (Оригинал, Дубликат)\n",
    "* Привод - тип привода (передний, полный, задний)\n",
    "* Руль - размещение рулевого колеса (Левый, Правый)\n",
    "* Состояние - указывает на необходимость ремонта (Не требует ремонта, Битый / не на ходу)\n",
    "* Таможня - необходимость процедуры растаможивания\n",
    "* equipment_dict - дополнительная информация об автомобиле\n",
    "* brand - марка авто (lada (ваз), toyota, kia, nissan, hyundai, bmw, mercedes-benz, renault, ford,\n",
    "            skoda, mitsubishi, audi, opel, mazda, honda, volkswagen, lexus, peugeot, volvo,\n",
    "            land rover, infiniti, subaru, chery, suzuki, citroen, lifan, geely, porsche, газ, haval)\n",
    "* model_name - название модели\n",
    "* name - расширенные технические данные\n",
    "* sample_ - принадлежность к тестовому датасету\n",
    "* price - цена авто"
   ]
  },
  {
   "cell_type": "markdown",
   "metadata": {},
   "source": [
    "# EDA\n",
    "Подготовим списки для распределения признаков, которые будем использовать в обучении и посмотрим на признаки ближе"
   ]
  },
  {
   "cell_type": "code",
   "execution_count": 535,
   "metadata": {},
   "outputs": [],
   "source": [
    "#распределяем признаки по типу: бинарные (признаки с 2мя уникальными значениями), категориальные (более 2х уникальных значений) и числовые \n",
    "bin_cols = [] \n",
    "cat_cols = [] \n",
    "num_cols = [] "
   ]
  },
  {
   "cell_type": "markdown",
   "metadata": {},
   "source": [
    "Выгрузим предварительный отчет в html"
   ]
  },
  {
   "cell_type": "code",
   "execution_count": 536,
   "metadata": {
    "scrolled": true
   },
   "outputs": [
    {
     "data": {
      "application/vnd.jupyter.widget-view+json": {
       "model_id": "e161dd665d9b4ec9b86b3706f6ab0844",
       "version_major": 2,
       "version_minor": 0
      },
      "text/plain": [
       "Summarize dataset:   0%|          | 0/39 [00:00<?, ?it/s]"
      ]
     },
     "metadata": {},
     "output_type": "display_data"
    },
    {
     "data": {
      "application/vnd.jupyter.widget-view+json": {
       "model_id": "145adf0ed180421bbc409e6d7bb031a6",
       "version_major": 2,
       "version_minor": 0
      },
      "text/plain": [
       "Generate report structure:   0%|          | 0/1 [00:00<?, ?it/s]"
      ]
     },
     "metadata": {},
     "output_type": "display_data"
    },
    {
     "data": {
      "application/vnd.jupyter.widget-view+json": {
       "model_id": "a646bf7202fb43f188d95cc4b1cbf92a",
       "version_major": 2,
       "version_minor": 0
      },
      "text/plain": [
       "Render HTML:   0%|          | 0/1 [00:00<?, ?it/s]"
      ]
     },
     "metadata": {},
     "output_type": "display_data"
    },
    {
     "data": {
      "application/vnd.jupyter.widget-view+json": {
       "model_id": "64ea120cda4e4a1f885933c86b6c247e",
       "version_major": 2,
       "version_minor": 0
      },
      "text/plain": [
       "Export report to file:   0%|          | 0/1 [00:00<?, ?it/s]"
      ]
     },
     "metadata": {},
     "output_type": "display_data"
    }
   ],
   "source": [
    "car_sales_report = pandas_profiling.ProfileReport(data_full)\n",
    "car_sales_report.to_file(\"car_sales_report.html\")"
   ]
  },
  {
   "cell_type": "markdown",
   "metadata": {},
   "source": [
    "Посмотрим содержание итогового датасета"
   ]
  },
  {
   "cell_type": "code",
   "execution_count": 537,
   "metadata": {},
   "outputs": [
    {
     "name": "stdout",
     "output_type": "stream",
     "text": [
      "<class 'pandas.core.frame.DataFrame'>\n",
      "Int64Index: 183246 entries, 0 to 184802\n",
      "Data columns (total 25 columns):\n",
      " #   Column               Non-Null Count   Dtype  \n",
      "---  ------               --------------   -----  \n",
      " 0   parsing_unixtime     183246 non-null  float64\n",
      " 1   sell_id              183246 non-null  int64  \n",
      " 2   car_url              183246 non-null  object \n",
      " 3   description          183221 non-null  object \n",
      " 4   image                183246 non-null  object \n",
      " 5   bodyType             183246 non-null  object \n",
      " 6   color                183246 non-null  object \n",
      " 7   engineDisplacement   183246 non-null  object \n",
      " 8   enginePower          183246 non-null  object \n",
      " 9   fuelType             183246 non-null  object \n",
      " 10  mileage              183246 non-null  object \n",
      " 11  productionDate       183246 non-null  int64  \n",
      " 12  vehicleTransmission  183246 non-null  object \n",
      " 13  Владельцы            183246 non-null  object \n",
      " 14  ПТС                  183245 non-null  object \n",
      " 15  Привод               183246 non-null  object \n",
      " 16  Руль                 183246 non-null  object \n",
      " 17  Состояние            183246 non-null  object \n",
      " 18  Таможня              183246 non-null  object \n",
      " 19  equipment_dict       173250 non-null  object \n",
      " 20  brand                183246 non-null  object \n",
      " 21  model_name           183246 non-null  object \n",
      " 22  name                 183246 non-null  object \n",
      " 23  sample_              183246 non-null  int64  \n",
      " 24  price                148560 non-null  float64\n",
      "dtypes: float64(2), int64(3), object(20)\n",
      "memory usage: 36.3+ MB\n"
     ]
    },
    {
     "data": {
      "text/plain": [
       "None"
      ]
     },
     "metadata": {},
     "output_type": "display_data"
    },
    {
     "data": {
      "text/html": [
       "<div>\n",
       "<style scoped>\n",
       "    .dataframe tbody tr th:only-of-type {\n",
       "        vertical-align: middle;\n",
       "    }\n",
       "\n",
       "    .dataframe tbody tr th {\n",
       "        vertical-align: top;\n",
       "    }\n",
       "\n",
       "    .dataframe thead th {\n",
       "        text-align: right;\n",
       "    }\n",
       "</style>\n",
       "<table border=\"1\" class=\"dataframe\">\n",
       "  <thead>\n",
       "    <tr style=\"text-align: right;\">\n",
       "      <th></th>\n",
       "      <th>parsing_unixtime</th>\n",
       "      <th>sell_id</th>\n",
       "      <th>car_url</th>\n",
       "      <th>description</th>\n",
       "      <th>image</th>\n",
       "      <th>bodyType</th>\n",
       "      <th>color</th>\n",
       "      <th>engineDisplacement</th>\n",
       "      <th>enginePower</th>\n",
       "      <th>fuelType</th>\n",
       "      <th>...</th>\n",
       "      <th>Привод</th>\n",
       "      <th>Руль</th>\n",
       "      <th>Состояние</th>\n",
       "      <th>Таможня</th>\n",
       "      <th>equipment_dict</th>\n",
       "      <th>brand</th>\n",
       "      <th>model_name</th>\n",
       "      <th>name</th>\n",
       "      <th>sample_</th>\n",
       "      <th>price</th>\n",
       "    </tr>\n",
       "  </thead>\n",
       "  <tbody>\n",
       "    <tr>\n",
       "      <th>41764</th>\n",
       "      <td>1.618567e+09</td>\n",
       "      <td>1102941930</td>\n",
       "      <td>https://auto.ru/cars/used/sale/bmw/x5/11029419...</td>\n",
       "      <td>Куплен мною в трэд-ин у официалов.Оригинал ПТС...</td>\n",
       "      <td>https://avatars.mds.yandex.net/get-autoru-vos/...</td>\n",
       "      <td>внедорожник 5 дв.</td>\n",
       "      <td>серебристый</td>\n",
       "      <td>3.0 л</td>\n",
       "      <td>231 л.с.</td>\n",
       "      <td>Бензин</td>\n",
       "      <td>...</td>\n",
       "      <td>полный</td>\n",
       "      <td>Левый</td>\n",
       "      <td>Не требует ремонта</td>\n",
       "      <td>Растаможен</td>\n",
       "      <td>{'asciiCat': 'cars', 'category': 'cars', 'engi...</td>\n",
       "      <td>BMW</td>\n",
       "      <td>X5</td>\n",
       "      <td>3.0i 3.0 AT (231 л.с.) 4WD</td>\n",
       "      <td>0</td>\n",
       "      <td>970000.0</td>\n",
       "    </tr>\n",
       "    <tr>\n",
       "      <th>106647</th>\n",
       "      <td>1.618581e+09</td>\n",
       "      <td>1103117317</td>\n",
       "      <td>https://auto.ru/cars/used/sale/renault/fluence...</td>\n",
       "      <td>Двигатель масло не ест совсем сцепление грм ре...</td>\n",
       "      <td>https://autoru.naydex.net/2eAqE6879/f119151Km/...</td>\n",
       "      <td>седан</td>\n",
       "      <td>серый</td>\n",
       "      <td>1.6 л</td>\n",
       "      <td>106 л.с.</td>\n",
       "      <td>Бензин</td>\n",
       "      <td>...</td>\n",
       "      <td>передний</td>\n",
       "      <td>Левый</td>\n",
       "      <td>Не требует ремонта</td>\n",
       "      <td>Растаможен</td>\n",
       "      <td>{'asciiCat': 'cars', 'category': 'cars', 'engi...</td>\n",
       "      <td>Renault</td>\n",
       "      <td>Fluence</td>\n",
       "      <td>1.6 MT (106 л.с.)</td>\n",
       "      <td>0</td>\n",
       "      <td>360000.0</td>\n",
       "    </tr>\n",
       "    <tr>\n",
       "      <th>162663</th>\n",
       "      <td>1.618528e+09</td>\n",
       "      <td>1103071675</td>\n",
       "      <td>https://auto.ru/cars/used/sale/vaz/2170/110307...</td>\n",
       "      <td>Третий хозяин. Оригинальный ПТС. Машина на ход...</td>\n",
       "      <td>https://autoru.naydex.net/kbh266A18/e46817kp/P...</td>\n",
       "      <td>хэтчбек 5 дв.</td>\n",
       "      <td>серый</td>\n",
       "      <td>1.6 л</td>\n",
       "      <td>98 л.с.</td>\n",
       "      <td>Бензин, газобаллонное оборудование</td>\n",
       "      <td>...</td>\n",
       "      <td>передний</td>\n",
       "      <td>Левый</td>\n",
       "      <td>Не требует ремонта</td>\n",
       "      <td>Растаможен</td>\n",
       "      <td>{'asciiCat': 'cars', 'category': 'cars', 'engi...</td>\n",
       "      <td>LADA (ВАЗ)</td>\n",
       "      <td>Priora</td>\n",
       "      <td>1.6 MT (98 л.с.)</td>\n",
       "      <td>0</td>\n",
       "      <td>215000.0</td>\n",
       "    </tr>\n",
       "  </tbody>\n",
       "</table>\n",
       "<p>3 rows × 25 columns</p>\n",
       "</div>"
      ],
      "text/plain": [
       "        parsing_unixtime     sell_id  \\\n",
       "41764       1.618567e+09  1102941930   \n",
       "106647      1.618581e+09  1103117317   \n",
       "162663      1.618528e+09  1103071675   \n",
       "\n",
       "                                                  car_url  \\\n",
       "41764   https://auto.ru/cars/used/sale/bmw/x5/11029419...   \n",
       "106647  https://auto.ru/cars/used/sale/renault/fluence...   \n",
       "162663  https://auto.ru/cars/used/sale/vaz/2170/110307...   \n",
       "\n",
       "                                              description  \\\n",
       "41764   Куплен мною в трэд-ин у официалов.Оригинал ПТС...   \n",
       "106647  Двигатель масло не ест совсем сцепление грм ре...   \n",
       "162663  Третий хозяин. Оригинальный ПТС. Машина на ход...   \n",
       "\n",
       "                                                    image           bodyType  \\\n",
       "41764   https://avatars.mds.yandex.net/get-autoru-vos/...  внедорожник 5 дв.   \n",
       "106647  https://autoru.naydex.net/2eAqE6879/f119151Km/...              седан   \n",
       "162663  https://autoru.naydex.net/kbh266A18/e46817kp/P...      хэтчбек 5 дв.   \n",
       "\n",
       "              color engineDisplacement enginePower  \\\n",
       "41764   серебристый             3.0 л    231 л.с.    \n",
       "106647        серый             1.6 л    106 л.с.    \n",
       "162663        серый             1.6 л     98 л.с.    \n",
       "\n",
       "                                   fuelType  ...    Привод   Руль  \\\n",
       "41764                                Бензин  ...    полный  Левый   \n",
       "106647                               Бензин  ...  передний  Левый   \n",
       "162663   Бензин, газобаллонное оборудование  ...  передний  Левый   \n",
       "\n",
       "                 Состояние     Таможня  \\\n",
       "41764   Не требует ремонта  Растаможен   \n",
       "106647  Не требует ремонта  Растаможен   \n",
       "162663  Не требует ремонта  Растаможен   \n",
       "\n",
       "                                           equipment_dict       brand  \\\n",
       "41764   {'asciiCat': 'cars', 'category': 'cars', 'engi...         BMW   \n",
       "106647  {'asciiCat': 'cars', 'category': 'cars', 'engi...     Renault   \n",
       "162663  {'asciiCat': 'cars', 'category': 'cars', 'engi...  LADA (ВАЗ)   \n",
       "\n",
       "       model_name                        name sample_     price  \n",
       "41764          X5  3.0i 3.0 AT (231 л.с.) 4WD       0  970000.0  \n",
       "106647    Fluence           1.6 MT (106 л.с.)       0  360000.0  \n",
       "162663     Priora            1.6 MT (98 л.с.)       0  215000.0  \n",
       "\n",
       "[3 rows x 25 columns]"
      ]
     },
     "metadata": {},
     "output_type": "display_data"
    }
   ],
   "source": [
    "display(data_full.info())\n",
    "display(data_full.sample(3))"
   ]
  },
  {
   "cell_type": "markdown",
   "metadata": {},
   "source": [
    "## 0. parsing_unixtime - дата время парсинга\n",
    "Преобразуем в удобный тип и посмотрим на распределение по датам"
   ]
  },
  {
   "cell_type": "code",
   "execution_count": 538,
   "metadata": {},
   "outputs": [
    {
     "data": {
      "text/plain": [
       "2021-04-16    94545\n",
       "2021-04-17    41705\n",
       "2020-10-21    18785\n",
       "2021-04-15    12310\n",
       "2020-10-19     6441\n",
       "2020-10-20     3935\n",
       "2020-10-25     3497\n",
       "2020-10-24     1310\n",
       "2020-10-26      718\n",
       "Name: datetime, dtype: int64"
      ]
     },
     "execution_count": 538,
     "metadata": {},
     "output_type": "execute_result"
    }
   ],
   "source": [
    "data_full['datetime'] = data_full['parsing_unixtime'].apply(lambda x: datetime.datetime.fromtimestamp(x))\n",
    "data_full['datetime'].dt.date.value_counts()"
   ]
  },
  {
   "cell_type": "markdown",
   "metadata": {},
   "source": [
    "## 1. sell_id - идентификатор объявления\n",
    "Из html отчета car_sales_report видим, данный признак уникален, пропусков не осталось. Признак является идентификатором объявления. Смысловой нагрузки не несет, для обучение не отбираем"
   ]
  },
  {
   "cell_type": "markdown",
   "metadata": {},
   "source": [
    "## 2. car_url - ссылка на объявление\n",
    "По html отчету car_sales_report видим аналогичную с sell_id картину. Признак не будем использовать в обучении."
   ]
  },
  {
   "cell_type": "markdown",
   "metadata": {},
   "source": [
    "## 3. description - описание, комментарий продавца\n",
    "Из html отчета car_sales_report видим - есть пропуски, много уникальных значений. Попробуем сгенерировать 2 признака на основании этого:\n",
    "1 бинарный - наличие описания, 2 числовой - количество символов в описании."
   ]
  },
  {
   "cell_type": "code",
   "execution_count": 539,
   "metadata": {},
   "outputs": [],
   "source": [
    "data_full['description_len'] = data_full.description.apply(lambda x: len(str(x)))\n",
    "data_full['description_is'] = data_full['description'].isna()\n",
    "\n",
    "num_cols.append('description_len')\n",
    "bin_cols.append('description_is')"
   ]
  },
  {
   "cell_type": "markdown",
   "metadata": {},
   "source": [
    "## 4. image - фото автомобиля\n",
    "Из html отчета car_sales_report видим, что фото не уникальны, а это странно, т.к. продаются б/у автомобили, соответственно ожидаем, что фото будут индивидуальные. Посмотрим пару объявлений с одинаковыми фотографиями."
   ]
  },
  {
   "cell_type": "code",
   "execution_count": 540,
   "metadata": {},
   "outputs": [
    {
     "data": {
      "text/plain": [
       "https://avatars.mds.yandex.net/get-verba/1030388/2a000001609d713fe4380ce1d36fac8ab0eb/cattouch    1987\n",
       "https://avatars.mds.yandex.net/get-verba/787013/2a000001609cff8494a7777d305c7e86a528/cattouch     1656\n",
       "https://avatars.mds.yandex.net/get-verba/1030388/2a000001609d67764509bb9c7d50686014ec/cattouch    1273\n",
       "Name: image, dtype: int64"
      ]
     },
     "metadata": {},
     "output_type": "display_data"
    },
    {
     "data": {
      "text/plain": [
       "array(['https://auto.ru/cars/used/sale/vaz/granta/1098176684-c4c703f3/',\n",
       "       'https://auto.ru/cars/used/sale/vaz/granta/1087551428-45a09f04/',\n",
       "       'https://auto.ru/cars/used/sale/vaz/granta/1085270934-4389353b/',\n",
       "       ...,\n",
       "       'https://auto.ru/cars/used/sale/vaz/granta/1093228226-7928499d/',\n",
       "       'https://auto.ru/cars/used/sale/vaz/granta/1099372618-851cd8ba/',\n",
       "       'https://auto.ru/cars/used/sale/vaz/granta/1091834102-5efbb717/'],\n",
       "      dtype=object)"
      ]
     },
     "execution_count": 540,
     "metadata": {},
     "output_type": "execute_result"
    }
   ],
   "source": [
    "#получаем самые частые фотографии\n",
    "count_photos = data_full.image.value_counts()\n",
    "display(count_photos.head(3))\n",
    "\n",
    "#получаем ссылки на объявления, использующие самую популярную фотографию\n",
    "data_full[data_full.image == count_photos.head(1).index[0]].car_url.values"
   ]
  },
  {
   "cell_type": "markdown",
   "metadata": {},
   "source": [
    "Самая частая фотография используется в 1987 объявлениях. Пройдя по нескольким ссылкам видим, что продавец не загрузил фотографию, и используется стандартное фото из каталога.\n",
    "\n",
    "Проверим пару ссылок с уникальными фотографиями."
   ]
  },
  {
   "cell_type": "code",
   "execution_count": 541,
   "metadata": {},
   "outputs": [
    {
     "data": {
      "text/plain": [
       "https://avatars.mds.yandex.net/get-autoru-vos/4581701/52c3c60a67e0735b8c4890806ab35061/1200x900n                                                                                                                                                                                                                      1\n",
       "https://avatars.mds.yandex.net/get-autoru-vos/4366239/9b0efef2f9e15209e923c78c9279e64f/1200x900n                                                                                                                                                                                                                      1\n",
       "https://autoru.naydex.net/2eAqE6879/f119151Km/zpOzLzD9BQI6y-6MuPmZuGJM9NRxedgC_2EWOZv9XL45GJzxzaaX1XoCgsa0tcAeL0QBfZjalH5COwVxyjM6x5-K5j8t1BgzQ4bG8ZD0nO0_bIyNAGmkJhfMprlHUdw-yLBgdYTPlqUPF49vGIlZy35RMUX5D61_k4YMNKYuxyrG79ezPAEAeqJrp4h00cF01gV4jNkkpEaniO61QxV8lmgEgIXk2w6oF29jU83J6R-mAT3JhTN926NmSHwOMqvCxtPw    1\n",
       "Name: image, dtype: int64"
      ]
     },
     "metadata": {},
     "output_type": "display_data"
    },
    {
     "data": {
      "text/plain": [
       "array(['https://auto.ru/cars/used/sale/bmw/5er/1103101701-386625a2/',\n",
       "       'https://auto.ru/cars/used/sale/nissan/qashqai/1103007081-45438b8c/',\n",
       "       'https://auto.ru/cars/used/sale/skoda/rapid/1103138095-7239b6b7/'],\n",
       "      dtype=object)"
      ]
     },
     "execution_count": 541,
     "metadata": {},
     "output_type": "execute_result"
    }
   ],
   "source": [
    "#получим уникальные фотографии\n",
    "display(count_photos.sort_values().head(3))\n",
    "\n",
    "#получим ссылки на объявления с этими фотографиями\n",
    "data_full[data_full.image.isin(count_photos.sort_values().head(3).index)].car_url.values"
   ]
  },
  {
   "cell_type": "markdown",
   "metadata": {},
   "source": [
    "Действительно, уникальные фотографии являются реальными. Наверняка покупатель сразу хочет видеть в каком состоянии авто. Сгенерируем для этого новый признак \"real_photo\". \n",
    "Скорее всего ссылки из каталога должны быть в одном формате. Попробуем зацепиться за фразу \"get-verba\" в ссылке.\n",
    "Проверим верна ли догадка на парочке фотографий в единственном экземпляре, для которых проставилось значение о том, что фото не реальное"
   ]
  },
  {
   "cell_type": "code",
   "execution_count": 542,
   "metadata": {},
   "outputs": [
    {
     "data": {
      "text/plain": [
       "https://avatars.mds.yandex.net/get-verba/216201/2a00000160980e3f88b33f88d1fed8e5a4e1/cattouch      1\n",
       "https://avatars.mds.yandex.net/get-verba/787013/2a000001609d588669852eaf921d764b16ff/wizardv3mr    1\n",
       "https://avatars.mds.yandex.net/get-verba/787013/2a000001609d562cbcb94ed86deed7d6624c/cattouch      1\n",
       "Name: image, dtype: int64"
      ]
     },
     "metadata": {},
     "output_type": "display_data"
    },
    {
     "data": {
      "text/plain": [
       "array(['https://auto.ru/cars/used/sale/vaz/2107/1099142982-d4d59e13/',\n",
       "       'https://auto.ru/cars/used/sale/vaz/2107/1102455458-9d6dabd3/',\n",
       "       'https://auto.ru/cars/used/sale/vaz/2107/1098897690-e2eb6a40/',\n",
       "       ...,\n",
       "       'https://auto.ru/cars/used/sale/vaz/granta/1093228226-7928499d/',\n",
       "       'https://auto.ru/cars/used/sale/vaz/granta/1099372618-851cd8ba/',\n",
       "       'https://auto.ru/cars/used/sale/vaz/granta/1091834102-5efbb717/'],\n",
       "      dtype=object)"
      ]
     },
     "execution_count": 542,
     "metadata": {},
     "output_type": "execute_result"
    }
   ],
   "source": [
    "#генерируем признак\n",
    "data_full['real_photo'] = data_full.image.apply(lambda x: x.find('get-verba') == -1)\n",
    "\n",
    "#получаем нереальные фотографии в единственном экземпляре\n",
    "real_photos = data_full[data_full['real_photo'] == False].image.value_counts()\n",
    "display(real_photos.sort_values().head(3))\n",
    "\n",
    "#получаем ссылки на объявления\n",
    "data_full[data_full.image.isin(real_photos.head(3).index)].car_url.values"
   ]
  },
  {
   "cell_type": "markdown",
   "metadata": {},
   "source": [
    "Догадка подтвердилась. Реальность фотографии определяется верно. Используем новый признак для обучения. Определим его как бинарный."
   ]
  },
  {
   "cell_type": "code",
   "execution_count": 543,
   "metadata": {},
   "outputs": [],
   "source": [
    "bin_cols.append('real_photo')"
   ]
  },
  {
   "cell_type": "markdown",
   "metadata": {},
   "source": [
    "## 5. bodyType\n",
    "Из html отчета car_sales_report видим, что данные заполнены полностью без пропусков, признак явно категориальный. Судя по распределению, некоторых видов не так много, и некоторые значения однотипные. Попробуем их немного сгруппировать в более общие типы. "
   ]
  },
  {
   "cell_type": "code",
   "execution_count": 544,
   "metadata": {},
   "outputs": [
    {
     "data": {
      "text/plain": [
       "седан          74539\n",
       "внедорожник    51925\n",
       "хэтчбек        37149\n",
       "универсал       9960\n",
       "вэн             5078\n",
       "кабрио          2963\n",
       "пикап           1625\n",
       "other              7\n",
       "Name: bodyClass, dtype: int64"
      ]
     },
     "execution_count": 544,
     "metadata": {},
     "output_type": "execute_result"
    }
   ],
   "source": [
    "def get_bodyClass(bodyType):\n",
    "    \n",
    "    bodyClass = 'other'\n",
    "    \n",
    "    dict_bodyTypes = {'седан' : ['седан', 'седан-хардтоп', 'фастбек'],\n",
    "                          'внедорожник' : ['внедорожник 5 дв.', 'внедорожник 3 дв.', 'внедорожник открытый'],\n",
    "                          'хэтчбек': ['хэтчбек 5 дв.', 'хэтчбек 4 дв.', 'хэтчбек 3 дв.', 'лифтбек'],\n",
    "                          'универсал': ['универсал 5 дв.'],\n",
    "                          'вэн': ['микровэн', 'минивэн', 'компактвэн'],                      \n",
    "                          'пикап': ['пикап полуторная кабина', 'пикап одинарная кабина', 'пикап двойная кабина', 'фургон'],\n",
    "                          'кабрио': ['купе', 'купе-хардтоп', 'седан 2 дв.', 'кабриолет', 'фаэтон', 'тарга', 'родстер']\n",
    "                     }\n",
    "    \n",
    "    for key, value in dict_bodyTypes.items():   \n",
    "        if bodyType in value:\n",
    "            bodyClass = key\n",
    "            break\n",
    "    \n",
    "    return bodyClass\n",
    "\n",
    "data_full['bodyClass'] = data_full.bodyType.apply(lambda x: get_bodyClass(x))\n",
    "data_full.bodyClass.value_counts()"
   ]
  },
  {
   "cell_type": "markdown",
   "metadata": {},
   "source": [
    "Удалось сократить с 26 до 8 типов кузовов. Данные распределились более равномерно, единичные экземпляры объединились в группу other. Признак отнесем к категориальным"
   ]
  },
  {
   "cell_type": "code",
   "execution_count": 545,
   "metadata": {},
   "outputs": [],
   "source": [
    "cat_cols.append('bodyClass')"
   ]
  },
  {
   "cell_type": "markdown",
   "metadata": {},
   "source": [
    "## 6. color - цвет\n",
    "Из html отчета car_sales_report видим, что данный признак лучше отнести к категориальному. Значения заполнены хорошо, пропусков нет. Уникальных значений 16 без дублирующихся по смыслу. Оставим в таком виде и добавим в список категориальных"
   ]
  },
  {
   "cell_type": "code",
   "execution_count": 546,
   "metadata": {},
   "outputs": [],
   "source": [
    "cat_cols.append('color')"
   ]
  },
  {
   "cell_type": "markdown",
   "metadata": {},
   "source": [
    "## 7. engineDisplacement"
   ]
  },
  {
   "cell_type": "markdown",
   "metadata": {},
   "source": [
    "- объём двигателя, л; тип данных - object"
   ]
  },
  {
   "cell_type": "code",
   "execution_count": 547,
   "metadata": {},
   "outputs": [
    {
     "data": {
      "text/plain": [
       "1.6 л      56408\n",
       "2.0 л      22203\n",
       "1.5 л      13638\n",
       "3.0 л       9306\n",
       "2.0 LTR     7391\n",
       "           ...  \n",
       "1.1 LTR        4\n",
       "4.9 LTR        4\n",
       "3.9 л          3\n",
       "3.9 LTR        1\n",
       "5.3 LTR        1\n",
       "Name: engineDisplacement, Length: 108, dtype: int64"
      ]
     },
     "execution_count": 547,
     "metadata": {},
     "output_type": "execute_result"
    }
   ],
   "source": [
    "data_full.engineDisplacement.value_counts()"
   ]
  },
  {
   "cell_type": "markdown",
   "metadata": {},
   "source": [
    "Проверим признак на пустые ячейки."
   ]
  },
  {
   "cell_type": "code",
   "execution_count": 548,
   "metadata": {},
   "outputs": [
    {
     "data": {
      "text/plain": [
       "0"
      ]
     },
     "execution_count": 548,
     "metadata": {},
     "output_type": "execute_result"
    }
   ],
   "source": [
    "data_full.engineDisplacement.isna().sum()"
   ]
  },
  {
   "cell_type": "markdown",
   "metadata": {},
   "source": [
    "Посмотрим все уникальные значения признака."
   ]
  },
  {
   "cell_type": "code",
   "execution_count": 549,
   "metadata": {},
   "outputs": [
    {
     "data": {
      "text/plain": [
       "array(['1.2 LTR', '1.6 LTR', '1.8 LTR', '2.0 LTR', '1.4 LTR', '1.3 LTR',\n",
       "       '1.0 LTR', '3.6 LTR', '1.5 LTR', '1.9 LTR', '2.8 LTR', '1.1 LTR',\n",
       "       '2.5 LTR', '4.2 LTR', '3.0 LTR', '4.0 LTR', '5.9 LTR', '2.7 LTR',\n",
       "       '3.1 LTR', '2.4 LTR', '5.2 LTR', '3.2 LTR', '4.1 LTR', '6.3 LTR',\n",
       "       '2.3 LTR', '6.0 LTR', '2.2 LTR', '3.7 LTR', '2.9 LTR', '5.0 LTR',\n",
       "       '3.3 LTR', '2.1 LTR', '2.6 LTR', ' LTR', '3.5 LTR', '1.7 LTR',\n",
       "       '0.7 LTR', '4.4 LTR', '4.8 LTR', '5.4 LTR', '6.6 LTR', '4.9 LTR',\n",
       "       '3.8 LTR', '3.4 LTR', '3.9 LTR', '4.6 LTR', '5.6 LTR', '4.5 LTR',\n",
       "       '5.5 LTR', '6.2 LTR', '4.7 LTR', '4.3 LTR', '5.8 LTR', '5.3 LTR',\n",
       "       '5.7 LTR', '3.0 л ', '4.1 л ', '2.0 л ', '2.7 л ', '2.8 л ',\n",
       "       '1.4 л ', '2.4 л ', '2.3 л ', '1.8 л ', '2.5 л ', '4.2 л ',\n",
       "       '3.3 л ', '1.6 л ', '3.7 л ', '1.9 л ', '1.2 л ', '3.1 л ',\n",
       "       '3.2 л ', '6.0 л ', '5.2 л ', '3.6 л ', '5.9 л ', '5.0 л ',\n",
       "       '6.3 л ', '4.0 л ', '1.5 л ', '2.9 л ', '4.4 л ', '6.6 л ',\n",
       "       '2.2 л ', '3.5 л ', '3.9 л ', '4.6 л ', '4.8 л ', '0.7 л ',\n",
       "       '2.1 л ', '1.3 л ', '1.0 л ', '1.1 л ', '3.8 л ', '1.7 л ',\n",
       "       '4.7 л ', '5.5 л ', '2.6 л ', '5.8 л ', '5.4 л ', '4.3 л ',\n",
       "       '6.2 л ', '4.5 л ', '5.6 л ', '5.7 л ', '3.4 л ', '0.8 л '],\n",
       "      dtype=object)"
      ]
     },
     "execution_count": 549,
     "metadata": {},
     "output_type": "execute_result"
    }
   ],
   "source": [
    "data_full.engineDisplacement.unique()"
   ]
  },
  {
   "cell_type": "markdown",
   "metadata": {},
   "source": [
    "Заменим значение ' LTR' на 0, так как здесь отсутствует ДВС."
   ]
  },
  {
   "cell_type": "code",
   "execution_count": 550,
   "metadata": {},
   "outputs": [],
   "source": [
    "data_full.engineDisplacement = data_full.engineDisplacement.apply(lambda x: '0.0' if x == ' LTR' else x)"
   ]
  },
  {
   "cell_type": "markdown",
   "metadata": {},
   "source": [
    "Уберем из этого списка одно неподходящее для преобразования в число значение 'Hyundai Grand Starex I'."
   ]
  },
  {
   "cell_type": "code",
   "execution_count": 551,
   "metadata": {},
   "outputs": [],
   "source": [
    "data_full = data_full.drop(data_full[data_full.engineDisplacement == 'Hyundai Grand Starex I'].index)"
   ]
  },
  {
   "cell_type": "markdown",
   "metadata": {},
   "source": [
    "Преобразуем признак из object в числовой."
   ]
  },
  {
   "cell_type": "code",
   "execution_count": 552,
   "metadata": {},
   "outputs": [],
   "source": [
    "pattern = re.compile('\\d+\\.\\d+')\n",
    "\n",
    "data_full['engineDisplacement'] = data_full['engineDisplacement'].apply(lambda x: float(pattern.findall(x)[0]))"
   ]
  },
  {
   "cell_type": "markdown",
   "metadata": {},
   "source": [
    "Построим гистограмму распределения признака."
   ]
  },
  {
   "cell_type": "code",
   "execution_count": 553,
   "metadata": {},
   "outputs": [
    {
     "data": {
      "text/plain": [
       "<AxesSubplot:>"
      ]
     },
     "execution_count": 553,
     "metadata": {},
     "output_type": "execute_result"
    },
    {
     "data": {
      "image/png": "[encoded data removed]",
      "text/plain": [
       "<Figure size 432x288 with 1 Axes>"
      ]
     },
     "metadata": {
      "needs_background": "light"
     },
     "output_type": "display_data"
    }
   ],
   "source": [
    "data_full['engineDisplacement'].hist()"
   ]
  },
  {
   "cell_type": "markdown",
   "metadata": {},
   "source": [
    "В результате пребразований получен числовой признак. Распределение можно считать нормальным."
   ]
  },
  {
   "cell_type": "code",
   "execution_count": 554,
   "metadata": {},
   "outputs": [],
   "source": [
    "num_cols.append('engineDisplacement')"
   ]
  },
  {
   "cell_type": "markdown",
   "metadata": {},
   "source": [
    "## 8. enginePower"
   ]
  },
  {
   "cell_type": "markdown",
   "metadata": {},
   "source": [
    "- мощность двигателя, л. с.; тип данных - object"
   ]
  },
  {
   "cell_type": "code",
   "execution_count": 555,
   "metadata": {},
   "outputs": [
    {
     "data": {
      "text/plain": [
       " 98 л.с.      7613\n",
       " 81 л.с.      6760\n",
       " 150 л.с.     6588\n",
       " 106 л.с.     5877\n",
       " 87 л.с.      5575\n",
       "              ... \n",
       " 449 л.с.        1\n",
       " 635 л.с.        1\n",
       "303 N12          1\n",
       "42 N12           1\n",
       "402 N12          1\n",
       "Name: enginePower, Length: 627, dtype: int64"
      ]
     },
     "execution_count": 555,
     "metadata": {},
     "output_type": "execute_result"
    }
   ],
   "source": [
    "data_full.enginePower.value_counts()"
   ]
  },
  {
   "cell_type": "markdown",
   "metadata": {},
   "source": [
    "Проверим признак на пустые ячейки."
   ]
  },
  {
   "cell_type": "code",
   "execution_count": 556,
   "metadata": {},
   "outputs": [
    {
     "data": {
      "text/plain": [
       "0"
      ]
     },
     "execution_count": 556,
     "metadata": {},
     "output_type": "execute_result"
    }
   ],
   "source": [
    "data_full.enginePower.isna().sum()"
   ]
  },
  {
   "cell_type": "markdown",
   "metadata": {},
   "source": [
    "Посмотрим все уникальные значения признака."
   ]
  },
  {
   "cell_type": "code",
   "execution_count": 557,
   "metadata": {},
   "outputs": [
    {
     "data": {
      "text/plain": [
       "array(['105 N12', '110 N12', '152 N12', '200 N12', '102 N12', '150 N12',\n",
       "       '90 N12', '180 N12', '220 N12', '122 N12', '70 N12', '140 N12',\n",
       "       '125 N12', '54 N12', '86 N12', '75 N12', '64 N12', '95 N12',\n",
       "       '260 N12', '170 N12', '80 N12', '68 N12', '160 N12', '115 N12',\n",
       "       '280 N12', '53 N12', '60 N12', '143 N12', '42 N12', '101 N12',\n",
       "       '58 N12', '193 N12', '79 N12', '30 N12', '100 N12', '50 N12',\n",
       "       '163 N12', '225 N12', '420 N12', '211 N12', '245 N12', '560 N12',\n",
       "       '500 N12', '249 N12', '450 N12', '605 N12', '250 N12', '354 N12',\n",
       "       '120 N12', '290 N12', '230 N12', '350 N12', '204 N12', '255 N12',\n",
       "       '340 N12', '177 N12', '272 N12', '372 N12', '210 N12', '130 N12',\n",
       "       '300 N12', '190 N12', '239 N12', '435 N12', '333 N12', '271 N12',\n",
       "       '326 N12', '238 N12', '310 N12', '233 N12', '252 N12', '133 N12',\n",
       "       '460 N12', '520 N12', '400 N12', '525 N12', '367 N12', '265 N12',\n",
       "       '550 N12', '580 N12', '88 N12', '165 N12', '430 N12', '335 N12',\n",
       "       '174 N12', '224 N12', '136 N12', '256 N12', '338 N12', '112 N12',\n",
       "       '218 N12', '360 N12', '93 N12', '182 N12', '113 N12', '240 N12',\n",
       "       '270 N12', '137 N12', '155 N12', '61 N12', '254 N12', '116 N12',\n",
       "       '71 N12', '285 N12', '408 N12', '166 N12', '156 N12', '257 N12',\n",
       "       '201 N12', '162 N12', '194 N12', '142 N12', '154 N12', '147 N12',\n",
       "       '281 N12', '243 N12', '118 N12', '128 N12', '91 N12', '83 N12',\n",
       "       '205 N12', '247 N12', '188 N12', '295 N12', '275 N12', '78 N12',\n",
       "       '109 N12', '94 N12', '185 N12', '258 N12', '145 N12', '132 N12',\n",
       "       '135 N12', '52 N12', '66 N12', '124 N12', '98 N12', '215 N12',\n",
       "       '158 N12', '99 N12', '103 N12', '131 N12', '126 N12', '235 N12',\n",
       "       '181 N12', '315 N12', '203 N12', '231 N12', '82 N12', '304 N12',\n",
       "       '175 N12', '320 N12', '213 N12', '144 N12', '146 N12', '151 N12',\n",
       "       '111 N12', '286 N12', '306 N12', '107 N12', '184 N12', '313 N12',\n",
       "       '264 N12', '575 N12', '407 N12', '192 N12', '129 N12', '555 N12',\n",
       "       '625 N12', '329 N12', '370 N12', '381 N12', '269 N12', '600 N12',\n",
       "       '510 N12', '544 N12', '462 N12', '355 N12', '507 N12', '609 N12',\n",
       "       '431 N12', '530 N12', '387 N12', '610 N12', '197 N12', '343 N12',\n",
       "       '445 N12', '171 N12', '51 N12', '46 N12', '347 N12', '321 N12',\n",
       "       '167 N12', '141 N12', '169 N12', '405 N12', '117 N12', '114 N12',\n",
       "       '173 N12', '234 N12', '540 N12', '106 N12', '49 N12', '248 N12',\n",
       "       '317 N12', '309 N12', '97 N12', '121 N12', '268 N12', '149 N12',\n",
       "       '87 N12', '85 N12', '65 N12', '67 N12', '127 N12', '485 N12',\n",
       "       '186 N12', '222 N12', '307 N12', '262 N12', '302 N12', '284 N12',\n",
       "       '325 N12', '168 N12', '221 N12', '330 N12', '283 N12', '328 N12',\n",
       "       '303 N12', '278 N12', '388 N12', '571 N12', '585 N12', '612 N12',\n",
       "       '401 N12', '279 N12', '455 N12', '382 N12', '557 N12', '517 N12',\n",
       "       '394 N12', '422 N12', '292 N12', '469 N12', '522 N12', '296 N12',\n",
       "       '639 N12', '390 N12', '476 N12', '630 N12', '402 N12', '487 N12',\n",
       "       '558 N12', '421 N12', '316 N12', '514 N12', '457 N12', '626 N12',\n",
       "       '242 N12', '38 N12', '32 N12', '223 N12', '72 N12', '305 N12',\n",
       "       '183 N12', '273 N12', '159 N12', '76 N12', '148 N12', '179 N12',\n",
       "       '73 N12', '277 N12', '282 N12', '178 N12', '288 N12', '199 N12',\n",
       "       '266 N12', '92 N12', '74 N12', '324 N12', '232 N12', '157 N12',\n",
       "       '69 N12', '212 N12', '276 N12', '202 N12', '77 N12', '164 N12',\n",
       "       '96 N12', '84 N12', '228 N12', '108 N12', '208 N12', '263 N12',\n",
       "       '294 N12', '318 N12', '380 N12', '219 N12', '214 N12', '383 N12',\n",
       "       '241 N12', '57 N12', '55 N12', '104 N12', '48 N12', '40 N12',\n",
       "       '44 N12', '227 N12', '139 N12', '209 N12', '195 N12', '189 N12',\n",
       "       '480 N12', '591 N12', '301 N12', ' 218\\xa0л.с. ', ' 326\\xa0л.с. ',\n",
       "       ' 225\\xa0л.с. ', ' 250\\xa0л.с. ', ' 239\\xa0л.с. ', ' 200\\xa0л.с. ',\n",
       "       ' 204\\xa0л.с. ', ' 245\\xa0л.с. ', ' 170\\xa0л.с. ', ' 177\\xa0л.с. ',\n",
       "       ' 340\\xa0л.с. ', ' 180\\xa0л.с. ', ' 310\\xa0л.с. ', ' 211\\xa0л.с. ',\n",
       "       ' 125\\xa0л.с. ', ' 190\\xa0л.с. ', ' 249\\xa0л.с. ', ' 333\\xa0л.с. ',\n",
       "       ' 290\\xa0л.с. ', ' 338\\xa0л.с. ', ' 272\\xa0л.с. ', ' 133\\xa0л.с. ',\n",
       "       ' 160\\xa0л.с. ', ' 220\\xa0л.с. ', ' 230\\xa0л.с. ', ' 165\\xa0л.с. ',\n",
       "       ' 193\\xa0л.с. ', ' 130\\xa0л.с. ', ' 150\\xa0л.с. ', ' 102\\xa0л.с. ',\n",
       "       ' 155\\xa0л.с. ', ' 300\\xa0л.с. ', ' 260\\xa0л.с. ', ' 116\\xa0л.с. ',\n",
       "       ' 380\\xa0л.с. ', ' 75\\xa0л.с. ', ' 61\\xa0л.с. ', ' 101\\xa0л.с. ',\n",
       "       ' 163\\xa0л.с. ', ' 280\\xa0л.с. ', ' 335\\xa0л.с. ', ' 100\\xa0л.с. ',\n",
       "       ' 344\\xa0л.с. ', ' 255\\xa0л.с. ', ' 233\\xa0л.с. ', ' 140\\xa0л.с. ',\n",
       "       ' 450\\xa0л.с. ', ' 224\\xa0л.с. ', ' 115\\xa0л.с. ', ' 350\\xa0л.с. ',\n",
       "       ' 435\\xa0л.с. ', ' 265\\xa0л.с. ', ' 354\\xa0л.с. ', ' 210\\xa0л.с. ',\n",
       "       ' 238\\xa0л.с. ', ' 420\\xa0л.с. ', ' 120\\xa0л.с. ', ' 143\\xa0л.с. ',\n",
       "       ' 136\\xa0л.с. ', ' 500\\xa0л.с. ', ' 525\\xa0л.с. ', ' 271\\xa0л.с. ',\n",
       "       ' 270\\xa0л.с. ', ' 580\\xa0л.с. ', ' 122\\xa0л.с. ', ' 372\\xa0л.с. ',\n",
       "       ' 105\\xa0л.с. ', ' 240\\xa0л.с. ', ' 256\\xa0л.с. ', ' 313\\xa0л.с. ',\n",
       "       ' 520\\xa0л.с. ', ' 560\\xa0л.с. ', ' 110\\xa0л.с. ', ' 243\\xa0л.с. ',\n",
       "       ' 144\\xa0л.с. ', ' 605\\xa0л.с. ', ' 320\\xa0л.с. ', ' 610\\xa0л.с. ',\n",
       "       ' 252\\xa0л.с. ', ' 258\\xa0л.с. ', ' 460\\xa0л.с. ', ' 422\\xa0л.с. ',\n",
       "       ' 113\\xa0л.с. ', ' 231\\xa0л.с. ', ' 555\\xa0л.с. ', ' 306\\xa0л.с. ',\n",
       "       ' 609\\xa0л.с. ', ' 530\\xa0л.с. ', ' 184\\xa0л.с. ', ' 575\\xa0л.с. ',\n",
       "       ' 235\\xa0л.с. ', ' 129\\xa0л.с. ', ' 400\\xa0л.с. ', ' 192\\xa0л.с. ',\n",
       "       ' 187\\xa0л.с. ', ' 286\\xa0л.с. ', ' 118\\xa0л.с. ', ' 347\\xa0л.с. ',\n",
       "       ' 445\\xa0л.с. ', ' 329\\xa0л.с. ', ' 360\\xa0л.с. ', ' 343\\xa0л.с. ',\n",
       "       ' 367\\xa0л.с. ', ' 507\\xa0л.с. ', ' 264\\xa0л.с. ', ' 355\\xa0л.с. ',\n",
       "       ' 156\\xa0л.с. ', ' 197\\xa0л.с. ', ' 407\\xa0л.с. ', ' 269\\xa0л.с. ',\n",
       "       ' 544\\xa0л.с. ', ' 381\\xa0л.с. ', ' 431\\xa0л.с. ', ' 449\\xa0л.с. ',\n",
       "       ' 370\\xa0л.с. ', ' 304\\xa0л.с. ', ' 462\\xa0л.с. ', ' 600\\xa0л.с. ',\n",
       "       ' 625\\xa0л.с. ', ' 248\\xa0л.с. ', ' 510\\xa0л.с. ', ' 410\\xa0л.с. ',\n",
       "       ' 387\\xa0л.с. ', ' 635\\xa0л.с. ', ' 131\\xa0л.с. ', ' 95\\xa0л.с. ',\n",
       "       ' 70\\xa0л.с. ', ' 52\\xa0л.с. ', ' 137\\xa0л.с. ', ' 90\\xa0л.с. ',\n",
       "       ' 40\\xa0л.с. ', ' 81\\xa0л.с. ', ' 55\\xa0л.с. ', ' 145\\xa0л.с. ',\n",
       "       ' 152\\xa0л.с. ', ' 205\\xa0л.с. ', ' 194\\xa0л.с. ', ' 126\\xa0л.с. ',\n",
       "       ' 85\\xa0л.с. ', ' 123\\xa0л.с. ', ' 107\\xa0л.с. ', ' 128\\xa0л.с. ',\n",
       "       ' 175\\xa0л.с. ', ' 188\\xa0л.с. ', ' 149\\xa0л.с. ', ' 202\\xa0л.с. ',\n",
       "       ' 124\\xa0л.с. ', ' 98\\xa0л.с. ', ' 108\\xa0л.с. ', ' 96\\xa0л.с. ',\n",
       "       ' 97\\xa0л.с. ', ' 127\\xa0л.с. ', ' 84\\xa0л.с. ', ' 169\\xa0л.с. ',\n",
       "       ' 83\\xa0л.с. ', ' 88\\xa0л.с. ', ' 109\\xa0л.с. ', ' 111\\xa0л.с. ',\n",
       "       ' 94\\xa0л.с. ', ' 114\\xa0л.с. ', ' 82\\xa0л.с. ', ' 195\\xa0л.с. ',\n",
       "       ' 132\\xa0л.с. ', ' 139\\xa0л.с. ', ' 203\\xa0л.с. ', ' 60\\xa0л.с. ',\n",
       "       ' 112\\xa0л.с. ', ' 64\\xa0л.с. ', ' 141\\xa0л.с. ', ' 80\\xa0л.с. ',\n",
       "       ' 174\\xa0л.с. ', ' 262\\xa0л.с. ', ' 185\\xa0л.с. ', ' 189\\xa0л.с. ',\n",
       "       ' 65\\xa0л.с. ', ' 266\\xa0л.с. ', ' 134\\xa0л.с. ', ' 164\\xa0л.с. ',\n",
       "       ' 274\\xa0л.с. ', ' 62\\xa0л.с. ', ' 176\\xa0л.с. ', ' 69\\xa0л.с. ',\n",
       "       ' 261\\xa0л.с. ', ' 162\\xa0л.с. ', ' 78\\xa0л.с. ', ' 135\\xa0л.с. ',\n",
       "       ' 278\\xa0л.с. ', ' 201\\xa0л.с. ', ' 186\\xa0л.с. ', ' 166\\xa0л.с. ',\n",
       "       ' 334\\xa0л.с. ', ' 424\\xa0л.с. ', ' 67\\xa0л.с. ', ' 151\\xa0л.с. ',\n",
       "       ' 247\\xa0л.с. ', ' 413\\xa0л.с. ', ' 121\\xa0л.с. ', ' 199\\xa0л.с. ',\n",
       "       ' 612\\xa0л.с. ', ' 296\\xa0л.с. ', ' 585\\xa0л.с. ', ' 455\\xa0л.с. ',\n",
       "       ' 639\\xa0л.с. ', ' 388\\xa0л.с. ', ' 421\\xa0л.с. ', ' 557\\xa0л.с. ',\n",
       "       ' 330\\xa0л.с. ', ' 279\\xa0л.с. ', ' 215\\xa0л.с. ', ' 292\\xa0л.с. ',\n",
       "       ' 476\\xa0л.с. ', ' 91\\xa0л.с. ', ' 517\\xa0л.с. ', ' 382\\xa0л.с. ',\n",
       "       ' 457\\xa0л.с. ', ' 305\\xa0л.с. ', ' 316\\xa0л.с. ', ' 514\\xa0л.с. ',\n",
       "       ' 299\\xa0л.с. ', ' 571\\xa0л.с. ', ' 487\\xa0л.с. ', ' 408\\xa0л.с. ',\n",
       "       ' 402\\xa0л.с. ', ' 558\\xa0л.с. ', ' 564\\xa0л.с. ', ' 591\\xa0л.с. ',\n",
       "       ' 401\\xa0л.с. ', ' 456\\xa0л.с. ', ' 469\\xa0л.с. ', ' 390\\xa0л.с. ',\n",
       "       ' 522\\xa0л.с. ', ' 178\\xa0л.с. ', ' 147\\xa0л.с. ', ' 146\\xa0л.с. ',\n",
       "       ' 167\\xa0л.с. ', ' 117\\xa0л.с. ', ' 154\\xa0л.с. ', ' 181\\xa0л.с. ',\n",
       "       ' 50\\xa0л.с. ', ' 227\\xa0л.с. ', ' 103\\xa0л.с. ', ' 99\\xa0л.с. ',\n",
       "       ' 208\\xa0л.с. ', ' 142\\xa0л.с. ', ' 158\\xa0л.с. ', ' 228\\xa0л.с. ',\n",
       "       ' 92\\xa0л.с. ', ' 263\\xa0л.с. ', ' 48\\xa0л.с. ', ' 295\\xa0л.с. ',\n",
       "       ' 241\\xa0л.с. ', ' 168\\xa0л.с. ', ' 223\\xa0л.с. ', ' 222\\xa0л.с. ',\n",
       "       ' 49\\xa0л.с. ', ' 148\\xa0л.с. ', ' 209\\xa0л.с. ', ' 173\\xa0л.с. ',\n",
       "       ' 182\\xa0л.с. ', ' 79\\xa0л.с. ', ' 87\\xa0л.с. ', ' 86\\xa0л.с. ',\n",
       "       ' 76\\xa0л.с. ', ' 157\\xa0л.с. ', ' 106\\xa0л.с. ', ' 68\\xa0л.с. ',\n",
       "       ' 54\\xa0л.с. ', ' 268\\xa0л.с. ', ' 234\\xa0л.с. ', ' 138\\xa0л.с. ',\n",
       "       ' 309\\xa0л.с. ', ' 283\\xa0л.с. ', ' 317\\xa0л.с. ', ' 480\\xa0л.с. ',\n",
       "       ' 336\\xa0л.с. ', ' 405\\xa0л.с. ', ' 485\\xa0л.с. ', ' 540\\xa0л.с. ',\n",
       "       ' 171\\xa0л.с. ', ' 58\\xa0л.с. ', ' 207\\xa0л.с. ', ' 73\\xa0л.с. ',\n",
       "       ' 179\\xa0л.с. ', ' 288\\xa0л.с. ', ' 273\\xa0л.с. ', ' 74\\xa0л.с. ',\n",
       "       ' 159\\xa0л.с. ', ' 275\\xa0л.с. ', ' 277\\xa0л.с. ', ' 71\\xa0л.с. ',\n",
       "       ' 212\\xa0л.с. ', ' 77\\xa0л.с. ', ' 89\\xa0л.с. ', ' 72\\xa0л.с. ',\n",
       "       ' 183\\xa0л.с. ', ' 196\\xa0л.с. ', ' 161\\xa0л.с. ', ' 232\\xa0л.с. ',\n",
       "       ' 282\\xa0л.с. ', ' 276\\xa0л.с. ', ' 315\\xa0л.с. ', ' 236\\xa0л.с. ',\n",
       "       ' 318\\xa0л.с. ', ' 53\\xa0л.с. ', ' 104\\xa0л.с. ', ' 206\\xa0л.с. ',\n",
       "       ' 301\\xa0л.с. ', ' 33\\xa0л.с. ', ' 35\\xa0л.с. ', ' 29\\xa0л.с. ',\n",
       "       ' 59\\xa0л.с. ', ' 37\\xa0л.с. '], dtype=object)"
      ]
     },
     "execution_count": 557,
     "metadata": {},
     "output_type": "execute_result"
    }
   ],
   "source": [
    "data_full.enginePower.unique()"
   ]
  },
  {
   "cell_type": "markdown",
   "metadata": {},
   "source": [
    "Преобразуем признак из object в числовой."
   ]
  },
  {
   "cell_type": "code",
   "execution_count": 558,
   "metadata": {},
   "outputs": [],
   "source": [
    "pattern = re.compile('\\d+')\n",
    "\n",
    "data_full['enginePower'] = data_full['enginePower'].apply(lambda x: float(pattern.findall(x)[0]))"
   ]
  },
  {
   "cell_type": "markdown",
   "metadata": {},
   "source": [
    "Построим гистограмму распределения признака."
   ]
  },
  {
   "cell_type": "code",
   "execution_count": 559,
   "metadata": {},
   "outputs": [
    {
     "data": {
      "text/plain": [
       "<AxesSubplot:>"
      ]
     },
     "execution_count": 559,
     "metadata": {},
     "output_type": "execute_result"
    },
    {
     "data": {
      "image/png": "[encoded data removed]",
      "text/plain": [
       "<Figure size 432x288 with 1 Axes>"
      ]
     },
     "metadata": {
      "needs_background": "light"
     },
     "output_type": "display_data"
    }
   ],
   "source": [
    "data_full['enginePower'].hist()"
   ]
  },
  {
   "cell_type": "markdown",
   "metadata": {},
   "source": [
    "В результате пребразований получен числовой признак. Распределение можно считать нормальным."
   ]
  },
  {
   "cell_type": "code",
   "execution_count": 560,
   "metadata": {},
   "outputs": [],
   "source": [
    "num_cols.append('enginePower')"
   ]
  },
  {
   "cell_type": "markdown",
   "metadata": {},
   "source": [
    "## 9. fuelType"
   ]
  },
  {
   "cell_type": "markdown",
   "metadata": {},
   "source": [
    "- тип топлива; тип данных - object"
   ]
  },
  {
   "cell_type": "code",
   "execution_count": 561,
   "metadata": {},
   "outputs": [
    {
     "data": {
      "text/plain": [
       " Бензин                                129931\n",
       "бензин                                  28601\n",
       " Дизель                                 14766\n",
       "дизель                                   5800\n",
       " Бензин, газобаллонное оборудование      2738\n",
       " Гибрид                                  1077\n",
       "гибрид                                    223\n",
       "электро                                    55\n",
       " Газ, газобаллонное оборудование           24\n",
       " Газ                                       17\n",
       "газ                                         7\n",
       " Дизель, газобаллонное оборудование         4\n",
       " Гибрид, газобаллонное оборудование         3\n",
       "Name: fuelType, dtype: int64"
      ]
     },
     "execution_count": 561,
     "metadata": {},
     "output_type": "execute_result"
    }
   ],
   "source": [
    "data_full.fuelType.value_counts()"
   ]
  },
  {
   "cell_type": "markdown",
   "metadata": {},
   "source": [
    "Проверим признак на пустые ячейки."
   ]
  },
  {
   "cell_type": "code",
   "execution_count": 562,
   "metadata": {},
   "outputs": [
    {
     "data": {
      "text/plain": [
       "0"
      ]
     },
     "execution_count": 562,
     "metadata": {},
     "output_type": "execute_result"
    }
   ],
   "source": [
    "data_full.fuelType.isna().sum()"
   ]
  },
  {
   "cell_type": "markdown",
   "metadata": {},
   "source": [
    "Приведем все значения к нижнему регистру."
   ]
  },
  {
   "cell_type": "code",
   "execution_count": 563,
   "metadata": {},
   "outputs": [],
   "source": [
    "data_full.fuelType = data_full.fuelType.apply(lambda x: x.lower())"
   ]
  },
  {
   "cell_type": "markdown",
   "metadata": {},
   "source": [
    "Посмотрим все уникальные значения."
   ]
  },
  {
   "cell_type": "code",
   "execution_count": 564,
   "metadata": {},
   "outputs": [
    {
     "data": {
      "text/plain": [
       "array(['бензин', 'дизель', 'гибрид', 'электро', 'газ', ' бензин',\n",
       "       ' дизель', ' бензин, газобаллонное оборудование', ' гибрид',\n",
       "       ' дизель, газобаллонное оборудование', ' газ',\n",
       "       ' газ, газобаллонное оборудование',\n",
       "       ' гибрид, газобаллонное оборудование'], dtype=object)"
      ]
     },
     "execution_count": 564,
     "metadata": {},
     "output_type": "execute_result"
    }
   ],
   "source": [
    "data_full.fuelType.unique()"
   ]
  },
  {
   "cell_type": "markdown",
   "metadata": {},
   "source": [
    "Преобразуем ' Газ, газобаллонное оборудование' в ' Газ'."
   ]
  },
  {
   "cell_type": "code",
   "execution_count": 565,
   "metadata": {},
   "outputs": [],
   "source": [
    "data_full.fuelType = data_full.fuelType.apply(lambda x: 'газ' if x in [' газ, газобаллонное оборудование',\n",
    "                                                                       ' бензин, газобаллонное оборудование',\n",
    "                                                                       ' дизель, газобаллонное оборудование',\n",
    "                                                                       ' гибрид, газобаллонное оборудование'] else x)"
   ]
  },
  {
   "cell_type": "markdown",
   "metadata": {},
   "source": [
    "Удалим одну строку со значением '1618546594.0'."
   ]
  },
  {
   "cell_type": "code",
   "execution_count": 566,
   "metadata": {},
   "outputs": [],
   "source": [
    "data_full = data_full.drop(data_full[data_full.fuelType == '1618546594.0'].index)"
   ]
  },
  {
   "cell_type": "markdown",
   "metadata": {},
   "source": [
    "Приведем уникальные значения к единообразному виду."
   ]
  },
  {
   "cell_type": "code",
   "execution_count": 567,
   "metadata": {},
   "outputs": [],
   "source": [
    "pattern = re.compile('[а-я]+')\n",
    "\n",
    "data_full.fuelType = data_full.fuelType.apply(lambda x: 'гибрид' if len(x.split(',')) == 2 else pattern.findall(x)[0])"
   ]
  },
  {
   "cell_type": "code",
   "execution_count": 568,
   "metadata": {},
   "outputs": [
    {
     "data": {
      "text/plain": [
       "array(['бензин', 'дизель', 'гибрид', 'электро', 'газ'], dtype=object)"
      ]
     },
     "execution_count": 568,
     "metadata": {},
     "output_type": "execute_result"
    }
   ],
   "source": [
    "data_full.fuelType.unique()"
   ]
  },
  {
   "cell_type": "markdown",
   "metadata": {},
   "source": [
    "Объединим признаки гибрид и электро"
   ]
  },
  {
   "cell_type": "code",
   "execution_count": 569,
   "metadata": {},
   "outputs": [],
   "source": [
    "data_full.fuelType = data_full.fuelType.apply(lambda x: 'электро' if x in ['электро', 'гибрид'] else x)"
   ]
  },
  {
   "cell_type": "code",
   "execution_count": 570,
   "metadata": {},
   "outputs": [
    {
     "data": {
      "text/plain": [
       "бензин     158532\n",
       "дизель      20566\n",
       "газ          2793\n",
       "электро      1355\n",
       "Name: fuelType, dtype: int64"
      ]
     },
     "execution_count": 570,
     "metadata": {},
     "output_type": "execute_result"
    }
   ],
   "source": [
    "data_full.fuelType.value_counts()"
   ]
  },
  {
   "cell_type": "code",
   "execution_count": 571,
   "metadata": {},
   "outputs": [
    {
     "data": {
      "text/plain": [
       "<AxesSubplot:>"
      ]
     },
     "execution_count": 571,
     "metadata": {},
     "output_type": "execute_result"
    },
    {
     "data": {
      "image/png": "[encoded data removed]",
      "text/plain": [
       "<Figure size 432x288 with 1 Axes>"
      ]
     },
     "metadata": {
      "needs_background": "light"
     },
     "output_type": "display_data"
    }
   ],
   "source": [
    "data_full.fuelType.value_counts().plot.barh()"
   ]
  },
  {
   "cell_type": "markdown",
   "metadata": {},
   "source": [
    "В результате преобразований получен категориальный признак."
   ]
  },
  {
   "cell_type": "code",
   "execution_count": 572,
   "metadata": {},
   "outputs": [],
   "source": [
    "cat_cols.append('fuelType')"
   ]
  },
  {
   "cell_type": "markdown",
   "metadata": {},
   "source": [
    "## 10. mileage"
   ]
  },
  {
   "cell_type": "markdown",
   "metadata": {},
   "source": [
    "- пробег автомобиля, км; тип данных - object"
   ]
  },
  {
   "cell_type": "code",
   "execution_count": 573,
   "metadata": {},
   "outputs": [
    {
     "data": {
      "text/plain": [
       "200 000 км    2711\n",
       "150 000 км    2439\n",
       "180 000 км    1852\n",
       "100 000 км    1703\n",
       "120 000 км    1690\n",
       "              ... \n",
       "79 313 км        1\n",
       "125 415 км       1\n",
       "173 233 км       1\n",
       "150 082 км       1\n",
       "139 798 км       1\n",
       "Name: mileage, Length: 42528, dtype: int64"
      ]
     },
     "execution_count": 573,
     "metadata": {},
     "output_type": "execute_result"
    }
   ],
   "source": [
    "data_full.mileage.value_counts()"
   ]
  },
  {
   "cell_type": "markdown",
   "metadata": {},
   "source": [
    "Проверим признак на пустые ячейки."
   ]
  },
  {
   "cell_type": "code",
   "execution_count": 574,
   "metadata": {},
   "outputs": [
    {
     "data": {
      "text/plain": [
       "0"
      ]
     },
     "execution_count": 574,
     "metadata": {},
     "output_type": "execute_result"
    }
   ],
   "source": [
    "data_full.mileage.isna().sum()"
   ]
  },
  {
   "cell_type": "code",
   "execution_count": 575,
   "metadata": {},
   "outputs": [
    {
     "data": {
      "text/plain": [
       "0            74000\n",
       "1            60563\n",
       "2            88000\n",
       "3            95000\n",
       "4            58536\n",
       "            ...   \n",
       "184798        2 км\n",
       "184799      570 км\n",
       "184800    4 000 км\n",
       "184801      100 км\n",
       "184802        1 км\n",
       "Name: mileage, Length: 183246, dtype: object"
      ]
     },
     "execution_count": 575,
     "metadata": {},
     "output_type": "execute_result"
    }
   ],
   "source": [
    "data_full.mileage"
   ]
  },
  {
   "cell_type": "markdown",
   "metadata": {},
   "source": [
    "Посмотрим на структуру значений."
   ]
  },
  {
   "cell_type": "code",
   "execution_count": 576,
   "metadata": {},
   "outputs": [
    {
     "data": {
      "text/plain": [
       "74000"
      ]
     },
     "execution_count": 576,
     "metadata": {},
     "output_type": "execute_result"
    }
   ],
   "source": [
    "data_full.mileage[0]"
   ]
  },
  {
   "cell_type": "code",
   "execution_count": 577,
   "metadata": {},
   "outputs": [
    {
     "data": {
      "text/plain": [
       "'1\\xa0км'"
      ]
     },
     "execution_count": 577,
     "metadata": {},
     "output_type": "execute_result"
    }
   ],
   "source": [
    "data_full.mileage[184802]"
   ]
  },
  {
   "cell_type": "markdown",
   "metadata": {},
   "source": [
    "Уберем части строки равные '\\xa0' из всех значений признака."
   ]
  },
  {
   "cell_type": "code",
   "execution_count": 578,
   "metadata": {},
   "outputs": [],
   "source": [
    "data_full['mileage'] = data_full['mileage'].apply(lambda x: str(x).replace('\\xa0', ''))"
   ]
  },
  {
   "cell_type": "markdown",
   "metadata": {},
   "source": [
    "Преобразуем признак из object в числовой."
   ]
  },
  {
   "cell_type": "code",
   "execution_count": 579,
   "metadata": {},
   "outputs": [],
   "source": [
    "pattern = re.compile('\\d+')\n",
    "\n",
    "data_full['mileage'] = data_full['mileage'].apply(lambda x: int(pattern.findall(x)[0]))"
   ]
  },
  {
   "cell_type": "markdown",
   "metadata": {},
   "source": [
    "Построим гистограмму распределения признака."
   ]
  },
  {
   "cell_type": "code",
   "execution_count": 580,
   "metadata": {},
   "outputs": [
    {
     "data": {
      "text/plain": [
       "<AxesSubplot:>"
      ]
     },
     "execution_count": 580,
     "metadata": {},
     "output_type": "execute_result"
    },
    {
     "data": {
      "image/png": "[encoded data removed]",
      "text/plain": [
       "<Figure size 432x288 with 1 Axes>"
      ]
     },
     "metadata": {
      "needs_background": "light"
     },
     "output_type": "display_data"
    }
   ],
   "source": [
    "data_full['mileage'].hist()"
   ]
  },
  {
   "cell_type": "markdown",
   "metadata": {},
   "source": [
    "В результате пребразований получен числовой признак. Распределение можно считать нормальным."
   ]
  },
  {
   "cell_type": "code",
   "execution_count": 581,
   "metadata": {},
   "outputs": [],
   "source": [
    "num_cols.append('mileage')"
   ]
  },
  {
   "cell_type": "markdown",
   "metadata": {},
   "source": [
    "## 11. productionDate"
   ]
  },
  {
   "cell_type": "markdown",
   "metadata": {},
   "source": [
    "- год производства автомобиля; тип данных - float"
   ]
  },
  {
   "cell_type": "code",
   "execution_count": 582,
   "metadata": {},
   "outputs": [
    {
     "data": {
      "text/plain": [
       "2012    13639\n",
       "2013    12892\n",
       "2011    12456\n",
       "2008    12043\n",
       "2017    11692\n",
       "        ...  \n",
       "1974        1\n",
       "1962        1\n",
       "1968        1\n",
       "1970        1\n",
       "1904        1\n",
       "Name: productionDate, Length: 73, dtype: int64"
      ]
     },
     "execution_count": 582,
     "metadata": {},
     "output_type": "execute_result"
    }
   ],
   "source": [
    "data_full.productionDate.value_counts()"
   ]
  },
  {
   "cell_type": "markdown",
   "metadata": {},
   "source": [
    "Проверим признак на пустые ячейки."
   ]
  },
  {
   "cell_type": "code",
   "execution_count": 583,
   "metadata": {},
   "outputs": [
    {
     "data": {
      "text/plain": [
       "0"
      ]
     },
     "execution_count": 583,
     "metadata": {},
     "output_type": "execute_result"
    }
   ],
   "source": [
    "data_full.productionDate.isna().sum()"
   ]
  },
  {
   "cell_type": "markdown",
   "metadata": {},
   "source": [
    "Посмотрим на уникальные значения."
   ]
  },
  {
   "cell_type": "code",
   "execution_count": 584,
   "metadata": {},
   "outputs": [
    {
     "data": {
      "text/plain": [
       "array([2014, 2017, 2012, 2011, 2019, 2018, 2010, 2020, 2016, 2013, 2006,\n",
       "       2007, 2015, 2005, 2008, 2009, 1997, 2004, 2002, 1987, 2003, 2001,\n",
       "       1976, 2000, 1998, 1995, 1999, 1993, 1939, 1996, 1984, 1990, 1991,\n",
       "       1992, 1989, 1982, 1985, 1994, 1938, 1981, 1988, 1983, 1980, 1986,\n",
       "       1978, 1970, 1979, 1977, 1972, 1975, 1969, 1950, 1953, 1949, 1937,\n",
       "       1959, 1968, 1936, 1904, 1974, 1967, 1961, 1960, 1965, 1963, 1957,\n",
       "       1952, 1973, 1948, 2021, 1962, 1956, 1958], dtype=int64)"
      ]
     },
     "execution_count": 584,
     "metadata": {},
     "output_type": "execute_result"
    }
   ],
   "source": [
    "data_full.productionDate.unique()"
   ]
  },
  {
   "cell_type": "markdown",
   "metadata": {},
   "source": [
    "Преобразуем признак из object в числовой."
   ]
  },
  {
   "cell_type": "code",
   "execution_count": 585,
   "metadata": {},
   "outputs": [],
   "source": [
    "pattern = re.compile('\\d+')\n",
    "\n",
    "data_full['productionDate'] = data_full['productionDate'].apply(lambda x: int(pattern.findall(str(x))[0]))"
   ]
  },
  {
   "cell_type": "markdown",
   "metadata": {},
   "source": [
    "Построим гистограмму распределения признака."
   ]
  },
  {
   "cell_type": "code",
   "execution_count": 586,
   "metadata": {},
   "outputs": [
    {
     "data": {
      "text/plain": [
       "<AxesSubplot:>"
      ]
     },
     "execution_count": 586,
     "metadata": {},
     "output_type": "execute_result"
    },
    {
     "data": {
      "image/png": "[encoded data removed]",
      "text/plain": [
       "<Figure size 432x288 with 1 Axes>"
      ]
     },
     "metadata": {
      "needs_background": "light"
     },
     "output_type": "display_data"
    }
   ],
   "source": [
    "data_full['productionDate'].hist()"
   ]
  },
  {
   "cell_type": "markdown",
   "metadata": {},
   "source": [
    "В результате пребразований получен числовой признак. На распределении визуально заметны выбросы, но они не противоречат здравому смыслу, поэтому их можно оставить."
   ]
  },
  {
   "cell_type": "code",
   "execution_count": 587,
   "metadata": {},
   "outputs": [],
   "source": [
    "num_cols.append('productionDate')"
   ]
  },
  {
   "cell_type": "markdown",
   "metadata": {},
   "source": [
    "## Генерация дополнительных числовых признаков"
   ]
  },
  {
   "cell_type": "markdown",
   "metadata": {},
   "source": [
    "Создание числового признака соотношения пробега к периоду пробега"
   ]
  },
  {
   "cell_type": "code",
   "execution_count": 588,
   "metadata": {},
   "outputs": [],
   "source": [
    "data_full['feature_mileage'] = ((2022-data_full['productionDate'])*17.5)/data_full['mileage']"
   ]
  },
  {
   "cell_type": "code",
   "execution_count": 589,
   "metadata": {},
   "outputs": [],
   "source": [
    "num_cols.append('feature_mileage')"
   ]
  },
  {
   "cell_type": "markdown",
   "metadata": {},
   "source": [
    "Расчет транспортного налога и создание числового признака его значения"
   ]
  },
  {
   "cell_type": "code",
   "execution_count": 590,
   "metadata": {},
   "outputs": [],
   "source": [
    "data_full['tax'] = data_full['enginePower'].apply(lambda x: x*12 if x < 100 else x*25 if x < 125 else x*35 \n",
    "                                                                      if x < 150 else x*45 if x < 175 else x*50 if x < 200 else \n",
    "                                                                      x*65 if x < 225 else x*75 if x < 250 else x*150)"
   ]
  },
  {
   "cell_type": "code",
   "execution_count": 591,
   "metadata": {},
   "outputs": [],
   "source": [
    "num_cols.append('tax')"
   ]
  },
  {
   "cell_type": "markdown",
   "metadata": {},
   "source": [
    "## 12. vehicleTransmission"
   ]
  },
  {
   "cell_type": "markdown",
   "metadata": {},
   "source": [
    "- тип трансмиссии автомобиля; тип данных - object"
   ]
  },
  {
   "cell_type": "code",
   "execution_count": 593,
   "metadata": {},
   "outputs": [
    {
     "data": {
      "text/plain": [
       "механическая        80621\n",
       "автоматическая      73248\n",
       "вариатор            17586\n",
       "роботизированная    11791\n",
       "Name: vehicleTransmission, dtype: int64"
      ]
     },
     "execution_count": 593,
     "metadata": {},
     "output_type": "execute_result"
    }
   ],
   "source": [
    "data_full.vehicleTransmission.value_counts()"
   ]
  },
  {
   "cell_type": "markdown",
   "metadata": {},
   "source": [
    "Проверим признак на пустые ячейки."
   ]
  },
  {
   "cell_type": "code",
   "execution_count": 594,
   "metadata": {},
   "outputs": [
    {
     "data": {
      "text/plain": [
       "0"
      ]
     },
     "execution_count": 594,
     "metadata": {},
     "output_type": "execute_result"
    }
   ],
   "source": [
    "data_full.productionDate.isna().sum()"
   ]
  },
  {
   "cell_type": "code",
   "execution_count": 595,
   "metadata": {},
   "outputs": [
    {
     "data": {
      "text/plain": [
       "<AxesSubplot:>"
      ]
     },
     "execution_count": 595,
     "metadata": {},
     "output_type": "execute_result"
    },
    {
     "data": {
      "image/png": "[encoded data removed]",
      "text/plain": [
       "<Figure size 432x288 with 1 Axes>"
      ]
     },
     "metadata": {
      "needs_background": "light"
     },
     "output_type": "display_data"
    }
   ],
   "source": [
    "data_full['vehicleTransmission'].value_counts().plot.barh()"
   ]
  },
  {
   "cell_type": "markdown",
   "metadata": {},
   "source": [
    "В данном признаке дополнительных преобразований не требуется. Признак является категориальным."
   ]
  },
  {
   "cell_type": "code",
   "execution_count": 596,
   "metadata": {},
   "outputs": [],
   "source": [
    "cat_cols.append('vehicleTransmission')"
   ]
  },
  {
   "cell_type": "markdown",
   "metadata": {},
   "source": [
    "## 13. Владельцы"
   ]
  },
  {
   "cell_type": "markdown",
   "metadata": {},
   "source": [
    "- количество владельцев автомобиля; тип данных - object"
   ]
  },
  {
   "cell_type": "code",
   "execution_count": 597,
   "metadata": {},
   "outputs": [
    {
     "data": {
      "text/plain": [
       "3 или более    83322\n",
       "1 владелец     53185\n",
       "2 владельца    46739\n",
       "Name: Владельцы, dtype: int64"
      ]
     },
     "execution_count": 597,
     "metadata": {},
     "output_type": "execute_result"
    }
   ],
   "source": [
    "data_full['Владельцы'].value_counts()"
   ]
  },
  {
   "cell_type": "markdown",
   "metadata": {},
   "source": [
    "Проверим признак на пустые ячейки."
   ]
  },
  {
   "cell_type": "code",
   "execution_count": 598,
   "metadata": {},
   "outputs": [
    {
     "data": {
      "text/plain": [
       "0"
      ]
     },
     "execution_count": 598,
     "metadata": {},
     "output_type": "execute_result"
    }
   ],
   "source": [
    "data_full.productionDate.isna().sum()"
   ]
  },
  {
   "cell_type": "markdown",
   "metadata": {},
   "source": [
    "Посмотрим на уникальные значения."
   ]
  },
  {
   "cell_type": "code",
   "execution_count": 599,
   "metadata": {},
   "outputs": [
    {
     "data": {
      "text/plain": [
       "array(['3 или более', '1\\xa0владелец', '2\\xa0владельца'], dtype=object)"
      ]
     },
     "execution_count": 599,
     "metadata": {},
     "output_type": "execute_result"
    }
   ],
   "source": [
    "data_full['Владельцы'].unique()"
   ]
  },
  {
   "cell_type": "markdown",
   "metadata": {},
   "source": [
    "В данном столбце мы имеем категориальные значения. Преобразуем данные к презентабельному виду - заменим части строки равные '\\xa0' на ' ' во всех значениях признака."
   ]
  },
  {
   "cell_type": "code",
   "execution_count": 600,
   "metadata": {},
   "outputs": [],
   "source": [
    "data_full['Владельцы'] = data_full['Владельцы'].apply(lambda x: str(x).replace('\\xa0', ' '))"
   ]
  },
  {
   "cell_type": "code",
   "execution_count": 601,
   "metadata": {},
   "outputs": [
    {
     "data": {
      "text/plain": [
       "<AxesSubplot:>"
      ]
     },
     "execution_count": 601,
     "metadata": {},
     "output_type": "execute_result"
    },
    {
     "data": {
      "image/png": "[encoded data removed]",
      "text/plain": [
       "<Figure size 432x288 with 1 Axes>"
      ]
     },
     "metadata": {
      "needs_background": "light"
     },
     "output_type": "display_data"
    }
   ],
   "source": [
    "data_full['Владельцы'].value_counts().plot.barh()"
   ]
  },
  {
   "cell_type": "code",
   "execution_count": 602,
   "metadata": {},
   "outputs": [],
   "source": [
    "cat_cols.append('Владельцы')"
   ]
  },
  {
   "cell_type": "markdown",
   "metadata": {},
   "source": [
    "## 14. ПТС"
   ]
  },
  {
   "cell_type": "markdown",
   "metadata": {},
   "source": [
    "- вид технического паспорта автомобиля; тип данных - object"
   ]
  },
  {
   "cell_type": "markdown",
   "metadata": {},
   "source": [
    "В отчете html видим есть 1 пропуск, заполним его самым частым значением"
   ]
  },
  {
   "cell_type": "code",
   "execution_count": 603,
   "metadata": {},
   "outputs": [],
   "source": [
    "data_full['ПТС'] = data_full['ПТС'].fillna(data_full['ПТС'].value_counts().head(1).index[0])"
   ]
  },
  {
   "cell_type": "code",
   "execution_count": 604,
   "metadata": {},
   "outputs": [
    {
     "data": {
      "text/plain": [
       "Оригинал    159915\n",
       "Дубликат     23331\n",
       "Name: ПТС, dtype: int64"
      ]
     },
     "execution_count": 604,
     "metadata": {},
     "output_type": "execute_result"
    }
   ],
   "source": [
    "data_full['ПТС'].value_counts()"
   ]
  },
  {
   "cell_type": "code",
   "execution_count": 605,
   "metadata": {},
   "outputs": [
    {
     "data": {
      "text/plain": [
       "<AxesSubplot:xlabel='ПТС', ylabel='count'>"
      ]
     },
     "execution_count": 605,
     "metadata": {},
     "output_type": "execute_result"
    },
    {
     "data": {
      "image/png": "[encoded data removed]",
      "text/plain": [
       "<Figure size 432x288 with 1 Axes>"
      ]
     },
     "metadata": {
      "needs_background": "light"
     },
     "output_type": "display_data"
    }
   ],
   "source": [
    "sns.countplot(x = 'ПТС', data = data_full)"
   ]
  },
  {
   "cell_type": "markdown",
   "metadata": {},
   "source": [
    "Видно, что оригинальных ПТС намного больше, чем дубликатов."
   ]
  },
  {
   "cell_type": "markdown",
   "metadata": {},
   "source": [
    "Здесь мы имеем бинарный признак. Дополнительных преобразований не требуется."
   ]
  },
  {
   "cell_type": "code",
   "execution_count": 606,
   "metadata": {},
   "outputs": [],
   "source": [
    "bin_cols.append('ПТС')"
   ]
  },
  {
   "cell_type": "markdown",
   "metadata": {},
   "source": [
    "## 15. Привод"
   ]
  },
  {
   "cell_type": "markdown",
   "metadata": {},
   "source": [
    "- вид привода автомобиля, тип данных - object"
   ]
  },
  {
   "cell_type": "code",
   "execution_count": 607,
   "metadata": {},
   "outputs": [
    {
     "data": {
      "text/plain": [
       "передний    108921\n",
       "полный       55811\n",
       "задний       18514\n",
       "Name: Привод, dtype: int64"
      ]
     },
     "execution_count": 607,
     "metadata": {},
     "output_type": "execute_result"
    }
   ],
   "source": [
    "data_full['Привод'].value_counts()"
   ]
  },
  {
   "cell_type": "markdown",
   "metadata": {},
   "source": [
    "Проверим признак на ниличие пустых значений"
   ]
  },
  {
   "cell_type": "code",
   "execution_count": 608,
   "metadata": {},
   "outputs": [
    {
     "data": {
      "text/plain": [
       "0"
      ]
     },
     "execution_count": 608,
     "metadata": {},
     "output_type": "execute_result"
    }
   ],
   "source": [
    "data_full.Привод.isna().sum()"
   ]
  },
  {
   "cell_type": "code",
   "execution_count": 609,
   "metadata": {},
   "outputs": [
    {
     "data": {
      "text/plain": [
       "<AxesSubplot:xlabel='Привод', ylabel='count'>"
      ]
     },
     "execution_count": 609,
     "metadata": {},
     "output_type": "execute_result"
    },
    {
     "data": {
      "image/png": "[encoded data removed]",
      "text/plain": [
       "<Figure size 432x288 with 1 Axes>"
      ]
     },
     "metadata": {
      "needs_background": "light"
     },
     "output_type": "display_data"
    }
   ],
   "source": [
    "sns.countplot(x='Привод', data=data_full)"
   ]
  },
  {
   "cell_type": "markdown",
   "metadata": {},
   "source": [
    "Признак категориальный. Дополнительная обработка не требуется"
   ]
  },
  {
   "cell_type": "code",
   "execution_count": 610,
   "metadata": {},
   "outputs": [],
   "source": [
    "cat_cols.append('Привод')"
   ]
  },
  {
   "cell_type": "markdown",
   "metadata": {},
   "source": [
    "## 16. Руль"
   ]
  },
  {
   "cell_type": "markdown",
   "metadata": {},
   "source": [
    "расположение рулевого колеса; тип данных - object"
   ]
  },
  {
   "cell_type": "code",
   "execution_count": 611,
   "metadata": {},
   "outputs": [
    {
     "data": {
      "text/plain": [
       "Левый     174678\n",
       "Правый      8568\n",
       "Name: Руль, dtype: int64"
      ]
     },
     "execution_count": 611,
     "metadata": {},
     "output_type": "execute_result"
    }
   ],
   "source": [
    "data_full['Руль'].value_counts()"
   ]
  },
  {
   "cell_type": "markdown",
   "metadata": {},
   "source": [
    "Проверим наличие пустых значений"
   ]
  },
  {
   "cell_type": "code",
   "execution_count": 612,
   "metadata": {},
   "outputs": [
    {
     "data": {
      "text/plain": [
       "0"
      ]
     },
     "execution_count": 612,
     "metadata": {},
     "output_type": "execute_result"
    }
   ],
   "source": [
    "data_full.Руль.isna().sum()"
   ]
  },
  {
   "cell_type": "code",
   "execution_count": 613,
   "metadata": {},
   "outputs": [
    {
     "data": {
      "text/plain": [
       "<AxesSubplot:xlabel='Руль', ylabel='count'>"
      ]
     },
     "execution_count": 613,
     "metadata": {},
     "output_type": "execute_result"
    },
    {
     "data": {
      "image/png": "[encoded data removed]",
      "text/plain": [
       "<Figure size 432x288 with 1 Axes>"
      ]
     },
     "metadata": {
      "needs_background": "light"
     },
     "output_type": "display_data"
    }
   ],
   "source": [
    "sns.countplot(x='Руль', data=data_full)"
   ]
  },
  {
   "cell_type": "markdown",
   "metadata": {},
   "source": [
    "Признак бинарный. Дополнительная обработка не требуется"
   ]
  },
  {
   "cell_type": "code",
   "execution_count": 614,
   "metadata": {},
   "outputs": [],
   "source": [
    "bin_cols.append('Руль')"
   ]
  },
  {
   "cell_type": "markdown",
   "metadata": {},
   "source": [
    "## 17. Состояние"
   ]
  },
  {
   "cell_type": "markdown",
   "metadata": {},
   "source": [
    "указатель необходимости ремонта автомобиля; тип данных - object"
   ]
  },
  {
   "cell_type": "code",
   "execution_count": 615,
   "metadata": {},
   "outputs": [
    {
     "data": {
      "text/plain": [
       "Не требует ремонта    183243\n",
       "Битый / не на ходу         3\n",
       "Name: Состояние, dtype: int64"
      ]
     },
     "execution_count": 615,
     "metadata": {},
     "output_type": "execute_result"
    }
   ],
   "source": [
    "data_full['Состояние'].value_counts()"
   ]
  },
  {
   "cell_type": "markdown",
   "metadata": {},
   "source": [
    "Проверим наличие пустых значений"
   ]
  },
  {
   "cell_type": "code",
   "execution_count": 616,
   "metadata": {},
   "outputs": [
    {
     "data": {
      "text/plain": [
       "0"
      ]
     },
     "execution_count": 616,
     "metadata": {},
     "output_type": "execute_result"
    }
   ],
   "source": [
    "data_full.Состояние.isna().sum()"
   ]
  },
  {
   "cell_type": "code",
   "execution_count": 617,
   "metadata": {},
   "outputs": [
    {
     "data": {
      "text/plain": [
       "<AxesSubplot:xlabel='Состояние', ylabel='count'>"
      ]
     },
     "execution_count": 617,
     "metadata": {},
     "output_type": "execute_result"
    },
    {
     "data": {
      "image/png": "[encoded data removed]",
      "text/plain": [
       "<Figure size 432x288 with 1 Axes>"
      ]
     },
     "metadata": {
      "needs_background": "light"
     },
     "output_type": "display_data"
    }
   ],
   "source": [
    "sns.countplot(x='Состояние', data=data_full)"
   ]
  },
  {
   "cell_type": "markdown",
   "metadata": {},
   "source": [
    "Признак бинарный. Дополнительная обработка не требуется"
   ]
  },
  {
   "cell_type": "code",
   "execution_count": 618,
   "metadata": {},
   "outputs": [],
   "source": [
    "bin_cols.append('Состояние')"
   ]
  },
  {
   "cell_type": "markdown",
   "metadata": {},
   "source": [
    "## 18. Таможня\n",
    "Признак одинаков для всех строк и не несет полезной информации. В модель не включаем.\n",
    "\n",
    "## 19 equipment_dict\n",
    "Данные этого поля дублируются в других полях датасета. Полезной информации не несет. В модель не включаем."
   ]
  },
  {
   "cell_type": "markdown",
   "metadata": {},
   "source": [
    "## 20. brand\n",
    "марка автомобиля; тип данных - object"
   ]
  },
  {
   "cell_type": "code",
   "execution_count": 619,
   "metadata": {},
   "outputs": [
    {
     "data": {
      "text/plain": [
       "LADA (ВАЗ)       46758\n",
       "Kia              17847\n",
       "Toyota           16130\n",
       "BMW              15307\n",
       "Nissan           13279\n",
       "Mercedes-Benz    11300\n",
       "Renault          10374\n",
       "Skoda             7304\n",
       "Mitsubishi        7078\n",
       "Audi              6429\n",
       "VOLKSWAGEN        4404\n",
       "NISSAN            4393\n",
       "MERCEDES          4180\n",
       "TOYOTA            3913\n",
       "AUDI              3421\n",
       "MITSUBISHI        2843\n",
       "SKODA             2741\n",
       "VOLVO             1463\n",
       "ГАЗ               1227\n",
       "HONDA             1150\n",
       "INFINITI           871\n",
       "LEXUS              834\n",
       "Name: brand, dtype: int64"
      ]
     },
     "execution_count": 619,
     "metadata": {},
     "output_type": "execute_result"
    }
   ],
   "source": [
    "data_full['brand'].value_counts()"
   ]
  },
  {
   "cell_type": "markdown",
   "metadata": {},
   "source": [
    "Имеются повторы. Обработаем данные"
   ]
  },
  {
   "cell_type": "code",
   "execution_count": 620,
   "metadata": {},
   "outputs": [],
   "source": [
    "# приведем названия марок авто к нижнему регистру\n",
    "data_full['brand'] = data_full['brand'].apply(lambda x: x.lower())\n",
    "\n",
    "# заменим название mercedes-benz на mercedes\n",
    "data_full['brand'] = data_full['brand'].apply(\n",
    "    lambda x: x.replace('mercedes-benz', 'mercedes'))"
   ]
  },
  {
   "cell_type": "markdown",
   "metadata": {},
   "source": [
    "Посмотрим результат"
   ]
  },
  {
   "cell_type": "code",
   "execution_count": 621,
   "metadata": {},
   "outputs": [
    {
     "data": {
      "text/plain": [
       "lada (ваз)    46758\n",
       "toyota        20043\n",
       "kia           17847\n",
       "nissan        17672\n",
       "mercedes      15480\n",
       "bmw           15307\n",
       "renault       10374\n",
       "skoda         10045\n",
       "mitsubishi     9921\n",
       "audi           9850\n",
       "volkswagen     4404\n",
       "volvo          1463\n",
       "газ            1227\n",
       "honda          1150\n",
       "infiniti        871\n",
       "lexus           834\n",
       "Name: brand, dtype: int64"
      ]
     },
     "execution_count": 621,
     "metadata": {},
     "output_type": "execute_result"
    }
   ],
   "source": [
    "data_full['brand'].value_counts()"
   ]
  },
  {
   "cell_type": "markdown",
   "metadata": {},
   "source": [
    "Признак категориальный. Дополнительная обработка не требуется."
   ]
  },
  {
   "cell_type": "code",
   "execution_count": 622,
   "metadata": {},
   "outputs": [],
   "source": [
    "cat_cols.append('brand')"
   ]
  },
  {
   "cell_type": "markdown",
   "metadata": {},
   "source": [
    "## 21. model_name\n",
    "модель автомобиля; тип данных - object"
   ]
  },
  {
   "cell_type": "code",
   "execution_count": 623,
   "metadata": {},
   "outputs": [
    {
     "data": {
      "text/plain": [
       "Granta           7084\n",
       "Priora           5393\n",
       "Rio              5259\n",
       "2114             4322\n",
       "Kalina           3771\n",
       "                 ... \n",
       "SCEPTER_SEDAN       1\n",
       "Clarus              1\n",
       "VANEO               1\n",
       "Xterra              1\n",
       "Z1                  1\n",
       "Name: model_name, Length: 982, dtype: int64"
      ]
     },
     "execution_count": 623,
     "metadata": {},
     "output_type": "execute_result"
    }
   ],
   "source": [
    "data_full['model_name'].value_counts()"
   ]
  },
  {
   "cell_type": "markdown",
   "metadata": {},
   "source": [
    "Обработаем данные"
   ]
  },
  {
   "cell_type": "code",
   "execution_count": 624,
   "metadata": {},
   "outputs": [
    {
     "data": {
      "text/plain": [
       "granta             7084\n",
       "priora             5393\n",
       "rio                5259\n",
       "octavia            4813\n",
       "2114               4322\n",
       "                   ... \n",
       "cavalier              1\n",
       "fox                   1\n",
       "lancer_ralliart       1\n",
       "w114                  1\n",
       "torneo                1\n",
       "Name: model_name, Length: 821, dtype: int64"
      ]
     },
     "execution_count": 624,
     "metadata": {},
     "output_type": "execute_result"
    }
   ],
   "source": [
    "# приведем значения к нижнему регистру и удажим лишние пробелы\n",
    "data_full['model_name'] = data_full['model_name'].apply(\n",
    "    lambda x: x.lower().strip())\n",
    "data_full['model_name'].value_counts()"
   ]
  },
  {
   "cell_type": "markdown",
   "metadata": {},
   "source": [
    "Число уникальных значений немного уменьшилось\n",
    "\n",
    "Признак категориальный."
   ]
  },
  {
   "cell_type": "code",
   "execution_count": 625,
   "metadata": {},
   "outputs": [],
   "source": [
    "cat_cols.append('model_name')"
   ]
  },
  {
   "cell_type": "markdown",
   "metadata": {},
   "source": [
    "## 22. name\n",
    "полная информация о двигателе; тип данных - object\n",
    "\n",
    "Информация в данном поле дублирует информацию в других полях. В модель не включаем.\n",
    "\n",
    "## 23. sample_\n",
    "признак включения в тестовый датасет"
   ]
  },
  {
   "cell_type": "markdown",
   "metadata": {},
   "source": [
    "## 24. price"
   ]
  },
  {
   "cell_type": "markdown",
   "metadata": {},
   "source": [
    "- стоимость автомобиля. тип данных - float"
   ]
  },
  {
   "cell_type": "code",
   "execution_count": 626,
   "metadata": {},
   "outputs": [
    {
     "data": {
      "image/png": "[encoded data removed]",
      "text/plain": [
       "<Figure size 432x288 with 1 Axes>"
      ]
     },
     "execution_count": 626,
     "metadata": {},
     "output_type": "execute_result"
    },
    {
     "data": {
      "image/png": "[encoded data removed]",
      "text/plain": [
       "<Figure size 432x288 with 1 Axes>"
      ]
     },
     "metadata": {
      "needs_background": "light"
     },
     "output_type": "display_data"
    }
   ],
   "source": [
    "sns.distplot(data_full[data_full['sample_']==0]['price']).get_figure()"
   ]
  },
  {
   "cell_type": "markdown",
   "metadata": {},
   "source": [
    "На распределении визуально заметны выбросы, но они не противоречат здравому смыслу, поэтому их можно оставить."
   ]
  },
  {
   "cell_type": "markdown",
   "metadata": {},
   "source": [
    "## Оставим в датасете только отобранные признаки"
   ]
  },
  {
   "cell_type": "code",
   "execution_count": 627,
   "metadata": {},
   "outputs": [],
   "source": [
    "data_full = data_full[cat_cols + bin_cols + num_cols + ['price', 'sample_']]"
   ]
  },
  {
   "cell_type": "markdown",
   "metadata": {},
   "source": [
    "# Обработка и анализ числовых признаков"
   ]
  },
  {
   "cell_type": "markdown",
   "metadata": {},
   "source": [
    "Посмотрим на все числовые признаки."
   ]
  },
  {
   "cell_type": "code",
   "execution_count": 628,
   "metadata": {},
   "outputs": [
    {
     "data": {
      "text/html": [
       "<div>\n",
       "<style scoped>\n",
       "    .dataframe tbody tr th:only-of-type {\n",
       "        vertical-align: middle;\n",
       "    }\n",
       "\n",
       "    .dataframe tbody tr th {\n",
       "        vertical-align: top;\n",
       "    }\n",
       "\n",
       "    .dataframe thead th {\n",
       "        text-align: right;\n",
       "    }\n",
       "</style>\n",
       "<table border=\"1\" class=\"dataframe\">\n",
       "  <thead>\n",
       "    <tr style=\"text-align: right;\">\n",
       "      <th></th>\n",
       "      <th>description_len</th>\n",
       "      <th>engineDisplacement</th>\n",
       "      <th>enginePower</th>\n",
       "      <th>mileage</th>\n",
       "      <th>productionDate</th>\n",
       "      <th>feature_mileage</th>\n",
       "      <th>tax</th>\n",
       "      <th>price</th>\n",
       "    </tr>\n",
       "  </thead>\n",
       "  <tbody>\n",
       "    <tr>\n",
       "      <th>34686</th>\n",
       "      <td>155</td>\n",
       "      <td>3.0</td>\n",
       "      <td>218.0</td>\n",
       "      <td>215000</td>\n",
       "      <td>2005</td>\n",
       "      <td>0.001384</td>\n",
       "      <td>14170.0</td>\n",
       "      <td>545000.0</td>\n",
       "    </tr>\n",
       "    <tr>\n",
       "      <th>34687</th>\n",
       "      <td>538</td>\n",
       "      <td>4.1</td>\n",
       "      <td>326.0</td>\n",
       "      <td>117000</td>\n",
       "      <td>2008</td>\n",
       "      <td>0.002094</td>\n",
       "      <td>48900.0</td>\n",
       "      <td>1470000.0</td>\n",
       "    </tr>\n",
       "    <tr>\n",
       "      <th>34688</th>\n",
       "      <td>380</td>\n",
       "      <td>2.0</td>\n",
       "      <td>225.0</td>\n",
       "      <td>54500</td>\n",
       "      <td>2014</td>\n",
       "      <td>0.002569</td>\n",
       "      <td>16875.0</td>\n",
       "      <td>1830000.0</td>\n",
       "    </tr>\n",
       "    <tr>\n",
       "      <th>34689</th>\n",
       "      <td>425</td>\n",
       "      <td>2.7</td>\n",
       "      <td>250.0</td>\n",
       "      <td>200000</td>\n",
       "      <td>2004</td>\n",
       "      <td>0.001575</td>\n",
       "      <td>37500.0</td>\n",
       "      <td>390000.0</td>\n",
       "    </tr>\n",
       "    <tr>\n",
       "      <th>34690</th>\n",
       "      <td>419</td>\n",
       "      <td>3.0</td>\n",
       "      <td>239.0</td>\n",
       "      <td>225000</td>\n",
       "      <td>2010</td>\n",
       "      <td>0.000933</td>\n",
       "      <td>17925.0</td>\n",
       "      <td>990000.0</td>\n",
       "    </tr>\n",
       "    <tr>\n",
       "      <th>...</th>\n",
       "      <td>...</td>\n",
       "      <td>...</td>\n",
       "      <td>...</td>\n",
       "      <td>...</td>\n",
       "      <td>...</td>\n",
       "      <td>...</td>\n",
       "      <td>...</td>\n",
       "      <td>...</td>\n",
       "    </tr>\n",
       "    <tr>\n",
       "      <th>184798</th>\n",
       "      <td>126</td>\n",
       "      <td>1.6</td>\n",
       "      <td>106.0</td>\n",
       "      <td>2</td>\n",
       "      <td>2021</td>\n",
       "      <td>8.750000</td>\n",
       "      <td>2650.0</td>\n",
       "      <td>820000.0</td>\n",
       "    </tr>\n",
       "    <tr>\n",
       "      <th>184799</th>\n",
       "      <td>95</td>\n",
       "      <td>1.6</td>\n",
       "      <td>106.0</td>\n",
       "      <td>570</td>\n",
       "      <td>2021</td>\n",
       "      <td>0.030702</td>\n",
       "      <td>2650.0</td>\n",
       "      <td>812900.0</td>\n",
       "    </tr>\n",
       "    <tr>\n",
       "      <th>184800</th>\n",
       "      <td>438</td>\n",
       "      <td>1.6</td>\n",
       "      <td>106.0</td>\n",
       "      <td>4000</td>\n",
       "      <td>2021</td>\n",
       "      <td>0.004375</td>\n",
       "      <td>2650.0</td>\n",
       "      <td>835000.0</td>\n",
       "    </tr>\n",
       "    <tr>\n",
       "      <th>184801</th>\n",
       "      <td>460</td>\n",
       "      <td>1.6</td>\n",
       "      <td>106.0</td>\n",
       "      <td>100</td>\n",
       "      <td>2021</td>\n",
       "      <td>0.175000</td>\n",
       "      <td>2650.0</td>\n",
       "      <td>835000.0</td>\n",
       "    </tr>\n",
       "    <tr>\n",
       "      <th>184802</th>\n",
       "      <td>1030</td>\n",
       "      <td>1.6</td>\n",
       "      <td>106.0</td>\n",
       "      <td>1</td>\n",
       "      <td>2021</td>\n",
       "      <td>17.500000</td>\n",
       "      <td>2650.0</td>\n",
       "      <td>715900.0</td>\n",
       "    </tr>\n",
       "  </tbody>\n",
       "</table>\n",
       "<p>148560 rows × 8 columns</p>\n",
       "</div>"
      ],
      "text/plain": [
       "        description_len  engineDisplacement  enginePower  mileage  \\\n",
       "34686               155                 3.0        218.0   215000   \n",
       "34687               538                 4.1        326.0   117000   \n",
       "34688               380                 2.0        225.0    54500   \n",
       "34689               425                 2.7        250.0   200000   \n",
       "34690               419                 3.0        239.0   225000   \n",
       "...                 ...                 ...          ...      ...   \n",
       "184798              126                 1.6        106.0        2   \n",
       "184799               95                 1.6        106.0      570   \n",
       "184800              438                 1.6        106.0     4000   \n",
       "184801              460                 1.6        106.0      100   \n",
       "184802             1030                 1.6        106.0        1   \n",
       "\n",
       "        productionDate  feature_mileage      tax      price  \n",
       "34686             2005         0.001384  14170.0   545000.0  \n",
       "34687             2008         0.002094  48900.0  1470000.0  \n",
       "34688             2014         0.002569  16875.0  1830000.0  \n",
       "34689             2004         0.001575  37500.0   390000.0  \n",
       "34690             2010         0.000933  17925.0   990000.0  \n",
       "...                ...              ...      ...        ...  \n",
       "184798            2021         8.750000   2650.0   820000.0  \n",
       "184799            2021         0.030702   2650.0   812900.0  \n",
       "184800            2021         0.004375   2650.0   835000.0  \n",
       "184801            2021         0.175000   2650.0   835000.0  \n",
       "184802            2021        17.500000   2650.0   715900.0  \n",
       "\n",
       "[148560 rows x 8 columns]"
      ]
     },
     "execution_count": 628,
     "metadata": {},
     "output_type": "execute_result"
    }
   ],
   "source": [
    "data_full[data_full['sample_'] == 0][num_cols + ['price']]"
   ]
  },
  {
   "cell_type": "markdown",
   "metadata": {},
   "source": [
    "Постороим матрицу корреляций числовых переменных друг с другом и с целевой переменной price."
   ]
  },
  {
   "cell_type": "code",
   "execution_count": 629,
   "metadata": {},
   "outputs": [
    {
     "data": {
      "text/plain": [
       "<AxesSubplot:>"
      ]
     },
     "execution_count": 629,
     "metadata": {},
     "output_type": "execute_result"
    },
    {
     "data": {
      "image/png": "[encoded data removed]",
      "text/plain": [
       "<Figure size 864x504 with 2 Axes>"
      ]
     },
     "metadata": {
      "needs_background": "light"
     },
     "output_type": "display_data"
    }
   ],
   "source": [
    "plt.figure(figsize=(12,7))\n",
    "sns.heatmap(data_full[data_full['sample_'] == 0][num_cols].corr(), annot=True)"
   ]
  },
  {
   "cell_type": "markdown",
   "metadata": {},
   "source": [
    "Здесь мы видим, что сильную корреляцию между собой имеют признаки engineDisplacement (объем двигателя) и enginePower (мощность двигателя) - 0.87, а также вновь созданный признак tax c engineDisplacement (объем двигателя) - 0,83 и enginePower (мощность двигателя) - 0.94. Поэтому удаляем один признак - engineDisplacement (объем двигателя)."
   ]
  },
  {
   "cell_type": "code",
   "execution_count": 630,
   "metadata": {},
   "outputs": [],
   "source": [
    "data_full = data_full.drop(['engineDisplacement'], axis = 1)"
   ]
  },
  {
   "cell_type": "markdown",
   "metadata": {},
   "source": [
    "Также удалим его из списка числовых переменных num_cols."
   ]
  },
  {
   "cell_type": "code",
   "execution_count": 631,
   "metadata": {},
   "outputs": [],
   "source": [
    "num_cols = num_cols[:1] + num_cols[2:]"
   ]
  },
  {
   "cell_type": "markdown",
   "metadata": {},
   "source": [
    "Наблюдается достаточно высокая корреляция между productionDate (год производства автомобиля) и mileage (пробег автомобиля) - 0.66. Но здесь можно оставить оба признака."
   ]
  },
  {
   "cell_type": "markdown",
   "metadata": {},
   "source": [
    "Корреляция среди обучающих признаков с целевой переменной price (цена автомобиля) самая высокая у enginePower (мощность двигателя) - 0.65, но мы его оставляем."
   ]
  },
  {
   "cell_type": "markdown",
   "metadata": {},
   "source": [
    "Оценим значимость числовых переменных."
   ]
  },
  {
   "cell_type": "code",
   "execution_count": 632,
   "metadata": {},
   "outputs": [
    {
     "data": {
      "text/plain": [
       "<AxesSubplot:>"
      ]
     },
     "execution_count": 632,
     "metadata": {},
     "output_type": "execute_result"
    },
    {
     "data": {
      "image/png": "[encoded data removed]",
      "text/plain": [
       "<Figure size 432x288 with 1 Axes>"
      ]
     },
     "metadata": {
      "needs_background": "light"
     },
     "output_type": "display_data"
    }
   ],
   "source": [
    "imp_num = Series(f_classif(data_full[num_cols][data_full['sample_'] == 0], data_full[data_full['sample_'] == 0]['price'])[0], \n",
    "                 index = num_cols)\n",
    "imp_num.sort_values(inplace = True)\n",
    "imp_num.plot(kind = 'barh')"
   ]
  },
  {
   "cell_type": "markdown",
   "metadata": {},
   "source": [
    "Из графика видим. что наиболее важный признак для предсказания - это enginePower (мощность двигателя), а наименее - feature_mileage."
   ]
  },
  {
   "cell_type": "markdown",
   "metadata": {},
   "source": [
    "# Обработка и анализ бинарных признаков\n",
    "Преобразуем отобранные бинарные признаки"
   ]
  },
  {
   "cell_type": "code",
   "execution_count": 633,
   "metadata": {},
   "outputs": [],
   "source": [
    "label_encoder = LabelEncoder()\n",
    "for col in bin_cols:\n",
    "    data_full[col] = label_encoder.fit_transform(data_full[col])"
   ]
  },
  {
   "cell_type": "markdown",
   "metadata": {},
   "source": [
    "Проверим, что все корректно преобразовалось"
   ]
  },
  {
   "cell_type": "code",
   "execution_count": 634,
   "metadata": {},
   "outputs": [
    {
     "data": {
      "text/html": [
       "<div>\n",
       "<style scoped>\n",
       "    .dataframe tbody tr th:only-of-type {\n",
       "        vertical-align: middle;\n",
       "    }\n",
       "\n",
       "    .dataframe tbody tr th {\n",
       "        vertical-align: top;\n",
       "    }\n",
       "\n",
       "    .dataframe thead th {\n",
       "        text-align: right;\n",
       "    }\n",
       "</style>\n",
       "<table border=\"1\" class=\"dataframe\">\n",
       "  <thead>\n",
       "    <tr style=\"text-align: right;\">\n",
       "      <th></th>\n",
       "      <th>description_is</th>\n",
       "      <th>real_photo</th>\n",
       "      <th>ПТС</th>\n",
       "      <th>Руль</th>\n",
       "      <th>Состояние</th>\n",
       "    </tr>\n",
       "  </thead>\n",
       "  <tbody>\n",
       "    <tr>\n",
       "      <th>0</th>\n",
       "      <td>0</td>\n",
       "      <td>1</td>\n",
       "      <td>1</td>\n",
       "      <td>0</td>\n",
       "      <td>1</td>\n",
       "    </tr>\n",
       "    <tr>\n",
       "      <th>1</th>\n",
       "      <td>0</td>\n",
       "      <td>1</td>\n",
       "      <td>1</td>\n",
       "      <td>0</td>\n",
       "      <td>1</td>\n",
       "    </tr>\n",
       "    <tr>\n",
       "      <th>2</th>\n",
       "      <td>0</td>\n",
       "      <td>1</td>\n",
       "      <td>1</td>\n",
       "      <td>0</td>\n",
       "      <td>1</td>\n",
       "    </tr>\n",
       "    <tr>\n",
       "      <th>3</th>\n",
       "      <td>0</td>\n",
       "      <td>1</td>\n",
       "      <td>1</td>\n",
       "      <td>0</td>\n",
       "      <td>1</td>\n",
       "    </tr>\n",
       "    <tr>\n",
       "      <th>4</th>\n",
       "      <td>0</td>\n",
       "      <td>1</td>\n",
       "      <td>1</td>\n",
       "      <td>0</td>\n",
       "      <td>1</td>\n",
       "    </tr>\n",
       "  </tbody>\n",
       "</table>\n",
       "</div>"
      ],
      "text/plain": [
       "   description_is  real_photo  ПТС  Руль  Состояние\n",
       "0               0           1    1     0          1\n",
       "1               0           1    1     0          1\n",
       "2               0           1    1     0          1\n",
       "3               0           1    1     0          1\n",
       "4               0           1    1     0          1"
      ]
     },
     "execution_count": 634,
     "metadata": {},
     "output_type": "execute_result"
    }
   ],
   "source": [
    "data_full[bin_cols].head(5)"
   ]
  },
  {
   "cell_type": "code",
   "execution_count": 635,
   "metadata": {},
   "outputs": [
    {
     "data": {
      "text/plain": [
       "0    183221\n",
       "1        25\n",
       "Name: description_is, dtype: int64"
      ]
     },
     "metadata": {},
     "output_type": "display_data"
    },
    {
     "data": {
      "text/plain": [
       "1    153667\n",
       "0     29579\n",
       "Name: real_photo, dtype: int64"
      ]
     },
     "metadata": {},
     "output_type": "display_data"
    },
    {
     "data": {
      "text/plain": [
       "1    159915\n",
       "0     23331\n",
       "Name: ПТС, dtype: int64"
      ]
     },
     "metadata": {},
     "output_type": "display_data"
    },
    {
     "data": {
      "text/plain": [
       "0    174678\n",
       "1      8568\n",
       "Name: Руль, dtype: int64"
      ]
     },
     "metadata": {},
     "output_type": "display_data"
    },
    {
     "data": {
      "text/plain": [
       "1    183243\n",
       "0         3\n",
       "Name: Состояние, dtype: int64"
      ]
     },
     "metadata": {},
     "output_type": "display_data"
    }
   ],
   "source": [
    "for i in bin_cols:\n",
    "    display(data_full[i].value_counts())"
   ]
  },
  {
   "cell_type": "markdown",
   "metadata": {},
   "source": [
    "Посмотрим значимость"
   ]
  },
  {
   "cell_type": "code",
   "execution_count": 636,
   "metadata": {},
   "outputs": [
    {
     "data": {
      "text/plain": [
       "<AxesSubplot:>"
      ]
     },
     "execution_count": 636,
     "metadata": {},
     "output_type": "execute_result"
    },
    {
     "data": {
      "image/png": "[encoded data removed]",
      "text/plain": [
       "<Figure size 432x288 with 1 Axes>"
      ]
     },
     "metadata": {
      "needs_background": "light"
     },
     "output_type": "display_data"
    }
   ],
   "source": [
    "imp_cat = Series(mutual_info_classif(data_full[data_full.sample_ == 0][bin_cols], data_full[data_full.sample_ == 0]['price'],\n",
    "                                     discrete_features =True), index = bin_cols)\n",
    "imp_cat.sort_values(inplace = True)\n",
    "imp_cat.plot(kind = 'barh')"
   ]
  },
  {
   "cell_type": "markdown",
   "metadata": {},
   "source": [
    "На цену меньше всего влияет состояние, что противоречит здравому смыслу... Видимо сказывается несбалансированность этого признака, почти все объявления с одним значением. А самый больший вклад в цену вносит наличие реальной фотографии."
   ]
  },
  {
   "cell_type": "markdown",
   "metadata": {},
   "source": [
    "# Обработка и анализ категориальных признаков"
   ]
  },
  {
   "cell_type": "code",
   "execution_count": 637,
   "metadata": {},
   "outputs": [
    {
     "data": {
      "text/html": [
       "<div>\n",
       "<style scoped>\n",
       "    .dataframe tbody tr th:only-of-type {\n",
       "        vertical-align: middle;\n",
       "    }\n",
       "\n",
       "    .dataframe tbody tr th {\n",
       "        vertical-align: top;\n",
       "    }\n",
       "\n",
       "    .dataframe thead th {\n",
       "        text-align: right;\n",
       "    }\n",
       "</style>\n",
       "<table border=\"1\" class=\"dataframe\">\n",
       "  <thead>\n",
       "    <tr style=\"text-align: right;\">\n",
       "      <th></th>\n",
       "      <th>bodyClass</th>\n",
       "      <th>color</th>\n",
       "      <th>fuelType</th>\n",
       "      <th>vehicleTransmission</th>\n",
       "      <th>Владельцы</th>\n",
       "      <th>Привод</th>\n",
       "      <th>brand</th>\n",
       "      <th>model_name</th>\n",
       "    </tr>\n",
       "  </thead>\n",
       "  <tbody>\n",
       "    <tr>\n",
       "      <th>0</th>\n",
       "      <td>хэтчбек</td>\n",
       "      <td>синий</td>\n",
       "      <td>бензин</td>\n",
       "      <td>роботизированная</td>\n",
       "      <td>3 или более</td>\n",
       "      <td>передний</td>\n",
       "      <td>skoda</td>\n",
       "      <td>octavia</td>\n",
       "    </tr>\n",
       "    <tr>\n",
       "      <th>1</th>\n",
       "      <td>хэтчбек</td>\n",
       "      <td>чёрный</td>\n",
       "      <td>бензин</td>\n",
       "      <td>механическая</td>\n",
       "      <td>1 владелец</td>\n",
       "      <td>передний</td>\n",
       "      <td>skoda</td>\n",
       "      <td>octavia</td>\n",
       "    </tr>\n",
       "    <tr>\n",
       "      <th>2</th>\n",
       "      <td>хэтчбек</td>\n",
       "      <td>серый</td>\n",
       "      <td>бензин</td>\n",
       "      <td>роботизированная</td>\n",
       "      <td>1 владелец</td>\n",
       "      <td>передний</td>\n",
       "      <td>skoda</td>\n",
       "      <td>superb</td>\n",
       "    </tr>\n",
       "    <tr>\n",
       "      <th>3</th>\n",
       "      <td>хэтчбек</td>\n",
       "      <td>коричневый</td>\n",
       "      <td>бензин</td>\n",
       "      <td>автоматическая</td>\n",
       "      <td>1 владелец</td>\n",
       "      <td>передний</td>\n",
       "      <td>skoda</td>\n",
       "      <td>octavia</td>\n",
       "    </tr>\n",
       "    <tr>\n",
       "      <th>4</th>\n",
       "      <td>хэтчбек</td>\n",
       "      <td>белый</td>\n",
       "      <td>бензин</td>\n",
       "      <td>автоматическая</td>\n",
       "      <td>1 владелец</td>\n",
       "      <td>передний</td>\n",
       "      <td>skoda</td>\n",
       "      <td>octavia</td>\n",
       "    </tr>\n",
       "    <tr>\n",
       "      <th>...</th>\n",
       "      <td>...</td>\n",
       "      <td>...</td>\n",
       "      <td>...</td>\n",
       "      <td>...</td>\n",
       "      <td>...</td>\n",
       "      <td>...</td>\n",
       "      <td>...</td>\n",
       "      <td>...</td>\n",
       "    </tr>\n",
       "    <tr>\n",
       "      <th>184798</th>\n",
       "      <td>седан</td>\n",
       "      <td>белый</td>\n",
       "      <td>бензин</td>\n",
       "      <td>механическая</td>\n",
       "      <td>1 владелец</td>\n",
       "      <td>передний</td>\n",
       "      <td>lada (ваз)</td>\n",
       "      <td>vesta</td>\n",
       "    </tr>\n",
       "    <tr>\n",
       "      <th>184799</th>\n",
       "      <td>седан</td>\n",
       "      <td>серый</td>\n",
       "      <td>бензин</td>\n",
       "      <td>механическая</td>\n",
       "      <td>1 владелец</td>\n",
       "      <td>передний</td>\n",
       "      <td>lada (ваз)</td>\n",
       "      <td>vesta</td>\n",
       "    </tr>\n",
       "    <tr>\n",
       "      <th>184800</th>\n",
       "      <td>универсал</td>\n",
       "      <td>белый</td>\n",
       "      <td>бензин</td>\n",
       "      <td>механическая</td>\n",
       "      <td>1 владелец</td>\n",
       "      <td>передний</td>\n",
       "      <td>lada (ваз)</td>\n",
       "      <td>largus</td>\n",
       "    </tr>\n",
       "    <tr>\n",
       "      <th>184801</th>\n",
       "      <td>седан</td>\n",
       "      <td>белый</td>\n",
       "      <td>бензин</td>\n",
       "      <td>механическая</td>\n",
       "      <td>1 владелец</td>\n",
       "      <td>передний</td>\n",
       "      <td>lada (ваз)</td>\n",
       "      <td>vesta</td>\n",
       "    </tr>\n",
       "    <tr>\n",
       "      <th>184802</th>\n",
       "      <td>седан</td>\n",
       "      <td>серебристый</td>\n",
       "      <td>бензин</td>\n",
       "      <td>механическая</td>\n",
       "      <td>1 владелец</td>\n",
       "      <td>передний</td>\n",
       "      <td>lada (ваз)</td>\n",
       "      <td>vesta</td>\n",
       "    </tr>\n",
       "  </tbody>\n",
       "</table>\n",
       "<p>183246 rows × 8 columns</p>\n",
       "</div>"
      ],
      "text/plain": [
       "        bodyClass        color fuelType vehicleTransmission    Владельцы  \\\n",
       "0         хэтчбек        синий   бензин    роботизированная  3 или более   \n",
       "1         хэтчбек       чёрный   бензин        механическая   1 владелец   \n",
       "2         хэтчбек        серый   бензин    роботизированная   1 владелец   \n",
       "3         хэтчбек   коричневый   бензин      автоматическая   1 владелец   \n",
       "4         хэтчбек        белый   бензин      автоматическая   1 владелец   \n",
       "...           ...          ...      ...                 ...          ...   \n",
       "184798      седан        белый   бензин        механическая   1 владелец   \n",
       "184799      седан        серый   бензин        механическая   1 владелец   \n",
       "184800  универсал        белый   бензин        механическая   1 владелец   \n",
       "184801      седан        белый   бензин        механическая   1 владелец   \n",
       "184802      седан  серебристый   бензин        механическая   1 владелец   \n",
       "\n",
       "          Привод       brand model_name  \n",
       "0       передний       skoda    octavia  \n",
       "1       передний       skoda    octavia  \n",
       "2       передний       skoda     superb  \n",
       "3       передний       skoda    octavia  \n",
       "4       передний       skoda    octavia  \n",
       "...          ...         ...        ...  \n",
       "184798  передний  lada (ваз)      vesta  \n",
       "184799  передний  lada (ваз)      vesta  \n",
       "184800  передний  lada (ваз)     largus  \n",
       "184801  передний  lada (ваз)      vesta  \n",
       "184802  передний  lada (ваз)      vesta  \n",
       "\n",
       "[183246 rows x 8 columns]"
      ]
     },
     "execution_count": 637,
     "metadata": {},
     "output_type": "execute_result"
    }
   ],
   "source": [
    "#преобразование, значимость, выводы. Label encoding\n",
    "data_full[cat_cols]"
   ]
  },
  {
   "cell_type": "markdown",
   "metadata": {},
   "source": [
    "Сделаем копию датасета"
   ]
  },
  {
   "cell_type": "code",
   "execution_count": 638,
   "metadata": {},
   "outputs": [],
   "source": [
    "df = data_full.copy()"
   ]
  },
  {
   "cell_type": "markdown",
   "metadata": {},
   "source": [
    "Произведем Label-encoding категориальных переменных"
   ]
  },
  {
   "cell_type": "code",
   "execution_count": 639,
   "metadata": {},
   "outputs": [],
   "source": [
    "label_encoder = LabelEncoder()\n",
    "for column in cat_cols:\n",
    "    df[column] = label_encoder.fit_transform(df[column])"
   ]
  },
  {
   "cell_type": "markdown",
   "metadata": {},
   "source": [
    "Посмотрим значимость категориальных переменных"
   ]
  },
  {
   "cell_type": "code",
   "execution_count": 640,
   "metadata": {},
   "outputs": [
    {
     "data": {
      "text/plain": [
       "<AxesSubplot:>"
      ]
     },
     "execution_count": 640,
     "metadata": {},
     "output_type": "execute_result"
    },
    {
     "data": {
      "image/png": "[encoded data removed]",
      "text/plain": [
       "<Figure size 432x288 with 1 Axes>"
      ]
     },
     "metadata": {
      "needs_background": "light"
     },
     "output_type": "display_data"
    }
   ],
   "source": [
    "imp_cat = Series(mutual_info_classif(df[data_full.sample_ == 0][cat_cols], df[data_full.sample_ == 0]['price'],\n",
    "                                     discrete_features =True), index = cat_cols)\n",
    "imp_cat.sort_values(inplace = True)\n",
    "imp_cat.plot(kind = 'barh')"
   ]
  },
  {
   "cell_type": "markdown",
   "metadata": {},
   "source": [
    "Как видно из графиков, наибольшее влияние на целевую переменную оказывают марка и модель автомобиля. Большое влияние модели автомобиля обусловлено относительно небольшим числом записей для каждой модели."
   ]
  },
  {
   "cell_type": "markdown",
   "metadata": {},
   "source": [
    "Проверим, есть ли статистическая разница в распределении оценок по номинативным признакам, с помощью теста Стьюдента. Проверим нулевую гипотезу о том, что распределения цены по различным параметрам неразличимы"
   ]
  },
  {
   "cell_type": "code",
   "execution_count": 641,
   "metadata": {},
   "outputs": [
    {
     "name": "stdout",
     "output_type": "stream",
     "text": [
      "Найдены статистически значимые различия для колонки model_name\n"
     ]
    }
   ],
   "source": [
    "def get_stat_dif(column):\n",
    "    cols = df.loc[:, column].value_counts()\n",
    "    combinations_all = list(combinations(cols, 2))\n",
    "    for comb in combinations_all:\n",
    "        if ttest_ind(df.loc[df.loc[:, column] == comb[0], 'price'], \n",
    "                        df.loc[df.loc[:, column] == comb[1], 'price']).pvalue \\\n",
    "            <= 0.05/len(combinations_all): # Учли поправку Бонферони\n",
    "            print('Найдены статистически значимые различия для колонки', column)\n",
    "            break\n",
    "            \n",
    "for col in cat_cols:\n",
    "    get_stat_dif(col)"
   ]
  },
  {
   "cell_type": "markdown",
   "metadata": {},
   "source": [
    "Так как число уникальных значений для поля model_name очень большое не включаем его в модель"
   ]
  },
  {
   "cell_type": "code",
   "execution_count": 642,
   "metadata": {},
   "outputs": [],
   "source": [
    "cat_cols.remove('model_name')\n",
    "data_full.drop(columns=['model_name'], inplace=True)"
   ]
  },
  {
   "cell_type": "markdown",
   "metadata": {},
   "source": [
    "Создадим дамми переменные"
   ]
  },
  {
   "cell_type": "code",
   "execution_count": 643,
   "metadata": {},
   "outputs": [],
   "source": [
    "data_full = pd.get_dummies(data_full, columns = cat_cols)"
   ]
  },
  {
   "cell_type": "code",
   "execution_count": 644,
   "metadata": {},
   "outputs": [],
   "source": [
    "first_index_cat_cols = data_full.columns.to_list().index('sample_')+1\n",
    "cat_cols = data_full.columns[first_index_cat_cols:].to_list()"
   ]
  },
  {
   "cell_type": "markdown",
   "metadata": {},
   "source": [
    "Выгрузим данные в csv для дальнейшего обучения"
   ]
  },
  {
   "cell_type": "code",
   "execution_count": 645,
   "metadata": {},
   "outputs": [],
   "source": [
    "data_full.to_csv(os.path.join(os.getcwd(),'input/data_car_eda.csv'), index = False)"
   ]
  },
  {
   "cell_type": "markdown",
   "metadata": {},
   "source": [
    "Выгрузим названия колонок по типам"
   ]
  },
  {
   "cell_type": "code",
   "execution_count": 646,
   "metadata": {},
   "outputs": [],
   "source": [
    "df_columns = pd.DataFrame()\n",
    "\n",
    "for col in num_cols:\n",
    "    new_row = {'column_type': 'num', 'column_name': col} \n",
    "    df_columns = df_columns.append(new_row, ignore_index=True)\n",
    "\n",
    "for col in bin_cols:\n",
    "    new_row = {'column_type': 'bin', 'column_name': col} \n",
    "    df_columns = df_columns.append(new_row, ignore_index=True)\n",
    "\n",
    "for col in cat_cols:\n",
    "    new_row = {'column_type': 'cat', 'column_name': col} \n",
    "    df_columns = df_columns.append(new_row, ignore_index=True)\n",
    "    \n",
    "df_columns.to_csv(os.path.join(os.getcwd(),'input/data_full_columns.csv'), index = False)"
   ]
  },
  {
   "cell_type": "code",
   "execution_count": 647,
   "metadata": {},
   "outputs": [
    {
     "data": {
      "text/html": [
       "<div>\n",
       "<style scoped>\n",
       "    .dataframe tbody tr th:only-of-type {\n",
       "        vertical-align: middle;\n",
       "    }\n",
       "\n",
       "    .dataframe tbody tr th {\n",
       "        vertical-align: top;\n",
       "    }\n",
       "\n",
       "    .dataframe thead th {\n",
       "        text-align: right;\n",
       "    }\n",
       "</style>\n",
       "<table border=\"1\" class=\"dataframe\">\n",
       "  <thead>\n",
       "    <tr style=\"text-align: right;\">\n",
       "      <th></th>\n",
       "      <th>bodyClass_other</th>\n",
       "      <th>bodyClass_внедорожник</th>\n",
       "      <th>bodyClass_вэн</th>\n",
       "      <th>bodyClass_кабрио</th>\n",
       "      <th>bodyClass_пикап</th>\n",
       "      <th>bodyClass_седан</th>\n",
       "      <th>bodyClass_универсал</th>\n",
       "      <th>bodyClass_хэтчбек</th>\n",
       "      <th>color_бежевый</th>\n",
       "      <th>color_белый</th>\n",
       "      <th>...</th>\n",
       "      <th>brand_lexus</th>\n",
       "      <th>brand_mercedes</th>\n",
       "      <th>brand_mitsubishi</th>\n",
       "      <th>brand_nissan</th>\n",
       "      <th>brand_renault</th>\n",
       "      <th>brand_skoda</th>\n",
       "      <th>brand_toyota</th>\n",
       "      <th>brand_volkswagen</th>\n",
       "      <th>brand_volvo</th>\n",
       "      <th>brand_газ</th>\n",
       "    </tr>\n",
       "  </thead>\n",
       "  <tbody>\n",
       "    <tr>\n",
       "      <th>0</th>\n",
       "      <td>0</td>\n",
       "      <td>0</td>\n",
       "      <td>0</td>\n",
       "      <td>0</td>\n",
       "      <td>0</td>\n",
       "      <td>0</td>\n",
       "      <td>0</td>\n",
       "      <td>1</td>\n",
       "      <td>0</td>\n",
       "      <td>0</td>\n",
       "      <td>...</td>\n",
       "      <td>0</td>\n",
       "      <td>0</td>\n",
       "      <td>0</td>\n",
       "      <td>0</td>\n",
       "      <td>0</td>\n",
       "      <td>1</td>\n",
       "      <td>0</td>\n",
       "      <td>0</td>\n",
       "      <td>0</td>\n",
       "      <td>0</td>\n",
       "    </tr>\n",
       "    <tr>\n",
       "      <th>1</th>\n",
       "      <td>0</td>\n",
       "      <td>0</td>\n",
       "      <td>0</td>\n",
       "      <td>0</td>\n",
       "      <td>0</td>\n",
       "      <td>0</td>\n",
       "      <td>0</td>\n",
       "      <td>1</td>\n",
       "      <td>0</td>\n",
       "      <td>0</td>\n",
       "      <td>...</td>\n",
       "      <td>0</td>\n",
       "      <td>0</td>\n",
       "      <td>0</td>\n",
       "      <td>0</td>\n",
       "      <td>0</td>\n",
       "      <td>1</td>\n",
       "      <td>0</td>\n",
       "      <td>0</td>\n",
       "      <td>0</td>\n",
       "      <td>0</td>\n",
       "    </tr>\n",
       "    <tr>\n",
       "      <th>2</th>\n",
       "      <td>0</td>\n",
       "      <td>0</td>\n",
       "      <td>0</td>\n",
       "      <td>0</td>\n",
       "      <td>0</td>\n",
       "      <td>0</td>\n",
       "      <td>0</td>\n",
       "      <td>1</td>\n",
       "      <td>0</td>\n",
       "      <td>0</td>\n",
       "      <td>...</td>\n",
       "      <td>0</td>\n",
       "      <td>0</td>\n",
       "      <td>0</td>\n",
       "      <td>0</td>\n",
       "      <td>0</td>\n",
       "      <td>1</td>\n",
       "      <td>0</td>\n",
       "      <td>0</td>\n",
       "      <td>0</td>\n",
       "      <td>0</td>\n",
       "    </tr>\n",
       "    <tr>\n",
       "      <th>3</th>\n",
       "      <td>0</td>\n",
       "      <td>0</td>\n",
       "      <td>0</td>\n",
       "      <td>0</td>\n",
       "      <td>0</td>\n",
       "      <td>0</td>\n",
       "      <td>0</td>\n",
       "      <td>1</td>\n",
       "      <td>0</td>\n",
       "      <td>0</td>\n",
       "      <td>...</td>\n",
       "      <td>0</td>\n",
       "      <td>0</td>\n",
       "      <td>0</td>\n",
       "      <td>0</td>\n",
       "      <td>0</td>\n",
       "      <td>1</td>\n",
       "      <td>0</td>\n",
       "      <td>0</td>\n",
       "      <td>0</td>\n",
       "      <td>0</td>\n",
       "    </tr>\n",
       "    <tr>\n",
       "      <th>4</th>\n",
       "      <td>0</td>\n",
       "      <td>0</td>\n",
       "      <td>0</td>\n",
       "      <td>0</td>\n",
       "      <td>0</td>\n",
       "      <td>0</td>\n",
       "      <td>0</td>\n",
       "      <td>1</td>\n",
       "      <td>0</td>\n",
       "      <td>1</td>\n",
       "      <td>...</td>\n",
       "      <td>0</td>\n",
       "      <td>0</td>\n",
       "      <td>0</td>\n",
       "      <td>0</td>\n",
       "      <td>0</td>\n",
       "      <td>1</td>\n",
       "      <td>0</td>\n",
       "      <td>0</td>\n",
       "      <td>0</td>\n",
       "      <td>0</td>\n",
       "    </tr>\n",
       "    <tr>\n",
       "      <th>...</th>\n",
       "      <td>...</td>\n",
       "      <td>...</td>\n",
       "      <td>...</td>\n",
       "      <td>...</td>\n",
       "      <td>...</td>\n",
       "      <td>...</td>\n",
       "      <td>...</td>\n",
       "      <td>...</td>\n",
       "      <td>...</td>\n",
       "      <td>...</td>\n",
       "      <td>...</td>\n",
       "      <td>...</td>\n",
       "      <td>...</td>\n",
       "      <td>...</td>\n",
       "      <td>...</td>\n",
       "      <td>...</td>\n",
       "      <td>...</td>\n",
       "      <td>...</td>\n",
       "      <td>...</td>\n",
       "      <td>...</td>\n",
       "      <td>...</td>\n",
       "    </tr>\n",
       "    <tr>\n",
       "      <th>184798</th>\n",
       "      <td>0</td>\n",
       "      <td>0</td>\n",
       "      <td>0</td>\n",
       "      <td>0</td>\n",
       "      <td>0</td>\n",
       "      <td>1</td>\n",
       "      <td>0</td>\n",
       "      <td>0</td>\n",
       "      <td>0</td>\n",
       "      <td>1</td>\n",
       "      <td>...</td>\n",
       "      <td>0</td>\n",
       "      <td>0</td>\n",
       "      <td>0</td>\n",
       "      <td>0</td>\n",
       "      <td>0</td>\n",
       "      <td>0</td>\n",
       "      <td>0</td>\n",
       "      <td>0</td>\n",
       "      <td>0</td>\n",
       "      <td>0</td>\n",
       "    </tr>\n",
       "    <tr>\n",
       "      <th>184799</th>\n",
       "      <td>0</td>\n",
       "      <td>0</td>\n",
       "      <td>0</td>\n",
       "      <td>0</td>\n",
       "      <td>0</td>\n",
       "      <td>1</td>\n",
       "      <td>0</td>\n",
       "      <td>0</td>\n",
       "      <td>0</td>\n",
       "      <td>0</td>\n",
       "      <td>...</td>\n",
       "      <td>0</td>\n",
       "      <td>0</td>\n",
       "      <td>0</td>\n",
       "      <td>0</td>\n",
       "      <td>0</td>\n",
       "      <td>0</td>\n",
       "      <td>0</td>\n",
       "      <td>0</td>\n",
       "      <td>0</td>\n",
       "      <td>0</td>\n",
       "    </tr>\n",
       "    <tr>\n",
       "      <th>184800</th>\n",
       "      <td>0</td>\n",
       "      <td>0</td>\n",
       "      <td>0</td>\n",
       "      <td>0</td>\n",
       "      <td>0</td>\n",
       "      <td>0</td>\n",
       "      <td>1</td>\n",
       "      <td>0</td>\n",
       "      <td>0</td>\n",
       "      <td>1</td>\n",
       "      <td>...</td>\n",
       "      <td>0</td>\n",
       "      <td>0</td>\n",
       "      <td>0</td>\n",
       "      <td>0</td>\n",
       "      <td>0</td>\n",
       "      <td>0</td>\n",
       "      <td>0</td>\n",
       "      <td>0</td>\n",
       "      <td>0</td>\n",
       "      <td>0</td>\n",
       "    </tr>\n",
       "    <tr>\n",
       "      <th>184801</th>\n",
       "      <td>0</td>\n",
       "      <td>0</td>\n",
       "      <td>0</td>\n",
       "      <td>0</td>\n",
       "      <td>0</td>\n",
       "      <td>1</td>\n",
       "      <td>0</td>\n",
       "      <td>0</td>\n",
       "      <td>0</td>\n",
       "      <td>1</td>\n",
       "      <td>...</td>\n",
       "      <td>0</td>\n",
       "      <td>0</td>\n",
       "      <td>0</td>\n",
       "      <td>0</td>\n",
       "      <td>0</td>\n",
       "      <td>0</td>\n",
       "      <td>0</td>\n",
       "      <td>0</td>\n",
       "      <td>0</td>\n",
       "      <td>0</td>\n",
       "    </tr>\n",
       "    <tr>\n",
       "      <th>184802</th>\n",
       "      <td>0</td>\n",
       "      <td>0</td>\n",
       "      <td>0</td>\n",
       "      <td>0</td>\n",
       "      <td>0</td>\n",
       "      <td>1</td>\n",
       "      <td>0</td>\n",
       "      <td>0</td>\n",
       "      <td>0</td>\n",
       "      <td>0</td>\n",
       "      <td>...</td>\n",
       "      <td>0</td>\n",
       "      <td>0</td>\n",
       "      <td>0</td>\n",
       "      <td>0</td>\n",
       "      <td>0</td>\n",
       "      <td>0</td>\n",
       "      <td>0</td>\n",
       "      <td>0</td>\n",
       "      <td>0</td>\n",
       "      <td>0</td>\n",
       "    </tr>\n",
       "  </tbody>\n",
       "</table>\n",
       "<p>183246 rows × 54 columns</p>\n",
       "</div>"
      ],
      "text/plain": [
       "        bodyClass_other  bodyClass_внедорожник  bodyClass_вэн  \\\n",
       "0                     0                      0              0   \n",
       "1                     0                      0              0   \n",
       "2                     0                      0              0   \n",
       "3                     0                      0              0   \n",
       "4                     0                      0              0   \n",
       "...                 ...                    ...            ...   \n",
       "184798                0                      0              0   \n",
       "184799                0                      0              0   \n",
       "184800                0                      0              0   \n",
       "184801                0                      0              0   \n",
       "184802                0                      0              0   \n",
       "\n",
       "        bodyClass_кабрио  bodyClass_пикап  bodyClass_седан  \\\n",
       "0                      0                0                0   \n",
       "1                      0                0                0   \n",
       "2                      0                0                0   \n",
       "3                      0                0                0   \n",
       "4                      0                0                0   \n",
       "...                  ...              ...              ...   \n",
       "184798                 0                0                1   \n",
       "184799                 0                0                1   \n",
       "184800                 0                0                0   \n",
       "184801                 0                0                1   \n",
       "184802                 0                0                1   \n",
       "\n",
       "        bodyClass_универсал  bodyClass_хэтчбек  color_бежевый  color_белый  \\\n",
       "0                         0                  1              0            0   \n",
       "1                         0                  1              0            0   \n",
       "2                         0                  1              0            0   \n",
       "3                         0                  1              0            0   \n",
       "4                         0                  1              0            1   \n",
       "...                     ...                ...            ...          ...   \n",
       "184798                    0                  0              0            1   \n",
       "184799                    0                  0              0            0   \n",
       "184800                    1                  0              0            1   \n",
       "184801                    0                  0              0            1   \n",
       "184802                    0                  0              0            0   \n",
       "\n",
       "        ...  brand_lexus  brand_mercedes  brand_mitsubishi  brand_nissan  \\\n",
       "0       ...            0               0                 0             0   \n",
       "1       ...            0               0                 0             0   \n",
       "2       ...            0               0                 0             0   \n",
       "3       ...            0               0                 0             0   \n",
       "4       ...            0               0                 0             0   \n",
       "...     ...          ...             ...               ...           ...   \n",
       "184798  ...            0               0                 0             0   \n",
       "184799  ...            0               0                 0             0   \n",
       "184800  ...            0               0                 0             0   \n",
       "184801  ...            0               0                 0             0   \n",
       "184802  ...            0               0                 0             0   \n",
       "\n",
       "        brand_renault  brand_skoda  brand_toyota  brand_volkswagen  \\\n",
       "0                   0            1             0                 0   \n",
       "1                   0            1             0                 0   \n",
       "2                   0            1             0                 0   \n",
       "3                   0            1             0                 0   \n",
       "4                   0            1             0                 0   \n",
       "...               ...          ...           ...               ...   \n",
       "184798              0            0             0                 0   \n",
       "184799              0            0             0                 0   \n",
       "184800              0            0             0                 0   \n",
       "184801              0            0             0                 0   \n",
       "184802              0            0             0                 0   \n",
       "\n",
       "        brand_volvo  brand_газ  \n",
       "0                 0          0  \n",
       "1                 0          0  \n",
       "2                 0          0  \n",
       "3                 0          0  \n",
       "4                 0          0  \n",
       "...             ...        ...  \n",
       "184798            0          0  \n",
       "184799            0          0  \n",
       "184800            0          0  \n",
       "184801            0          0  \n",
       "184802            0          0  \n",
       "\n",
       "[183246 rows x 54 columns]"
      ]
     },
     "execution_count": 647,
     "metadata": {},
     "output_type": "execute_result"
    }
   ],
   "source": [
    "df = pd.read_csv(os.path.join(os.getcwd(),'input/data_full_columns.csv'))\n",
    "data_full[df[df.column_type == 'cat'].column_name.values]"
   ]
  },
  {
   "cell_type": "code",
   "execution_count": 648,
   "metadata": {},
   "outputs": [
    {
     "data": {
      "text/html": [
       "<div>\n",
       "<style scoped>\n",
       "    .dataframe tbody tr th:only-of-type {\n",
       "        vertical-align: middle;\n",
       "    }\n",
       "\n",
       "    .dataframe tbody tr th {\n",
       "        vertical-align: top;\n",
       "    }\n",
       "\n",
       "    .dataframe thead th {\n",
       "        text-align: right;\n",
       "    }\n",
       "</style>\n",
       "<table border=\"1\" class=\"dataframe\">\n",
       "  <thead>\n",
       "    <tr style=\"text-align: right;\">\n",
       "      <th></th>\n",
       "      <th>column_name</th>\n",
       "      <th>column_type</th>\n",
       "    </tr>\n",
       "  </thead>\n",
       "  <tbody>\n",
       "    <tr>\n",
       "      <th>0</th>\n",
       "      <td>description_len</td>\n",
       "      <td>num</td>\n",
       "    </tr>\n",
       "    <tr>\n",
       "      <th>1</th>\n",
       "      <td>enginePower</td>\n",
       "      <td>num</td>\n",
       "    </tr>\n",
       "    <tr>\n",
       "      <th>2</th>\n",
       "      <td>mileage</td>\n",
       "      <td>num</td>\n",
       "    </tr>\n",
       "    <tr>\n",
       "      <th>3</th>\n",
       "      <td>productionDate</td>\n",
       "      <td>num</td>\n",
       "    </tr>\n",
       "    <tr>\n",
       "      <th>4</th>\n",
       "      <td>feature_mileage</td>\n",
       "      <td>num</td>\n",
       "    </tr>\n",
       "    <tr>\n",
       "      <th>...</th>\n",
       "      <td>...</td>\n",
       "      <td>...</td>\n",
       "    </tr>\n",
       "    <tr>\n",
       "      <th>60</th>\n",
       "      <td>brand_skoda</td>\n",
       "      <td>cat</td>\n",
       "    </tr>\n",
       "    <tr>\n",
       "      <th>61</th>\n",
       "      <td>brand_toyota</td>\n",
       "      <td>cat</td>\n",
       "    </tr>\n",
       "    <tr>\n",
       "      <th>62</th>\n",
       "      <td>brand_volkswagen</td>\n",
       "      <td>cat</td>\n",
       "    </tr>\n",
       "    <tr>\n",
       "      <th>63</th>\n",
       "      <td>brand_volvo</td>\n",
       "      <td>cat</td>\n",
       "    </tr>\n",
       "    <tr>\n",
       "      <th>64</th>\n",
       "      <td>brand_газ</td>\n",
       "      <td>cat</td>\n",
       "    </tr>\n",
       "  </tbody>\n",
       "</table>\n",
       "<p>65 rows × 2 columns</p>\n",
       "</div>"
      ],
      "text/plain": [
       "         column_name column_type\n",
       "0    description_len         num\n",
       "1        enginePower         num\n",
       "2            mileage         num\n",
       "3     productionDate         num\n",
       "4    feature_mileage         num\n",
       "..               ...         ...\n",
       "60       brand_skoda         cat\n",
       "61      brand_toyota         cat\n",
       "62  brand_volkswagen         cat\n",
       "63       brand_volvo         cat\n",
       "64         brand_газ         cat\n",
       "\n",
       "[65 rows x 2 columns]"
      ]
     },
     "execution_count": 648,
     "metadata": {},
     "output_type": "execute_result"
    }
   ],
   "source": [
    "df"
   ]
  },
  {
   "cell_type": "markdown",
   "metadata": {},
   "source": [
    "# Выводы\n",
    "Спарсилось очень много дублей. Спарсенные данные не везде совпадают с тестовым датасетом, пришлось делать дополнительную обработку.\n",
    "В данных очень много категориальных признаков. Некоторые признаки несбалансированы.\n",
    "\n",
    "# Что можно улучшить:\n",
    "1. Большое поле для feature engineering, много текста из которого можно вытащить доп информацию.  \n",
    "2. Задействованы далеко не все из спарсенного, т.к. некоторые спарсенные данные не совпадают с тестовыми. Можно попытаться вытащить общую информацию из того что есть, или проанализировать и подкорректировать парсинг"
   ]
  }
 ],
 "metadata": {
  "kernelspec": {
   "display_name": "Python 3",
   "language": "python",
   "name": "python3"
  },
  "language_info": {
   "codemirror_mode": {
    "name": "ipython",
    "version": 3
   },
   "file_extension": ".py",
   "mimetype": "text/x-python",
   "name": "python",
   "nbconvert_exporter": "python",
   "pygments_lexer": "ipython3",
   "version": "3.8.8"
  }
 },
 "nbformat": 4,
 "nbformat_minor": 4
}
