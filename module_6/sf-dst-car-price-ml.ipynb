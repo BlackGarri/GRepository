{
 "cells": [
  {
   "cell_type": "markdown",
   "metadata": {},
   "source": [
    "# Задача\n",
    "Необходимо создать модель, которая будет предсказывать стоимость автомобиля по его характеристикам. Для оценки использовать метрику MAPE\n",
    "\n",
    "В данном ноутбуке выбрана модель для предсказания.\n",
    "\n",
    "В этом проекте использовали:\n",
    "Ноутбук, через который парсили https://www.kaggle.com/igorchernov/sf-dst-car-price-parser\n",
    "\n",
    "Спарсенный датасет https://www.kaggle.com/igorchernov/input/data-car-sales/\n",
    "\n",
    "Ноутбук, в котором провели EDA https://www.kaggle.com/igorchernov/sf-dst-car-price-eda\n",
    "\n",
    "Ноутбук, в котором провели обучение https://www.kaggle.com/igorchernov/sf-dst-car-price-ml\n",
    "\n"
   ]
  },
  {
   "cell_type": "markdown",
   "metadata": {},
   "source": [
    "# Загрузка данных"
   ]
  },
  {
   "cell_type": "code",
   "execution_count": 26,
   "metadata": {},
   "outputs": [],
   "source": [
    "# Импорт библиотек\n",
    "\n",
    "import os\n",
    "import numpy as np\n",
    "import pandas as pd\n",
    "from pandas import Series\n",
    "\n",
    "import re\n",
    "import datetime\n",
    "\n",
    "from sklearn.feature_selection import mutual_info_classif, f_classif\n",
    "from sklearn.model_selection import train_test_split, train_test_split, KFold\n",
    "from sklearn.preprocessing import StandardScaler\n",
    "from sklearn.base import clone\n",
    "from sklearn.neighbors import KNeighborsRegressor\n",
    "from sklearn.tree import DecisionTreeRegressor\n",
    "\n",
    "from tqdm.notebook import tqdm\n",
    "import xgboost as xgb\n",
    "from catboost import CatBoostRegressor\n",
    "from sklearn.linear_model import LinearRegression\n",
    "from sklearn.model_selection import RandomizedSearchCV\n",
    "from sklearn.ensemble import GradientBoostingRegressor, ExtraTreesRegressor, RandomForestRegressor\n",
    "from sklearn.ensemble import ExtraTreesRegressor, AdaBoostRegressor"
   ]
  },
  {
   "cell_type": "code",
   "execution_count": 27,
   "metadata": {},
   "outputs": [],
   "source": [
    "import warnings \n",
    "warnings.filterwarnings(\"ignore\") "
   ]
  },
  {
   "cell_type": "code",
   "execution_count": 28,
   "metadata": {},
   "outputs": [],
   "source": [
    "RANDOM_SEED = 42"
   ]
  },
  {
   "cell_type": "code",
   "execution_count": 29,
   "metadata": {},
   "outputs": [
    {
     "name": "stdout",
     "output_type": "stream",
     "text": [
      "183246\n"
     ]
    }
   ],
   "source": [
    "#Импорт данных из соревнования\n",
    "\n",
    "data_sample = pd.read_csv(os.path.join(os.getcwd(),'input/sample_submission.csv'))\n",
    "\n",
    "#Импорт обработанных данных\n",
    "data_full = pd.read_csv(os.path.join(os.getcwd(),'input/data_car_eda.csv')) \n",
    "\n",
    "#Выбранные признаки в EDA\n",
    "data_columns = pd.read_csv(os.path.join(os.getcwd(),'input/data_full_columns.csv')) \n",
    "\n",
    "cat_cols = data_columns[data_columns.column_type == 'cat'].column_name.values\n",
    "bin_cols = data_columns[data_columns.column_type == 'bin'].column_name.values\n",
    "num_cols = data_columns[data_columns.column_type == 'num'].column_name.values\n",
    "\n",
    "print(len(data_full))"
   ]
  },
  {
   "cell_type": "markdown",
   "metadata": {},
   "source": [
    "Сначала выделим тестовую и тренировочную части."
   ]
  },
  {
   "cell_type": "code",
   "execution_count": 30,
   "metadata": {},
   "outputs": [],
   "source": [
    "data_train = data_full[data_full.sample_ == 0]\n",
    "data_test = data_full[data_full.sample_ == 1].drop(['price', 'sample_'], axis=1).values"
   ]
  },
  {
   "cell_type": "markdown",
   "metadata": {},
   "source": [
    "Делим данные на еще один тест и трейн, для валидации,\n",
    "чтобы проверить, как хорошо модель работает, до отправки submission на kaggle."
   ]
  },
  {
   "cell_type": "code",
   "execution_count": 31,
   "metadata": {},
   "outputs": [],
   "source": [
    "X = data_train.drop(['price', 'sample_'], axis=1).values\n",
    "Y = data_train['price'].values\n",
    "\n",
    "X_train, X_test, y_train, y_test = train_test_split(X, Y, test_size=0.20, random_state=RANDOM_SEED)"
   ]
  },
  {
   "cell_type": "code",
   "execution_count": 32,
   "metadata": {},
   "outputs": [],
   "source": [
    "def mape(y_true, y_pred):\n",
    "    return np.mean(np.abs((y_pred-y_true)/y_true))\n",
    "\n",
    "def learn_model(model):        \n",
    "    model.fit(X_train,y_train)\n",
    "    y_pred = model.predict(X_test)    \n",
    "    print (f\"Точность модели по метрике MAPE: {(mape(y_test, y_pred))*100:0.2f}%\")\n",
    "    \n",
    "def learn_model_log(model):\n",
    "    model.fit(X_train,np.log(y_train+1))\n",
    "    y_pred = np.exp(model.predict(X_test))\n",
    "    print (f\"Точность модели по метрике MAPE: {(mape(y_test, y_pred))*100:0.2f}%\")"
   ]
  },
  {
   "cell_type": "markdown",
   "metadata": {},
   "source": [
    "Далее попробуем построить разные модели и посмотрим их метрики. Все модели закомментируем, чтобы не грузить ноутбук. В комментариях пропишем метрики. Оставим для загрузки только лучшую модель"
   ]
  },
  {
   "cell_type": "markdown",
   "metadata": {},
   "source": [
    "# Наивная модель"
   ]
  },
  {
   "cell_type": "code",
   "execution_count": 33,
   "metadata": {},
   "outputs": [],
   "source": [
    "#learn_model(LinearRegression())\n",
    "#Точность модели по метрике MAPE: 87.83%"
   ]
  },
  {
   "cell_type": "markdown",
   "metadata": {},
   "source": [
    "# Простые модели"
   ]
  },
  {
   "cell_type": "code",
   "execution_count": 34,
   "metadata": {},
   "outputs": [
    {
     "name": "stdout",
     "output_type": "stream",
     "text": [
      "Точность модели по метрике MAPE: 20.95%\n"
     ]
    }
   ],
   "source": [
    "# Построим линейную регрессию с логарифмированием целевой переменной\n",
    "\n",
    "lr = LinearRegression().fit(X_train, np.log(y_train+1))\n",
    "print(f\"Точность модели по метрике MAPE: {(mape(y_test, np.exp(lr.predict(X_test))))*100:0.2f}%\")\n",
    "\n",
    "predict_test = np.exp(lr.predict(X_test))\n",
    "predict_submission = np.exp(lr.predict(data_test))\n",
    "\n",
    "# Точность модели по метрике MAPE: 20.95%"
   ]
  },
  {
   "cell_type": "code",
   "execution_count": 35,
   "metadata": {},
   "outputs": [
    {
     "name": "stderr",
     "output_type": "stream",
     "text": [
      "[Parallel(n_jobs=-1)]: Using backend ThreadingBackend with 12 concurrent workers.\n",
      "[Parallel(n_jobs=-1)]: Done  26 tasks      | elapsed:    5.9s\n",
      "[Parallel(n_jobs=-1)]: Done 100 out of 100 | elapsed:   17.6s finished\n",
      "[Parallel(n_jobs=12)]: Using backend ThreadingBackend with 12 concurrent workers.\n",
      "[Parallel(n_jobs=12)]: Done  26 tasks      | elapsed:    0.0s\n",
      "[Parallel(n_jobs=12)]: Done 100 out of 100 | elapsed:    0.1s finished\n",
      "[Parallel(n_jobs=12)]: Using backend ThreadingBackend with 12 concurrent workers.\n",
      "[Parallel(n_jobs=12)]: Done  26 tasks      | elapsed:    0.0s\n"
     ]
    },
    {
     "name": "stdout",
     "output_type": "stream",
     "text": [
      "Точность модели по метрике MAPE: 14.29%\n"
     ]
    },
    {
     "name": "stderr",
     "output_type": "stream",
     "text": [
      "[Parallel(n_jobs=12)]: Done 100 out of 100 | elapsed:    0.1s finished\n",
      "[Parallel(n_jobs=12)]: Using backend ThreadingBackend with 12 concurrent workers.\n",
      "[Parallel(n_jobs=12)]: Done  26 tasks      | elapsed:    0.0s\n",
      "[Parallel(n_jobs=12)]: Done 100 out of 100 | elapsed:    0.0s finished\n"
     ]
    }
   ],
   "source": [
    "# Random forest\n",
    "\n",
    "rf = RandomForestRegressor(random_state = RANDOM_SEED, n_jobs = -1, verbose = 1).fit(X_train, np.log(y_train+1))\n",
    "print(f\"Точность модели по метрике MAPE: {(mape(y_test, np.exp(rf.predict(X_test))))*100:0.2f}%\")\n",
    "\n",
    "predict_test = np.exp(rf.predict(X_test))\n",
    "predict_submission = np.exp(rf.predict(data_test))\n",
    "\n",
    "# Точность модели по метрике MAPE: 14.29%"
   ]
  },
  {
   "cell_type": "code",
   "execution_count": 36,
   "metadata": {},
   "outputs": [],
   "source": [
    "# Подбор параметров для Random forest\n",
    "\n",
    "# random_grid = {'n_estimators': [int(x) for x in np.linspace(start=200, stop=2000, num=10)],\n",
    "#                'max_features': ['auto', 'sqrt'],\n",
    "#                'max_depth': [int(x) for x in np.linspace(10, 110, num=11)],\n",
    "#                'min_samples_split': [2, 5, 10],\n",
    "#                'min_samples_leaf': [1, 2, 4],\n",
    "#                'bootstrap': [True, False]\n",
    "#                }\n",
    "\n",
    "# rf = RandomForestRegressor(random_state=RANDOM_SEED)\n",
    "# rf_random = RandomizedSearchCV(estimator=rf, param_distributions=random_grid, n_iter=100,\n",
    "#                                cv=3, verbose=2, random_state=RANDOM_SEED, n_jobs=-1).fit(X_train, np.log(y_train+1))\n",
    "# print(f\"Точность модели по метрике MAPE: {(mape(y_test, np.exp(rSCV.predict(X_test))))*100:0.2f}%\")"
   ]
  },
  {
   "cell_type": "code",
   "execution_count": 37,
   "metadata": {},
   "outputs": [],
   "source": [
    "# rf_random.best_params_"
   ]
  },
  {
   "cell_type": "code",
   "execution_count": 38,
   "metadata": {},
   "outputs": [],
   "source": [
    "# rf = RandomForestRegressor(n_estimators=300, min_samples_split=2, min_samples_leaf=1,\n",
    "#                            max_features=3, max_depth=25, bootstrap=True, random_state=RANDOM_SEED).fit(X_train, np.log(y_train+1))\n",
    "\n",
    "# predict_test = np.exp(rf.predict(X_test))\n",
    "# predict_submission = np.exp(rf.predict(data_test))\n",
    "\n",
    "# print(\n",
    "#     f\"Точность модели по метрике MAPE: {(mape(y_test, predict_test))*100:0.2f}%\")\n",
    "\n",
    "# Точность модели по метрике MAPE: 16.21%"
   ]
  },
  {
   "cell_type": "code",
   "execution_count": 39,
   "metadata": {},
   "outputs": [
    {
     "name": "stdout",
     "output_type": "stream",
     "text": [
      "Точность модели по метрике MAPE: 39.89%\n",
      "Точность модели по метрике MAPE: 39.89%\n",
      "Точность модели по метрике MAPE: 20.08%\n",
      "Точность модели по метрике MAPE: 16.41%\n"
     ]
    }
   ],
   "source": [
    "# еще парочка экспериментов\n",
    "\n",
    "learn_model_log(KNeighborsRegressor(\n",
    "    algorithm='ball_tree', weights='distance', p=1))\n",
    "# Точность модели по метрике MAPE: 39.89%\n",
    "\n",
    "learn_model_log(KNeighborsRegressor(\n",
    "    algorithm='ball_tree', weights='distance', p=1))\n",
    "# Точность модели по метрике MAPE: 39.89%\n",
    "\n",
    "learn_model(DecisionTreeRegressor(random_state=RANDOM_SEED))\n",
    "# Точность модели по метрике MAPE: 20.08%\n",
    "\n",
    "dtr = DecisionTreeRegressor(max_depth=15, random_state=RANDOM_SEED)\n",
    "learn_model_log(dtr)\n",
    "# Точность модели по метрике MAPE: 16.41%"
   ]
  },
  {
   "cell_type": "markdown",
   "metadata": {},
   "source": [
    "# Бустинг"
   ]
  },
  {
   "cell_type": "code",
   "execution_count": 40,
   "metadata": {},
   "outputs": [
    {
     "name": "stdout",
     "output_type": "stream",
     "text": [
      "Точность модели по метрике MAPE: 13.87%\n"
     ]
    }
   ],
   "source": [
    "# CatBoostRegressor\n",
    "\n",
    "cb = CatBoostRegressor(iterations=5000, random_seed=RANDOM_SEED, eval_metric='MAPE',\n",
    "                       custom_metric=['R2', 'MAE'], silent=True,)\n",
    "cb.fit(X_train, np.log(y_train+1), eval_set=(X_test, np.log(y_test+1)),\n",
    "       verbose_eval=0, use_best_model=True)\n",
    "\n",
    "print(\n",
    "    f\"Точность модели по метрике MAPE: {(mape(y_test, np.exp(cb.predict(X_test))))*100:0.2f}%\")\n",
    "\n",
    "predict_test = np.exp(cb.predict(X_test))\n",
    "predict_submission = np.exp(cb.predict(data_test))\n",
    "\n",
    "# Точность модели по метрике MAPE: 13.87%"
   ]
  },
  {
   "cell_type": "code",
   "execution_count": 41,
   "metadata": {},
   "outputs": [
    {
     "name": "stdout",
     "output_type": "stream",
     "text": [
      "Точность модели по метрике MAPE: 13.88%\n"
     ]
    }
   ],
   "source": [
    "# GradientBoostingRegressor\n",
    "\n",
    "gb = GradientBoostingRegressor(\n",
    "    min_samples_split=2, learning_rate=0.03, max_depth=10, n_estimators=300)\n",
    "gb.fit(X_train, np.log(y_train+1))\n",
    "\n",
    "print(\n",
    "    f\"Точность модели по метрике MAPE: {(mape(y_test, np.exp(gb.predict(X_test))))*100:0.2f}%\")\n",
    "\n",
    "predict_test = np.exp(gb.predict(X_test))\n",
    "predict_submission = np.exp(gb.predict(data_test))\n",
    "\n",
    "# Точность модели по метрике MAPE: 13.88%"
   ]
  },
  {
   "cell_type": "code",
   "execution_count": 42,
   "metadata": {},
   "outputs": [
    {
     "name": "stdout",
     "output_type": "stream",
     "text": [
      "Точность модели по метрике MAPE: 13.75%\n"
     ]
    }
   ],
   "source": [
    "# xgboost\n",
    "\n",
    "xb = xgb.XGBRegressor(objective='reg:squarederror', colsample_bytree=0.5, learning_rate=0.03,\n",
    "                      max_depth=12, alpha=1, n_jobs=-1, n_estimators=1000)\n",
    "xb.fit(X_train, np.log(y_train+1))\n",
    "\n",
    "print(\n",
    "    f\"Точность модели по метрике MAPE: {(mape(y_test, np.exp(xb.predict(X_test))))*100:0.2f}%\")\n",
    "\n",
    "predict_test_final = np.exp(xb.predict(X_test))\n",
    "predict_submission_final = np.exp(xb.predict(data_test))\n",
    "\n",
    "# Точность модели по метрике MAPE: 13.75%"
   ]
  },
  {
   "cell_type": "markdown",
   "metadata": {},
   "source": [
    "# Стекинг"
   ]
  },
  {
   "cell_type": "code",
   "execution_count": 43,
   "metadata": {},
   "outputs": [],
   "source": [
    "def compute_meta_feature(rgr, X_train, X_test, y_train, cv, data_test):\n",
    "    \n",
    "    X_meta_train = np.zeros_like(y_train, dtype=np.float32)\n",
    "\n",
    "    splits = cv.split(X_train)\n",
    "    for train_fold_index, predict_fold_index in splits:\n",
    "        X_fold_train, X_fold_predict = X_train[train_fold_index], X_train[predict_fold_index]\n",
    "        y_fold_train = y_train[train_fold_index]\n",
    "\n",
    "        folded_regr = clone(rgr)\n",
    "        folded_regr.fit(X_fold_train, y_fold_train)\n",
    "\n",
    "        X_meta_train[predict_fold_index] = folded_regr.predict(X_fold_predict)\n",
    "\n",
    "    meta_regr = clone(rgr)\n",
    "    meta_regr.fit(X_train, y_train)\n",
    "\n",
    "    X_meta_test = meta_regr.predict(X_test)\n",
    "    X_meta_pred = meta_regr.predict(data_test)\n",
    "\n",
    "    return X_meta_train, X_meta_test, X_meta_pred"
   ]
  },
  {
   "cell_type": "code",
   "execution_count": 44,
   "metadata": {},
   "outputs": [],
   "source": [
    "def generate_meta_features(rgrs, X_train, X_test, y_train, cv, data_test):\n",
    "\n",
    "    features = [compute_meta_feature(\n",
    "        rgr, X_train, X_test, y_train, cv, data_test) for rgr in tqdm(rgrs)]\n",
    "\n",
    "    stacked_features_train = np.vstack(\n",
    "        [features_train for features_train, features_test, features_pred in features]).T\n",
    "    stacked_features_test = np.vstack(\n",
    "        [features_test for features_train, features_test, features_pred in features]).T\n",
    "    stacked_features_pred = np.vstack(\n",
    "        [features_pred for features_train, features_test, features_pred in features]).T\n",
    "\n",
    "    return stacked_features_train, stacked_features_test, stacked_features_pred"
   ]
  },
  {
   "cell_type": "code",
   "execution_count": 45,
   "metadata": {},
   "outputs": [],
   "source": [
    "def compute_metric(rgr, X_train, y_train, X_test, y_test):\n",
    "\n",
    "    rgr.fit(X_train, np.log(y_train+1))\n",
    "    y_test_pred = np.exp(rgr.predict(X_test))\n",
    "\n",
    "    return np.round(mape(y_test, y_test_pred)*100, 4)"
   ]
  },
  {
   "cell_type": "code",
   "execution_count": 48,
   "metadata": {},
   "outputs": [
    {
     "data": {
      "application/vnd.jupyter.widget-view+json": {
       "model_id": "f81e9d5e32554757a9a0f489a0e53c10",
       "version_major": 2,
       "version_minor": 0
      },
      "text/plain": [
       "  0%|          | 0/3 [00:00<?, ?it/s]"
      ]
     },
     "metadata": {},
     "output_type": "display_data"
    },
    {
     "name": "stderr",
     "output_type": "stream",
     "text": [
      "[Parallel(n_jobs=-1)]: Using backend ThreadingBackend with 12 concurrent workers.\n",
      "[Parallel(n_jobs=-1)]: Done  26 tasks      | elapsed:    5.0s\n",
      "[Parallel(n_jobs=-1)]: Done 100 out of 100 | elapsed:   14.6s finished\n",
      "[Parallel(n_jobs=12)]: Using backend ThreadingBackend with 12 concurrent workers.\n",
      "[Parallel(n_jobs=12)]: Done  26 tasks      | elapsed:    0.0s\n",
      "[Parallel(n_jobs=12)]: Done 100 out of 100 | elapsed:    0.0s finished\n",
      "[Parallel(n_jobs=-1)]: Using backend ThreadingBackend with 12 concurrent workers.\n",
      "[Parallel(n_jobs=-1)]: Done  26 tasks      | elapsed:    5.3s\n",
      "[Parallel(n_jobs=-1)]: Done 100 out of 100 | elapsed:   16.2s finished\n",
      "[Parallel(n_jobs=12)]: Using backend ThreadingBackend with 12 concurrent workers.\n",
      "[Parallel(n_jobs=12)]: Done  26 tasks      | elapsed:    0.0s\n",
      "[Parallel(n_jobs=12)]: Done 100 out of 100 | elapsed:    0.0s finished\n",
      "[Parallel(n_jobs=-1)]: Using backend ThreadingBackend with 12 concurrent workers.\n",
      "[Parallel(n_jobs=-1)]: Done  26 tasks      | elapsed:    6.0s\n",
      "[Parallel(n_jobs=-1)]: Done 100 out of 100 | elapsed:   16.9s finished\n",
      "[Parallel(n_jobs=12)]: Using backend ThreadingBackend with 12 concurrent workers.\n",
      "[Parallel(n_jobs=12)]: Done  26 tasks      | elapsed:    0.0s\n",
      "[Parallel(n_jobs=12)]: Done 100 out of 100 | elapsed:    0.0s finished\n",
      "[Parallel(n_jobs=-1)]: Using backend ThreadingBackend with 12 concurrent workers.\n",
      "[Parallel(n_jobs=-1)]: Done  26 tasks      | elapsed:    5.6s\n",
      "[Parallel(n_jobs=-1)]: Done 100 out of 100 | elapsed:   17.1s finished\n",
      "[Parallel(n_jobs=12)]: Using backend ThreadingBackend with 12 concurrent workers.\n",
      "[Parallel(n_jobs=12)]: Done  26 tasks      | elapsed:    0.0s\n",
      "[Parallel(n_jobs=12)]: Done 100 out of 100 | elapsed:    0.0s finished\n",
      "[Parallel(n_jobs=-1)]: Using backend ThreadingBackend with 12 concurrent workers.\n",
      "[Parallel(n_jobs=-1)]: Done  26 tasks      | elapsed:    5.9s\n",
      "[Parallel(n_jobs=-1)]: Done 100 out of 100 | elapsed:   17.9s finished\n",
      "[Parallel(n_jobs=12)]: Using backend ThreadingBackend with 12 concurrent workers.\n",
      "[Parallel(n_jobs=12)]: Done  26 tasks      | elapsed:    0.0s\n",
      "[Parallel(n_jobs=12)]: Done 100 out of 100 | elapsed:    0.0s finished\n",
      "[Parallel(n_jobs=-1)]: Using backend ThreadingBackend with 12 concurrent workers.\n",
      "[Parallel(n_jobs=-1)]: Done  26 tasks      | elapsed:    6.0s\n",
      "[Parallel(n_jobs=-1)]: Done 100 out of 100 | elapsed:   18.5s finished\n",
      "[Parallel(n_jobs=12)]: Using backend ThreadingBackend with 12 concurrent workers.\n",
      "[Parallel(n_jobs=12)]: Done  26 tasks      | elapsed:    0.0s\n",
      "[Parallel(n_jobs=12)]: Done 100 out of 100 | elapsed:    0.0s finished\n",
      "[Parallel(n_jobs=-1)]: Using backend ThreadingBackend with 12 concurrent workers.\n",
      "[Parallel(n_jobs=-1)]: Done  26 tasks      | elapsed:    6.9s\n",
      "[Parallel(n_jobs=-1)]: Done 100 out of 100 | elapsed:   18.5s finished\n",
      "[Parallel(n_jobs=12)]: Using backend ThreadingBackend with 12 concurrent workers.\n",
      "[Parallel(n_jobs=12)]: Done  26 tasks      | elapsed:    0.0s\n",
      "[Parallel(n_jobs=12)]: Done 100 out of 100 | elapsed:    0.0s finished\n",
      "[Parallel(n_jobs=-1)]: Using backend ThreadingBackend with 12 concurrent workers.\n",
      "[Parallel(n_jobs=-1)]: Done  26 tasks      | elapsed:    6.2s\n",
      "[Parallel(n_jobs=-1)]: Done 100 out of 100 | elapsed:   18.2s finished\n",
      "[Parallel(n_jobs=12)]: Using backend ThreadingBackend with 12 concurrent workers.\n",
      "[Parallel(n_jobs=12)]: Done  26 tasks      | elapsed:    0.0s\n",
      "[Parallel(n_jobs=12)]: Done 100 out of 100 | elapsed:    0.0s finished\n",
      "[Parallel(n_jobs=-1)]: Using backend ThreadingBackend with 12 concurrent workers.\n",
      "[Parallel(n_jobs=-1)]: Done  26 tasks      | elapsed:    6.5s\n",
      "[Parallel(n_jobs=-1)]: Done 100 out of 100 | elapsed:   18.5s finished\n",
      "[Parallel(n_jobs=12)]: Using backend ThreadingBackend with 12 concurrent workers.\n",
      "[Parallel(n_jobs=12)]: Done  26 tasks      | elapsed:    0.0s\n",
      "[Parallel(n_jobs=12)]: Done 100 out of 100 | elapsed:    0.0s finished\n",
      "[Parallel(n_jobs=-1)]: Using backend ThreadingBackend with 12 concurrent workers.\n",
      "[Parallel(n_jobs=-1)]: Done  26 tasks      | elapsed:    6.8s\n",
      "[Parallel(n_jobs=-1)]: Done 100 out of 100 | elapsed:   19.4s finished\n",
      "[Parallel(n_jobs=12)]: Using backend ThreadingBackend with 12 concurrent workers.\n",
      "[Parallel(n_jobs=12)]: Done  26 tasks      | elapsed:    0.0s\n",
      "[Parallel(n_jobs=12)]: Done 100 out of 100 | elapsed:    0.0s finished\n",
      "[Parallel(n_jobs=-1)]: Using backend ThreadingBackend with 12 concurrent workers.\n",
      "[Parallel(n_jobs=-1)]: Done  26 tasks      | elapsed:    6.9s\n",
      "[Parallel(n_jobs=-1)]: Done 100 out of 100 | elapsed:   21.6s finished\n",
      "[Parallel(n_jobs=12)]: Using backend ThreadingBackend with 12 concurrent workers.\n",
      "[Parallel(n_jobs=12)]: Done  26 tasks      | elapsed:    0.0s\n",
      "[Parallel(n_jobs=12)]: Done 100 out of 100 | elapsed:    0.2s finished\n",
      "[Parallel(n_jobs=12)]: Using backend ThreadingBackend with 12 concurrent workers.\n",
      "[Parallel(n_jobs=12)]: Done  26 tasks      | elapsed:    0.0s\n",
      "[Parallel(n_jobs=12)]: Done 100 out of 100 | elapsed:    0.1s finished\n"
     ]
    }
   ],
   "source": [
    "scaler = StandardScaler()\n",
    "\n",
    "X_train = scaler.fit_transform(X_train)\n",
    "X_test = scaler.transform(X_test)\n",
    "data_test = scaler.transform(data_test)\n",
    "\n",
    "cv = KFold(n_splits=10, shuffle=True, random_state=RANDOM_SEED)\n",
    "\n",
    "stacked_features_train, stacked_features_test, stacked_features_pred = generate_meta_features([\n",
    "    rf, gb, xb], X_train, X_test, y_train, cv, data_test)"
   ]
  },
  {
   "cell_type": "code",
   "execution_count": 49,
   "metadata": {},
   "outputs": [
    {
     "name": "stderr",
     "output_type": "stream",
     "text": [
      "[Parallel(n_jobs=-1)]: Using backend ThreadingBackend with 12 concurrent workers.\n",
      "[Parallel(n_jobs=-1)]: Done  26 tasks      | elapsed:    2.3s\n",
      "[Parallel(n_jobs=-1)]: Done 100 out of 100 | elapsed:    7.7s finished\n",
      "[Parallel(n_jobs=12)]: Using backend ThreadingBackend with 12 concurrent workers.\n",
      "[Parallel(n_jobs=12)]: Done  26 tasks      | elapsed:    0.0s\n",
      "[Parallel(n_jobs=12)]: Done 100 out of 100 | elapsed:    0.2s finished\n",
      "[Parallel(n_jobs=12)]: Using backend ThreadingBackend with 12 concurrent workers.\n",
      "[Parallel(n_jobs=12)]: Done  26 tasks      | elapsed:    0.0s\n"
     ]
    },
    {
     "name": "stdout",
     "output_type": "stream",
     "text": [
      "Точность модели по метрике MAPE: 14.582%\n"
     ]
    },
    {
     "name": "stderr",
     "output_type": "stream",
     "text": [
      "[Parallel(n_jobs=12)]: Done 100 out of 100 | elapsed:    0.2s finished\n",
      "[Parallel(n_jobs=12)]: Using backend ThreadingBackend with 12 concurrent workers.\n",
      "[Parallel(n_jobs=12)]: Done  26 tasks      | elapsed:    0.0s\n",
      "[Parallel(n_jobs=12)]: Done 100 out of 100 | elapsed:    0.2s finished\n"
     ]
    }
   ],
   "source": [
    "print(\n",
    "    f\"Точность модели по метрике MAPE: {compute_metric(rf, stacked_features_train, y_train, stacked_features_test, y_test)}%\")\n",
    "\n",
    "predict_test = np.exp(rf.predict(stacked_features_test))\n",
    "predict_submission = np.exp(rf.predict(stacked_features_pred))\n",
    "\n",
    "# Точность модели по метрике MAPE: 14.582%"
   ]
  },
  {
   "cell_type": "markdown",
   "metadata": {},
   "source": [
    "## Выводы следующие:\n",
    "1. Catboost достаточно хороший алгоритм, и работает даже с пропусками.\n",
    "2. Превзойти результат Catboost удалось только с xgboost. Его и будем использовать в соревовании\n",
    "3. Метрику сильно улучшает логарифмирование целевой переменной\n",
    "4. Обучение больших датасетов (250к обьектов и 20+ признаков) требует хороших ресурсов. Не все можно запустить на кагле (например, глубина дерева, поиск гиперпараметров и подобное вылетают с ошибкой нехватки памяти...)"
   ]
  },
  {
   "cell_type": "markdown",
   "metadata": {},
   "source": [
    "## Что бы мы сделали еще, но из-за ограниченности по времени, оставим в таком виде:\n",
    "1. Изменить способ кодирования признаков\n",
    "2. Попробовать использовать признак с моделями авто, который мы удалили\n",
    "3. Прологарифмировать все числовые признаки\n",
    "4. Сделать целевую переменную категориальной (в диапазоне +-2сигма с шагом 10к) и применить модели классификации\n",
    "5. Попробовать стекинг лучших алгоритмов GradientBoostingRegressor, XGBRegressor и Catboost"
   ]
  },
  {
   "cell_type": "markdown",
   "metadata": {},
   "source": [
    "# Submission"
   ]
  },
  {
   "cell_type": "code",
   "execution_count": 58,
   "metadata": {},
   "outputs": [
    {
     "data": {
      "text/html": [
       "<div>\n",
       "<style scoped>\n",
       "    .dataframe tbody tr th:only-of-type {\n",
       "        vertical-align: middle;\n",
       "    }\n",
       "\n",
       "    .dataframe tbody tr th {\n",
       "        vertical-align: top;\n",
       "    }\n",
       "\n",
       "    .dataframe thead th {\n",
       "        text-align: right;\n",
       "    }\n",
       "</style>\n",
       "<table border=\"1\" class=\"dataframe\">\n",
       "  <thead>\n",
       "    <tr style=\"text-align: right;\">\n",
       "      <th></th>\n",
       "      <th>sell_id</th>\n",
       "      <th>price</th>\n",
       "    </tr>\n",
       "  </thead>\n",
       "  <tbody>\n",
       "    <tr>\n",
       "      <th>0</th>\n",
       "      <td>1100575026</td>\n",
       "      <td>6.508907e+05</td>\n",
       "    </tr>\n",
       "    <tr>\n",
       "      <th>1</th>\n",
       "      <td>1100549428</td>\n",
       "      <td>8.842190e+05</td>\n",
       "    </tr>\n",
       "    <tr>\n",
       "      <th>2</th>\n",
       "      <td>1100658222</td>\n",
       "      <td>9.356661e+05</td>\n",
       "    </tr>\n",
       "    <tr>\n",
       "      <th>3</th>\n",
       "      <td>1100937408</td>\n",
       "      <td>7.685855e+05</td>\n",
       "    </tr>\n",
       "    <tr>\n",
       "      <th>4</th>\n",
       "      <td>1101037972</td>\n",
       "      <td>8.155594e+05</td>\n",
       "    </tr>\n",
       "    <tr>\n",
       "      <th>5</th>\n",
       "      <td>1100912634</td>\n",
       "      <td>8.140340e+05</td>\n",
       "    </tr>\n",
       "    <tr>\n",
       "      <th>6</th>\n",
       "      <td>1101228730</td>\n",
       "      <td>7.141589e+05</td>\n",
       "    </tr>\n",
       "    <tr>\n",
       "      <th>7</th>\n",
       "      <td>1100165896</td>\n",
       "      <td>4.789025e+05</td>\n",
       "    </tr>\n",
       "    <tr>\n",
       "      <th>8</th>\n",
       "      <td>1100768262</td>\n",
       "      <td>2.018760e+06</td>\n",
       "    </tr>\n",
       "    <tr>\n",
       "      <th>9</th>\n",
       "      <td>1101218501</td>\n",
       "      <td>1.006762e+06</td>\n",
       "    </tr>\n",
       "  </tbody>\n",
       "</table>\n",
       "</div>"
      ],
      "text/plain": [
       "      sell_id         price\n",
       "0  1100575026  6.508907e+05\n",
       "1  1100549428  8.842190e+05\n",
       "2  1100658222  9.356661e+05\n",
       "3  1100937408  7.685855e+05\n",
       "4  1101037972  8.155594e+05\n",
       "5  1100912634  8.140340e+05\n",
       "6  1101228730  7.141589e+05\n",
       "7  1100165896  4.789025e+05\n",
       "8  1100768262  2.018760e+06\n",
       "9  1101218501  1.006762e+06"
      ]
     },
     "execution_count": 58,
     "metadata": {},
     "output_type": "execute_result"
    }
   ],
   "source": [
    "data_sample['price'] = predict_submission_final\n",
    "data_sample.to_csv(os.path.join(os.getcwd(),'output/submission.csv'), index=False)\n",
    "data_sample.head(10)"
   ]
  },
  {
   "cell_type": "code",
   "execution_count": 59,
   "metadata": {},
   "outputs": [
    {
     "data": {
      "text/plain": [
       "34686"
      ]
     },
     "execution_count": 59,
     "metadata": {},
     "output_type": "execute_result"
    }
   ],
   "source": [
    "len(predict_submission_final)"
   ]
  },
  {
   "cell_type": "code",
   "execution_count": null,
   "metadata": {},
   "outputs": [],
   "source": []
  }
 ],
 "metadata": {
  "kernelspec": {
   "display_name": "Python 3",
   "language": "python",
   "name": "python3"
  },
  "language_info": {
   "codemirror_mode": {
    "name": "ipython",
    "version": 3
   },
   "file_extension": ".py",
   "mimetype": "text/x-python",
   "name": "python",
   "nbconvert_exporter": "python",
   "pygments_lexer": "ipython3",
   "version": "3.8.8"
  }
 },
 "nbformat": 4,
 "nbformat_minor": 4
}
