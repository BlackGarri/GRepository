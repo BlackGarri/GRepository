{
 "cells": [
  {
   "cell_type": "code",
   "execution_count": 1,
   "metadata": {},
   "outputs": [],
   "source": [
    "import numpy as np\n",
    "import pandas as pd\n",
    "import datetime as datetime\n",
    "\n",
    "import re\n",
    "from itertools import combinations\n",
    "from math import radians, sin, cos, asin, sqrt\n",
    "\n",
    "import matplotlib.pyplot as plt\n",
    "import seaborn as sns \n",
    "%matplotlib inline\n",
    "\n",
    "from datetime import datetime\n",
    "import os"
   ]
  },
  {
   "cell_type": "code",
   "execution_count": 2,
   "metadata": {},
   "outputs": [],
   "source": [
    "#sns.set(style=\"darkgrid\")\n",
    "pd.set_option('display.max_rows', 50)\n",
    "pd.set_option('display.max_columns', 50)\n",
    "np.set_printoptions(suppress=True)\n",
    "import warnings\n",
    "warnings.filterwarnings(\"ignore\")"
   ]
  },
  {
   "cell_type": "markdown",
   "metadata": {},
   "source": [
    "## 1. Осмотр данных"
   ]
  },
  {
   "cell_type": "code",
   "execution_count": 3,
   "metadata": {
    "scrolled": false
   },
   "outputs": [
    {
     "data": {
      "text/html": [
       "<div>\n",
       "<style scoped>\n",
       "    .dataframe tbody tr th:only-of-type {\n",
       "        vertical-align: middle;\n",
       "    }\n",
       "\n",
       "    .dataframe tbody tr th {\n",
       "        vertical-align: top;\n",
       "    }\n",
       "\n",
       "    .dataframe thead th {\n",
       "        text-align: right;\n",
       "    }\n",
       "</style>\n",
       "<table border=\"1\" class=\"dataframe\">\n",
       "  <thead>\n",
       "    <tr style=\"text-align: right;\">\n",
       "      <th></th>\n",
       "      <th>flight_id</th>\n",
       "      <th>flight_no</th>\n",
       "      <th>time_departure</th>\n",
       "      <th>city</th>\n",
       "      <th>airport</th>\n",
       "      <th>flight_time</th>\n",
       "      <th>delay_time</th>\n",
       "      <th>d_coordinates</th>\n",
       "      <th>a_coordinates</th>\n",
       "      <th>airplane</th>\n",
       "      <th>count_seats</th>\n",
       "      <th>count_tickets</th>\n",
       "      <th>total_amount</th>\n",
       "      <th>fare_conditions</th>\n",
       "      <th>seat_no</th>\n",
       "      <th>amount</th>\n",
       "    </tr>\n",
       "  </thead>\n",
       "  <tbody>\n",
       "    <tr>\n",
       "      <th>0</th>\n",
       "      <td>136119</td>\n",
       "      <td>PG0252</td>\n",
       "      <td>2017-01-03T10:05:00Z</td>\n",
       "      <td>Москва</td>\n",
       "      <td>SVO</td>\n",
       "      <td>100.0</td>\n",
       "      <td>1.0</td>\n",
       "      <td>37.3473014831539984:45.002101898192997</td>\n",
       "      <td>37.4146000000000001:55.9725990000000024</td>\n",
       "      <td>Boeing 737-300</td>\n",
       "      <td>130</td>\n",
       "      <td>113</td>\n",
       "      <td>1653000.0</td>\n",
       "      <td>Economy</td>\n",
       "      <td>10C</td>\n",
       "      <td>12200.0</td>\n",
       "    </tr>\n",
       "    <tr>\n",
       "      <th>1</th>\n",
       "      <td>136119</td>\n",
       "      <td>PG0252</td>\n",
       "      <td>2017-01-03T10:05:00Z</td>\n",
       "      <td>Москва</td>\n",
       "      <td>SVO</td>\n",
       "      <td>100.0</td>\n",
       "      <td>1.0</td>\n",
       "      <td>37.3473014831539984:45.002101898192997</td>\n",
       "      <td>37.4146000000000001:55.9725990000000024</td>\n",
       "      <td>Boeing 737-300</td>\n",
       "      <td>130</td>\n",
       "      <td>113</td>\n",
       "      <td>1653000.0</td>\n",
       "      <td>Economy</td>\n",
       "      <td>10D</td>\n",
       "      <td>12200.0</td>\n",
       "    </tr>\n",
       "    <tr>\n",
       "      <th>2</th>\n",
       "      <td>136119</td>\n",
       "      <td>PG0252</td>\n",
       "      <td>2017-01-03T10:05:00Z</td>\n",
       "      <td>Москва</td>\n",
       "      <td>SVO</td>\n",
       "      <td>100.0</td>\n",
       "      <td>1.0</td>\n",
       "      <td>37.3473014831539984:45.002101898192997</td>\n",
       "      <td>37.4146000000000001:55.9725990000000024</td>\n",
       "      <td>Boeing 737-300</td>\n",
       "      <td>130</td>\n",
       "      <td>113</td>\n",
       "      <td>1653000.0</td>\n",
       "      <td>Economy</td>\n",
       "      <td>10E</td>\n",
       "      <td>12200.0</td>\n",
       "    </tr>\n",
       "    <tr>\n",
       "      <th>3</th>\n",
       "      <td>136119</td>\n",
       "      <td>PG0252</td>\n",
       "      <td>2017-01-03T10:05:00Z</td>\n",
       "      <td>Москва</td>\n",
       "      <td>SVO</td>\n",
       "      <td>100.0</td>\n",
       "      <td>1.0</td>\n",
       "      <td>37.3473014831539984:45.002101898192997</td>\n",
       "      <td>37.4146000000000001:55.9725990000000024</td>\n",
       "      <td>Boeing 737-300</td>\n",
       "      <td>130</td>\n",
       "      <td>113</td>\n",
       "      <td>1653000.0</td>\n",
       "      <td>Economy</td>\n",
       "      <td>11A</td>\n",
       "      <td>13400.0</td>\n",
       "    </tr>\n",
       "    <tr>\n",
       "      <th>4</th>\n",
       "      <td>136119</td>\n",
       "      <td>PG0252</td>\n",
       "      <td>2017-01-03T10:05:00Z</td>\n",
       "      <td>Москва</td>\n",
       "      <td>SVO</td>\n",
       "      <td>100.0</td>\n",
       "      <td>1.0</td>\n",
       "      <td>37.3473014831539984:45.002101898192997</td>\n",
       "      <td>37.4146000000000001:55.9725990000000024</td>\n",
       "      <td>Boeing 737-300</td>\n",
       "      <td>130</td>\n",
       "      <td>113</td>\n",
       "      <td>1653000.0</td>\n",
       "      <td>Economy</td>\n",
       "      <td>11B</td>\n",
       "      <td>13400.0</td>\n",
       "    </tr>\n",
       "    <tr>\n",
       "      <th>...</th>\n",
       "      <td>...</td>\n",
       "      <td>...</td>\n",
       "      <td>...</td>\n",
       "      <td>...</td>\n",
       "      <td>...</td>\n",
       "      <td>...</td>\n",
       "      <td>...</td>\n",
       "      <td>...</td>\n",
       "      <td>...</td>\n",
       "      <td>...</td>\n",
       "      <td>...</td>\n",
       "      <td>...</td>\n",
       "      <td>...</td>\n",
       "      <td>...</td>\n",
       "      <td>...</td>\n",
       "      <td>...</td>\n",
       "    </tr>\n",
       "    <tr>\n",
       "      <th>11999</th>\n",
       "      <td>136956</td>\n",
       "      <td>PG0480</td>\n",
       "      <td>2017-02-04T09:25:00Z</td>\n",
       "      <td>Белгород</td>\n",
       "      <td>EGO</td>\n",
       "      <td>50.0</td>\n",
       "      <td>0.0</td>\n",
       "      <td>37.3473014831539984:45.002101898192997</td>\n",
       "      <td>36.5900993347167969:50.643798828125</td>\n",
       "      <td>Sukhoi Superjet-100</td>\n",
       "      <td>97</td>\n",
       "      <td>96</td>\n",
       "      <td>746400.0</td>\n",
       "      <td>Business</td>\n",
       "      <td>2D</td>\n",
       "      <td>18900.0</td>\n",
       "    </tr>\n",
       "    <tr>\n",
       "      <th>12000</th>\n",
       "      <td>136956</td>\n",
       "      <td>PG0480</td>\n",
       "      <td>2017-02-04T09:25:00Z</td>\n",
       "      <td>Белгород</td>\n",
       "      <td>EGO</td>\n",
       "      <td>50.0</td>\n",
       "      <td>0.0</td>\n",
       "      <td>37.3473014831539984:45.002101898192997</td>\n",
       "      <td>36.5900993347167969:50.643798828125</td>\n",
       "      <td>Sukhoi Superjet-100</td>\n",
       "      <td>97</td>\n",
       "      <td>96</td>\n",
       "      <td>746400.0</td>\n",
       "      <td>Business</td>\n",
       "      <td>2F</td>\n",
       "      <td>18900.0</td>\n",
       "    </tr>\n",
       "    <tr>\n",
       "      <th>12001</th>\n",
       "      <td>136956</td>\n",
       "      <td>PG0480</td>\n",
       "      <td>2017-02-04T09:25:00Z</td>\n",
       "      <td>Белгород</td>\n",
       "      <td>EGO</td>\n",
       "      <td>50.0</td>\n",
       "      <td>0.0</td>\n",
       "      <td>37.3473014831539984:45.002101898192997</td>\n",
       "      <td>36.5900993347167969:50.643798828125</td>\n",
       "      <td>Sukhoi Superjet-100</td>\n",
       "      <td>97</td>\n",
       "      <td>96</td>\n",
       "      <td>746400.0</td>\n",
       "      <td>Business</td>\n",
       "      <td>3A</td>\n",
       "      <td>18900.0</td>\n",
       "    </tr>\n",
       "    <tr>\n",
       "      <th>12002</th>\n",
       "      <td>136956</td>\n",
       "      <td>PG0480</td>\n",
       "      <td>2017-02-04T09:25:00Z</td>\n",
       "      <td>Белгород</td>\n",
       "      <td>EGO</td>\n",
       "      <td>50.0</td>\n",
       "      <td>0.0</td>\n",
       "      <td>37.3473014831539984:45.002101898192997</td>\n",
       "      <td>36.5900993347167969:50.643798828125</td>\n",
       "      <td>Sukhoi Superjet-100</td>\n",
       "      <td>97</td>\n",
       "      <td>96</td>\n",
       "      <td>746400.0</td>\n",
       "      <td>Business</td>\n",
       "      <td>3C</td>\n",
       "      <td>18900.0</td>\n",
       "    </tr>\n",
       "    <tr>\n",
       "      <th>12003</th>\n",
       "      <td>136956</td>\n",
       "      <td>PG0480</td>\n",
       "      <td>2017-02-04T09:25:00Z</td>\n",
       "      <td>Белгород</td>\n",
       "      <td>EGO</td>\n",
       "      <td>50.0</td>\n",
       "      <td>0.0</td>\n",
       "      <td>37.3473014831539984:45.002101898192997</td>\n",
       "      <td>36.5900993347167969:50.643798828125</td>\n",
       "      <td>Sukhoi Superjet-100</td>\n",
       "      <td>97</td>\n",
       "      <td>96</td>\n",
       "      <td>746400.0</td>\n",
       "      <td>Business</td>\n",
       "      <td>3D</td>\n",
       "      <td>18900.0</td>\n",
       "    </tr>\n",
       "  </tbody>\n",
       "</table>\n",
       "<p>12004 rows × 16 columns</p>\n",
       "</div>"
      ],
      "text/plain": [
       "       flight_id flight_no        time_departure      city airport  \\\n",
       "0         136119    PG0252  2017-01-03T10:05:00Z    Москва     SVO   \n",
       "1         136119    PG0252  2017-01-03T10:05:00Z    Москва     SVO   \n",
       "2         136119    PG0252  2017-01-03T10:05:00Z    Москва     SVO   \n",
       "3         136119    PG0252  2017-01-03T10:05:00Z    Москва     SVO   \n",
       "4         136119    PG0252  2017-01-03T10:05:00Z    Москва     SVO   \n",
       "...          ...       ...                   ...       ...     ...   \n",
       "11999     136956    PG0480  2017-02-04T09:25:00Z  Белгород     EGO   \n",
       "12000     136956    PG0480  2017-02-04T09:25:00Z  Белгород     EGO   \n",
       "12001     136956    PG0480  2017-02-04T09:25:00Z  Белгород     EGO   \n",
       "12002     136956    PG0480  2017-02-04T09:25:00Z  Белгород     EGO   \n",
       "12003     136956    PG0480  2017-02-04T09:25:00Z  Белгород     EGO   \n",
       "\n",
       "       flight_time  delay_time                           d_coordinates  \\\n",
       "0            100.0         1.0  37.3473014831539984:45.002101898192997   \n",
       "1            100.0         1.0  37.3473014831539984:45.002101898192997   \n",
       "2            100.0         1.0  37.3473014831539984:45.002101898192997   \n",
       "3            100.0         1.0  37.3473014831539984:45.002101898192997   \n",
       "4            100.0         1.0  37.3473014831539984:45.002101898192997   \n",
       "...            ...         ...                                     ...   \n",
       "11999         50.0         0.0  37.3473014831539984:45.002101898192997   \n",
       "12000         50.0         0.0  37.3473014831539984:45.002101898192997   \n",
       "12001         50.0         0.0  37.3473014831539984:45.002101898192997   \n",
       "12002         50.0         0.0  37.3473014831539984:45.002101898192997   \n",
       "12003         50.0         0.0  37.3473014831539984:45.002101898192997   \n",
       "\n",
       "                                 a_coordinates             airplane  \\\n",
       "0      37.4146000000000001:55.9725990000000024       Boeing 737-300   \n",
       "1      37.4146000000000001:55.9725990000000024       Boeing 737-300   \n",
       "2      37.4146000000000001:55.9725990000000024       Boeing 737-300   \n",
       "3      37.4146000000000001:55.9725990000000024       Boeing 737-300   \n",
       "4      37.4146000000000001:55.9725990000000024       Boeing 737-300   \n",
       "...                                        ...                  ...   \n",
       "11999      36.5900993347167969:50.643798828125  Sukhoi Superjet-100   \n",
       "12000      36.5900993347167969:50.643798828125  Sukhoi Superjet-100   \n",
       "12001      36.5900993347167969:50.643798828125  Sukhoi Superjet-100   \n",
       "12002      36.5900993347167969:50.643798828125  Sukhoi Superjet-100   \n",
       "12003      36.5900993347167969:50.643798828125  Sukhoi Superjet-100   \n",
       "\n",
       "       count_seats  count_tickets  total_amount fare_conditions seat_no  \\\n",
       "0              130            113     1653000.0         Economy     10C   \n",
       "1              130            113     1653000.0         Economy     10D   \n",
       "2              130            113     1653000.0         Economy     10E   \n",
       "3              130            113     1653000.0         Economy     11A   \n",
       "4              130            113     1653000.0         Economy     11B   \n",
       "...            ...            ...           ...             ...     ...   \n",
       "11999           97             96      746400.0        Business      2D   \n",
       "12000           97             96      746400.0        Business      2F   \n",
       "12001           97             96      746400.0        Business      3A   \n",
       "12002           97             96      746400.0        Business      3C   \n",
       "12003           97             96      746400.0        Business      3D   \n",
       "\n",
       "        amount  \n",
       "0      12200.0  \n",
       "1      12200.0  \n",
       "2      12200.0  \n",
       "3      13400.0  \n",
       "4      13400.0  \n",
       "...        ...  \n",
       "11999  18900.0  \n",
       "12000  18900.0  \n",
       "12001  18900.0  \n",
       "12002  18900.0  \n",
       "12003  18900.0  \n",
       "\n",
       "[12004 rows x 16 columns]"
      ]
     },
     "execution_count": 3,
     "metadata": {},
     "output_type": "execute_result"
    }
   ],
   "source": [
    "flights = pd.read_csv(os.getcwd() + '/data/query_result_final.csv')\n",
    "flights"
   ]
  },
  {
   "cell_type": "code",
   "execution_count": 4,
   "metadata": {},
   "outputs": [
    {
     "name": "stdout",
     "output_type": "stream",
     "text": [
      "<class 'pandas.core.frame.DataFrame'>\n",
      "RangeIndex: 12004 entries, 0 to 12003\n",
      "Data columns (total 16 columns):\n",
      " #   Column           Non-Null Count  Dtype  \n",
      "---  ------           --------------  -----  \n",
      " 0   flight_id        12004 non-null  int64  \n",
      " 1   flight_no        12004 non-null  object \n",
      " 2   time_departure   12004 non-null  object \n",
      " 3   city             12004 non-null  object \n",
      " 4   airport          12004 non-null  object \n",
      " 5   flight_time      12004 non-null  float64\n",
      " 6   delay_time       12004 non-null  float64\n",
      " 7   d_coordinates    12004 non-null  object \n",
      " 8   a_coordinates    12004 non-null  object \n",
      " 9   airplane         12004 non-null  object \n",
      " 10  count_seats      12004 non-null  int64  \n",
      " 11  count_tickets    12004 non-null  int64  \n",
      " 12  total_amount     11995 non-null  float64\n",
      " 13  fare_conditions  11995 non-null  object \n",
      " 14  seat_no          11995 non-null  object \n",
      " 15  amount           11995 non-null  float64\n",
      "dtypes: float64(4), int64(3), object(9)\n",
      "memory usage: 1.5+ MB\n"
     ]
    }
   ],
   "source": [
    "flights.info()"
   ]
  },
  {
   "cell_type": "code",
   "execution_count": 5,
   "metadata": {},
   "outputs": [
    {
     "data": {
      "text/plain": [
       "Index(['flight_id', 'flight_no', 'time_departure', 'city', 'airport',\n",
       "       'flight_time', 'delay_time', 'd_coordinates', 'a_coordinates',\n",
       "       'airplane', 'count_seats', 'count_tickets', 'total_amount',\n",
       "       'fare_conditions', 'seat_no', 'amount'],\n",
       "      dtype='object')"
      ]
     },
     "execution_count": 5,
     "metadata": {},
     "output_type": "execute_result"
    }
   ],
   "source": [
    "flights.columns"
   ]
  },
  {
   "cell_type": "code",
   "execution_count": 6,
   "metadata": {},
   "outputs": [
    {
     "data": {
      "text/html": [
       "<div>\n",
       "<style scoped>\n",
       "    .dataframe tbody tr th:only-of-type {\n",
       "        vertical-align: middle;\n",
       "    }\n",
       "\n",
       "    .dataframe tbody tr th {\n",
       "        vertical-align: top;\n",
       "    }\n",
       "\n",
       "    .dataframe thead th {\n",
       "        text-align: right;\n",
       "    }\n",
       "</style>\n",
       "<table border=\"1\" class=\"dataframe\">\n",
       "  <thead>\n",
       "    <tr style=\"text-align: right;\">\n",
       "      <th></th>\n",
       "      <th>flight_id</th>\n",
       "      <th>flight_no</th>\n",
       "      <th>time_departure</th>\n",
       "      <th>city</th>\n",
       "      <th>airport</th>\n",
       "      <th>flight_time</th>\n",
       "      <th>delay_time</th>\n",
       "      <th>d_coordinates</th>\n",
       "      <th>a_coordinates</th>\n",
       "      <th>airplane</th>\n",
       "      <th>count_seats</th>\n",
       "      <th>count_tickets</th>\n",
       "      <th>total_amount</th>\n",
       "      <th>fare_conditions</th>\n",
       "      <th>seat_no</th>\n",
       "      <th>amount</th>\n",
       "    </tr>\n",
       "  </thead>\n",
       "  <tbody>\n",
       "    <tr>\n",
       "      <th>NaN</th>\n",
       "      <td>0</td>\n",
       "      <td>0</td>\n",
       "      <td>0</td>\n",
       "      <td>0</td>\n",
       "      <td>0</td>\n",
       "      <td>0</td>\n",
       "      <td>0</td>\n",
       "      <td>0</td>\n",
       "      <td>0</td>\n",
       "      <td>0</td>\n",
       "      <td>0</td>\n",
       "      <td>0</td>\n",
       "      <td>9</td>\n",
       "      <td>9</td>\n",
       "      <td>9</td>\n",
       "      <td>9</td>\n",
       "    </tr>\n",
       "  </tbody>\n",
       "</table>\n",
       "</div>"
      ],
      "text/plain": [
       "     flight_id  flight_no  time_departure  city  airport  flight_time  \\\n",
       "NaN          0          0               0     0        0            0   \n",
       "\n",
       "     delay_time  d_coordinates  a_coordinates  airplane  count_seats  \\\n",
       "NaN           0              0              0         0            0   \n",
       "\n",
       "     count_tickets  total_amount  fare_conditions  seat_no  amount  \n",
       "NaN              0             9                9        9       9  "
      ]
     },
     "execution_count": 6,
     "metadata": {},
     "output_type": "execute_result"
    }
   ],
   "source": [
    "pd.DataFrame(flights.isna().sum(), columns=['NaN']).T"
   ]
  },
  {
   "cell_type": "code",
   "execution_count": 7,
   "metadata": {},
   "outputs": [],
   "source": [
    "flights.time_departure = pd.to_datetime(flights.time_departure, format= '%Y-%m-%dT%H:%M:%SZ')"
   ]
  },
  {
   "cell_type": "markdown",
   "metadata": {},
   "source": [
    "## 2. Первичный анализ данных в столбцах"
   ]
  },
  {
   "cell_type": "code",
   "execution_count": 8,
   "metadata": {},
   "outputs": [],
   "source": [
    "def _look(df, col):\n",
    "\n",
    "    print('Столбец', col)\n",
    "    fig, ax = plt.subplots()\n",
    "    if df.loc[:, col].dtype == np.dtype('O'):\n",
    "        sns.countplot(df.loc[:, col], ax=ax)\n",
    "    else:\n",
    "        df.loc[:, col].hist(ax=ax)\n",
    "        ax.set_xlabel(col)\n",
    "        ax.set_ylabel('count')\n",
    "    plt.show()"
   ]
  },
  {
   "cell_type": "code",
   "execution_count": 9,
   "metadata": {},
   "outputs": [],
   "source": [
    "def display_df(df):\n",
    "    for col in df.columns:\n",
    "        if col not in ['flight_id','time_departure','d_coordinates', 'a_coordinates', 'seat_no']: \n",
    "            _look(df,col)"
   ]
  },
  {
   "cell_type": "code",
   "execution_count": 10,
   "metadata": {
    "scrolled": false
   },
   "outputs": [
    {
     "name": "stdout",
     "output_type": "stream",
     "text": [
      "Столбец flight_no\n"
     ]
    },
    {
     "data": {
      "image/png": "[encoded data removed]",
      "text/plain": [
       "<Figure size 432x288 with 1 Axes>"
      ]
     },
     "metadata": {
      "needs_background": "light"
     },
     "output_type": "display_data"
    },
    {
     "name": "stdout",
     "output_type": "stream",
     "text": [
      "Столбец city\n"
     ]
    },
    {
     "data": {
      "image/png": "[encoded data removed]",
      "text/plain": [
       "<Figure size 432x288 with 1 Axes>"
      ]
     },
     "metadata": {
      "needs_background": "light"
     },
     "output_type": "display_data"
    },
    {
     "name": "stdout",
     "output_type": "stream",
     "text": [
      "Столбец airport\n"
     ]
    },
    {
     "data": {
      "image/png": "[encoded data removed]",
      "text/plain": [
       "<Figure size 432x288 with 1 Axes>"
      ]
     },
     "metadata": {
      "needs_background": "light"
     },
     "output_type": "display_data"
    },
    {
     "name": "stdout",
     "output_type": "stream",
     "text": [
      "Столбец flight_time\n"
     ]
    },
    {
     "data": {
      "image/png": "[encoded data removed]",
      "text/plain": [
       "<Figure size 432x288 with 1 Axes>"
      ]
     },
     "metadata": {
      "needs_background": "light"
     },
     "output_type": "display_data"
    },
    {
     "name": "stdout",
     "output_type": "stream",
     "text": [
      "Столбец delay_time\n"
     ]
    },
    {
     "data": {
      "image/png": "[encoded data removed]",
      "text/plain": [
       "<Figure size 432x288 with 1 Axes>"
      ]
     },
     "metadata": {
      "needs_background": "light"
     },
     "output_type": "display_data"
    },
    {
     "name": "stdout",
     "output_type": "stream",
     "text": [
      "Столбец airplane\n"
     ]
    },
    {
     "data": {
      "image/png": "[encoded data removed]",
      "text/plain": [
       "<Figure size 432x288 with 1 Axes>"
      ]
     },
     "metadata": {
      "needs_background": "light"
     },
     "output_type": "display_data"
    },
    {
     "name": "stdout",
     "output_type": "stream",
     "text": [
      "Столбец count_seats\n"
     ]
    },
    {
     "data": {
      "image/png": "[encoded data removed]",
      "text/plain": [
       "<Figure size 432x288 with 1 Axes>"
      ]
     },
     "metadata": {
      "needs_background": "light"
     },
     "output_type": "display_data"
    },
    {
     "name": "stdout",
     "output_type": "stream",
     "text": [
      "Столбец count_tickets\n"
     ]
    },
    {
     "data": {
      "image/png": "[encoded data removed]",
      "text/plain": [
       "<Figure size 432x288 with 1 Axes>"
      ]
     },
     "metadata": {
      "needs_background": "light"
     },
     "output_type": "display_data"
    },
    {
     "name": "stdout",
     "output_type": "stream",
     "text": [
      "Столбец total_amount\n"
     ]
    },
    {
     "data": {
      "image/png": "[encoded data removed]",
      "text/plain": [
       "<Figure size 432x288 with 1 Axes>"
      ]
     },
     "metadata": {
      "needs_background": "light"
     },
     "output_type": "display_data"
    },
    {
     "name": "stdout",
     "output_type": "stream",
     "text": [
      "Столбец fare_conditions\n"
     ]
    },
    {
     "data": {
      "image/png": "[encoded data removed]",
      "text/plain": [
       "<Figure size 432x288 with 1 Axes>"
      ]
     },
     "metadata": {
      "needs_background": "light"
     },
     "output_type": "display_data"
    },
    {
     "name": "stdout",
     "output_type": "stream",
     "text": [
      "Столбец amount\n"
     ]
    },
    {
     "data": {
      "image/png": "[encoded data removed]",
      "text/plain": [
       "<Figure size 432x288 with 1 Axes>"
      ]
     },
     "metadata": {
      "needs_background": "light"
     },
     "output_type": "display_data"
    }
   ],
   "source": [
    "display_df(flights)"
   ]
  },
  {
   "cell_type": "code",
   "execution_count": 11,
   "metadata": {},
   "outputs": [],
   "source": [
    "flights.dropna(inplace = True)"
   ]
  },
  {
   "cell_type": "code",
   "execution_count": 12,
   "metadata": {},
   "outputs": [],
   "source": [
    "flights['uplift_ratio'] = flights['count_tickets'] * 100 / flights['count_seats']\n",
    "flights = flights.round({'uplift_ratio': 1})"
   ]
  },
  {
   "cell_type": "code",
   "execution_count": 13,
   "metadata": {},
   "outputs": [],
   "source": [
    "# вычисление дистанции между аэропортами по их географическим координатам\n",
    "\n",
    "def get_distance(row):\n",
    "    \n",
    "    _lng_1, _lat_1 = row.a_coordinates.split(':')\n",
    "    _lng_2, _lat_2 = row.d_coordinates.split(':')\n",
    "    lon1, lat1, lon2, lat2 = map(radians, [float(_lng_1), float(_lat_1), float(_lng_2), float(_lat_2)])\n",
    "    dlon = lon2 - lon1\n",
    "    dlat = lat2 - lat1\n",
    "    a = sin(dlat/2)**2 + cos(lat1) * cos(lat2) * sin(dlon/2)**2\n",
    "    c = 2 * asin(sqrt(a))\n",
    "    earth_radius = 6371\n",
    "    row.distance = c * earth_radius\n",
    "    return row"
   ]
  },
  {
   "cell_type": "code",
   "execution_count": 14,
   "metadata": {},
   "outputs": [],
   "source": [
    "flights['distance'] = 0\n",
    "flights = flights.apply(get_distance, axis = 1)\n",
    "flights = flights.round({'distance': 0})"
   ]
  },
  {
   "cell_type": "code",
   "execution_count": 15,
   "metadata": {},
   "outputs": [],
   "source": [
    "# Стоимость авиакеросина в 2017 году 43400 руб. за тонну\n",
    "# Часовой расход топлива по видам бортов\n",
    "# Boeing 737-300 - 2.6 тн\n",
    "# Cухой Cуперджет 100 - 1.75 тн\n",
    "\n",
    "def get_fuel_cost(row):\n",
    "    \n",
    "    if row.airplane == 'Boeing 737-30':\n",
    "        fuel_rate = 2.6\n",
    "    elif row.airplane == 'Sukhoi Superjet-100':\n",
    "        fuel_rate = 1.75\n",
    "    else:\n",
    "        fuel_rate = 2.2\n",
    "    row.fuel_cost = 43400 * fuel_rate * row.flight_time / 60   \n",
    "    row.operation_profit = row.total_amount - row.fuel_cost \n",
    "    row.profit_flight_time = row.operation_profit / (row.flight_time / 60)\n",
    "    return row"
   ]
  },
  {
   "cell_type": "code",
   "execution_count": 16,
   "metadata": {},
   "outputs": [],
   "source": [
    "flights['fuel_cost'] = 0\n",
    "flights['operation_profit'] = 0\n",
    "flights['profit_flight_time'] = 0\n",
    "\n",
    "flights = flights.apply(get_fuel_cost, axis = 1)\n",
    "flights = flights.round({'fuel_cost': 0, 'operation_profit': 0, 'profit_flight_time': 0})"
   ]
  },
  {
   "cell_type": "code",
   "execution_count": 17,
   "metadata": {},
   "outputs": [],
   "source": [
    "flights_spec = flights[['flight_no', 'city', 'airport', 'flight_time', 'delay_time',\n",
    "                   'airplane', 'uplift_ratio', 'total_amount', 'fuel_cost', 'operation_profit', 'profit_flight_time']]\n",
    "flights_spec.drop_duplicates(inplace = True)\n",
    "flights_spec.reset_index(drop = True, inplace=True)"
   ]
  },
  {
   "cell_type": "code",
   "execution_count": 18,
   "metadata": {},
   "outputs": [
    {
     "data": {
      "text/html": [
       "<div>\n",
       "<style scoped>\n",
       "    .dataframe tbody tr th:only-of-type {\n",
       "        vertical-align: middle;\n",
       "    }\n",
       "\n",
       "    .dataframe tbody tr th {\n",
       "        vertical-align: top;\n",
       "    }\n",
       "\n",
       "    .dataframe thead th {\n",
       "        text-align: right;\n",
       "    }\n",
       "</style>\n",
       "<table border=\"1\" class=\"dataframe\">\n",
       "  <thead>\n",
       "    <tr style=\"text-align: right;\">\n",
       "      <th></th>\n",
       "      <th>flight_no</th>\n",
       "      <th>city</th>\n",
       "      <th>airport</th>\n",
       "      <th>flight_time</th>\n",
       "      <th>delay_time</th>\n",
       "      <th>airplane</th>\n",
       "      <th>uplift_ratio</th>\n",
       "      <th>total_amount</th>\n",
       "      <th>fuel_cost</th>\n",
       "      <th>operation_profit</th>\n",
       "      <th>profit_flight_time</th>\n",
       "    </tr>\n",
       "  </thead>\n",
       "  <tbody>\n",
       "    <tr>\n",
       "      <th>0</th>\n",
       "      <td>PG0252</td>\n",
       "      <td>Москва</td>\n",
       "      <td>SVO</td>\n",
       "      <td>100.0</td>\n",
       "      <td>1.0</td>\n",
       "      <td>Boeing 737-300</td>\n",
       "      <td>86.9</td>\n",
       "      <td>1653000.0</td>\n",
       "      <td>159133.0</td>\n",
       "      <td>1493867.0</td>\n",
       "      <td>896320.0</td>\n",
       "    </tr>\n",
       "    <tr>\n",
       "      <th>1</th>\n",
       "      <td>PG0252</td>\n",
       "      <td>Москва</td>\n",
       "      <td>SVO</td>\n",
       "      <td>100.0</td>\n",
       "      <td>-1.0</td>\n",
       "      <td>Boeing 737-300</td>\n",
       "      <td>83.8</td>\n",
       "      <td>1605400.0</td>\n",
       "      <td>159133.0</td>\n",
       "      <td>1446267.0</td>\n",
       "      <td>867760.0</td>\n",
       "    </tr>\n",
       "    <tr>\n",
       "      <th>2</th>\n",
       "      <td>PG0252</td>\n",
       "      <td>Москва</td>\n",
       "      <td>SVO</td>\n",
       "      <td>100.0</td>\n",
       "      <td>0.0</td>\n",
       "      <td>Boeing 737-300</td>\n",
       "      <td>74.6</td>\n",
       "      <td>1431000.0</td>\n",
       "      <td>159133.0</td>\n",
       "      <td>1271867.0</td>\n",
       "      <td>763120.0</td>\n",
       "    </tr>\n",
       "    <tr>\n",
       "      <th>3</th>\n",
       "      <td>PG0252</td>\n",
       "      <td>Москва</td>\n",
       "      <td>SVO</td>\n",
       "      <td>100.0</td>\n",
       "      <td>-1.0</td>\n",
       "      <td>Boeing 737-300</td>\n",
       "      <td>82.3</td>\n",
       "      <td>1556600.0</td>\n",
       "      <td>159133.0</td>\n",
       "      <td>1397467.0</td>\n",
       "      <td>838480.0</td>\n",
       "    </tr>\n",
       "    <tr>\n",
       "      <th>4</th>\n",
       "      <td>PG0252</td>\n",
       "      <td>Москва</td>\n",
       "      <td>SVO</td>\n",
       "      <td>100.0</td>\n",
       "      <td>-1.0</td>\n",
       "      <td>Boeing 737-300</td>\n",
       "      <td>95.4</td>\n",
       "      <td>1812800.0</td>\n",
       "      <td>159133.0</td>\n",
       "      <td>1653667.0</td>\n",
       "      <td>992200.0</td>\n",
       "    </tr>\n",
       "    <tr>\n",
       "      <th>...</th>\n",
       "      <td>...</td>\n",
       "      <td>...</td>\n",
       "      <td>...</td>\n",
       "      <td>...</td>\n",
       "      <td>...</td>\n",
       "      <td>...</td>\n",
       "      <td>...</td>\n",
       "      <td>...</td>\n",
       "      <td>...</td>\n",
       "      <td>...</td>\n",
       "      <td>...</td>\n",
       "    </tr>\n",
       "    <tr>\n",
       "      <th>89</th>\n",
       "      <td>PG0480</td>\n",
       "      <td>Белгород</td>\n",
       "      <td>EGO</td>\n",
       "      <td>50.0</td>\n",
       "      <td>1.0</td>\n",
       "      <td>Sukhoi Superjet-100</td>\n",
       "      <td>99.0</td>\n",
       "      <td>759000.0</td>\n",
       "      <td>63292.0</td>\n",
       "      <td>695708.0</td>\n",
       "      <td>834850.0</td>\n",
       "    </tr>\n",
       "    <tr>\n",
       "      <th>90</th>\n",
       "      <td>PG0480</td>\n",
       "      <td>Белгород</td>\n",
       "      <td>EGO</td>\n",
       "      <td>50.0</td>\n",
       "      <td>0.0</td>\n",
       "      <td>Sukhoi Superjet-100</td>\n",
       "      <td>78.4</td>\n",
       "      <td>607800.0</td>\n",
       "      <td>63292.0</td>\n",
       "      <td>544508.0</td>\n",
       "      <td>653410.0</td>\n",
       "    </tr>\n",
       "    <tr>\n",
       "      <th>91</th>\n",
       "      <td>PG0480</td>\n",
       "      <td>Белгород</td>\n",
       "      <td>EGO</td>\n",
       "      <td>50.0</td>\n",
       "      <td>0.0</td>\n",
       "      <td>Sukhoi Superjet-100</td>\n",
       "      <td>84.5</td>\n",
       "      <td>632400.0</td>\n",
       "      <td>63292.0</td>\n",
       "      <td>569108.0</td>\n",
       "      <td>682930.0</td>\n",
       "    </tr>\n",
       "    <tr>\n",
       "      <th>92</th>\n",
       "      <td>PG0480</td>\n",
       "      <td>Белгород</td>\n",
       "      <td>EGO</td>\n",
       "      <td>50.0</td>\n",
       "      <td>0.0</td>\n",
       "      <td>Sukhoi Superjet-100</td>\n",
       "      <td>83.5</td>\n",
       "      <td>626100.0</td>\n",
       "      <td>63292.0</td>\n",
       "      <td>562808.0</td>\n",
       "      <td>675370.0</td>\n",
       "    </tr>\n",
       "    <tr>\n",
       "      <th>93</th>\n",
       "      <td>PG0480</td>\n",
       "      <td>Белгород</td>\n",
       "      <td>EGO</td>\n",
       "      <td>50.0</td>\n",
       "      <td>-1.0</td>\n",
       "      <td>Sukhoi Superjet-100</td>\n",
       "      <td>92.8</td>\n",
       "      <td>720600.0</td>\n",
       "      <td>63292.0</td>\n",
       "      <td>657308.0</td>\n",
       "      <td>788770.0</td>\n",
       "    </tr>\n",
       "  </tbody>\n",
       "</table>\n",
       "<p>94 rows × 11 columns</p>\n",
       "</div>"
      ],
      "text/plain": [
       "   flight_no      city airport  flight_time  delay_time             airplane  \\\n",
       "0     PG0252    Москва     SVO        100.0         1.0       Boeing 737-300   \n",
       "1     PG0252    Москва     SVO        100.0        -1.0       Boeing 737-300   \n",
       "2     PG0252    Москва     SVO        100.0         0.0       Boeing 737-300   \n",
       "3     PG0252    Москва     SVO        100.0        -1.0       Boeing 737-300   \n",
       "4     PG0252    Москва     SVO        100.0        -1.0       Boeing 737-300   \n",
       "..       ...       ...     ...          ...         ...                  ...   \n",
       "89    PG0480  Белгород     EGO         50.0         1.0  Sukhoi Superjet-100   \n",
       "90    PG0480  Белгород     EGO         50.0         0.0  Sukhoi Superjet-100   \n",
       "91    PG0480  Белгород     EGO         50.0         0.0  Sukhoi Superjet-100   \n",
       "92    PG0480  Белгород     EGO         50.0         0.0  Sukhoi Superjet-100   \n",
       "93    PG0480  Белгород     EGO         50.0        -1.0  Sukhoi Superjet-100   \n",
       "\n",
       "    uplift_ratio  total_amount  fuel_cost  operation_profit  \\\n",
       "0           86.9     1653000.0   159133.0         1493867.0   \n",
       "1           83.8     1605400.0   159133.0         1446267.0   \n",
       "2           74.6     1431000.0   159133.0         1271867.0   \n",
       "3           82.3     1556600.0   159133.0         1397467.0   \n",
       "4           95.4     1812800.0   159133.0         1653667.0   \n",
       "..           ...           ...        ...               ...   \n",
       "89          99.0      759000.0    63292.0          695708.0   \n",
       "90          78.4      607800.0    63292.0          544508.0   \n",
       "91          84.5      632400.0    63292.0          569108.0   \n",
       "92          83.5      626100.0    63292.0          562808.0   \n",
       "93          92.8      720600.0    63292.0          657308.0   \n",
       "\n",
       "    profit_flight_time  \n",
       "0             896320.0  \n",
       "1             867760.0  \n",
       "2             763120.0  \n",
       "3             838480.0  \n",
       "4             992200.0  \n",
       "..                 ...  \n",
       "89            834850.0  \n",
       "90            653410.0  \n",
       "91            682930.0  \n",
       "92            675370.0  \n",
       "93            788770.0  \n",
       "\n",
       "[94 rows x 11 columns]"
      ]
     },
     "execution_count": 18,
     "metadata": {},
     "output_type": "execute_result"
    }
   ],
   "source": [
    "flights_spec"
   ]
  },
  {
   "cell_type": "code",
   "execution_count": 19,
   "metadata": {},
   "outputs": [
    {
     "name": "stdout",
     "output_type": "stream",
     "text": [
      "Столбец flight_no\n"
     ]
    },
    {
     "data": {
      "image/png": "[encoded data removed]",
      "text/plain": [
       "<Figure size 432x288 with 1 Axes>"
      ]
     },
     "metadata": {
      "needs_background": "light"
     },
     "output_type": "display_data"
    },
    {
     "name": "stdout",
     "output_type": "stream",
     "text": [
      "Столбец city\n"
     ]
    },
    {
     "data": {
      "image/png": "[encoded data removed]",
      "text/plain": [
       "<Figure size 432x288 with 1 Axes>"
      ]
     },
     "metadata": {
      "needs_background": "light"
     },
     "output_type": "display_data"
    },
    {
     "name": "stdout",
     "output_type": "stream",
     "text": [
      "Столбец airport\n"
     ]
    },
    {
     "data": {
      "image/png": "[encoded data removed]",
      "text/plain": [
       "<Figure size 432x288 with 1 Axes>"
      ]
     },
     "metadata": {
      "needs_background": "light"
     },
     "output_type": "display_data"
    },
    {
     "name": "stdout",
     "output_type": "stream",
     "text": [
      "Столбец flight_time\n"
     ]
    },
    {
     "data": {
      "image/png": "[encoded data removed]",
      "text/plain": [
       "<Figure size 432x288 with 1 Axes>"
      ]
     },
     "metadata": {
      "needs_background": "light"
     },
     "output_type": "display_data"
    },
    {
     "name": "stdout",
     "output_type": "stream",
     "text": [
      "Столбец delay_time\n"
     ]
    },
    {
     "data": {
      "image/png": "[encoded data removed]",
      "text/plain": [
       "<Figure size 432x288 with 1 Axes>"
      ]
     },
     "metadata": {
      "needs_background": "light"
     },
     "output_type": "display_data"
    },
    {
     "name": "stdout",
     "output_type": "stream",
     "text": [
      "Столбец airplane\n"
     ]
    },
    {
     "data": {
      "image/png": "[encoded data removed]",
      "text/plain": [
       "<Figure size 432x288 with 1 Axes>"
      ]
     },
     "metadata": {
      "needs_background": "light"
     },
     "output_type": "display_data"
    },
    {
     "name": "stdout",
     "output_type": "stream",
     "text": [
      "Столбец uplift_ratio\n"
     ]
    },
    {
     "data": {
      "image/png": "[encoded data removed]",
      "text/plain": [
       "<Figure size 432x288 with 1 Axes>"
      ]
     },
     "metadata": {
      "needs_background": "light"
     },
     "output_type": "display_data"
    },
    {
     "name": "stdout",
     "output_type": "stream",
     "text": [
      "Столбец total_amount\n"
     ]
    },
    {
     "data": {
      "image/png": "[encoded data removed]",
      "text/plain": [
       "<Figure size 432x288 with 1 Axes>"
      ]
     },
     "metadata": {
      "needs_background": "light"
     },
     "output_type": "display_data"
    },
    {
     "name": "stdout",
     "output_type": "stream",
     "text": [
      "Столбец fuel_cost\n"
     ]
    },
    {
     "data": {
      "image/png": "[encoded data removed]",
      "text/plain": [
       "<Figure size 432x288 with 1 Axes>"
      ]
     },
     "metadata": {
      "needs_background": "light"
     },
     "output_type": "display_data"
    },
    {
     "name": "stdout",
     "output_type": "stream",
     "text": [
      "Столбец operation_profit\n"
     ]
    },
    {
     "data": {
      "image/png": "[encoded data removed]",
      "text/plain": [
       "<Figure size 432x288 with 1 Axes>"
      ]
     },
     "metadata": {
      "needs_background": "light"
     },
     "output_type": "display_data"
    },
    {
     "name": "stdout",
     "output_type": "stream",
     "text": [
      "Столбец profit_flight_time\n"
     ]
    },
    {
     "data": {
      "image/png": "[encoded data removed]",
      "text/plain": [
       "<Figure size 432x288 with 1 Axes>"
      ]
     },
     "metadata": {
      "needs_background": "light"
     },
     "output_type": "display_data"
    }
   ],
   "source": [
    "display_df(flights_spec)"
   ]
  },
  {
   "cell_type": "code",
   "execution_count": 20,
   "metadata": {},
   "outputs": [],
   "source": [
    "def show_bar(df):\n",
    "    for col in df.columns:\n",
    "        fig = plt.figure()\n",
    "        axes = fig.add_axes([0, 0, 0.8, 1])\n",
    "        axes.grid()\n",
    "        axes.bar(x = df.index, height = df[col], \n",
    "                width = 0.5, align = 'center')\n",
    "        plt.title(col)\n",
    "        plt.show()"
   ]
  },
  {
   "cell_type": "code",
   "execution_count": 26,
   "metadata": {},
   "outputs": [
    {
     "data": {
      "text/html": [
       "<div>\n",
       "<style scoped>\n",
       "    .dataframe tbody tr th:only-of-type {\n",
       "        vertical-align: middle;\n",
       "    }\n",
       "\n",
       "    .dataframe tbody tr th {\n",
       "        vertical-align: top;\n",
       "    }\n",
       "\n",
       "    .dataframe thead th {\n",
       "        text-align: right;\n",
       "    }\n",
       "</style>\n",
       "<table border=\"1\" class=\"dataframe\">\n",
       "  <thead>\n",
       "    <tr style=\"text-align: right;\">\n",
       "      <th></th>\n",
       "      <th>uplift_ratio</th>\n",
       "      <th>total_amount</th>\n",
       "      <th>fuel_cost</th>\n",
       "      <th>operation_profit</th>\n",
       "      <th>profit_flight_time</th>\n",
       "    </tr>\n",
       "    <tr>\n",
       "      <th>city</th>\n",
       "      <th></th>\n",
       "      <th></th>\n",
       "      <th></th>\n",
       "      <th></th>\n",
       "      <th></th>\n",
       "    </tr>\n",
       "  </thead>\n",
       "  <tbody>\n",
       "    <tr>\n",
       "      <th>Белгород</th>\n",
       "      <td>89.39</td>\n",
       "      <td>682271.05</td>\n",
       "      <td>63292.0</td>\n",
       "      <td>618979.05</td>\n",
       "      <td>742775.26</td>\n",
       "    </tr>\n",
       "    <tr>\n",
       "      <th>Москва</th>\n",
       "      <td>86.47</td>\n",
       "      <td>1631953.57</td>\n",
       "      <td>159133.0</td>\n",
       "      <td>1472820.57</td>\n",
       "      <td>883692.14</td>\n",
       "    </tr>\n",
       "  </tbody>\n",
       "</table>\n",
       "</div>"
      ],
      "text/plain": [
       "          uplift_ratio  total_amount  fuel_cost  operation_profit  \\\n",
       "city                                                                \n",
       "Белгород         89.39     682271.05    63292.0         618979.05   \n",
       "Москва           86.47    1631953.57   159133.0        1472820.57   \n",
       "\n",
       "          profit_flight_time  \n",
       "city                          \n",
       "Белгород           742775.26  \n",
       "Москва             883692.14  "
      ]
     },
     "metadata": {},
     "output_type": "display_data"
    }
   ],
   "source": [
    "df = flights_spec[['city', 'uplift_ratio', 'total_amount', 'fuel_cost', 'operation_profit', 'profit_flight_time']].groupby(['city']).mean().round(2)\n",
    "display(df)"
   ]
  },
  {
   "cell_type": "code",
   "execution_count": 27,
   "metadata": {},
   "outputs": [
    {
     "data": {
      "image/png": "[encoded data removed]",
      "text/plain": [
       "<Figure size 432x288 with 1 Axes>"
      ]
     },
     "metadata": {
      "needs_background": "light"
     },
     "output_type": "display_data"
    },
    {
     "data": {
      "image/png": "[encoded data removed]",
      "text/plain": [
       "<Figure size 432x288 with 1 Axes>"
      ]
     },
     "metadata": {
      "needs_background": "light"
     },
     "output_type": "display_data"
    },
    {
     "data": {
      "image/png": "[encoded data removed]",
      "text/plain": [
       "<Figure size 432x288 with 1 Axes>"
      ]
     },
     "metadata": {
      "needs_background": "light"
     },
     "output_type": "display_data"
    },
    {
     "data": {
      "image/png": "[encoded data removed]",
      "text/plain": [
       "<Figure size 432x288 with 1 Axes>"
      ]
     },
     "metadata": {
      "needs_background": "light"
     },
     "output_type": "display_data"
    },
    {
     "data": {
      "image/png": "[encoded data removed]",
      "text/plain": [
       "<Figure size 432x288 with 1 Axes>"
      ]
     },
     "metadata": {
      "needs_background": "light"
     },
     "output_type": "display_data"
    }
   ],
   "source": [
    "show_bar(df)"
   ]
  },
  {
   "cell_type": "code",
   "execution_count": 23,
   "metadata": {},
   "outputs": [
    {
     "data": {
      "text/html": [
       "<div>\n",
       "<style scoped>\n",
       "    .dataframe tbody tr th:only-of-type {\n",
       "        vertical-align: middle;\n",
       "    }\n",
       "\n",
       "    .dataframe tbody tr th {\n",
       "        vertical-align: top;\n",
       "    }\n",
       "\n",
       "    .dataframe thead th {\n",
       "        text-align: right;\n",
       "    }\n",
       "</style>\n",
       "<table border=\"1\" class=\"dataframe\">\n",
       "  <thead>\n",
       "    <tr style=\"text-align: right;\">\n",
       "      <th></th>\n",
       "      <th>total_amount</th>\n",
       "      <th>fuel_cost</th>\n",
       "      <th>operation_profit</th>\n",
       "    </tr>\n",
       "    <tr>\n",
       "      <th>city</th>\n",
       "      <th></th>\n",
       "      <th></th>\n",
       "      <th></th>\n",
       "    </tr>\n",
       "  </thead>\n",
       "  <tbody>\n",
       "    <tr>\n",
       "      <th>Белгород</th>\n",
       "      <td>25926300.0</td>\n",
       "      <td>2405096.0</td>\n",
       "      <td>23521204.0</td>\n",
       "    </tr>\n",
       "    <tr>\n",
       "      <th>Москва</th>\n",
       "      <td>91389400.0</td>\n",
       "      <td>8911448.0</td>\n",
       "      <td>82477952.0</td>\n",
       "    </tr>\n",
       "  </tbody>\n",
       "</table>\n",
       "</div>"
      ],
      "text/plain": [
       "          total_amount  fuel_cost  operation_profit\n",
       "city                                               \n",
       "Белгород    25926300.0  2405096.0        23521204.0\n",
       "Москва      91389400.0  8911448.0        82477952.0"
      ]
     },
     "metadata": {},
     "output_type": "display_data"
    }
   ],
   "source": [
    "df = flights_spec[['city', 'total_amount', 'fuel_cost', 'operation_profit']].groupby(['city']).sum().round(2)\n",
    "display(df)"
   ]
  },
  {
   "cell_type": "code",
   "execution_count": 24,
   "metadata": {},
   "outputs": [
    {
     "data": {
      "image/png": "[encoded data removed]",
      "text/plain": [
       "<Figure size 432x288 with 1 Axes>"
      ]
     },
     "metadata": {
      "needs_background": "light"
     },
     "output_type": "display_data"
    },
    {
     "data": {
      "image/png": "[encoded data removed]",
      "text/plain": [
       "<Figure size 432x288 with 1 Axes>"
      ]
     },
     "metadata": {
      "needs_background": "light"
     },
     "output_type": "display_data"
    },
    {
     "data": {
      "image/png": "[encoded data removed]",
      "text/plain": [
       "<Figure size 432x288 with 1 Axes>"
      ]
     },
     "metadata": {
      "needs_background": "light"
     },
     "output_type": "display_data"
    }
   ],
   "source": [
    "show_bar(df)"
   ]
  },
  {
   "cell_type": "markdown",
   "metadata": {},
   "source": [
    "## 5. Выводы"
   ]
  },
  {
   "cell_type": "markdown",
   "metadata": {},
   "source": [
    "* Все полеты, за исключением рейса в Новокузнецк, данные по которому были исключены из обработки по причине отсутствия ключевых параметров, с точки зрения операционного расхода в виде стоимости топлива являются прибыльными 'operation_profit', причем наиболее прибыльным является рейс в Москву.\n",
    "* Возможно, некоторое уменьшение операционной прибыли связано с недозагрузкой бортов, причем эта величина 'uplift_ratio' является наибольшей тоже на рейсах в Москву, что в принципе связано с большей пассажироемкостью Боингов по сравнению с Суперджетами, что используются на рейсах в Белгород.\n",
    "* Для полноты оценки прибыльности/убыточности рейсов необходимо проанализировать расходы на лизинг авиационной техники, стоимости обслуживания в соответствующих аэропортах и расходы на подготовку и содержание экипажей. Указанные данные в базе данных отсутствуют"
   ]
  },
  {
   "cell_type": "code",
   "execution_count": null,
   "metadata": {},
   "outputs": [],
   "source": []
  }
 ],
 "metadata": {
  "kernelspec": {
   "display_name": "Python 3",
   "language": "python",
   "name": "python3"
  },
  "language_info": {
   "codemirror_mode": {
    "name": "ipython",
    "version": 3
   },
   "file_extension": ".py",
   "mimetype": "text/x-python",
   "name": "python",
   "nbconvert_exporter": "python",
   "pygments_lexer": "ipython3",
   "version": "3.8.3"
  },
  "varInspector": {
   "cols": {
    "lenName": 16,
    "lenType": 16,
    "lenVar": 40
   },
   "kernels_config": {
    "python": {
     "delete_cmd_postfix": "",
     "delete_cmd_prefix": "del ",
     "library": "var_list.py",
     "varRefreshCmd": "print(var_dic_list())"
    },
    "r": {
     "delete_cmd_postfix": ") ",
     "delete_cmd_prefix": "rm(",
     "library": "var_list.r",
     "varRefreshCmd": "cat(var_dic_list()) "
    }
   },
   "position": {
    "height": "665.4px",
    "left": "1166px",
    "right": "20px",
    "top": "120px",
    "width": "350px"
   },
   "types_to_exclude": [
    "module",
    "function",
    "builtin_function_or_method",
    "instance",
    "_Feature"
   ],
   "window_display": false
  }
 },
 "nbformat": 4,
 "nbformat_minor": 4
}
