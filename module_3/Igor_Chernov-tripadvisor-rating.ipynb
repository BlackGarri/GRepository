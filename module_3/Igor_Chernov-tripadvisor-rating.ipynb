{
 "cells": [
  {
   "cell_type": "markdown",
   "metadata": {},
   "source": [
    "# Predict TripAdvisor Rating"
   ]
  },
  {
   "cell_type": "markdown",
   "metadata": {},
   "source": [
    "В этом соревновании нам предстоит предсказать рейтинг ресторана в TripAdvisor\n",
    "По ходу задачи:\n",
    "\n",
    "Прокачаем работу с pandas\n",
    "Научимся работать с Kaggle Notebooks\n",
    "Поймем как делать предобработку различных данных\n",
    "Научимся работать с пропущенными данными (Nan)\n",
    "Познакомимся с различными видами кодирования признаков\n",
    "Немного попробуем Feature Engineering (генерировать новые признаки)\n",
    "И совсем немного затронем ML\n",
    "И многое другое...\n",
    "И самое важное, все это вы сможете сделать самостоятельно!\n",
    "Этот Ноутбук являетсся Примером/Шаблоном к этому соревнованию (Baseline) и не служит готовым решением!\n",
    "Вы можете использовать его как основу для построения своего решения.\n",
    "\n",
    "что такое baseline решение, зачем оно нужно и почему предоставлять baseline к соревнованию стало важным стандартом на kaggle и других площадках.\n",
    "baseline создается больше как шаблон, где можно посмотреть как происходит обращение с входящими данными и что нужно получить на выходе. При этом МЛ начинка может быть достаточно простой, просто для примера. Это помогает быстрее приступить к самому МЛ, а не тратить ценное время на чисто инженерные задачи. Также baseline являеться хорошей опорной точкой по метрике. Если твое решение хуже baseline - ты явно делаешь что-то не то и стоит попробовать другой путь)\n",
    "\n",
    "В контексте нашего соревнования baseline идет с небольшими примерами того, что можно делать с данными, и с инструкцией, что делать дальше, чтобы улучшить результат. Вообще готовым решением это сложно назвать, так как используются всего 2 самых простых признака (а остальные исключаются)."
   ]
  },
  {
   "cell_type": "markdown",
   "metadata": {},
   "source": [
    "# Import"
   ]
  },
  {
   "cell_type": "code",
   "execution_count": 1,
   "metadata": {
    "_cell_guid": "b1076dfc-b9ad-4769-8c92-a6c4dae69d19",
    "_uuid": "8f2839f25d086af736a60e9eeb907d3b93b6e0e5"
   },
   "outputs": [],
   "source": [
    "import os\n",
    "from urllib.request import urlopen\n",
    "import requests\n",
    "from bs4 import BeautifulSoup\n",
    "from tqdm import tqdm as progress\n",
    "from googlemaps import Client as GoogleMaps\n",
    "from datetime import datetime\n",
    "from sklearn import preprocessing\n",
    "from sklearn.preprocessing import LabelEncoder, MultiLabelBinarizer\n",
    "from sklearn.ensemble import RandomForestRegressor\n",
    "from sklearn import metrics\n",
    "from sklearn.model_selection import train_test_split\n",
    "import numpy as np\n",
    "import pandas as pd\n",
    "import re\n",
    "from itertools import combinations\n",
    "import geocoder\n",
    "\n",
    "import matplotlib.pyplot as plt\n",
    "import seaborn as sns\n",
    "%matplotlib inline"
   ]
  },
  {
   "cell_type": "code",
   "execution_count": 2,
   "metadata": {},
   "outputs": [],
   "source": [
    "import warnings\n",
    "warnings.filterwarnings(\"ignore\")\n",
    "\n",
    "pd.set_option('display.max_rows', 50)  # Show more rows\n",
    "pd.set_option('display.max_columns', 50)  # Show more columns\n",
    "\n",
    "np.set_printoptions(suppress=True)"
   ]
  },
  {
   "cell_type": "code",
   "execution_count": 3,
   "metadata": {},
   "outputs": [],
   "source": [
    "# всегда фиксируйте RANDOM_SEED, чтобы ваши эксперименты были воспроизводимы!\n",
    "RANDOM_SEED = 42"
   ]
  },
  {
   "cell_type": "code",
   "execution_count": 4,
   "metadata": {},
   "outputs": [],
   "source": [
    "# зафиксируем версию пакетов, чтобы эксперименты были воспроизводимы:\n",
    "!pip freeze > requirements.txt"
   ]
  },
  {
   "cell_type": "markdown",
   "metadata": {},
   "source": [
    "# Data"
   ]
  },
  {
   "cell_type": "code",
   "execution_count": 5,
   "metadata": {},
   "outputs": [
    {
     "name": "stdout",
     "output_type": "stream",
     "text": [
      "C:\\Users\\user\\Garri_Folder\\module_3\\TripAdvisor/kaggle/input/sf-dst-restaurant-rating/distance.scv\n",
      "C:\\Users\\user\\Garri_Folder\\module_3\\TripAdvisor/kaggle/input/sf-dst-restaurant-rating/kaggle_task.csv\n",
      "C:\\Users\\user\\Garri_Folder\\module_3\\TripAdvisor/kaggle/input/sf-dst-restaurant-rating/main_task.csv\n",
      "C:\\Users\\user\\Garri_Folder\\module_3\\TripAdvisor/kaggle/input/sf-dst-restaurant-rating/sample_submission.csv\n"
     ]
    }
   ],
   "source": [
    "data_dir = os.getcwd() + '/kaggle/input/sf-dst-restaurant-rating/'\n",
    "for dirname, _, filenames in os.walk(data_dir):\n",
    "    for filename in filenames:\n",
    "        print(os.path.join(dirname, filename))"
   ]
  },
  {
   "cell_type": "code",
   "execution_count": 6,
   "metadata": {
    "_cell_guid": "79c7e3d0-c299-4dcb-8224-4455121ee9b0",
    "_uuid": "d629ff2d2480ee46fbb7e2d37f6b5fab8052498a"
   },
   "outputs": [],
   "source": [
    "df_train = pd.read_csv(data_dir+'/main_task.csv')\n",
    "df_test = pd.read_csv(data_dir+'/kaggle_task.csv')\n",
    "sample_submission = pd.read_csv(data_dir+'/sample_submission.csv')"
   ]
  },
  {
   "cell_type": "markdown",
   "metadata": {},
   "source": [
    "## Анализ количественные характеристик"
   ]
  },
  {
   "cell_type": "code",
   "execution_count": 7,
   "metadata": {},
   "outputs": [
    {
     "name": "stdout",
     "output_type": "stream",
     "text": [
      "<class 'pandas.core.frame.DataFrame'>\n",
      "RangeIndex: 40000 entries, 0 to 39999\n",
      "Data columns (total 10 columns):\n",
      " #   Column             Non-Null Count  Dtype  \n",
      "---  ------             --------------  -----  \n",
      " 0   Restaurant_id      40000 non-null  object \n",
      " 1   City               40000 non-null  object \n",
      " 2   Cuisine Style      30717 non-null  object \n",
      " 3   Ranking            40000 non-null  float64\n",
      " 4   Rating             40000 non-null  float64\n",
      " 5   Price Range        26114 non-null  object \n",
      " 6   Number of Reviews  37457 non-null  float64\n",
      " 7   Reviews            40000 non-null  object \n",
      " 8   URL_TA             40000 non-null  object \n",
      " 9   ID_TA              40000 non-null  object \n",
      "dtypes: float64(3), object(7)\n",
      "memory usage: 3.1+ MB\n"
     ]
    }
   ],
   "source": [
    "df_train.info()"
   ]
  },
  {
   "cell_type": "code",
   "execution_count": 8,
   "metadata": {},
   "outputs": [
    {
     "data": {
      "text/html": [
       "<div>\n",
       "<style scoped>\n",
       "    .dataframe tbody tr th:only-of-type {\n",
       "        vertical-align: middle;\n",
       "    }\n",
       "\n",
       "    .dataframe tbody tr th {\n",
       "        vertical-align: top;\n",
       "    }\n",
       "\n",
       "    .dataframe thead th {\n",
       "        text-align: right;\n",
       "    }\n",
       "</style>\n",
       "<table border=\"1\" class=\"dataframe\">\n",
       "  <thead>\n",
       "    <tr style=\"text-align: right;\">\n",
       "      <th></th>\n",
       "      <th>Restaurant_id</th>\n",
       "      <th>City</th>\n",
       "      <th>Cuisine Style</th>\n",
       "      <th>Ranking</th>\n",
       "      <th>Rating</th>\n",
       "      <th>Price Range</th>\n",
       "      <th>Number of Reviews</th>\n",
       "      <th>Reviews</th>\n",
       "      <th>URL_TA</th>\n",
       "      <th>ID_TA</th>\n",
       "    </tr>\n",
       "  </thead>\n",
       "  <tbody>\n",
       "    <tr>\n",
       "      <th>0</th>\n",
       "      <td>id_5569</td>\n",
       "      <td>Paris</td>\n",
       "      <td>['European', 'French', 'International']</td>\n",
       "      <td>5570.0</td>\n",
       "      <td>3.5</td>\n",
       "      <td>$$ - $$$</td>\n",
       "      <td>194.0</td>\n",
       "      <td>[['Good food at your doorstep', 'A good hotel ...</td>\n",
       "      <td>/Restaurant_Review-g187147-d1912643-Reviews-R_...</td>\n",
       "      <td>d1912643</td>\n",
       "    </tr>\n",
       "    <tr>\n",
       "      <th>1</th>\n",
       "      <td>id_1535</td>\n",
       "      <td>Stockholm</td>\n",
       "      <td>NaN</td>\n",
       "      <td>1537.0</td>\n",
       "      <td>4.0</td>\n",
       "      <td>NaN</td>\n",
       "      <td>10.0</td>\n",
       "      <td>[['Unique cuisine', 'Delicious Nepalese food']...</td>\n",
       "      <td>/Restaurant_Review-g189852-d7992032-Reviews-Bu...</td>\n",
       "      <td>d7992032</td>\n",
       "    </tr>\n",
       "    <tr>\n",
       "      <th>2</th>\n",
       "      <td>id_352</td>\n",
       "      <td>London</td>\n",
       "      <td>['Japanese', 'Sushi', 'Asian', 'Grill', 'Veget...</td>\n",
       "      <td>353.0</td>\n",
       "      <td>4.5</td>\n",
       "      <td>$$$$</td>\n",
       "      <td>688.0</td>\n",
       "      <td>[['Catch up with friends', 'Not exceptional'],...</td>\n",
       "      <td>/Restaurant_Review-g186338-d8632781-Reviews-RO...</td>\n",
       "      <td>d8632781</td>\n",
       "    </tr>\n",
       "  </tbody>\n",
       "</table>\n",
       "</div>"
      ],
      "text/plain": [
       "  Restaurant_id       City                                      Cuisine Style  \\\n",
       "0       id_5569      Paris            ['European', 'French', 'International']   \n",
       "1       id_1535  Stockholm                                                NaN   \n",
       "2        id_352     London  ['Japanese', 'Sushi', 'Asian', 'Grill', 'Veget...   \n",
       "\n",
       "   Ranking  Rating Price Range  Number of Reviews  \\\n",
       "0   5570.0     3.5    $$ - $$$              194.0   \n",
       "1   1537.0     4.0         NaN               10.0   \n",
       "2    353.0     4.5        $$$$              688.0   \n",
       "\n",
       "                                             Reviews  \\\n",
       "0  [['Good food at your doorstep', 'A good hotel ...   \n",
       "1  [['Unique cuisine', 'Delicious Nepalese food']...   \n",
       "2  [['Catch up with friends', 'Not exceptional'],...   \n",
       "\n",
       "                                              URL_TA     ID_TA  \n",
       "0  /Restaurant_Review-g187147-d1912643-Reviews-R_...  d1912643  \n",
       "1  /Restaurant_Review-g189852-d7992032-Reviews-Bu...  d7992032  \n",
       "2  /Restaurant_Review-g186338-d8632781-Reviews-RO...  d8632781  "
      ]
     },
     "execution_count": 8,
     "metadata": {},
     "output_type": "execute_result"
    }
   ],
   "source": [
    "df_train.head(3)"
   ]
  },
  {
   "cell_type": "code",
   "execution_count": 9,
   "metadata": {},
   "outputs": [
    {
     "name": "stdout",
     "output_type": "stream",
     "text": [
      "<class 'pandas.core.frame.DataFrame'>\n",
      "RangeIndex: 10000 entries, 0 to 9999\n",
      "Data columns (total 9 columns):\n",
      " #   Column             Non-Null Count  Dtype  \n",
      "---  ------             --------------  -----  \n",
      " 0   Restaurant_id      10000 non-null  object \n",
      " 1   City               10000 non-null  object \n",
      " 2   Cuisine Style      7693 non-null   object \n",
      " 3   Ranking            10000 non-null  float64\n",
      " 4   Price Range        6525 non-null   object \n",
      " 5   Number of Reviews  9343 non-null   float64\n",
      " 6   Reviews            9998 non-null   object \n",
      " 7   URL_TA             10000 non-null  object \n",
      " 8   ID_TA              10000 non-null  object \n",
      "dtypes: float64(2), object(7)\n",
      "memory usage: 703.2+ KB\n"
     ]
    }
   ],
   "source": [
    "df_test.info()"
   ]
  },
  {
   "cell_type": "code",
   "execution_count": 10,
   "metadata": {},
   "outputs": [
    {
     "data": {
      "text/html": [
       "<div>\n",
       "<style scoped>\n",
       "    .dataframe tbody tr th:only-of-type {\n",
       "        vertical-align: middle;\n",
       "    }\n",
       "\n",
       "    .dataframe tbody tr th {\n",
       "        vertical-align: top;\n",
       "    }\n",
       "\n",
       "    .dataframe thead th {\n",
       "        text-align: right;\n",
       "    }\n",
       "</style>\n",
       "<table border=\"1\" class=\"dataframe\">\n",
       "  <thead>\n",
       "    <tr style=\"text-align: right;\">\n",
       "      <th></th>\n",
       "      <th>Restaurant_id</th>\n",
       "      <th>City</th>\n",
       "      <th>Cuisine Style</th>\n",
       "      <th>Ranking</th>\n",
       "      <th>Price Range</th>\n",
       "      <th>Number of Reviews</th>\n",
       "      <th>Reviews</th>\n",
       "      <th>URL_TA</th>\n",
       "      <th>ID_TA</th>\n",
       "    </tr>\n",
       "  </thead>\n",
       "  <tbody>\n",
       "    <tr>\n",
       "      <th>0</th>\n",
       "      <td>id_0</td>\n",
       "      <td>Paris</td>\n",
       "      <td>['Bar', 'Pub']</td>\n",
       "      <td>12963.0</td>\n",
       "      <td>$$ - $$$</td>\n",
       "      <td>4.0</td>\n",
       "      <td>[[], []]</td>\n",
       "      <td>/Restaurant_Review-g187147-d10746918-Reviews-L...</td>\n",
       "      <td>d10746918</td>\n",
       "    </tr>\n",
       "    <tr>\n",
       "      <th>1</th>\n",
       "      <td>id_1</td>\n",
       "      <td>Helsinki</td>\n",
       "      <td>['European', 'Scandinavian', 'Gluten Free Opti...</td>\n",
       "      <td>106.0</td>\n",
       "      <td>$$ - $$$</td>\n",
       "      <td>97.0</td>\n",
       "      <td>[['Very good reviews!', 'Fine dining in Hakani...</td>\n",
       "      <td>/Restaurant_Review-g189934-d6674944-Reviews-Ra...</td>\n",
       "      <td>d6674944</td>\n",
       "    </tr>\n",
       "    <tr>\n",
       "      <th>2</th>\n",
       "      <td>id_2</td>\n",
       "      <td>Edinburgh</td>\n",
       "      <td>['Vegetarian Friendly']</td>\n",
       "      <td>810.0</td>\n",
       "      <td>$$ - $$$</td>\n",
       "      <td>28.0</td>\n",
       "      <td>[['Better than the Links', 'Ivy Black'], ['12/...</td>\n",
       "      <td>/Restaurant_Review-g186525-d13129638-Reviews-B...</td>\n",
       "      <td>d13129638</td>\n",
       "    </tr>\n",
       "  </tbody>\n",
       "</table>\n",
       "</div>"
      ],
      "text/plain": [
       "  Restaurant_id       City                                      Cuisine Style  \\\n",
       "0          id_0      Paris                                     ['Bar', 'Pub']   \n",
       "1          id_1   Helsinki  ['European', 'Scandinavian', 'Gluten Free Opti...   \n",
       "2          id_2  Edinburgh                            ['Vegetarian Friendly']   \n",
       "\n",
       "   Ranking Price Range  Number of Reviews  \\\n",
       "0  12963.0    $$ - $$$                4.0   \n",
       "1    106.0    $$ - $$$               97.0   \n",
       "2    810.0    $$ - $$$               28.0   \n",
       "\n",
       "                                             Reviews  \\\n",
       "0                                           [[], []]   \n",
       "1  [['Very good reviews!', 'Fine dining in Hakani...   \n",
       "2  [['Better than the Links', 'Ivy Black'], ['12/...   \n",
       "\n",
       "                                              URL_TA      ID_TA  \n",
       "0  /Restaurant_Review-g187147-d10746918-Reviews-L...  d10746918  \n",
       "1  /Restaurant_Review-g189934-d6674944-Reviews-Ra...   d6674944  \n",
       "2  /Restaurant_Review-g186525-d13129638-Reviews-B...  d13129638  "
      ]
     },
     "execution_count": 10,
     "metadata": {},
     "output_type": "execute_result"
    }
   ],
   "source": [
    "df_test.head(3)"
   ]
  },
  {
   "cell_type": "code",
   "execution_count": 11,
   "metadata": {},
   "outputs": [
    {
     "data": {
      "text/html": [
       "<div>\n",
       "<style scoped>\n",
       "    .dataframe tbody tr th:only-of-type {\n",
       "        vertical-align: middle;\n",
       "    }\n",
       "\n",
       "    .dataframe tbody tr th {\n",
       "        vertical-align: top;\n",
       "    }\n",
       "\n",
       "    .dataframe thead th {\n",
       "        text-align: right;\n",
       "    }\n",
       "</style>\n",
       "<table border=\"1\" class=\"dataframe\">\n",
       "  <thead>\n",
       "    <tr style=\"text-align: right;\">\n",
       "      <th></th>\n",
       "      <th>Restaurant_id</th>\n",
       "      <th>Rating</th>\n",
       "    </tr>\n",
       "  </thead>\n",
       "  <tbody>\n",
       "    <tr>\n",
       "      <th>0</th>\n",
       "      <td>id_0</td>\n",
       "      <td>2.0</td>\n",
       "    </tr>\n",
       "    <tr>\n",
       "      <th>1</th>\n",
       "      <td>id_1</td>\n",
       "      <td>2.5</td>\n",
       "    </tr>\n",
       "    <tr>\n",
       "      <th>2</th>\n",
       "      <td>id_2</td>\n",
       "      <td>4.0</td>\n",
       "    </tr>\n",
       "  </tbody>\n",
       "</table>\n",
       "</div>"
      ],
      "text/plain": [
       "  Restaurant_id  Rating\n",
       "0          id_0     2.0\n",
       "1          id_1     2.5\n",
       "2          id_2     4.0"
      ]
     },
     "execution_count": 11,
     "metadata": {},
     "output_type": "execute_result"
    }
   ],
   "source": [
    "sample_submission.head(3)"
   ]
  },
  {
   "cell_type": "code",
   "execution_count": 12,
   "metadata": {},
   "outputs": [
    {
     "name": "stdout",
     "output_type": "stream",
     "text": [
      "<class 'pandas.core.frame.DataFrame'>\n",
      "RangeIndex: 10000 entries, 0 to 9999\n",
      "Data columns (total 2 columns):\n",
      " #   Column         Non-Null Count  Dtype  \n",
      "---  ------         --------------  -----  \n",
      " 0   Restaurant_id  10000 non-null  object \n",
      " 1   Rating         10000 non-null  float64\n",
      "dtypes: float64(1), object(1)\n",
      "memory usage: 156.4+ KB\n"
     ]
    }
   ],
   "source": [
    "sample_submission.info()"
   ]
  },
  {
   "cell_type": "code",
   "execution_count": 13,
   "metadata": {},
   "outputs": [],
   "source": [
    "# для корректной обработки признаков объединяем трейн и тест в один датасет\n",
    "df_train['sample'] = 1  # помечаем где у нас трейн\n",
    "df_test['sample'] = 0  # помечаем где у нас тест\n",
    "# в тесте у нас нет значения Rating, мы его должны предсказать, по этому пока просто заполняем нулями\n",
    "df_test['Rating'] = 0"
   ]
  },
  {
   "cell_type": "code",
   "execution_count": 14,
   "metadata": {},
   "outputs": [],
   "source": [
    "data = df_test.append(df_train, sort=False).reset_index(\n",
    "    drop=True)  # объединяем"
   ]
  },
  {
   "cell_type": "code",
   "execution_count": 15,
   "metadata": {},
   "outputs": [
    {
     "data": {
      "text/plain": [
       "['Restaurant_id',\n",
       " 'City',\n",
       " 'Cuisine Style',\n",
       " 'Ranking',\n",
       " 'Price Range',\n",
       " 'Number of Reviews',\n",
       " 'Reviews',\n",
       " 'URL_TA',\n",
       " 'ID_TA',\n",
       " 'sample',\n",
       " 'Rating']"
      ]
     },
     "execution_count": 15,
     "metadata": {},
     "output_type": "execute_result"
    }
   ],
   "source": [
    "# Получение списка признаков\n",
    "data.columns.tolist()"
   ]
  },
  {
   "cell_type": "code",
   "execution_count": 16,
   "metadata": {},
   "outputs": [],
   "source": [
    "# Приведем названия признаков в общему виду, для более удобной работы\n",
    "data.rename(columns=lambda с: с.lower().replace(' ', '_'), inplace=True)"
   ]
  },
  {
   "cell_type": "code",
   "execution_count": 17,
   "metadata": {},
   "outputs": [
    {
     "data": {
      "text/html": [
       "<div>\n",
       "<style scoped>\n",
       "    .dataframe tbody tr th:only-of-type {\n",
       "        vertical-align: middle;\n",
       "    }\n",
       "\n",
       "    .dataframe tbody tr th {\n",
       "        vertical-align: top;\n",
       "    }\n",
       "\n",
       "    .dataframe thead th {\n",
       "        text-align: right;\n",
       "    }\n",
       "</style>\n",
       "<table border=\"1\" class=\"dataframe\">\n",
       "  <thead>\n",
       "    <tr style=\"text-align: right;\">\n",
       "      <th></th>\n",
       "      <th>restaurant_id</th>\n",
       "      <th>city</th>\n",
       "      <th>cuisine_style</th>\n",
       "      <th>ranking</th>\n",
       "      <th>price_range</th>\n",
       "      <th>number_of_reviews</th>\n",
       "      <th>reviews</th>\n",
       "      <th>url_ta</th>\n",
       "      <th>id_ta</th>\n",
       "      <th>sample</th>\n",
       "      <th>rating</th>\n",
       "    </tr>\n",
       "  </thead>\n",
       "  <tbody>\n",
       "    <tr>\n",
       "      <th>14431</th>\n",
       "      <td>id_792</td>\n",
       "      <td>Berlin</td>\n",
       "      <td>['German', 'Bar', 'European', 'Pub', 'Vegetari...</td>\n",
       "      <td>793.0</td>\n",
       "      <td>$</td>\n",
       "      <td>85.0</td>\n",
       "      <td>[['Amazing restaurant in Berlin', 'Berlin vibe...</td>\n",
       "      <td>/Restaurant_Review-g187323-d983956-Reviews-Sch...</td>\n",
       "      <td>d983956</td>\n",
       "      <td>1</td>\n",
       "      <td>4.5</td>\n",
       "    </tr>\n",
       "    <tr>\n",
       "      <th>8365</th>\n",
       "      <td>id_8365</td>\n",
       "      <td>Paris</td>\n",
       "      <td>NaN</td>\n",
       "      <td>11537.0</td>\n",
       "      <td>NaN</td>\n",
       "      <td>6.0</td>\n",
       "      <td>[['Oriental Cuisine'], ['05/06/2017']]</td>\n",
       "      <td>/Restaurant_Review-g187147-d12067973-Reviews-R...</td>\n",
       "      <td>d12067973</td>\n",
       "      <td>0</td>\n",
       "      <td>0.0</td>\n",
       "    </tr>\n",
       "    <tr>\n",
       "      <th>40468</th>\n",
       "      <td>id_12541</td>\n",
       "      <td>London</td>\n",
       "      <td>NaN</td>\n",
       "      <td>12551.0</td>\n",
       "      <td>NaN</td>\n",
       "      <td>NaN</td>\n",
       "      <td>[['Very friendly people. Family work'], ['11/1...</td>\n",
       "      <td>/Restaurant_Review-g186338-d5816855-Reviews-Bl...</td>\n",
       "      <td>d5816855</td>\n",
       "      <td>1</td>\n",
       "      <td>4.0</td>\n",
       "    </tr>\n",
       "    <tr>\n",
       "      <th>22902</th>\n",
       "      <td>id_6312</td>\n",
       "      <td>Berlin</td>\n",
       "      <td>NaN</td>\n",
       "      <td>6314.0</td>\n",
       "      <td>NaN</td>\n",
       "      <td>4.0</td>\n",
       "      <td>[[], []]</td>\n",
       "      <td>/Restaurant_Review-g187323-d8732455-Reviews-Ba...</td>\n",
       "      <td>d8732455</td>\n",
       "      <td>1</td>\n",
       "      <td>2.0</td>\n",
       "    </tr>\n",
       "    <tr>\n",
       "      <th>36099</th>\n",
       "      <td>id_3755</td>\n",
       "      <td>Rome</td>\n",
       "      <td>['Italian']</td>\n",
       "      <td>3756.0</td>\n",
       "      <td>$</td>\n",
       "      <td>29.0</td>\n",
       "      <td>[['Great place for a panini', 'Exquisite Deli ...</td>\n",
       "      <td>/Restaurant_Review-g187791-d4232416-Reviews-Fr...</td>\n",
       "      <td>d4232416</td>\n",
       "      <td>1</td>\n",
       "      <td>4.5</td>\n",
       "    </tr>\n",
       "  </tbody>\n",
       "</table>\n",
       "</div>"
      ],
      "text/plain": [
       "      restaurant_id    city  \\\n",
       "14431        id_792  Berlin   \n",
       "8365        id_8365   Paris   \n",
       "40468      id_12541  London   \n",
       "22902       id_6312  Berlin   \n",
       "36099       id_3755    Rome   \n",
       "\n",
       "                                           cuisine_style  ranking price_range  \\\n",
       "14431  ['German', 'Bar', 'European', 'Pub', 'Vegetari...    793.0           $   \n",
       "8365                                                 NaN  11537.0         NaN   \n",
       "40468                                                NaN  12551.0         NaN   \n",
       "22902                                                NaN   6314.0         NaN   \n",
       "36099                                        ['Italian']   3756.0           $   \n",
       "\n",
       "       number_of_reviews                                            reviews  \\\n",
       "14431               85.0  [['Amazing restaurant in Berlin', 'Berlin vibe...   \n",
       "8365                 6.0             [['Oriental Cuisine'], ['05/06/2017']]   \n",
       "40468                NaN  [['Very friendly people. Family work'], ['11/1...   \n",
       "22902                4.0                                           [[], []]   \n",
       "36099               29.0  [['Great place for a panini', 'Exquisite Deli ...   \n",
       "\n",
       "                                                  url_ta      id_ta  sample  \\\n",
       "14431  /Restaurant_Review-g187323-d983956-Reviews-Sch...    d983956       1   \n",
       "8365   /Restaurant_Review-g187147-d12067973-Reviews-R...  d12067973       0   \n",
       "40468  /Restaurant_Review-g186338-d5816855-Reviews-Bl...   d5816855       1   \n",
       "22902  /Restaurant_Review-g187323-d8732455-Reviews-Ba...   d8732455       1   \n",
       "36099  /Restaurant_Review-g187791-d4232416-Reviews-Fr...   d4232416       1   \n",
       "\n",
       "       rating  \n",
       "14431     4.5  \n",
       "8365      0.0  \n",
       "40468     4.0  \n",
       "22902     2.0  \n",
       "36099     4.5  "
      ]
     },
     "execution_count": 17,
     "metadata": {},
     "output_type": "execute_result"
    }
   ],
   "source": [
    "# Просмотр случайного кадра полученного датафрейма\n",
    "data.sample(5)"
   ]
  },
  {
   "cell_type": "markdown",
   "metadata": {},
   "source": [
    "# Cleaning and Preparing Data"
   ]
  },
  {
   "cell_type": "code",
   "execution_count": 18,
   "metadata": {},
   "outputs": [
    {
     "name": "stdout",
     "output_type": "stream",
     "text": [
      "<class 'pandas.core.frame.DataFrame'>\n",
      "RangeIndex: 50000 entries, 0 to 49999\n",
      "Data columns (total 11 columns):\n",
      " #   Column             Non-Null Count  Dtype  \n",
      "---  ------             --------------  -----  \n",
      " 0   restaurant_id      50000 non-null  object \n",
      " 1   city               50000 non-null  object \n",
      " 2   cuisine_style      38410 non-null  object \n",
      " 3   ranking            50000 non-null  float64\n",
      " 4   price_range        32639 non-null  object \n",
      " 5   number_of_reviews  46800 non-null  float64\n",
      " 6   reviews            49998 non-null  object \n",
      " 7   url_ta             50000 non-null  object \n",
      " 8   id_ta              50000 non-null  object \n",
      " 9   sample             50000 non-null  int64  \n",
      " 10  rating             50000 non-null  float64\n",
      "dtypes: float64(3), int64(1), object(7)\n",
      "memory usage: 4.2+ MB\n"
     ]
    }
   ],
   "source": [
    "data.info()"
   ]
  },
  {
   "cell_type": "markdown",
   "metadata": {},
   "source": [
    "Подробнее по признакам:\n",
    "* City: Город \n",
    "* Cuisine Style: Кухня\n",
    "* Ranking: Ранг ресторана относительно других ресторанов в этом городе\n",
    "* Price Range: Цены в ресторане в 3 категориях\n",
    "* Number of Reviews: Количество отзывов\n",
    "* Reviews: 2 последних отзыва и даты этих отзывов\n",
    "* URL_TA: страница ресторана на 'www.tripadvisor.com' \n",
    "* ID_TA: ID ресторана в TripAdvisor\n",
    "* Rating: Рейтинг ресторана"
   ]
  },
  {
   "cell_type": "code",
   "execution_count": 19,
   "metadata": {},
   "outputs": [
    {
     "data": {
      "text/plain": [
       "restaurant_id        13094\n",
       "city                    31\n",
       "cuisine_style        10731\n",
       "ranking              12975\n",
       "price_range              3\n",
       "number_of_reviews     1573\n",
       "reviews              41857\n",
       "url_ta               49963\n",
       "id_ta                49963\n",
       "sample                   2\n",
       "rating                  10\n",
       "dtype: int64"
      ]
     },
     "execution_count": 19,
     "metadata": {},
     "output_type": "execute_result"
    }
   ],
   "source": [
    "# Посмотрим на уникальность данных\n",
    "data.nunique()"
   ]
  },
  {
   "cell_type": "markdown",
   "metadata": {},
   "source": [
    "Как видно, такие признаки как `Restaurant_id`, `URL_TA`, `ID_TA`, которые якобы должны быть уникальными, имеют дубли.  \n",
    "Возможные причины:  \n",
    "- ошибки в данных, например, если датасет собирался из разных источников.\n",
    "- ресторан является сетевым и под одним id находится несколько ресторанов в разных локациях.\n",
    "\n",
    "Вывод: большинство признаков у нас требует очистки и предварительной обработки."
   ]
  },
  {
   "cell_type": "markdown",
   "metadata": {},
   "source": [
    "# Обработка пропусков"
   ]
  },
  {
   "cell_type": "code",
   "execution_count": 20,
   "metadata": {},
   "outputs": [
    {
     "data": {
      "text/plain": [
       "restaurant_id            0\n",
       "city                     0\n",
       "cuisine_style        11590\n",
       "ranking                  0\n",
       "price_range          17361\n",
       "number_of_reviews     3200\n",
       "reviews                  2\n",
       "url_ta                   0\n",
       "id_ta                    0\n",
       "sample                   0\n",
       "rating                   0\n",
       "dtype: int64"
      ]
     },
     "execution_count": 20,
     "metadata": {},
     "output_type": "execute_result"
    }
   ],
   "source": [
    "data.isna().sum()"
   ]
  },
  {
   "cell_type": "code",
   "execution_count": 21,
   "metadata": {},
   "outputs": [
    {
     "name": "stdout",
     "output_type": "stream",
     "text": [
      "restaurant_id - 0.0%\n",
      "city - 0.0%\n",
      "cuisine_style - 23.0%\n",
      "ranking - 0.0%\n",
      "price_range - 35.0%\n",
      "number_of_reviews - 6.0%\n",
      "reviews - 0.0%\n",
      "url_ta - 0.0%\n",
      "id_ta - 0.0%\n",
      "sample - 0.0%\n",
      "rating - 0.0%\n"
     ]
    },
    {
     "data": {
      "image/png": "[encoded data removed]",
      "text/plain": [
       "<Figure size 144x72 with 1 Axes>"
      ]
     },
     "metadata": {
      "needs_background": "light"
     },
     "output_type": "display_data"
    },
    {
     "data": {
      "image/png": "[encoded data removed]",
      "text/plain": [
       "<Figure size 504x504 with 2 Axes>"
      ]
     },
     "metadata": {
      "needs_background": "light"
     },
     "output_type": "display_data"
    }
   ],
   "source": [
    "colors = ['#001c57', '#38d1ff']\n",
    "\n",
    "cols = data.columns\n",
    "sns.palplot(sns.color_palette(colors))\n",
    "\n",
    "fig, ax = plt.subplots(figsize=(7, 7))\n",
    "sns.heatmap(data[cols].isnull(), cmap=sns.color_palette(colors))\n",
    "\n",
    "# Отображение распределения пропусков\n",
    "for col in cols:\n",
    "    pct_missing = np.mean(data[col].isnull())\n",
    "    print(f'{col} - {round(pct_missing*100)}%')"
   ]
  },
  {
   "cell_type": "markdown",
   "metadata": {},
   "source": [
    "Признаки cuisine_style, price_range, number_of_reviews потребуют работы с пропусками данных"
   ]
  },
  {
   "cell_type": "markdown",
   "metadata": {},
   "source": [
    "### Признак restoran_id"
   ]
  },
  {
   "cell_type": "code",
   "execution_count": 22,
   "metadata": {},
   "outputs": [
    {
     "data": {
      "text/plain": [
       "id_871      19\n",
       "id_227      19\n",
       "id_633      19\n",
       "id_436      19\n",
       "id_71       18\n",
       "            ..\n",
       "id_10074     1\n",
       "id_11374     1\n",
       "id_9826      1\n",
       "id_10861     1\n",
       "id_11759     1\n",
       "Name: restaurant_id, Length: 13094, dtype: int64"
      ]
     },
     "execution_count": 22,
     "metadata": {},
     "output_type": "execute_result"
    }
   ],
   "source": [
    "# Выявление сетевых ресторанов, формирование признака сетевого ресторана в отдельном признаке chain\n",
    "\n",
    "data.restaurant_id.value_counts()"
   ]
  },
  {
   "cell_type": "code",
   "execution_count": 23,
   "metadata": {},
   "outputs": [
    {
     "data": {
      "image/png": "[encoded data removed]",
      "text/plain": [
       "<Figure size 432x288 with 1 Axes>"
      ]
     },
     "metadata": {
      "needs_background": "light"
     },
     "output_type": "display_data"
    },
    {
     "data": {
      "image/png": "[encoded data removed]",
      "text/plain": [
       "<Figure size 432x288 with 1 Axes>"
      ]
     },
     "metadata": {
      "needs_background": "light"
     },
     "output_type": "display_data"
    }
   ],
   "source": [
    "# Формирование признака сетевого ресторана chain с заполнением данными\n",
    "chain_lst = list(data.restaurant_id.value_counts()[data.restaurant_id.value_counts() > 1].index)\n",
    "data['chain'] = data[data.restaurant_id.isin(chain_lst)].restaurant_id.apply(lambda x: 1)\n",
    "data['chain'].fillna(0, inplace=True)\n",
    "\n",
    "fig, ax = plt.subplots()\n",
    "sns.countplot(data['chain'], ax=ax)\n",
    "plt.show()\n",
    "\n",
    "fig, ax = plt.subplots()\n",
    "sns.boxplot(x='chain', y='rating', data=data[data['sample'] != 0])\n",
    "plt.show()"
   ]
  },
  {
   "cell_type": "markdown",
   "metadata": {},
   "source": [
    "Сетевые рестораны имеют больший средний рейтинг и более высокий его диапазон по сравнению с несетевыми"
   ]
  },
  {
   "cell_type": "markdown",
   "metadata": {},
   "source": [
    "### Признак **number_of_reviews**"
   ]
  },
  {
   "cell_type": "code",
   "execution_count": 24,
   "metadata": {},
   "outputs": [],
   "source": [
    "# Заполним пропуски средним значением по городу.\n",
    "# Для этого посчитаем среднее значение кол-во отзывов по городам\n",
    "\n",
    "fill_values = round(data.groupby('city')['number_of_reviews'].mean(), 0)\n",
    "data.number_of_reviews = data.apply(lambda row: fill_values[row['city']] if pd.isna(row['number_of_reviews'])\n",
    "                                    else row['number_of_reviews'], axis=1)"
   ]
  },
  {
   "cell_type": "markdown",
   "metadata": {},
   "source": [
    "### Признак **price_range**"
   ]
  },
  {
   "cell_type": "code",
   "execution_count": 25,
   "metadata": {},
   "outputs": [
    {
     "data": {
      "text/plain": [
       "$$ - $$$    23041\n",
       "$            7816\n",
       "$$$$         1782\n",
       "Name: price_range, dtype: int64"
      ]
     },
     "execution_count": 25,
     "metadata": {},
     "output_type": "execute_result"
    }
   ],
   "source": [
    "# Анализ распределения значений признака price_range\n",
    "data.price_range.value_counts(ascending=False)"
   ]
  },
  {
   "cell_type": "code",
   "execution_count": 26,
   "metadata": {},
   "outputs": [],
   "source": [
    "# # Изменим значения ценовых категорий на числовые значения 1, 10, 100 - по аналогии с функцией LabelEncoding\n",
    "# data.price_range.replace(['$', '$$ - $$$', '$$$$'], [10, 100, 1000], inplace=True)"
   ]
  },
  {
   "cell_type": "code",
   "execution_count": 27,
   "metadata": {},
   "outputs": [],
   "source": [
    "# Изменим значения ценовых категорий на числовые значения 1, 10, 100 - по аналогии с функцией LabelEncoding\n",
    "data.price_range.replace(['$', '$$ - $$$', '$$$$'], ['1', '2', '3'], inplace=True)"
   ]
  },
  {
   "cell_type": "code",
   "execution_count": 28,
   "metadata": {},
   "outputs": [],
   "source": [
    "# # Заполним пропуски price_range медианными значением по каждому отдельному городу.\n",
    "\n",
    "# fill_values = data.groupby('city')['price_range'].median()\n",
    "# data.price_range = data.apply(lambda row: fill_values[row['city']] if pd.isna(row['price_range'])\n",
    "#                               else row['price_range'], axis=1)"
   ]
  },
  {
   "cell_type": "code",
   "execution_count": 29,
   "metadata": {},
   "outputs": [],
   "source": [
    "# Заполним пропуски price_range медианными значением по каждому отдельному городу.\n",
    "\n",
    "data.price_range = data.price_range.fillna('1')"
   ]
  },
  {
   "cell_type": "code",
   "execution_count": 30,
   "metadata": {},
   "outputs": [
    {
     "data": {
      "image/png": "[encoded data removed]",
      "text/plain": [
       "<Figure size 432x288 with 1 Axes>"
      ]
     },
     "metadata": {
      "needs_background": "light"
     },
     "output_type": "display_data"
    }
   ],
   "source": [
    "fig, ax = plt.subplots()\n",
    "sns.boxplot(x='price_range', y='rating', data=data)\n",
    "plt.show()"
   ]
  },
  {
   "cell_type": "markdown",
   "metadata": {},
   "source": [
    "### Создание признака столицы"
   ]
  },
  {
   "cell_type": "code",
   "execution_count": 31,
   "metadata": {},
   "outputs": [],
   "source": [
    "# Создадим признак capital_city если город является столицей\n",
    "\n",
    "capitals = ['London', 'Paris', 'Madrid', 'Berlin', 'Rome', 'Prague', 'Lisbon',\n",
    "        'Vienna', 'Amsterdam', 'Brussels', 'Stockholm', 'Budapest', 'Warsaw',\n",
    "        'Dublin', 'Copenhagen', 'Athens', 'Oslo', 'Helsinki', 'Bratislava',\n",
    "        'Luxembourg', 'Ljubljana', 'Edinburgh'\n",
    "    ]\n",
    "\n",
    "data['is_capital_city'] = data['city'].apply(lambda x: 1 if x in capitals else 0)"
   ]
  },
  {
   "cell_type": "code",
   "execution_count": 32,
   "metadata": {},
   "outputs": [],
   "source": [
    "# a new feature \"Country Code\"\n",
    "\n",
    "city_country = {\n",
    "    'London': 'UK',\n",
    "    'Paris': 'France',\n",
    "    'Madrid': 'Spain',\n",
    "    'Barcelona': 'Spain',\n",
    "    'Berlin': 'Germany',\n",
    "    'Milan': 'Italy',\n",
    "    'Rome': 'Italy',\n",
    "    'Prague': 'Czech',\n",
    "    'Lisbon': 'Portugalia',\n",
    "    'Vienna': 'Austria',\n",
    "    'Amsterdam': 'Nederlands',\n",
    "    'Brussels': 'EU',\n",
    "    'Hamburg': 'Germany',\n",
    "    'Munich': 'Germany',\n",
    "    'Lyon': 'France',\n",
    "    'Stockholm': 'Sweden',\n",
    "    'Budapest': 'Hungary',\n",
    "    'Warsaw': 'Poland',\n",
    "    'Dublin': 'Ireland',\n",
    "    'Copenhagen': 'Denmark',\n",
    "    'Athens': 'Greece',\n",
    "    'Edinburgh': 'Schotland',\n",
    "    'Zurich': 'Switzerland',\n",
    "    'Oporto': 'Portugalia',\n",
    "    'Geneva': 'Switzerland',\n",
    "    'Krakow': 'Poland',\n",
    "    'Oslo': 'Norway',\n",
    "    'Helsinki': 'Finland',\n",
    "    'Bratislava': 'Slovakia',\n",
    "    'Luxembourg': 'Luxembourg',\n",
    "    'Ljubljana': 'Slovenija'\n",
    "}\n",
    "\n",
    "data['country_code'] = data['city'].map(city_country)\n",
    "\n",
    "le = LabelEncoder()\n",
    "le.fit(data['country_code'])\n",
    "data['country_code'] = le.transform(data['country_code'])"
   ]
  },
  {
   "cell_type": "markdown",
   "metadata": {},
   "source": [
    "### Добавим новый признак численности населения города"
   ]
  },
  {
   "cell_type": "code",
   "execution_count": 33,
   "metadata": {},
   "outputs": [],
   "source": [
    "# Создаем признак численности населения города\n",
    "\n",
    "population = {\n",
    "    'Paris': 2190327,\n",
    "    'Stockholm': 961609,\n",
    "    'London': 8908081,\n",
    "    'Berlin': 3644826,\n",
    "    'Munich': 1456039,\n",
    "    'Oporto': 237591,\n",
    "    'Milan': 1378689,\n",
    "    'Bratislava': 432864,\n",
    "    'Vienna': 1821582,\n",
    "    'Rome': 4355725,\n",
    "    'Barcelona': 1620343,\n",
    "    'Madrid': 3223334,\n",
    "    'Dublin': 1173179,\n",
    "    'Brussels': 179277,\n",
    "    'Zurich': 428737,\n",
    "    'Warsaw': 1758143,\n",
    "    'Budapest': 1752286,\n",
    "    'Copenhagen': 615993,\n",
    "    'Amsterdam': 857713,\n",
    "    'Lyon': 506615,\n",
    "    'Hamburg': 1841179,\n",
    "    'Lisbon': 505526,\n",
    "    'Prague': 1301132,\n",
    "    'Oslo': 673469,\n",
    "    'Helsinki': 643272,\n",
    "    'Edinburgh': 488100,\n",
    "    'Geneva': 200548,\n",
    "    'Ljubljana': 284355,\n",
    "    'Athens': 664046,\n",
    "    'Luxembourg': 115227,\n",
    "    'Krakow': 769498\n",
    "}\n",
    "\n",
    "# Создадим количественный признак численности населения\n",
    "data['population'] = data['city'].map(population)"
   ]
  },
  {
   "cell_type": "markdown",
   "metadata": {},
   "source": [
    "### Парсинг данных с сайта  "
   ]
  },
  {
   "cell_type": "markdown",
   "metadata": {},
   "source": [
    "Получение информации с сайта ресторана о географических координатах его расположения и формирование признака \n",
    "расстояния от ресторана до центра города"
   ]
  },
  {
   "cell_type": "markdown",
   "metadata": {},
   "source": [
    "В комментариях приведен код, с помощью которого была получена геолокация ресторанов датафрейма"
   ]
  },
  {
   "cell_type": "code",
   "execution_count": 34,
   "metadata": {},
   "outputs": [],
   "source": [
    "# Формирование класса обработки данных с сайта tripadvisor\n",
    "# Включает как получение географических данных с помощью geocoder \n",
    "# при невозможности проводится парсинг данных адресса ресторана и получение его координат с помощью geocoder\n",
    "\n",
    "#from math import radians, sin, cos, asin, sqrt\n",
    "\n",
    "#gmaps = GoogleMaps('XXXXxxxxxxxxxxxXXXXXXxxxxxxxxxxxxxXXXX')\n",
    "\n",
    "\n",
    "#class restaurant_parser():\n",
    "\n",
    "#    def pars_address(self):\n",
    "\n",
    "#        self._response = requests.get(self._base_url)\n",
    "#        self._soup = BeautifulSoup(self._response.text, 'lxml')\n",
    "#        self._address = self._soup.find('a', {'href': \"#MAPVIEW\", 'class': '_15QfMZ2L'})\n",
    "#        if self._address:\n",
    "#             self._address = self._address.text\n",
    "#         else:\n",
    "#             self._address = ''\n",
    "\n",
    "#     def get_address(self):\n",
    "#         return self._address\n",
    "    \n",
    "#     def get_latlng(self, _address, _inplace = False):\n",
    "\n",
    "#         _geocode = []\n",
    "#         _lat = 0\n",
    "#         _lng = 0\n",
    "        \n",
    "#         if _address == '':\n",
    "#             if _inplace:\n",
    "#                 self._geocode, self._lat, self._lng = _geocode, _lat, _lng\n",
    "#             return _geocode, _lat, _lng\n",
    "            \n",
    "#         _geocode = gmaps.geocode(_address)\n",
    "#         if _geocode:\n",
    "#             _lat = _geocode[0]['geometry']['location']['lat']\n",
    "#             _lng = _geocode[0]['geometry']['location']['lng']\n",
    "#         if _inplace:\n",
    "#             self._geocode, self._lat, self._lng = _geocode, _lat, _lng\n",
    "#         return _geocode, _lat, _lng\n",
    "        \n",
    "#     def get_geocode(self):\n",
    "        \n",
    "#         self.get_latlng(self._base_url, True)\n",
    "#         if not self._geocode:\n",
    "#             self.pars_address()\n",
    "#             self.get_latlng(self._address, True)        \n",
    "        \n",
    "#     def __init__(self, _url):\n",
    "\n",
    "#         self._base_url = 'https://www.tripadvisor.com' + _url\n",
    "            \n",
    "#     def get_distance(self, _city):\n",
    "\n",
    "#         if self._lng == 0 and self._lat == 0:\n",
    "#             return 9999\n",
    "        \n",
    "#         _, _lat, _lng = self.get_latlng(_city + ', ' + city_country[_city])\n",
    "#         if _lng == 0 and _lat == 0:\n",
    "#             return 9999\n",
    "        \n",
    "#         lon1, lat1, lon2, lat2 = map(\n",
    "#             radians, [self._lng, self._lat, _lng, _lat])\n",
    "#         dlon = lon2 - lon1\n",
    "#         dlat = lat2 - lat1\n",
    "#         a = sin(dlat/2)**2 + cos(lat1) * cos(lat2) * sin(dlon/2)**2\n",
    "#         c = 2 * asin(sqrt(a))\n",
    "#         earth_radius = 6371\n",
    "\n",
    "#         return c * earth_radius"
   ]
  },
  {
   "cell_type": "code",
   "execution_count": 35,
   "metadata": {},
   "outputs": [],
   "source": [
    "# def parsing_location_geocode(row):\n",
    "    \n",
    "#     try:\n",
    "#         html_page = restaurant_parser(row['url_ta'])\n",
    "#         html_page.get_geocode()\n",
    "#         row['distance_downtown'] = html_page.get_distance(row['city'])\n",
    "#         if row['distance_downtown'] == 0:\n",
    "#             html_page.pars_address()\n",
    "#             html_page.get_latlng(html_page.get_address(), True)  \n",
    "#             row['distance_downtown'] = html_page.get_distance(row['city'])\n",
    "            \n",
    "#     except Exception:\n",
    "#         row['distance_downtown'] = 9999\n",
    "#     else:\n",
    "#         if row['distance_downtown'] > 100:\n",
    "#             row['distance_downtown'] = 9999            \n",
    "#     finally:\n",
    "#         return row"
   ]
  },
  {
   "cell_type": "code",
   "execution_count": 36,
   "metadata": {},
   "outputs": [],
   "source": [
    "# Обработка ссылок на сайте ресторанов\n",
    "\n",
    "#data['distance_downtown'] = 0\n",
    "#data = data.apply(parsing_location_geocode, axis = 1)"
   ]
  },
  {
   "cell_type": "code",
   "execution_count": 37,
   "metadata": {},
   "outputs": [],
   "source": [
    "# Сохранение данных в файле для дальнейшего использования в кагле\n",
    "# data.to_csv(data_dir + '/distance.scv', columns = ['restaurant_id', 'city', 'distance_downtown'])"
   ]
  },
  {
   "cell_type": "code",
   "execution_count": 38,
   "metadata": {},
   "outputs": [],
   "source": [
    "data_distance = pd.read_csv(data_dir+'/distance.scv')"
   ]
  },
  {
   "cell_type": "code",
   "execution_count": 39,
   "metadata": {},
   "outputs": [],
   "source": [
    "data['distance_downtown'] = data_distance['distance_downtown']"
   ]
  },
  {
   "cell_type": "markdown",
   "metadata": {},
   "source": [
    "### Признак **reviews**"
   ]
  },
  {
   "cell_type": "code",
   "execution_count": 40,
   "metadata": {},
   "outputs": [
    {
     "data": {
      "text/plain": [
       "[[], []]                                                                                               8112\n",
       "[['The real codido madrileño'], ['03/31/2017']]                                                           2\n",
       "[['Sat night', 'Can\\'t even explain.. \"A\" place.. A \"100...'], ['10/22/2017', '05/11/2017']]              2\n",
       "[['ok for beer, not for dinner'], ['12/20/2017']]                                                         2\n",
       "[['Enjoyable restaurant with indoor and outdo...', 'Delicious food'], ['11/04/2017', '10/31/2017']]       2\n",
       "                                                                                                       ... \n",
       "[['Excellent food', 'Tasty middle eastern food'], ['01/06/2018', '12/22/2017']]                           1\n",
       "[['Amazing kebab!', 'Needs to remember it was good'], ['10/11/2017', '09/02/2016']]                       1\n",
       "[['Most Memorable Meal in Rome', 'Excellent!!'], ['06/02/2017', '12/22/2016']]                            1\n",
       "[['Pleasant Small Coffee Shop', 'Excellent low carb food'], ['05/19/2017', '11/16/2016']]                 1\n",
       "[['Not like the original', 'Finger Licking Good'], ['09/05/2016', '05/26/2016']]                          1\n",
       "Name: reviews, Length: 41857, dtype: int64"
      ]
     },
     "execution_count": 40,
     "metadata": {},
     "output_type": "execute_result"
    }
   ],
   "source": [
    "data.reviews.value_counts()"
   ]
  },
  {
   "cell_type": "markdown",
   "metadata": {},
   "source": [
    "Видно, что 8112 строк в признаке reviews имеют пустое значение `[[], []]`\n",
    "Не будем менять это значение, потому что предполагаем трансформировать этот признак в два числовых. Значение NaN заполним пустой строкой"
   ]
  },
  {
   "cell_type": "code",
   "execution_count": 41,
   "metadata": {},
   "outputs": [],
   "source": [
    "data['reviews'].fillna('', inplace = True)"
   ]
  },
  {
   "cell_type": "markdown",
   "metadata": {},
   "source": [
    "#### Анализ степени эмоциональности и формирование признака из совокупности дат отзывов"
   ]
  },
  {
   "cell_type": "code",
   "execution_count": 42,
   "metadata": {},
   "outputs": [],
   "source": [
    "# Списки слов для оценки степени эмоциональности отзыва\n",
    "\n",
    "_well = sorted(['affect', 'agitat', 'amaz', 'amit', 'astir', 'astonish', 'attachment', 'attentive', 'attract', 'awe',\n",
    "                'best', 'calm', 'care', 'charm', 'cheap','cheerful', 'cheerless', 'clean', 'concentrat', 'confiden', 'cool',\n",
    "                'delicious', 'desire', 'disciplin', 'elat', 'enjoy', 'excellent', 'excit', 'fabulous', 'fantastic',\n",
    "                'fascinat', 'fresh', 'friendly', 'glad', 'good', 'gorgeous', 'great', 'lovely', 'happy', 'hilarious',\n",
    "                'honest', 'joy', 'like', 'love', 'magnificent', 'merri', 'nice', 'ok', 'okay', 'outstand', 'proud',\n",
    "                'quiet', 'rigth', 'sincer', 'stunn', 'tasty', 'terrific', 'thrilling', 'touching', 'unique'\n",
    "                ])\n",
    "\n",
    "_bad = sorted(['afraid', 'aggress', 'anger', 'angry', 'annoy', 'antipath', 'anxiet', 'anxious', 'arrogant',\n",
    "               'avers', 'awful', 'bodacious', 'bored', 'busy', 'confusion', 'contempt', 'contemptuous', 'depress',\n",
    "               'depressed', 'despair', 'despondent', 'dirty', 'disappoint', 'disgrac', 'disgust', 'disillusion', 'dislike',\n",
    "               'doleful', 'dreadful', 'dull', 'embarrass', 'enmity', 'fear', 'fright', 'frustrat', 'furious', 'grief',\n",
    "               'guilt', 'gloomy', 'haught', 'horror', 'hostilit', 'humiliat', 'indifference', 'insane', 'irritat', 'lazy', 'mad',\n",
    "               'miserable', 'mourn', 'nervous', 'outrageous', 'regret', 'remorse', 'sad', 'sad', 'satisfaction', 'scare',\n",
    "               'shame', 'shocked', 'sorrow', 'tense', 'terrible', 'unhappy', 'upset', 'worried', 'worst', 'expens'\n",
    "               ])"
   ]
  },
  {
   "cell_type": "code",
   "execution_count": 43,
   "metadata": {},
   "outputs": [],
   "source": [
    "# Функция сравнения двух подстрок слов\n",
    "def compare_str(_fw, _sw):\n",
    "\n",
    "    _len = min(len(_fw), len(_sw))\n",
    "    if (_fw[0:_len-1] == _sw[0:_len-1]):\n",
    "        return True\n",
    "    else:\n",
    "        return False"
   ]
  },
  {
   "cell_type": "code",
   "execution_count": 44,
   "metadata": {},
   "outputs": [],
   "source": [
    "# Функция поиска подстроки в списке слов-патернов эмоций, путем реализации скоростного бинарного поиска\n",
    "# по сортированному списку\n",
    "\n",
    "def find_in_list(_list, _world):\n",
    "\n",
    "    _low = 0\n",
    "    _high = len(_list) - 1\n",
    "    _len = len(_world)\n",
    "\n",
    "    # использование среднего числа диапазона для уточнения диапазона поиска\n",
    "    _pos = (_low + _high)//2\n",
    "\n",
    "    while not compare_str(_world, _list[_low]) or not compare_str(_world, _list[_high]) or not compare_str(_world, _list[_pos]):\n",
    "        _w = _list[_pos]\n",
    "        _c_len = min(len(_w), _len)\n",
    "        if _world[0:_c_len-1] > _w[0:_c_len-1]:\n",
    "            _low = _pos + 1\n",
    "            _high -= 1\n",
    "        else:\n",
    "            _low += 1\n",
    "            _high = _pos - 1\n",
    "        _pos = (_low + _high)//2\n",
    "        if _low == _high or _pos <= _low or _pos >= _high or _pos < 0:\n",
    "            return False\n",
    "    else:\n",
    "        return True"
   ]
  },
  {
   "cell_type": "code",
   "execution_count": 45,
   "metadata": {},
   "outputs": [],
   "source": [
    "# Формирование признака эмоциональности отзыва на соответствие ключевым словам - самый простейший вариант\n",
    "\n",
    "def _simple_check_emotion(_world):\n",
    "\n",
    "    if find_in_list(_well, _world):\n",
    "        return 1\n",
    "    elif find_in_list(_bad, _world):\n",
    "        return -1\n",
    "    else:\n",
    "        return 0"
   ]
  },
  {
   "cell_type": "code",
   "execution_count": 46,
   "metadata": {},
   "outputs": [],
   "source": [
    "# Обработка ячейки на предмет формирования признака эмоциональности отзыва\n",
    "\n",
    "def get_emotion(_sentence):\n",
    "\n",
    "    _e_rank = 0\n",
    "    _list_world = _sentence.lower()\n",
    "    re.sub(r' [!?.:;,\"-\\'\\\"]', '', _list_world)\n",
    "    _list_world = re.findall(r\"\\w+\", _list_world)\n",
    "\n",
    "    for _world in _list_world:\n",
    "        _e_rank += _simple_check_emotion(_world)\n",
    "    if _e_rank ==0:\n",
    "        return _e_rank\n",
    "    elif _e_rank >= 0:\n",
    "        if _e_rank >= 2:\n",
    "            return 2\n",
    "        else:\n",
    "            return 1\n",
    "    else:\n",
    "        if _e_rank <= -2:\n",
    "            return -2\n",
    "        else:\n",
    "            return -1"
   ]
  },
  {
   "cell_type": "code",
   "execution_count": 47,
   "metadata": {},
   "outputs": [],
   "source": [
    "# Построение признака анализа данных по датам\n",
    "\n",
    "def get_reviews_date(_list_dates):\n",
    "\n",
    "    _l = len(_list_dates)\n",
    "    _now = datetime.today()\n",
    "    if _l == 0:\n",
    "        return (0, 0)\n",
    "    elif _l == 1:\n",
    "        _d = _now - pd.to_datetime(_list_dates[0], format=\"%m/%d/%Y\")\n",
    "        _d_b = 0\n",
    "        return (_d.days, 0)\n",
    "    elif _l == 2:\n",
    "        _d1 = _now - pd.to_datetime(_list_dates[0], format=\"%m/%d/%Y\")\n",
    "        _d2 = _now - pd.to_datetime(_list_dates[1], format=\"%m/%d/%Y\")\n",
    "        _d_b = abs(_d1.days - _d2.days)\n",
    "        return (round(np.mean([_d1.days, _d2.days]),0), _d_b)\n",
    "    else:\n",
    "        return (0, 0)"
   ]
  },
  {
   "cell_type": "code",
   "execution_count": 48,
   "metadata": {},
   "outputs": [],
   "source": [
    "# Построение признаков путем прохождения по строкам \n",
    "def get_reviews_data(row):\n",
    "    \n",
    "    _d_n, _d_b, _e = 0, 0 ,0\n",
    "    \n",
    "    if row['reviews'] != '' and row['reviews'] != '[[], []]':\n",
    "        (_d_n, _d_b) = get_reviews_date(re.findall(r\"\\d\\d\\/\\d\\d\\/\\d\\d\\d\\d\",row['reviews']))\n",
    "        _e = get_emotion(row['reviews'])      \n",
    "    return pd.Series([_e, _d_n, _d_b])"
   ]
  },
  {
   "cell_type": "code",
   "execution_count": 49,
   "metadata": {},
   "outputs": [],
   "source": [
    "data[['review_rank', 'days_now', 'days_between_reviews']] = data.apply(get_reviews_data, axis = 1)"
   ]
  },
  {
   "cell_type": "code",
   "execution_count": 50,
   "metadata": {},
   "outputs": [
    {
     "data": {
      "image/png": "[encoded data removed]",
      "text/plain": [
       "<Figure size 432x288 with 1 Axes>"
      ]
     },
     "metadata": {
      "needs_background": "light"
     },
     "output_type": "display_data"
    },
    {
     "data": {
      "image/png": "[encoded data removed]",
      "text/plain": [
       "<Figure size 432x288 with 1 Axes>"
      ]
     },
     "metadata": {
      "needs_background": "light"
     },
     "output_type": "display_data"
    },
    {
     "data": {
      "image/png": "[encoded data removed]",
      "text/plain": [
       "<Figure size 432x288 with 1 Axes>"
      ]
     },
     "metadata": {
      "needs_background": "light"
     },
     "output_type": "display_data"
    }
   ],
   "source": [
    "fig, ax = plt.subplots()\n",
    "sns.countplot(data['review_rank'], ax=ax)\n",
    "plt.show()\n",
    "\n",
    "fig, ax = plt.subplots()\n",
    "sns.countplot(data['days_now'].value_counts(), ax=ax)\n",
    "plt.show()\n",
    "\n",
    "fig, ax = plt.subplots()\n",
    "sns.countplot(data['days_between_reviews'].value_counts(), ax=ax)\n",
    "plt.show()"
   ]
  },
  {
   "cell_type": "markdown",
   "metadata": {},
   "source": [
    "### Создадим признак **restaurants_count** - кол-во ресторанов в городе"
   ]
  },
  {
   "cell_type": "code",
   "execution_count": 51,
   "metadata": {},
   "outputs": [],
   "source": [
    "# Формируем значения признака с указанием количества ресторанов для каждого города, присутствующего в датасете\n",
    "\n",
    "_dict = dict(data['city'].value_counts())\n",
    "data['restaurants_count'] = data['city'].map(_dict)"
   ]
  },
  {
   "cell_type": "markdown",
   "metadata": {},
   "source": [
    "### Создадим признак **ranking_proportion** - отношение признака ranking и restaurants_count"
   ]
  },
  {
   "cell_type": "code",
   "execution_count": 52,
   "metadata": {},
   "outputs": [],
   "source": [
    "# Города различаются по масштабам ресторанного бизнеса, приводим значение ранга в пропорции к масштабу\n",
    "# нормализуем признак ranking по городам\n",
    "\n",
    "from sklearn.preprocessing import MinMaxScaler\n",
    "from sklearn.preprocessing import StandardScaler\n",
    "\n",
    "data['ranking_proportion'] = data['ranking'] / data['restaurants_count']\n",
    "\n",
    "for city in list(data['city'].unique()):\n",
    "    scaler = MinMaxScaler()\n",
    "#    scaler = StandardScaler()\n",
    "    data[data['city'] == city]['ranking'] = scaler.fit_transform(\n",
    "        data[data['city'] == city]['ranking'].values.reshape(-1, 1))\n",
    "    \n",
    "data['rests_per_capita'] = data['restaurants_count'] / data['population']"
   ]
  },
  {
   "cell_type": "markdown",
   "metadata": {},
   "source": [
    "### Признак **cuisine_style**"
   ]
  },
  {
   "cell_type": "code",
   "execution_count": 53,
   "metadata": {},
   "outputs": [],
   "source": [
    "## Кластеризация и прореживание признака\n",
    "\n",
    "def cuising_claster(_c):\n",
    "\n",
    "    if _c in ['Healthy', 'Vegetarian Friendly', 'Vegan Options', 'Gluten Free Options']:\n",
    "        return 'Healthy'\n",
    "    elif _c in ['Seafood', 'Mediterranean', 'Italian', 'Spanish', 'Greek', 'Croatian', 'Portuguese']:\n",
    "        return 'Mediterranean'\n",
    "    elif _c in ['International', 'Fusion', 'Contemporary']:\n",
    "        return 'Fusion'\n",
    "    elif _c in ['Gastropub', 'Delicatessen']:\n",
    "        return 'Gastropub'\n",
    "    elif _c in ['European', 'French', 'British', 'Central European', 'German', 'Czech', 'Eastern European',\n",
    "                'Austrian', 'Latin', 'Swiss', 'Danish', 'Swedish', 'Polish', 'Hungarian', 'Scandinavian', 'Dutch',\n",
    "                'Belgian', 'Norwegian' 'Slovenian']:\n",
    "        return 'European'\n",
    "    elif _c in ['American', 'Mexican', 'South American', 'Argentinean', 'Central American', 'Brazilian', 'Peruvian',\n",
    "                'Venezuelan', 'Colombian', 'Southwestern']:\n",
    "        return 'American'\n",
    "    elif _c in ['Pub', 'Bar', 'Irish', 'WineBar', 'BrewPub', 'Scottish']:\n",
    "        return 'Bar'\n",
    "    elif _c in ['Steakhouse', 'Barbecue', 'Grill']:\n",
    "        return 'Steakhouse'\n",
    "    elif _c in ['Pizza']:\n",
    "        return 'Pizza'\n",
    "    elif _c in ['Cafe']:\n",
    "        return 'Cafe'\n",
    "    elif _c in ['Diner']:\n",
    "        return 'Diner'\n",
    "    elif _c in ['Fast Food', 'Street Food']:\n",
    "        return 'Fast Food'\n",
    "    elif _c in ['Soups']:\n",
    "        return 'Soups'\n",
    "    elif _c in ['Japanese', 'Sushi']:\n",
    "        return 'Japanese'\n",
    "    elif _c in ['Indian', 'Pakistani', 'Bangladeshi', 'Nepali', 'Tibetan']:\n",
    "        return 'Indian'\n",
    "    elif _c in ['Asian', 'Central Asian', 'Middle Eastern', 'Halal', 'Turkish', 'Lebanese', 'Arabic', 'Tunisian', 'Egyptian',\n",
    "                'Persian', 'Uzbek']:\n",
    "        return 'Asian'\n",
    "    elif _c in ['Yunnan', 'Xinjiang', 'Fujian', 'Minority Chinese', 'Taiwanese', 'Korean', 'Vietnamese', 'Thai',\n",
    "                'Chinese', 'Asian', 'Singaporean']:\n",
    "        return 'East Asian'\n",
    "    elif _c in ['Israeli', 'Kosher']:\n",
    "        return 'Israeli'\n",
    "    elif _c in ['Caribbean', 'Jamaican', 'Cuban']:\n",
    "        return 'Caribbean'\n",
    "    elif _c in ['African', 'Moroccan', 'Ethiopian']:\n",
    "        return 'African'\n",
    "    elif _c in ['Russian', 'Ukrainian', 'Georgian', 'Azerbaijani', 'Caucasian', 'Armenian']:\n",
    "        return 'Caucasian'\n",
    "    else:\n",
    "        return 'Other'"
   ]
  },
  {
   "cell_type": "code",
   "execution_count": 54,
   "metadata": {},
   "outputs": [],
   "source": [
    "# Создание списка видов кухни\n",
    "data['cuisine_style'] = data['cuisine_style'].str.findall(r\"'(\\b.*?\\b)'\")"
   ]
  },
  {
   "cell_type": "code",
   "execution_count": 55,
   "metadata": {},
   "outputs": [],
   "source": [
    "# Пропуски в cuisine_style заменим на пустные строки\n",
    "data['cuisine_style'].fillna('', inplace = True)"
   ]
  },
  {
   "cell_type": "markdown",
   "metadata": {},
   "source": [
    "###  Создадим признак **cuisine_count** - видов кол-во кухонь в ресторане"
   ]
  },
  {
   "cell_type": "code",
   "execution_count": 56,
   "metadata": {},
   "outputs": [],
   "source": [
    "# Формирование признака количества кухонь\n",
    "data['cuisine_count'] = data['cuisine_style'].apply(lambda x: len(x) if len(x) > 1 else 1)"
   ]
  },
  {
   "cell_type": "code",
   "execution_count": 57,
   "metadata": {},
   "outputs": [
    {
     "data": {
      "image/png": "[encoded data removed]",
      "text/plain": [
       "<Figure size 432x288 with 1 Axes>"
      ]
     },
     "metadata": {
      "needs_background": "light"
     },
     "output_type": "display_data"
    }
   ],
   "source": [
    "fig, ax = plt.subplots()\n",
    "sns.countplot(data['cuisine_count'], ax=ax)\n",
    "plt.show()"
   ]
  },
  {
   "cell_type": "markdown",
   "metadata": {},
   "source": [
    "### Трансформируем признак видов кухни из списка для проведения кластеризации"
   ]
  },
  {
   "cell_type": "code",
   "execution_count": 58,
   "metadata": {},
   "outputs": [],
   "source": [
    "# Создание списка колонок расширения датафрейма по типу OHEncoding\n",
    "\n",
    "_data_test = data[['city', 'cuisine_style']]\n",
    "_data_test = _data_test.explode('cuisine_style')\n",
    "_cuisine_style_set = set()\n",
    "\n",
    "# Присвоение пустому значению cuisine_style наиболее распространенного значения в данном городе\n",
    "\n",
    "for city in list(data['city'].unique()):\n",
    "\n",
    "    _city_local  = _data_test[_data_test['city'] == city]['cuisine_style'].value_counts()\n",
    "    local_style = _city_local.index[0]\n",
    "    if local_style == '':\n",
    "        local_style = _city_local.index[1]\n",
    "    data.update(data[(data['city'] == city) & (data['cuisine_style'] == '')].cuisine_style.replace('', local_style))\n",
    "\n",
    "_cuisine_style_set.update(_data_test['cuisine_style'])\n",
    "_cuisine_style_set.discard('')\n",
    "_s = _cuisine_style_set.copy()\n",
    "_cuisine_style_set.clear()\n",
    "for _elem in _s:\n",
    "    _cuisine_style_set.add(cuising_claster(_elem))\n",
    "_cuisine_style_set = list(_cuisine_style_set)"
   ]
  },
  {
   "cell_type": "code",
   "execution_count": 59,
   "metadata": {},
   "outputs": [],
   "source": [
    "def fill_cuisine(_row):\n",
    "\n",
    "    for _col in _row['cuisine_style']:\n",
    "        _row['cuisine_' + cuising_claster(_col).lower()] = 1\n",
    "    return _row"
   ]
  },
  {
   "cell_type": "code",
   "execution_count": 60,
   "metadata": {
    "scrolled": true
   },
   "outputs": [],
   "source": [
    "# Формируем категориальные признаки кластеризованных значений видов кухни по типу \n",
    "\n",
    "for _col in _cuisine_style_set:\n",
    "    data['cuisine_' + _col.lower()] = 0\n",
    "data = data.apply(fill_cuisine, axis=1)"
   ]
  },
  {
   "cell_type": "code",
   "execution_count": 61,
   "metadata": {},
   "outputs": [
    {
     "data": {
      "image/png": "[encoded data removed]",
      "text/plain": [
       "<Figure size 720x720 with 1 Axes>"
      ]
     },
     "metadata": {
      "needs_background": "light"
     },
     "output_type": "display_data"
    }
   ],
   "source": [
    "# Список кластеризованных значений признака видов кухонь\n",
    "\n",
    "cuisine_list = _data_test['cuisine_style'].apply(cuising_claster).value_counts(ascending=True)\n",
    "plt.figure(figsize=(10,10))\n",
    "cuisine_list.plot(kind='barh', grid=True)\n",
    "plt.show()"
   ]
  },
  {
   "cell_type": "markdown",
   "metadata": {},
   "source": [
    "### Исследуем данные"
   ]
  },
  {
   "cell_type": "code",
   "execution_count": 62,
   "metadata": {},
   "outputs": [],
   "source": [
    "# # Используем формулу интерквартильной оценки для фильтрации выбросов\n",
    "\n",
    "# lst_columns = ['number_of_reviews', 'distance_downtown', 'days_now', 'days_between_reviews']\n",
    "\n",
    "# for _col in lst_columns:\n",
    "#     median = data[_col].median()\n",
    "#     IQR = data[_col].quantile(0.75) - data[_col].quantile(0.25)\n",
    "#     perc25 = data[_col].quantile(0.25)\n",
    "#     perc75 = data[_col].quantile(0.75)\n",
    "#     if _col == 'distance_downtown':\n",
    "#         print(perc75 + 1.5*IQR)\n",
    "#         data[_col].loc[(data[_col] > 100) | (data[_col] == 0)] = median\n",
    "#     else:\n",
    "#         data[_col].loc[data[_col].le(perc25 - 1.5*IQR)] = median\n",
    "#         data[_col].loc[data[_col].ge(perc75 + 1.5*IQR)] = median\n"
   ]
  },
  {
   "cell_type": "code",
   "execution_count": 63,
   "metadata": {},
   "outputs": [],
   "source": [
    "# Используем формулу интерквартильной оценки для фильтрации выбросов\n",
    "\n",
    "lst_columns = ['number_of_reviews', 'distance_downtown', 'days_now', 'days_between_reviews']\n",
    "\n",
    "for _col in lst_columns:\n",
    "    median = data[_col].median()\n",
    "    IQR = data[_col].quantile(0.75) - data[_col].quantile(0.25)\n",
    "    perc25 = data[_col].quantile(0.25)\n",
    "    perc75 = data[_col].quantile(0.75)\n",
    "    data[_col].loc[data[_col].le(perc25 - 1.5*IQR)] = perc25 - 1.5*IQR\n",
    "    data[_col].loc[data[_col].ge(perc75 + 1.5*IQR)] = perc75 + 1.5*IQR\n"
   ]
  },
  {
   "cell_type": "code",
   "execution_count": 64,
   "metadata": {},
   "outputs": [
    {
     "data": {
      "image/png": "[encoded data removed]",
      "text/plain": [
       "<Figure size 1500x500 with 1 Axes>"
      ]
     },
     "metadata": {
      "needs_background": "light"
     },
     "output_type": "display_data"
    }
   ],
   "source": [
    "plt.figure(figsize=(15, 5), dpi=100)\n",
    "sns.countplot(data['city'], order=data['city'].value_counts().index)\n",
    "plt.xticks(rotation=45)\n",
    "plt.title('Количество ресторанов по городам', fontsize=15)\n",
    "plt.xlabel('Город')\n",
    "plt.ylabel('Количество')\n",
    "plt.show()"
   ]
  },
  {
   "cell_type": "markdown",
   "metadata": {},
   "source": [
    "#### Разброс данных определяется масштабом городов"
   ]
  },
  {
   "cell_type": "code",
   "execution_count": 65,
   "metadata": {},
   "outputs": [
    {
     "data": {
      "image/png": "[encoded data removed]",
      "text/plain": [
       "<Figure size 1296x864 with 1 Axes>"
      ]
     },
     "metadata": {
      "needs_background": "light"
     },
     "output_type": "display_data"
    }
   ],
   "source": [
    "plt.figure(figsize=(18, 12))\n",
    "sns.boxplot(x='rating', y='city', data=data[data['sample'] != 0]);"
   ]
  },
  {
   "cell_type": "code",
   "execution_count": 66,
   "metadata": {},
   "outputs": [
    {
     "data": {
      "image/png": "[encoded data removed]",
      "text/plain": [
       "<Figure size 1008x720 with 1 Axes>"
      ]
     },
     "metadata": {
      "needs_background": "light"
     },
     "output_type": "display_data"
    }
   ],
   "source": [
    "plt.rcParams['figure.figsize'] = (14,10)\n",
    "\n",
    "# посмотрим на топ 10 городов\n",
    "for x in (data['city'].value_counts())[0:10].index:\n",
    "    data['ranking'][data['city'] == x].hist(bins=100)\n",
    "plt.show()"
   ]
  },
  {
   "cell_type": "markdown",
   "metadata": {},
   "source": [
    "## Создание dummy-признаков"
   ]
  },
  {
   "cell_type": "code",
   "execution_count": 67,
   "metadata": {},
   "outputs": [],
   "source": [
    "data.drop(['restaurant_id', 'cuisine_style', 'reviews', 'url_ta', 'id_ta'], axis=1, inplace=True)"
   ]
  },
  {
   "cell_type": "code",
   "execution_count": 68,
   "metadata": {},
   "outputs": [],
   "source": [
    "# ОДин из вариантов применения OneHotEncoder\n",
    "# from sklearn.preprocessing import OneHotEncoder\n",
    "# OH_encoder = OneHotEncoder(handle_unknown='ignore', sparse=False)\n",
    "# OH_city = pd.DataFrame(OH_encoder.fit_transform(df[['city']]))\n",
    "\n",
    "# Adding column names to the encoded data set.\n",
    "# OH_city.columns = OH_encoder.get_feature_names(['city_'])\n",
    "\n",
    "# Show data\n",
    "# OH_city.head(2)"
   ]
  },
  {
   "cell_type": "code",
   "execution_count": 69,
   "metadata": {},
   "outputs": [],
   "source": [
    "# Расширение датафрейма на признаки по списку\n",
    "\n",
    "categ_col = ['city', 'price_range']\n",
    "# categ_col = ['city', 'cuisine_style', 'price_range']\n",
    "_main_categs = data[[_col for _col in list(data.columns) if _col not in categ_col]]\n",
    "_add_categs = [pd.get_dummies(data[_col], prefix = _col) for _col in categ_col]\n",
    "data = pd.concat([_main_categs] + _add_categs, axis=1)"
   ]
  },
  {
   "cell_type": "markdown",
   "metadata": {},
   "source": [
    "### Посмотрим распределение целевой переменной"
   ]
  },
  {
   "cell_type": "code",
   "execution_count": 70,
   "metadata": {},
   "outputs": [
    {
     "data": {
      "text/plain": [
       "4.0    13692\n",
       "4.5    10929\n",
       "3.5     6824\n",
       "5.0     3879\n",
       "3.0     2955\n",
       "2.5      915\n",
       "2.0      466\n",
       "1.0      201\n",
       "1.5      139\n",
       "Name: rating, dtype: int64"
      ]
     },
     "execution_count": 70,
     "metadata": {},
     "output_type": "execute_result"
    }
   ],
   "source": [
    "data[data['sample'] != 0]['rating'].value_counts()"
   ]
  },
  {
   "cell_type": "markdown",
   "metadata": {},
   "source": [
    "### Посмотрим распределение целевой переменной относительно признака"
   ]
  },
  {
   "cell_type": "code",
   "execution_count": 71,
   "metadata": {},
   "outputs": [
    {
     "data": {
      "image/png": "[encoded data removed]",
      "text/plain": [
       "<Figure size 1008x720 with 1 Axes>"
      ]
     },
     "metadata": {
      "needs_background": "light"
     },
     "output_type": "display_data"
    }
   ],
   "source": [
    "data['ranking'].hist(bins=100)\n",
    "plt.show()"
   ]
  },
  {
   "cell_type": "markdown",
   "metadata": {},
   "source": [
    "### [корреляция признаков](https://ru.wikipedia.org/wiki/Корреляция)\n",
    "На этом графике уже сейчас вы сможете заметить, как признаки связаны между собой и с целевой переменной."
   ]
  },
  {
   "cell_type": "code",
   "execution_count": 72,
   "metadata": {},
   "outputs": [
    {
     "data": {
      "text/html": [
       "<div>\n",
       "<style scoped>\n",
       "    .dataframe tbody tr th:only-of-type {\n",
       "        vertical-align: middle;\n",
       "    }\n",
       "\n",
       "    .dataframe tbody tr th {\n",
       "        vertical-align: top;\n",
       "    }\n",
       "\n",
       "    .dataframe thead th {\n",
       "        text-align: right;\n",
       "    }\n",
       "</style>\n",
       "<table border=\"1\" class=\"dataframe\">\n",
       "  <thead>\n",
       "    <tr style=\"text-align: right;\">\n",
       "      <th></th>\n",
       "      <th>ranking</th>\n",
       "      <th>number_of_reviews</th>\n",
       "      <th>sample</th>\n",
       "      <th>rating</th>\n",
       "      <th>chain</th>\n",
       "      <th>is_capital_city</th>\n",
       "      <th>country_code</th>\n",
       "      <th>population</th>\n",
       "      <th>distance_downtown</th>\n",
       "      <th>review_rank</th>\n",
       "      <th>days_now</th>\n",
       "      <th>days_between_reviews</th>\n",
       "      <th>restaurants_count</th>\n",
       "      <th>ranking_proportion</th>\n",
       "      <th>rests_per_capita</th>\n",
       "      <th>cuisine_count</th>\n",
       "      <th>cuisine_israeli</th>\n",
       "      <th>cuisine_american</th>\n",
       "      <th>cuisine_steakhouse</th>\n",
       "      <th>cuisine_japanese</th>\n",
       "      <th>cuisine_asian</th>\n",
       "      <th>cuisine_pizza</th>\n",
       "      <th>cuisine_diner</th>\n",
       "      <th>cuisine_soups</th>\n",
       "      <th>cuisine_indian</th>\n",
       "      <th>...</th>\n",
       "      <th>city_Edinburgh</th>\n",
       "      <th>city_Geneva</th>\n",
       "      <th>city_Hamburg</th>\n",
       "      <th>city_Helsinki</th>\n",
       "      <th>city_Krakow</th>\n",
       "      <th>city_Lisbon</th>\n",
       "      <th>city_Ljubljana</th>\n",
       "      <th>city_London</th>\n",
       "      <th>city_Luxembourg</th>\n",
       "      <th>city_Lyon</th>\n",
       "      <th>city_Madrid</th>\n",
       "      <th>city_Milan</th>\n",
       "      <th>city_Munich</th>\n",
       "      <th>city_Oporto</th>\n",
       "      <th>city_Oslo</th>\n",
       "      <th>city_Paris</th>\n",
       "      <th>city_Prague</th>\n",
       "      <th>city_Rome</th>\n",
       "      <th>city_Stockholm</th>\n",
       "      <th>city_Vienna</th>\n",
       "      <th>city_Warsaw</th>\n",
       "      <th>city_Zurich</th>\n",
       "      <th>price_range_1</th>\n",
       "      <th>price_range_2</th>\n",
       "      <th>price_range_3</th>\n",
       "    </tr>\n",
       "  </thead>\n",
       "  <tbody>\n",
       "    <tr>\n",
       "      <th>0</th>\n",
       "      <td>12963.0</td>\n",
       "      <td>4.0</td>\n",
       "      <td>0</td>\n",
       "      <td>0.0</td>\n",
       "      <td>1.0</td>\n",
       "      <td>1</td>\n",
       "      <td>5</td>\n",
       "      <td>2190327</td>\n",
       "      <td>2.392568</td>\n",
       "      <td>0.0</td>\n",
       "      <td>691.0</td>\n",
       "      <td>0.0</td>\n",
       "      <td>6108</td>\n",
       "      <td>2.122299</td>\n",
       "      <td>0.002789</td>\n",
       "      <td>2</td>\n",
       "      <td>0</td>\n",
       "      <td>0</td>\n",
       "      <td>0</td>\n",
       "      <td>0</td>\n",
       "      <td>0</td>\n",
       "      <td>0</td>\n",
       "      <td>0</td>\n",
       "      <td>0</td>\n",
       "      <td>0</td>\n",
       "      <td>...</td>\n",
       "      <td>0</td>\n",
       "      <td>0</td>\n",
       "      <td>0</td>\n",
       "      <td>0</td>\n",
       "      <td>0</td>\n",
       "      <td>0</td>\n",
       "      <td>0</td>\n",
       "      <td>0</td>\n",
       "      <td>0</td>\n",
       "      <td>0</td>\n",
       "      <td>0</td>\n",
       "      <td>0</td>\n",
       "      <td>0</td>\n",
       "      <td>0</td>\n",
       "      <td>0</td>\n",
       "      <td>1</td>\n",
       "      <td>0</td>\n",
       "      <td>0</td>\n",
       "      <td>0</td>\n",
       "      <td>0</td>\n",
       "      <td>0</td>\n",
       "      <td>0</td>\n",
       "      <td>0</td>\n",
       "      <td>1</td>\n",
       "      <td>0</td>\n",
       "    </tr>\n",
       "    <tr>\n",
       "      <th>1</th>\n",
       "      <td>106.0</td>\n",
       "      <td>97.0</td>\n",
       "      <td>0</td>\n",
       "      <td>0.0</td>\n",
       "      <td>1.0</td>\n",
       "      <td>1</td>\n",
       "      <td>4</td>\n",
       "      <td>643272</td>\n",
       "      <td>19.203177</td>\n",
       "      <td>0.0</td>\n",
       "      <td>1172.0</td>\n",
       "      <td>37.0</td>\n",
       "      <td>475</td>\n",
       "      <td>0.223158</td>\n",
       "      <td>0.000738</td>\n",
       "      <td>5</td>\n",
       "      <td>0</td>\n",
       "      <td>0</td>\n",
       "      <td>0</td>\n",
       "      <td>0</td>\n",
       "      <td>0</td>\n",
       "      <td>0</td>\n",
       "      <td>0</td>\n",
       "      <td>0</td>\n",
       "      <td>0</td>\n",
       "      <td>...</td>\n",
       "      <td>0</td>\n",
       "      <td>0</td>\n",
       "      <td>0</td>\n",
       "      <td>1</td>\n",
       "      <td>0</td>\n",
       "      <td>0</td>\n",
       "      <td>0</td>\n",
       "      <td>0</td>\n",
       "      <td>0</td>\n",
       "      <td>0</td>\n",
       "      <td>0</td>\n",
       "      <td>0</td>\n",
       "      <td>0</td>\n",
       "      <td>0</td>\n",
       "      <td>0</td>\n",
       "      <td>0</td>\n",
       "      <td>0</td>\n",
       "      <td>0</td>\n",
       "      <td>0</td>\n",
       "      <td>0</td>\n",
       "      <td>0</td>\n",
       "      <td>0</td>\n",
       "      <td>0</td>\n",
       "      <td>1</td>\n",
       "      <td>0</td>\n",
       "    </tr>\n",
       "    <tr>\n",
       "      <th>2</th>\n",
       "      <td>810.0</td>\n",
       "      <td>28.0</td>\n",
       "      <td>0</td>\n",
       "      <td>0.0</td>\n",
       "      <td>1.0</td>\n",
       "      <td>1</td>\n",
       "      <td>16</td>\n",
       "      <td>488100</td>\n",
       "      <td>1.962467</td>\n",
       "      <td>0.0</td>\n",
       "      <td>1141.0</td>\n",
       "      <td>22.0</td>\n",
       "      <td>745</td>\n",
       "      <td>1.087248</td>\n",
       "      <td>0.001526</td>\n",
       "      <td>1</td>\n",
       "      <td>0</td>\n",
       "      <td>0</td>\n",
       "      <td>0</td>\n",
       "      <td>0</td>\n",
       "      <td>0</td>\n",
       "      <td>0</td>\n",
       "      <td>0</td>\n",
       "      <td>0</td>\n",
       "      <td>0</td>\n",
       "      <td>...</td>\n",
       "      <td>1</td>\n",
       "      <td>0</td>\n",
       "      <td>0</td>\n",
       "      <td>0</td>\n",
       "      <td>0</td>\n",
       "      <td>0</td>\n",
       "      <td>0</td>\n",
       "      <td>0</td>\n",
       "      <td>0</td>\n",
       "      <td>0</td>\n",
       "      <td>0</td>\n",
       "      <td>0</td>\n",
       "      <td>0</td>\n",
       "      <td>0</td>\n",
       "      <td>0</td>\n",
       "      <td>0</td>\n",
       "      <td>0</td>\n",
       "      <td>0</td>\n",
       "      <td>0</td>\n",
       "      <td>0</td>\n",
       "      <td>0</td>\n",
       "      <td>0</td>\n",
       "      <td>0</td>\n",
       "      <td>1</td>\n",
       "      <td>0</td>\n",
       "    </tr>\n",
       "    <tr>\n",
       "      <th>3</th>\n",
       "      <td>1669.0</td>\n",
       "      <td>202.0</td>\n",
       "      <td>0</td>\n",
       "      <td>0.0</td>\n",
       "      <td>1.0</td>\n",
       "      <td>1</td>\n",
       "      <td>22</td>\n",
       "      <td>8908081</td>\n",
       "      <td>1.167223</td>\n",
       "      <td>-1.0</td>\n",
       "      <td>1159.0</td>\n",
       "      <td>14.0</td>\n",
       "      <td>7193</td>\n",
       "      <td>0.232031</td>\n",
       "      <td>0.000807</td>\n",
       "      <td>5</td>\n",
       "      <td>0</td>\n",
       "      <td>0</td>\n",
       "      <td>0</td>\n",
       "      <td>0</td>\n",
       "      <td>0</td>\n",
       "      <td>0</td>\n",
       "      <td>0</td>\n",
       "      <td>0</td>\n",
       "      <td>0</td>\n",
       "      <td>...</td>\n",
       "      <td>0</td>\n",
       "      <td>0</td>\n",
       "      <td>0</td>\n",
       "      <td>0</td>\n",
       "      <td>0</td>\n",
       "      <td>0</td>\n",
       "      <td>0</td>\n",
       "      <td>1</td>\n",
       "      <td>0</td>\n",
       "      <td>0</td>\n",
       "      <td>0</td>\n",
       "      <td>0</td>\n",
       "      <td>0</td>\n",
       "      <td>0</td>\n",
       "      <td>0</td>\n",
       "      <td>0</td>\n",
       "      <td>0</td>\n",
       "      <td>0</td>\n",
       "      <td>0</td>\n",
       "      <td>0</td>\n",
       "      <td>0</td>\n",
       "      <td>0</td>\n",
       "      <td>0</td>\n",
       "      <td>0</td>\n",
       "      <td>1</td>\n",
       "    </tr>\n",
       "    <tr>\n",
       "      <th>4</th>\n",
       "      <td>37.0</td>\n",
       "      <td>162.0</td>\n",
       "      <td>0</td>\n",
       "      <td>0.0</td>\n",
       "      <td>1.0</td>\n",
       "      <td>1</td>\n",
       "      <td>17</td>\n",
       "      <td>432864</td>\n",
       "      <td>1.492694</td>\n",
       "      <td>0.0</td>\n",
       "      <td>1096.0</td>\n",
       "      <td>15.0</td>\n",
       "      <td>380</td>\n",
       "      <td>0.097368</td>\n",
       "      <td>0.000878</td>\n",
       "      <td>6</td>\n",
       "      <td>0</td>\n",
       "      <td>0</td>\n",
       "      <td>0</td>\n",
       "      <td>0</td>\n",
       "      <td>0</td>\n",
       "      <td>0</td>\n",
       "      <td>0</td>\n",
       "      <td>0</td>\n",
       "      <td>0</td>\n",
       "      <td>...</td>\n",
       "      <td>0</td>\n",
       "      <td>0</td>\n",
       "      <td>0</td>\n",
       "      <td>0</td>\n",
       "      <td>0</td>\n",
       "      <td>0</td>\n",
       "      <td>0</td>\n",
       "      <td>0</td>\n",
       "      <td>0</td>\n",
       "      <td>0</td>\n",
       "      <td>0</td>\n",
       "      <td>0</td>\n",
       "      <td>0</td>\n",
       "      <td>0</td>\n",
       "      <td>0</td>\n",
       "      <td>0</td>\n",
       "      <td>0</td>\n",
       "      <td>0</td>\n",
       "      <td>0</td>\n",
       "      <td>0</td>\n",
       "      <td>0</td>\n",
       "      <td>0</td>\n",
       "      <td>0</td>\n",
       "      <td>0</td>\n",
       "      <td>1</td>\n",
       "    </tr>\n",
       "    <tr>\n",
       "      <th>...</th>\n",
       "      <td>...</td>\n",
       "      <td>...</td>\n",
       "      <td>...</td>\n",
       "      <td>...</td>\n",
       "      <td>...</td>\n",
       "      <td>...</td>\n",
       "      <td>...</td>\n",
       "      <td>...</td>\n",
       "      <td>...</td>\n",
       "      <td>...</td>\n",
       "      <td>...</td>\n",
       "      <td>...</td>\n",
       "      <td>...</td>\n",
       "      <td>...</td>\n",
       "      <td>...</td>\n",
       "      <td>...</td>\n",
       "      <td>...</td>\n",
       "      <td>...</td>\n",
       "      <td>...</td>\n",
       "      <td>...</td>\n",
       "      <td>...</td>\n",
       "      <td>...</td>\n",
       "      <td>...</td>\n",
       "      <td>...</td>\n",
       "      <td>...</td>\n",
       "      <td>...</td>\n",
       "      <td>...</td>\n",
       "      <td>...</td>\n",
       "      <td>...</td>\n",
       "      <td>...</td>\n",
       "      <td>...</td>\n",
       "      <td>...</td>\n",
       "      <td>...</td>\n",
       "      <td>...</td>\n",
       "      <td>...</td>\n",
       "      <td>...</td>\n",
       "      <td>...</td>\n",
       "      <td>...</td>\n",
       "      <td>...</td>\n",
       "      <td>...</td>\n",
       "      <td>...</td>\n",
       "      <td>...</td>\n",
       "      <td>...</td>\n",
       "      <td>...</td>\n",
       "      <td>...</td>\n",
       "      <td>...</td>\n",
       "      <td>...</td>\n",
       "      <td>...</td>\n",
       "      <td>...</td>\n",
       "      <td>...</td>\n",
       "      <td>...</td>\n",
       "    </tr>\n",
       "    <tr>\n",
       "      <th>49995</th>\n",
       "      <td>500.0</td>\n",
       "      <td>79.0</td>\n",
       "      <td>1</td>\n",
       "      <td>4.5</td>\n",
       "      <td>1.0</td>\n",
       "      <td>0</td>\n",
       "      <td>10</td>\n",
       "      <td>1378689</td>\n",
       "      <td>0.906784</td>\n",
       "      <td>0.0</td>\n",
       "      <td>1159.0</td>\n",
       "      <td>34.0</td>\n",
       "      <td>2694</td>\n",
       "      <td>0.185598</td>\n",
       "      <td>0.001954</td>\n",
       "      <td>4</td>\n",
       "      <td>0</td>\n",
       "      <td>0</td>\n",
       "      <td>0</td>\n",
       "      <td>0</td>\n",
       "      <td>0</td>\n",
       "      <td>0</td>\n",
       "      <td>0</td>\n",
       "      <td>0</td>\n",
       "      <td>0</td>\n",
       "      <td>...</td>\n",
       "      <td>0</td>\n",
       "      <td>0</td>\n",
       "      <td>0</td>\n",
       "      <td>0</td>\n",
       "      <td>0</td>\n",
       "      <td>0</td>\n",
       "      <td>0</td>\n",
       "      <td>0</td>\n",
       "      <td>0</td>\n",
       "      <td>0</td>\n",
       "      <td>0</td>\n",
       "      <td>1</td>\n",
       "      <td>0</td>\n",
       "      <td>0</td>\n",
       "      <td>0</td>\n",
       "      <td>0</td>\n",
       "      <td>0</td>\n",
       "      <td>0</td>\n",
       "      <td>0</td>\n",
       "      <td>0</td>\n",
       "      <td>0</td>\n",
       "      <td>0</td>\n",
       "      <td>0</td>\n",
       "      <td>1</td>\n",
       "      <td>0</td>\n",
       "    </tr>\n",
       "    <tr>\n",
       "      <th>49996</th>\n",
       "      <td>6341.0</td>\n",
       "      <td>295.0</td>\n",
       "      <td>1</td>\n",
       "      <td>3.5</td>\n",
       "      <td>1.0</td>\n",
       "      <td>1</td>\n",
       "      <td>5</td>\n",
       "      <td>2190327</td>\n",
       "      <td>0.681281</td>\n",
       "      <td>-1.0</td>\n",
       "      <td>1142.0</td>\n",
       "      <td>9.0</td>\n",
       "      <td>6108</td>\n",
       "      <td>1.038147</td>\n",
       "      <td>0.002789</td>\n",
       "      <td>5</td>\n",
       "      <td>0</td>\n",
       "      <td>1</td>\n",
       "      <td>0</td>\n",
       "      <td>0</td>\n",
       "      <td>0</td>\n",
       "      <td>0</td>\n",
       "      <td>0</td>\n",
       "      <td>0</td>\n",
       "      <td>0</td>\n",
       "      <td>...</td>\n",
       "      <td>0</td>\n",
       "      <td>0</td>\n",
       "      <td>0</td>\n",
       "      <td>0</td>\n",
       "      <td>0</td>\n",
       "      <td>0</td>\n",
       "      <td>0</td>\n",
       "      <td>0</td>\n",
       "      <td>0</td>\n",
       "      <td>0</td>\n",
       "      <td>0</td>\n",
       "      <td>0</td>\n",
       "      <td>0</td>\n",
       "      <td>0</td>\n",
       "      <td>0</td>\n",
       "      <td>1</td>\n",
       "      <td>0</td>\n",
       "      <td>0</td>\n",
       "      <td>0</td>\n",
       "      <td>0</td>\n",
       "      <td>0</td>\n",
       "      <td>0</td>\n",
       "      <td>0</td>\n",
       "      <td>1</td>\n",
       "      <td>0</td>\n",
       "    </tr>\n",
       "    <tr>\n",
       "      <th>49997</th>\n",
       "      <td>1652.0</td>\n",
       "      <td>4.0</td>\n",
       "      <td>1</td>\n",
       "      <td>4.5</td>\n",
       "      <td>1.0</td>\n",
       "      <td>1</td>\n",
       "      <td>20</td>\n",
       "      <td>961609</td>\n",
       "      <td>0.000000</td>\n",
       "      <td>1.0</td>\n",
       "      <td>1883.0</td>\n",
       "      <td>300.0</td>\n",
       "      <td>1033</td>\n",
       "      <td>1.599226</td>\n",
       "      <td>0.001074</td>\n",
       "      <td>2</td>\n",
       "      <td>0</td>\n",
       "      <td>0</td>\n",
       "      <td>0</td>\n",
       "      <td>1</td>\n",
       "      <td>0</td>\n",
       "      <td>0</td>\n",
       "      <td>0</td>\n",
       "      <td>0</td>\n",
       "      <td>0</td>\n",
       "      <td>...</td>\n",
       "      <td>0</td>\n",
       "      <td>0</td>\n",
       "      <td>0</td>\n",
       "      <td>0</td>\n",
       "      <td>0</td>\n",
       "      <td>0</td>\n",
       "      <td>0</td>\n",
       "      <td>0</td>\n",
       "      <td>0</td>\n",
       "      <td>0</td>\n",
       "      <td>0</td>\n",
       "      <td>0</td>\n",
       "      <td>0</td>\n",
       "      <td>0</td>\n",
       "      <td>0</td>\n",
       "      <td>0</td>\n",
       "      <td>0</td>\n",
       "      <td>0</td>\n",
       "      <td>1</td>\n",
       "      <td>0</td>\n",
       "      <td>0</td>\n",
       "      <td>0</td>\n",
       "      <td>1</td>\n",
       "      <td>0</td>\n",
       "      <td>0</td>\n",
       "    </tr>\n",
       "    <tr>\n",
       "      <th>49998</th>\n",
       "      <td>641.0</td>\n",
       "      <td>70.0</td>\n",
       "      <td>1</td>\n",
       "      <td>4.0</td>\n",
       "      <td>1.0</td>\n",
       "      <td>1</td>\n",
       "      <td>14</td>\n",
       "      <td>1758143</td>\n",
       "      <td>1.987243</td>\n",
       "      <td>0.0</td>\n",
       "      <td>1312.0</td>\n",
       "      <td>23.0</td>\n",
       "      <td>925</td>\n",
       "      <td>0.692973</td>\n",
       "      <td>0.000526</td>\n",
       "      <td>5</td>\n",
       "      <td>0</td>\n",
       "      <td>0</td>\n",
       "      <td>0</td>\n",
       "      <td>0</td>\n",
       "      <td>0</td>\n",
       "      <td>0</td>\n",
       "      <td>0</td>\n",
       "      <td>0</td>\n",
       "      <td>0</td>\n",
       "      <td>...</td>\n",
       "      <td>0</td>\n",
       "      <td>0</td>\n",
       "      <td>0</td>\n",
       "      <td>0</td>\n",
       "      <td>0</td>\n",
       "      <td>0</td>\n",
       "      <td>0</td>\n",
       "      <td>0</td>\n",
       "      <td>0</td>\n",
       "      <td>0</td>\n",
       "      <td>0</td>\n",
       "      <td>0</td>\n",
       "      <td>0</td>\n",
       "      <td>0</td>\n",
       "      <td>0</td>\n",
       "      <td>0</td>\n",
       "      <td>0</td>\n",
       "      <td>0</td>\n",
       "      <td>0</td>\n",
       "      <td>0</td>\n",
       "      <td>1</td>\n",
       "      <td>0</td>\n",
       "      <td>0</td>\n",
       "      <td>1</td>\n",
       "      <td>0</td>\n",
       "    </tr>\n",
       "    <tr>\n",
       "      <th>49999</th>\n",
       "      <td>4827.0</td>\n",
       "      <td>260.0</td>\n",
       "      <td>1</td>\n",
       "      <td>3.0</td>\n",
       "      <td>1.0</td>\n",
       "      <td>0</td>\n",
       "      <td>10</td>\n",
       "      <td>1378689</td>\n",
       "      <td>4.262291</td>\n",
       "      <td>1.0</td>\n",
       "      <td>1883.0</td>\n",
       "      <td>300.0</td>\n",
       "      <td>2694</td>\n",
       "      <td>1.791759</td>\n",
       "      <td>0.001954</td>\n",
       "      <td>1</td>\n",
       "      <td>0</td>\n",
       "      <td>0</td>\n",
       "      <td>0</td>\n",
       "      <td>0</td>\n",
       "      <td>0</td>\n",
       "      <td>0</td>\n",
       "      <td>0</td>\n",
       "      <td>0</td>\n",
       "      <td>0</td>\n",
       "      <td>...</td>\n",
       "      <td>0</td>\n",
       "      <td>0</td>\n",
       "      <td>0</td>\n",
       "      <td>0</td>\n",
       "      <td>0</td>\n",
       "      <td>0</td>\n",
       "      <td>0</td>\n",
       "      <td>0</td>\n",
       "      <td>0</td>\n",
       "      <td>0</td>\n",
       "      <td>0</td>\n",
       "      <td>1</td>\n",
       "      <td>0</td>\n",
       "      <td>0</td>\n",
       "      <td>0</td>\n",
       "      <td>0</td>\n",
       "      <td>0</td>\n",
       "      <td>0</td>\n",
       "      <td>0</td>\n",
       "      <td>0</td>\n",
       "      <td>0</td>\n",
       "      <td>0</td>\n",
       "      <td>0</td>\n",
       "      <td>1</td>\n",
       "      <td>0</td>\n",
       "    </tr>\n",
       "  </tbody>\n",
       "</table>\n",
       "<p>50000 rows × 72 columns</p>\n",
       "</div>"
      ],
      "text/plain": [
       "       ranking  number_of_reviews  sample  rating  chain  is_capital_city  \\\n",
       "0      12963.0                4.0       0     0.0    1.0                1   \n",
       "1        106.0               97.0       0     0.0    1.0                1   \n",
       "2        810.0               28.0       0     0.0    1.0                1   \n",
       "3       1669.0              202.0       0     0.0    1.0                1   \n",
       "4         37.0              162.0       0     0.0    1.0                1   \n",
       "...        ...                ...     ...     ...    ...              ...   \n",
       "49995    500.0               79.0       1     4.5    1.0                0   \n",
       "49996   6341.0              295.0       1     3.5    1.0                1   \n",
       "49997   1652.0                4.0       1     4.5    1.0                1   \n",
       "49998    641.0               70.0       1     4.0    1.0                1   \n",
       "49999   4827.0              260.0       1     3.0    1.0                0   \n",
       "\n",
       "       country_code  population  distance_downtown  review_rank  days_now  \\\n",
       "0                 5     2190327           2.392568          0.0     691.0   \n",
       "1                 4      643272          19.203177          0.0    1172.0   \n",
       "2                16      488100           1.962467          0.0    1141.0   \n",
       "3                22     8908081           1.167223         -1.0    1159.0   \n",
       "4                17      432864           1.492694          0.0    1096.0   \n",
       "...             ...         ...                ...          ...       ...   \n",
       "49995            10     1378689           0.906784          0.0    1159.0   \n",
       "49996             5     2190327           0.681281         -1.0    1142.0   \n",
       "49997            20      961609           0.000000          1.0    1883.0   \n",
       "49998            14     1758143           1.987243          0.0    1312.0   \n",
       "49999            10     1378689           4.262291          1.0    1883.0   \n",
       "\n",
       "       days_between_reviews  restaurants_count  ranking_proportion  \\\n",
       "0                       0.0               6108            2.122299   \n",
       "1                      37.0                475            0.223158   \n",
       "2                      22.0                745            1.087248   \n",
       "3                      14.0               7193            0.232031   \n",
       "4                      15.0                380            0.097368   \n",
       "...                     ...                ...                 ...   \n",
       "49995                  34.0               2694            0.185598   \n",
       "49996                   9.0               6108            1.038147   \n",
       "49997                 300.0               1033            1.599226   \n",
       "49998                  23.0                925            0.692973   \n",
       "49999                 300.0               2694            1.791759   \n",
       "\n",
       "       rests_per_capita  cuisine_count  cuisine_israeli  cuisine_american  \\\n",
       "0              0.002789              2                0                 0   \n",
       "1              0.000738              5                0                 0   \n",
       "2              0.001526              1                0                 0   \n",
       "3              0.000807              5                0                 0   \n",
       "4              0.000878              6                0                 0   \n",
       "...                 ...            ...              ...               ...   \n",
       "49995          0.001954              4                0                 0   \n",
       "49996          0.002789              5                0                 1   \n",
       "49997          0.001074              2                0                 0   \n",
       "49998          0.000526              5                0                 0   \n",
       "49999          0.001954              1                0                 0   \n",
       "\n",
       "       cuisine_steakhouse  cuisine_japanese  cuisine_asian  cuisine_pizza  \\\n",
       "0                       0                 0              0              0   \n",
       "1                       0                 0              0              0   \n",
       "2                       0                 0              0              0   \n",
       "3                       0                 0              0              0   \n",
       "4                       0                 0              0              0   \n",
       "...                   ...               ...            ...            ...   \n",
       "49995                   0                 0              0              0   \n",
       "49996                   0                 0              0              0   \n",
       "49997                   0                 1              0              0   \n",
       "49998                   0                 0              0              0   \n",
       "49999                   0                 0              0              0   \n",
       "\n",
       "       cuisine_diner  cuisine_soups  cuisine_indian  ...  city_Edinburgh  \\\n",
       "0                  0              0               0  ...               0   \n",
       "1                  0              0               0  ...               0   \n",
       "2                  0              0               0  ...               1   \n",
       "3                  0              0               0  ...               0   \n",
       "4                  0              0               0  ...               0   \n",
       "...              ...            ...             ...  ...             ...   \n",
       "49995              0              0               0  ...               0   \n",
       "49996              0              0               0  ...               0   \n",
       "49997              0              0               0  ...               0   \n",
       "49998              0              0               0  ...               0   \n",
       "49999              0              0               0  ...               0   \n",
       "\n",
       "       city_Geneva  city_Hamburg  city_Helsinki  city_Krakow  city_Lisbon  \\\n",
       "0                0             0              0            0            0   \n",
       "1                0             0              1            0            0   \n",
       "2                0             0              0            0            0   \n",
       "3                0             0              0            0            0   \n",
       "4                0             0              0            0            0   \n",
       "...            ...           ...            ...          ...          ...   \n",
       "49995            0             0              0            0            0   \n",
       "49996            0             0              0            0            0   \n",
       "49997            0             0              0            0            0   \n",
       "49998            0             0              0            0            0   \n",
       "49999            0             0              0            0            0   \n",
       "\n",
       "       city_Ljubljana  city_London  city_Luxembourg  city_Lyon  city_Madrid  \\\n",
       "0                   0            0                0          0            0   \n",
       "1                   0            0                0          0            0   \n",
       "2                   0            0                0          0            0   \n",
       "3                   0            1                0          0            0   \n",
       "4                   0            0                0          0            0   \n",
       "...               ...          ...              ...        ...          ...   \n",
       "49995               0            0                0          0            0   \n",
       "49996               0            0                0          0            0   \n",
       "49997               0            0                0          0            0   \n",
       "49998               0            0                0          0            0   \n",
       "49999               0            0                0          0            0   \n",
       "\n",
       "       city_Milan  city_Munich  city_Oporto  city_Oslo  city_Paris  \\\n",
       "0               0            0            0          0           1   \n",
       "1               0            0            0          0           0   \n",
       "2               0            0            0          0           0   \n",
       "3               0            0            0          0           0   \n",
       "4               0            0            0          0           0   \n",
       "...           ...          ...          ...        ...         ...   \n",
       "49995           1            0            0          0           0   \n",
       "49996           0            0            0          0           1   \n",
       "49997           0            0            0          0           0   \n",
       "49998           0            0            0          0           0   \n",
       "49999           1            0            0          0           0   \n",
       "\n",
       "       city_Prague  city_Rome  city_Stockholm  city_Vienna  city_Warsaw  \\\n",
       "0                0          0               0            0            0   \n",
       "1                0          0               0            0            0   \n",
       "2                0          0               0            0            0   \n",
       "3                0          0               0            0            0   \n",
       "4                0          0               0            0            0   \n",
       "...            ...        ...             ...          ...          ...   \n",
       "49995            0          0               0            0            0   \n",
       "49996            0          0               0            0            0   \n",
       "49997            0          0               1            0            0   \n",
       "49998            0          0               0            0            1   \n",
       "49999            0          0               0            0            0   \n",
       "\n",
       "       city_Zurich  price_range_1  price_range_2  price_range_3  \n",
       "0                0              0              1              0  \n",
       "1                0              0              1              0  \n",
       "2                0              0              1              0  \n",
       "3                0              0              0              1  \n",
       "4                0              0              0              1  \n",
       "...            ...            ...            ...            ...  \n",
       "49995            0              0              1              0  \n",
       "49996            0              0              1              0  \n",
       "49997            0              1              0              0  \n",
       "49998            0              0              1              0  \n",
       "49999            0              0              1              0  \n",
       "\n",
       "[50000 rows x 72 columns]"
      ]
     },
     "execution_count": 72,
     "metadata": {},
     "output_type": "execute_result"
    }
   ],
   "source": [
    "data"
   ]
  },
  {
   "cell_type": "code",
   "execution_count": 73,
   "metadata": {},
   "outputs": [],
   "source": [
    "# после тестирования модели можно удалить признаки, которые не влияли на результат\n",
    "\n",
    "# lst_drop = ['ranking_proportion', 'number_of_reviews', 'city_Rome', 'ranking',\n",
    "#             'days_between_reviews', 'days_now', 'distance_downtown', 'population',\n",
    "#             'cuisine_count', 'city_Madrid', 'restaurants_count', 'review_rank',\n",
    "#             'city_Amsterdam', 'cuisine_mediterranean', 'cuisine_other'] + ['rating', 'sample']\n",
    "\n",
    "# for _col in data.columns:\n",
    "#     if _col not in lst_drop:\n",
    "#         data.drop(_col, axis=1, inplace=True)\n",
    "\n",
    "# Применение метода привело к ухудшению результата с 0.1755 до 0,1798"
   ]
  },
  {
   "cell_type": "code",
   "execution_count": 74,
   "metadata": {},
   "outputs": [
    {
     "data": {
      "image/png": "[encoded data removed]",
      "text/plain": [
       "<Figure size 1440x1080 with 2 Axes>"
      ]
     },
     "metadata": {
      "needs_background": "light"
     },
     "output_type": "display_data"
    }
   ],
   "source": [
    "plt.rcParams['figure.figsize'] = (20,15)\n",
    "sns.heatmap(data.drop(['sample'], axis=1).corr())\n",
    "plt.show()"
   ]
  },
  {
   "cell_type": "code",
   "execution_count": 75,
   "metadata": {},
   "outputs": [
    {
     "name": "stdout",
     "output_type": "stream",
     "text": [
      "Rank of Matrix: 71\n",
      "Determinat of matrix :1.2669263179056438e-90\n",
      "Shape of matrix :(71, 71)\n"
     ]
    }
   ],
   "source": [
    "_matrix = data.drop(['sample'], axis=1).corr()\n",
    "\n",
    "# Chek the determinant of matrix X (via eginvalues)\n",
    "evals, evec = np.linalg.eig(_matrix)\n",
    "ev_product = np.prod(evals) # product of evalues same as determinant\n",
    "print(f'Rank of Matrix: {np.linalg.matrix_rank(_matrix)}')\n",
    "print(f'Determinat of matrix :{ev_product}')\n",
    "print(f'Shape of matrix :{np.shape(_matrix)}')"
   ]
  },
  {
   "cell_type": "markdown",
   "metadata": {},
   "source": [
    "Ранг матрицы равен ее размерности, но определитель матрицы корреляция имеет 0 значение - в дальнейшем потребуется обработка для устранения мультиколлениарности"
   ]
  },
  {
   "cell_type": "markdown",
   "metadata": {},
   "source": [
    "# Data Preprocessing\n",
    "Теперь, для удобства и воспроизводимости кода, завернем всю обработку в одну большую функцию."
   ]
  },
  {
   "cell_type": "code",
   "execution_count": 76,
   "metadata": {},
   "outputs": [],
   "source": [
    "# на всякий случай, заново подгружаем данные\n",
    "# df_train = pd.read_csv(DATA_DIR+'/main_task.csv')\n",
    "# df_test = pd.read_csv(DATA_DIR+'/kaggle_task.csv')\n",
    "# df_train['sample'] = 1 # помечаем где у нас трейн\n",
    "# df_test['sample'] = 0 # помечаем где у нас тест\n",
    "# df_test['Rating'] = 0 # в тесте у нас нет значения Rating, мы его должны предсказать, по этому пока просто заполняем нулями\n",
    "\n",
    "# data = df_test.append(df_train, sort=False).reset_index(drop=True) # объединяем\n",
    "# data.info()"
   ]
  },
  {
   "cell_type": "code",
   "execution_count": 77,
   "metadata": {},
   "outputs": [],
   "source": [
    "#def preproc_data(df_input):\n",
    "#    includes several functions to pre-process the predictor data.'''\n",
    "    \n",
    "#    return df_output"
   ]
  },
  {
   "cell_type": "markdown",
   "metadata": {},
   "source": [
    "По хорошему, можно было бы перевести эту большую функцию в класс и разбить на подфункции (согласно ООП)."
   ]
  },
  {
   "cell_type": "markdown",
   "metadata": {},
   "source": [
    "#### Запускаем и проверяем что получилось"
   ]
  },
  {
   "cell_type": "code",
   "execution_count": 78,
   "metadata": {},
   "outputs": [],
   "source": [
    "#df_preproc = preproc_data(data)\n",
    "#df_preproc.sample(10)"
   ]
  },
  {
   "cell_type": "code",
   "execution_count": 79,
   "metadata": {},
   "outputs": [],
   "source": [
    "#df_preproc.info()"
   ]
  },
  {
   "cell_type": "code",
   "execution_count": 80,
   "metadata": {},
   "outputs": [],
   "source": [
    "# Теперь выделим тестовую часть\n",
    "train_data = data[data['sample'] == 1].drop(['sample'], axis=1)\n",
    "test_data = data[data['sample'] == 0].drop(['sample'], axis=1)\n",
    "\n",
    "y = train_data.rating.values\n",
    "X = train_data.drop(['rating'], axis=1)"
   ]
  },
  {
   "cell_type": "markdown",
   "metadata": {},
   "source": [
    "**Перед тем как отправлять наши данные на обучение, разделим данные на еще один тест и трейн, для валидации. \n",
    "Это поможет нам проверить, как хорошо наша модель работает, до отправки submissiona на kaggle.**"
   ]
  },
  {
   "cell_type": "code",
   "execution_count": 81,
   "metadata": {},
   "outputs": [],
   "source": [
    "# Воспользуемся специальной функцие train_test_split для разбивки тестовых данных\n",
    "# выделим 20% данных на валидацию (параметр test_size)\n",
    "X_train, X_test, y_train, y_test = train_test_split(X, y, test_size=0.2, random_state=RANDOM_SEED)"
   ]
  },
  {
   "cell_type": "code",
   "execution_count": 82,
   "metadata": {},
   "outputs": [
    {
     "data": {
      "text/plain": [
       "((10000, 71), (40000, 71), (40000, 70), (32000, 70), (8000, 70))"
      ]
     },
     "execution_count": 82,
     "metadata": {},
     "output_type": "execute_result"
    }
   ],
   "source": [
    "# проверяем\n",
    "test_data.shape, train_data.shape, X.shape, X_train.shape, X_test.shape"
   ]
  },
  {
   "cell_type": "markdown",
   "metadata": {},
   "source": [
    "# Model \n",
    "Сам ML"
   ]
  },
  {
   "cell_type": "code",
   "execution_count": 83,
   "metadata": {},
   "outputs": [],
   "source": [
    "# Создаём модель\n",
    "model = RandomForestRegressor(n_estimators=100, verbose=1, n_jobs=-1, random_state=RANDOM_SEED)"
   ]
  },
  {
   "cell_type": "code",
   "execution_count": 84,
   "metadata": {},
   "outputs": [
    {
     "name": "stderr",
     "output_type": "stream",
     "text": [
      "[Parallel(n_jobs=-1)]: Using backend ThreadingBackend with 12 concurrent workers.\n",
      "[Parallel(n_jobs=-1)]: Done  26 tasks      | elapsed:    1.4s\n",
      "[Parallel(n_jobs=-1)]: Done 100 out of 100 | elapsed:    4.3s finished\n",
      "[Parallel(n_jobs=12)]: Using backend ThreadingBackend with 12 concurrent workers.\n",
      "[Parallel(n_jobs=12)]: Done  26 tasks      | elapsed:    0.0s\n",
      "[Parallel(n_jobs=12)]: Done 100 out of 100 | elapsed:    0.0s finished\n"
     ]
    }
   ],
   "source": [
    "# Обучаем модель на тестовом наборе данных\n",
    "model.fit(X_train, y_train)\n",
    "\n",
    "# Используем обученную модель для предсказания рейтинга ресторанов в тестовой выборке.\n",
    "# Предсказанные значения записываем в переменную y_pred\n",
    "y_pred = model.predict(X_test)"
   ]
  },
  {
   "cell_type": "code",
   "execution_count": 85,
   "metadata": {},
   "outputs": [],
   "source": [
    "# Напишем функцию корректировки предсказанных рейтингов, так как реальные рейтинги всегда кратны 0.5\n",
    "\n",
    "def round_rating_pred(_r):\n",
    "    if _r <= 0.5:\n",
    "        return 0.0\n",
    "    if _r <= 1.5:\n",
    "        return 1.0\n",
    "    if _r <= 1.75:\n",
    "        return 1.5\n",
    "    if _r <= 2.25:\n",
    "        return 2.0\n",
    "    if _r <= 2.75:\n",
    "        return 2.5\n",
    "    if _r <= 3.25:\n",
    "        return 3.0\n",
    "    if _r <= 3.75:\n",
    "        return 3.5\n",
    "    if _r <= 4.25:\n",
    "        return 4.0\n",
    "    if _r <= 4.75:\n",
    "        return 4.5\n",
    "    return 5.0"
   ]
  },
  {
   "cell_type": "code",
   "execution_count": 86,
   "metadata": {},
   "outputs": [],
   "source": [
    "# Применим такое округление\n",
    "for i in range(len(y_pred)):\n",
    "    y_pred[i] = round_rating_pred(y_pred[i])"
   ]
  },
  {
   "cell_type": "code",
   "execution_count": 87,
   "metadata": {},
   "outputs": [
    {
     "data": {
      "text/plain": [
       "array([4.5, 4.5, 4.5, ..., 4.5, 4. , 4. ])"
      ]
     },
     "execution_count": 87,
     "metadata": {},
     "output_type": "execute_result"
    }
   ],
   "source": [
    "y_pred"
   ]
  },
  {
   "cell_type": "code",
   "execution_count": 88,
   "metadata": {},
   "outputs": [
    {
     "name": "stdout",
     "output_type": "stream",
     "text": [
      "MAE: 0.1744375\n"
     ]
    }
   ],
   "source": [
    "# Сравниваем предсказанные значения (y_pred) с реальными (y_test), и смотрим насколько они в среднем отличаются\n",
    "# Метрика называется Mean Absolute Error (MAE) и показывает среднее отклонение предсказанных значений от фактических.\n",
    "print('MAE:', metrics.mean_absolute_error(y_test, y_pred))"
   ]
  },
  {
   "cell_type": "code",
   "execution_count": 89,
   "metadata": {},
   "outputs": [],
   "source": [
    "# MAE: 0.1744375"
   ]
  },
  {
   "cell_type": "code",
   "execution_count": 90,
   "metadata": {},
   "outputs": [
    {
     "data": {
      "image/png": "[encoded data removed]",
      "text/plain": [
       "<Figure size 1440x1440 with 1 Axes>"
      ]
     },
     "metadata": {
      "needs_background": "light"
     },
     "output_type": "display_data"
    }
   ],
   "source": [
    "# в RandomForestRegressor есть возможность вывести самые важные признаки для модели\n",
    "plt.rcParams['figure.figsize'] = (20,20)\n",
    "feat_importances = pd.Series(model.feature_importances_, index=X.columns)\n",
    "feat_importances.nlargest(20).plot(kind='barh')\n",
    "plt.show()"
   ]
  },
  {
   "cell_type": "code",
   "execution_count": 91,
   "metadata": {},
   "outputs": [
    {
     "data": {
      "text/plain": [
       "['ranking_proportion',\n",
       " 'number_of_reviews',\n",
       " 'city_Rome',\n",
       " 'ranking',\n",
       " 'days_between_reviews',\n",
       " 'days_now',\n",
       " 'distance_downtown',\n",
       " 'rests_per_capita',\n",
       " 'cuisine_count',\n",
       " 'city_Madrid',\n",
       " 'country_code',\n",
       " 'population',\n",
       " 'review_rank',\n",
       " 'restaurants_count',\n",
       " 'city_Amsterdam',\n",
       " 'cuisine_mediterranean',\n",
       " 'cuisine_other',\n",
       " 'city_Edinburgh',\n",
       " 'cuisine_european',\n",
       " 'price_range_2']"
      ]
     },
     "execution_count": 91,
     "metadata": {},
     "output_type": "execute_result"
    }
   ],
   "source": [
    "feat_importances.nlargest(20).index.to_list()"
   ]
  },
  {
   "cell_type": "markdown",
   "metadata": {},
   "source": [
    "# Submission\n",
    "готовим Submission на кагл"
   ]
  },
  {
   "cell_type": "code",
   "execution_count": 92,
   "metadata": {},
   "outputs": [
    {
     "data": {
      "text/html": [
       "<div>\n",
       "<style scoped>\n",
       "    .dataframe tbody tr th:only-of-type {\n",
       "        vertical-align: middle;\n",
       "    }\n",
       "\n",
       "    .dataframe tbody tr th {\n",
       "        vertical-align: top;\n",
       "    }\n",
       "\n",
       "    .dataframe thead th {\n",
       "        text-align: right;\n",
       "    }\n",
       "</style>\n",
       "<table border=\"1\" class=\"dataframe\">\n",
       "  <thead>\n",
       "    <tr style=\"text-align: right;\">\n",
       "      <th></th>\n",
       "      <th>ranking</th>\n",
       "      <th>number_of_reviews</th>\n",
       "      <th>rating</th>\n",
       "      <th>chain</th>\n",
       "      <th>is_capital_city</th>\n",
       "      <th>country_code</th>\n",
       "      <th>population</th>\n",
       "      <th>distance_downtown</th>\n",
       "      <th>review_rank</th>\n",
       "      <th>days_now</th>\n",
       "      <th>days_between_reviews</th>\n",
       "      <th>restaurants_count</th>\n",
       "      <th>ranking_proportion</th>\n",
       "      <th>rests_per_capita</th>\n",
       "      <th>cuisine_count</th>\n",
       "      <th>cuisine_israeli</th>\n",
       "      <th>cuisine_american</th>\n",
       "      <th>cuisine_steakhouse</th>\n",
       "      <th>cuisine_japanese</th>\n",
       "      <th>cuisine_asian</th>\n",
       "      <th>cuisine_pizza</th>\n",
       "      <th>cuisine_diner</th>\n",
       "      <th>cuisine_soups</th>\n",
       "      <th>cuisine_indian</th>\n",
       "      <th>cuisine_healthy</th>\n",
       "      <th>...</th>\n",
       "      <th>city_Edinburgh</th>\n",
       "      <th>city_Geneva</th>\n",
       "      <th>city_Hamburg</th>\n",
       "      <th>city_Helsinki</th>\n",
       "      <th>city_Krakow</th>\n",
       "      <th>city_Lisbon</th>\n",
       "      <th>city_Ljubljana</th>\n",
       "      <th>city_London</th>\n",
       "      <th>city_Luxembourg</th>\n",
       "      <th>city_Lyon</th>\n",
       "      <th>city_Madrid</th>\n",
       "      <th>city_Milan</th>\n",
       "      <th>city_Munich</th>\n",
       "      <th>city_Oporto</th>\n",
       "      <th>city_Oslo</th>\n",
       "      <th>city_Paris</th>\n",
       "      <th>city_Prague</th>\n",
       "      <th>city_Rome</th>\n",
       "      <th>city_Stockholm</th>\n",
       "      <th>city_Vienna</th>\n",
       "      <th>city_Warsaw</th>\n",
       "      <th>city_Zurich</th>\n",
       "      <th>price_range_1</th>\n",
       "      <th>price_range_2</th>\n",
       "      <th>price_range_3</th>\n",
       "    </tr>\n",
       "  </thead>\n",
       "  <tbody>\n",
       "    <tr>\n",
       "      <th>2615</th>\n",
       "      <td>14186.0</td>\n",
       "      <td>32.0</td>\n",
       "      <td>0.0</td>\n",
       "      <td>1.0</td>\n",
       "      <td>1</td>\n",
       "      <td>22</td>\n",
       "      <td>8908081</td>\n",
       "      <td>9.421048</td>\n",
       "      <td>0.0</td>\n",
       "      <td>1208.0</td>\n",
       "      <td>81.0</td>\n",
       "      <td>7193</td>\n",
       "      <td>1.972195</td>\n",
       "      <td>0.000807</td>\n",
       "      <td>2</td>\n",
       "      <td>0</td>\n",
       "      <td>0</td>\n",
       "      <td>0</td>\n",
       "      <td>0</td>\n",
       "      <td>0</td>\n",
       "      <td>0</td>\n",
       "      <td>0</td>\n",
       "      <td>0</td>\n",
       "      <td>0</td>\n",
       "      <td>0</td>\n",
       "      <td>...</td>\n",
       "      <td>0</td>\n",
       "      <td>0</td>\n",
       "      <td>0</td>\n",
       "      <td>0</td>\n",
       "      <td>0</td>\n",
       "      <td>0</td>\n",
       "      <td>0</td>\n",
       "      <td>1</td>\n",
       "      <td>0</td>\n",
       "      <td>0</td>\n",
       "      <td>0</td>\n",
       "      <td>0</td>\n",
       "      <td>0</td>\n",
       "      <td>0</td>\n",
       "      <td>0</td>\n",
       "      <td>0</td>\n",
       "      <td>0</td>\n",
       "      <td>0</td>\n",
       "      <td>0</td>\n",
       "      <td>0</td>\n",
       "      <td>0</td>\n",
       "      <td>0</td>\n",
       "      <td>1</td>\n",
       "      <td>0</td>\n",
       "      <td>0</td>\n",
       "    </tr>\n",
       "    <tr>\n",
       "      <th>3201</th>\n",
       "      <td>1405.0</td>\n",
       "      <td>3.0</td>\n",
       "      <td>0.0</td>\n",
       "      <td>1.0</td>\n",
       "      <td>0</td>\n",
       "      <td>6</td>\n",
       "      <td>1841179</td>\n",
       "      <td>0.562390</td>\n",
       "      <td>0.0</td>\n",
       "      <td>1359.0</td>\n",
       "      <td>0.0</td>\n",
       "      <td>1186</td>\n",
       "      <td>1.184654</td>\n",
       "      <td>0.000644</td>\n",
       "      <td>1</td>\n",
       "      <td>0</td>\n",
       "      <td>0</td>\n",
       "      <td>0</td>\n",
       "      <td>0</td>\n",
       "      <td>0</td>\n",
       "      <td>0</td>\n",
       "      <td>0</td>\n",
       "      <td>0</td>\n",
       "      <td>0</td>\n",
       "      <td>0</td>\n",
       "      <td>...</td>\n",
       "      <td>0</td>\n",
       "      <td>0</td>\n",
       "      <td>1</td>\n",
       "      <td>0</td>\n",
       "      <td>0</td>\n",
       "      <td>0</td>\n",
       "      <td>0</td>\n",
       "      <td>0</td>\n",
       "      <td>0</td>\n",
       "      <td>0</td>\n",
       "      <td>0</td>\n",
       "      <td>0</td>\n",
       "      <td>0</td>\n",
       "      <td>0</td>\n",
       "      <td>0</td>\n",
       "      <td>0</td>\n",
       "      <td>0</td>\n",
       "      <td>0</td>\n",
       "      <td>0</td>\n",
       "      <td>0</td>\n",
       "      <td>0</td>\n",
       "      <td>0</td>\n",
       "      <td>1</td>\n",
       "      <td>0</td>\n",
       "      <td>0</td>\n",
       "    </tr>\n",
       "    <tr>\n",
       "      <th>5196</th>\n",
       "      <td>1307.0</td>\n",
       "      <td>45.0</td>\n",
       "      <td>0.0</td>\n",
       "      <td>1.0</td>\n",
       "      <td>0</td>\n",
       "      <td>6</td>\n",
       "      <td>1841179</td>\n",
       "      <td>0.000000</td>\n",
       "      <td>0.0</td>\n",
       "      <td>691.0</td>\n",
       "      <td>0.0</td>\n",
       "      <td>1186</td>\n",
       "      <td>1.102024</td>\n",
       "      <td>0.000644</td>\n",
       "      <td>1</td>\n",
       "      <td>0</td>\n",
       "      <td>0</td>\n",
       "      <td>0</td>\n",
       "      <td>0</td>\n",
       "      <td>0</td>\n",
       "      <td>0</td>\n",
       "      <td>0</td>\n",
       "      <td>0</td>\n",
       "      <td>0</td>\n",
       "      <td>0</td>\n",
       "      <td>...</td>\n",
       "      <td>0</td>\n",
       "      <td>0</td>\n",
       "      <td>1</td>\n",
       "      <td>0</td>\n",
       "      <td>0</td>\n",
       "      <td>0</td>\n",
       "      <td>0</td>\n",
       "      <td>0</td>\n",
       "      <td>0</td>\n",
       "      <td>0</td>\n",
       "      <td>0</td>\n",
       "      <td>0</td>\n",
       "      <td>0</td>\n",
       "      <td>0</td>\n",
       "      <td>0</td>\n",
       "      <td>0</td>\n",
       "      <td>0</td>\n",
       "      <td>0</td>\n",
       "      <td>0</td>\n",
       "      <td>0</td>\n",
       "      <td>0</td>\n",
       "      <td>0</td>\n",
       "      <td>1</td>\n",
       "      <td>0</td>\n",
       "      <td>0</td>\n",
       "    </tr>\n",
       "    <tr>\n",
       "      <th>7733</th>\n",
       "      <td>253.0</td>\n",
       "      <td>228.0</td>\n",
       "      <td>0.0</td>\n",
       "      <td>1.0</td>\n",
       "      <td>1</td>\n",
       "      <td>15</td>\n",
       "      <td>505526</td>\n",
       "      <td>23.573784</td>\n",
       "      <td>-1.0</td>\n",
       "      <td>1082.0</td>\n",
       "      <td>11.0</td>\n",
       "      <td>1647</td>\n",
       "      <td>0.153613</td>\n",
       "      <td>0.003258</td>\n",
       "      <td>4</td>\n",
       "      <td>0</td>\n",
       "      <td>0</td>\n",
       "      <td>0</td>\n",
       "      <td>0</td>\n",
       "      <td>0</td>\n",
       "      <td>0</td>\n",
       "      <td>0</td>\n",
       "      <td>0</td>\n",
       "      <td>1</td>\n",
       "      <td>1</td>\n",
       "      <td>...</td>\n",
       "      <td>0</td>\n",
       "      <td>0</td>\n",
       "      <td>0</td>\n",
       "      <td>0</td>\n",
       "      <td>0</td>\n",
       "      <td>1</td>\n",
       "      <td>0</td>\n",
       "      <td>0</td>\n",
       "      <td>0</td>\n",
       "      <td>0</td>\n",
       "      <td>0</td>\n",
       "      <td>0</td>\n",
       "      <td>0</td>\n",
       "      <td>0</td>\n",
       "      <td>0</td>\n",
       "      <td>0</td>\n",
       "      <td>0</td>\n",
       "      <td>0</td>\n",
       "      <td>0</td>\n",
       "      <td>0</td>\n",
       "      <td>0</td>\n",
       "      <td>0</td>\n",
       "      <td>0</td>\n",
       "      <td>1</td>\n",
       "      <td>0</td>\n",
       "    </tr>\n",
       "    <tr>\n",
       "      <th>3964</th>\n",
       "      <td>11484.0</td>\n",
       "      <td>3.0</td>\n",
       "      <td>0.0</td>\n",
       "      <td>1.0</td>\n",
       "      <td>1</td>\n",
       "      <td>22</td>\n",
       "      <td>8908081</td>\n",
       "      <td>0.000000</td>\n",
       "      <td>1.0</td>\n",
       "      <td>1258.0</td>\n",
       "      <td>131.0</td>\n",
       "      <td>7193</td>\n",
       "      <td>1.596552</td>\n",
       "      <td>0.000807</td>\n",
       "      <td>2</td>\n",
       "      <td>0</td>\n",
       "      <td>0</td>\n",
       "      <td>0</td>\n",
       "      <td>0</td>\n",
       "      <td>0</td>\n",
       "      <td>0</td>\n",
       "      <td>0</td>\n",
       "      <td>0</td>\n",
       "      <td>0</td>\n",
       "      <td>0</td>\n",
       "      <td>...</td>\n",
       "      <td>0</td>\n",
       "      <td>0</td>\n",
       "      <td>0</td>\n",
       "      <td>0</td>\n",
       "      <td>0</td>\n",
       "      <td>0</td>\n",
       "      <td>0</td>\n",
       "      <td>1</td>\n",
       "      <td>0</td>\n",
       "      <td>0</td>\n",
       "      <td>0</td>\n",
       "      <td>0</td>\n",
       "      <td>0</td>\n",
       "      <td>0</td>\n",
       "      <td>0</td>\n",
       "      <td>0</td>\n",
       "      <td>0</td>\n",
       "      <td>0</td>\n",
       "      <td>0</td>\n",
       "      <td>0</td>\n",
       "      <td>0</td>\n",
       "      <td>0</td>\n",
       "      <td>1</td>\n",
       "      <td>0</td>\n",
       "      <td>0</td>\n",
       "    </tr>\n",
       "  </tbody>\n",
       "</table>\n",
       "<p>5 rows × 71 columns</p>\n",
       "</div>"
      ],
      "text/plain": [
       "      ranking  number_of_reviews  rating  chain  is_capital_city  \\\n",
       "2615  14186.0               32.0     0.0    1.0                1   \n",
       "3201   1405.0                3.0     0.0    1.0                0   \n",
       "5196   1307.0               45.0     0.0    1.0                0   \n",
       "7733    253.0              228.0     0.0    1.0                1   \n",
       "3964  11484.0                3.0     0.0    1.0                1   \n",
       "\n",
       "      country_code  population  distance_downtown  review_rank  days_now  \\\n",
       "2615            22     8908081           9.421048          0.0    1208.0   \n",
       "3201             6     1841179           0.562390          0.0    1359.0   \n",
       "5196             6     1841179           0.000000          0.0     691.0   \n",
       "7733            15      505526          23.573784         -1.0    1082.0   \n",
       "3964            22     8908081           0.000000          1.0    1258.0   \n",
       "\n",
       "      days_between_reviews  restaurants_count  ranking_proportion  \\\n",
       "2615                  81.0               7193            1.972195   \n",
       "3201                   0.0               1186            1.184654   \n",
       "5196                   0.0               1186            1.102024   \n",
       "7733                  11.0               1647            0.153613   \n",
       "3964                 131.0               7193            1.596552   \n",
       "\n",
       "      rests_per_capita  cuisine_count  cuisine_israeli  cuisine_american  \\\n",
       "2615          0.000807              2                0                 0   \n",
       "3201          0.000644              1                0                 0   \n",
       "5196          0.000644              1                0                 0   \n",
       "7733          0.003258              4                0                 0   \n",
       "3964          0.000807              2                0                 0   \n",
       "\n",
       "      cuisine_steakhouse  cuisine_japanese  cuisine_asian  cuisine_pizza  \\\n",
       "2615                   0                 0              0              0   \n",
       "3201                   0                 0              0              0   \n",
       "5196                   0                 0              0              0   \n",
       "7733                   0                 0              0              0   \n",
       "3964                   0                 0              0              0   \n",
       "\n",
       "      cuisine_diner  cuisine_soups  cuisine_indian  cuisine_healthy  ...  \\\n",
       "2615              0              0               0                0  ...   \n",
       "3201              0              0               0                0  ...   \n",
       "5196              0              0               0                0  ...   \n",
       "7733              0              0               1                1  ...   \n",
       "3964              0              0               0                0  ...   \n",
       "\n",
       "      city_Edinburgh  city_Geneva  city_Hamburg  city_Helsinki  city_Krakow  \\\n",
       "2615               0            0             0              0            0   \n",
       "3201               0            0             1              0            0   \n",
       "5196               0            0             1              0            0   \n",
       "7733               0            0             0              0            0   \n",
       "3964               0            0             0              0            0   \n",
       "\n",
       "      city_Lisbon  city_Ljubljana  city_London  city_Luxembourg  city_Lyon  \\\n",
       "2615            0               0            1                0          0   \n",
       "3201            0               0            0                0          0   \n",
       "5196            0               0            0                0          0   \n",
       "7733            1               0            0                0          0   \n",
       "3964            0               0            1                0          0   \n",
       "\n",
       "      city_Madrid  city_Milan  city_Munich  city_Oporto  city_Oslo  \\\n",
       "2615            0           0            0            0          0   \n",
       "3201            0           0            0            0          0   \n",
       "5196            0           0            0            0          0   \n",
       "7733            0           0            0            0          0   \n",
       "3964            0           0            0            0          0   \n",
       "\n",
       "      city_Paris  city_Prague  city_Rome  city_Stockholm  city_Vienna  \\\n",
       "2615           0            0          0               0            0   \n",
       "3201           0            0          0               0            0   \n",
       "5196           0            0          0               0            0   \n",
       "7733           0            0          0               0            0   \n",
       "3964           0            0          0               0            0   \n",
       "\n",
       "      city_Warsaw  city_Zurich  price_range_1  price_range_2  price_range_3  \n",
       "2615            0            0              1              0              0  \n",
       "3201            0            0              1              0              0  \n",
       "5196            0            0              1              0              0  \n",
       "7733            0            0              0              1              0  \n",
       "3964            0            0              1              0              0  \n",
       "\n",
       "[5 rows x 71 columns]"
      ]
     },
     "execution_count": 92,
     "metadata": {},
     "output_type": "execute_result"
    }
   ],
   "source": [
    "test_data.sample(5)"
   ]
  },
  {
   "cell_type": "code",
   "execution_count": 93,
   "metadata": {},
   "outputs": [],
   "source": [
    "test_data = test_data.drop(['rating'], axis=1)"
   ]
  },
  {
   "cell_type": "code",
   "execution_count": 94,
   "metadata": {},
   "outputs": [
    {
     "data": {
      "text/html": [
       "<div>\n",
       "<style scoped>\n",
       "    .dataframe tbody tr th:only-of-type {\n",
       "        vertical-align: middle;\n",
       "    }\n",
       "\n",
       "    .dataframe tbody tr th {\n",
       "        vertical-align: top;\n",
       "    }\n",
       "\n",
       "    .dataframe thead th {\n",
       "        text-align: right;\n",
       "    }\n",
       "</style>\n",
       "<table border=\"1\" class=\"dataframe\">\n",
       "  <thead>\n",
       "    <tr style=\"text-align: right;\">\n",
       "      <th></th>\n",
       "      <th>Restaurant_id</th>\n",
       "      <th>Rating</th>\n",
       "    </tr>\n",
       "  </thead>\n",
       "  <tbody>\n",
       "    <tr>\n",
       "      <th>0</th>\n",
       "      <td>id_0</td>\n",
       "      <td>2.0</td>\n",
       "    </tr>\n",
       "    <tr>\n",
       "      <th>1</th>\n",
       "      <td>id_1</td>\n",
       "      <td>2.5</td>\n",
       "    </tr>\n",
       "    <tr>\n",
       "      <th>2</th>\n",
       "      <td>id_2</td>\n",
       "      <td>4.0</td>\n",
       "    </tr>\n",
       "    <tr>\n",
       "      <th>3</th>\n",
       "      <td>id_3</td>\n",
       "      <td>1.0</td>\n",
       "    </tr>\n",
       "    <tr>\n",
       "      <th>4</th>\n",
       "      <td>id_4</td>\n",
       "      <td>4.0</td>\n",
       "    </tr>\n",
       "    <tr>\n",
       "      <th>...</th>\n",
       "      <td>...</td>\n",
       "      <td>...</td>\n",
       "    </tr>\n",
       "    <tr>\n",
       "      <th>9995</th>\n",
       "      <td>id_9995</td>\n",
       "      <td>3.0</td>\n",
       "    </tr>\n",
       "    <tr>\n",
       "      <th>9996</th>\n",
       "      <td>id_9996</td>\n",
       "      <td>1.5</td>\n",
       "    </tr>\n",
       "    <tr>\n",
       "      <th>9997</th>\n",
       "      <td>id_9997</td>\n",
       "      <td>4.5</td>\n",
       "    </tr>\n",
       "    <tr>\n",
       "      <th>9998</th>\n",
       "      <td>id_9998</td>\n",
       "      <td>1.0</td>\n",
       "    </tr>\n",
       "    <tr>\n",
       "      <th>9999</th>\n",
       "      <td>id_9999</td>\n",
       "      <td>2.5</td>\n",
       "    </tr>\n",
       "  </tbody>\n",
       "</table>\n",
       "<p>10000 rows × 2 columns</p>\n",
       "</div>"
      ],
      "text/plain": [
       "     Restaurant_id  Rating\n",
       "0             id_0     2.0\n",
       "1             id_1     2.5\n",
       "2             id_2     4.0\n",
       "3             id_3     1.0\n",
       "4             id_4     4.0\n",
       "...            ...     ...\n",
       "9995       id_9995     3.0\n",
       "9996       id_9996     1.5\n",
       "9997       id_9997     4.5\n",
       "9998       id_9998     1.0\n",
       "9999       id_9999     2.5\n",
       "\n",
       "[10000 rows x 2 columns]"
      ]
     },
     "execution_count": 94,
     "metadata": {},
     "output_type": "execute_result"
    }
   ],
   "source": [
    "sample_submission"
   ]
  },
  {
   "cell_type": "code",
   "execution_count": 95,
   "metadata": {},
   "outputs": [
    {
     "name": "stderr",
     "output_type": "stream",
     "text": [
      "[Parallel(n_jobs=12)]: Using backend ThreadingBackend with 12 concurrent workers.\n",
      "[Parallel(n_jobs=12)]: Done  26 tasks      | elapsed:    0.0s\n",
      "[Parallel(n_jobs=12)]: Done 100 out of 100 | elapsed:    0.0s finished\n"
     ]
    }
   ],
   "source": [
    "predict_submission = model.predict(test_data)"
   ]
  },
  {
   "cell_type": "code",
   "execution_count": 96,
   "metadata": {},
   "outputs": [],
   "source": [
    "# Применим округление\n",
    "for i in range(len(predict_submission)):\n",
    "    predict_submission[i] = round_rating_pred(predict_submission[i])"
   ]
  },
  {
   "cell_type": "code",
   "execution_count": 97,
   "metadata": {},
   "outputs": [
    {
     "data": {
      "text/plain": [
       "array([3. , 4. , 4.5, ..., 3. , 4.5, 4.5])"
      ]
     },
     "metadata": {},
     "output_type": "display_data"
    }
   ],
   "source": [
    "display(predict_submission)"
   ]
  },
  {
   "cell_type": "code",
   "execution_count": 98,
   "metadata": {},
   "outputs": [
    {
     "data": {
      "text/html": [
       "<div>\n",
       "<style scoped>\n",
       "    .dataframe tbody tr th:only-of-type {\n",
       "        vertical-align: middle;\n",
       "    }\n",
       "\n",
       "    .dataframe tbody tr th {\n",
       "        vertical-align: top;\n",
       "    }\n",
       "\n",
       "    .dataframe thead th {\n",
       "        text-align: right;\n",
       "    }\n",
       "</style>\n",
       "<table border=\"1\" class=\"dataframe\">\n",
       "  <thead>\n",
       "    <tr style=\"text-align: right;\">\n",
       "      <th></th>\n",
       "      <th>Restaurant_id</th>\n",
       "      <th>Rating</th>\n",
       "    </tr>\n",
       "  </thead>\n",
       "  <tbody>\n",
       "    <tr>\n",
       "      <th>0</th>\n",
       "      <td>id_0</td>\n",
       "      <td>3.0</td>\n",
       "    </tr>\n",
       "    <tr>\n",
       "      <th>1</th>\n",
       "      <td>id_1</td>\n",
       "      <td>4.0</td>\n",
       "    </tr>\n",
       "    <tr>\n",
       "      <th>2</th>\n",
       "      <td>id_2</td>\n",
       "      <td>4.5</td>\n",
       "    </tr>\n",
       "    <tr>\n",
       "      <th>3</th>\n",
       "      <td>id_3</td>\n",
       "      <td>4.5</td>\n",
       "    </tr>\n",
       "    <tr>\n",
       "      <th>4</th>\n",
       "      <td>id_4</td>\n",
       "      <td>4.5</td>\n",
       "    </tr>\n",
       "    <tr>\n",
       "      <th>5</th>\n",
       "      <td>id_5</td>\n",
       "      <td>4.5</td>\n",
       "    </tr>\n",
       "    <tr>\n",
       "      <th>6</th>\n",
       "      <td>id_6</td>\n",
       "      <td>2.5</td>\n",
       "    </tr>\n",
       "    <tr>\n",
       "      <th>7</th>\n",
       "      <td>id_7</td>\n",
       "      <td>2.0</td>\n",
       "    </tr>\n",
       "    <tr>\n",
       "      <th>8</th>\n",
       "      <td>id_8</td>\n",
       "      <td>4.0</td>\n",
       "    </tr>\n",
       "    <tr>\n",
       "      <th>9</th>\n",
       "      <td>id_9</td>\n",
       "      <td>4.5</td>\n",
       "    </tr>\n",
       "  </tbody>\n",
       "</table>\n",
       "</div>"
      ],
      "text/plain": [
       "  Restaurant_id  Rating\n",
       "0          id_0     3.0\n",
       "1          id_1     4.0\n",
       "2          id_2     4.5\n",
       "3          id_3     4.5\n",
       "4          id_4     4.5\n",
       "5          id_5     4.5\n",
       "6          id_6     2.5\n",
       "7          id_7     2.0\n",
       "8          id_8     4.0\n",
       "9          id_9     4.5"
      ]
     },
     "execution_count": 98,
     "metadata": {},
     "output_type": "execute_result"
    }
   ],
   "source": [
    "sample_submission['Rating'] = predict_submission\n",
    "sample_submission.to_csv(os.getcwd() + '/kaggle/output/submission.csv', index=False)\n",
    "sample_submission.head(10)"
   ]
  }
 ],
 "metadata": {
  "kernelspec": {
   "display_name": "Python 3",
   "language": "python",
   "name": "python3"
  },
  "language_info": {
   "codemirror_mode": {
    "name": "ipython",
    "version": 3
   },
   "file_extension": ".py",
   "mimetype": "text/x-python",
   "name": "python",
   "nbconvert_exporter": "python",
   "pygments_lexer": "ipython3",
   "version": "3.8.3"
  }
 },
 "nbformat": 4,
 "nbformat_minor": 4
}
