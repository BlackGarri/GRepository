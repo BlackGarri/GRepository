{
 "cells": [
  {
   "cell_type": "code",
   "execution_count": 1,
   "metadata": {
    "_cell_guid": "b1076dfc-b9ad-4769-8c92-a6c4dae69d19",
    "_uuid": "8f2839f25d086af736a60e9eeb907d3b93b6e0e5",
    "colab": {},
    "colab_type": "code",
    "id": "U2D2gTdJVp90"
   },
   "outputs": [],
   "source": [
    "import numpy as np\n",
    "import pandas as pd\n",
    "import seaborn as sns\n",
    "import matplotlib.pyplot as plt\n",
    "import collections\n",
    "import datetime\n",
    "import itertools"
   ]
  },
  {
   "cell_type": "code",
   "execution_count": 2,
   "metadata": {
    "_cell_guid": "79c7e3d0-c299-4dcb-8224-4455121ee9b0",
    "_uuid": "d629ff2d2480ee46fbb7e2d37f6b5fab8052498a",
    "colab": {},
    "colab_type": "code",
    "id": "oyGfxL3eVp9-"
   },
   "outputs": [
    {
     "data": {
      "text/html": [
       "<div>\n",
       "<style scoped>\n",
       "    .dataframe tbody tr th:only-of-type {\n",
       "        vertical-align: middle;\n",
       "    }\n",
       "\n",
       "    .dataframe tbody tr th {\n",
       "        vertical-align: top;\n",
       "    }\n",
       "\n",
       "    .dataframe thead th {\n",
       "        text-align: right;\n",
       "    }\n",
       "</style>\n",
       "<table border=\"1\" class=\"dataframe\">\n",
       "  <thead>\n",
       "    <tr style=\"text-align: right;\">\n",
       "      <th></th>\n",
       "      <th>imdb_id</th>\n",
       "      <th>budget</th>\n",
       "      <th>revenue</th>\n",
       "      <th>original_title</th>\n",
       "      <th>cast</th>\n",
       "      <th>director</th>\n",
       "      <th>tagline</th>\n",
       "      <th>overview</th>\n",
       "      <th>runtime</th>\n",
       "      <th>genres</th>\n",
       "      <th>production_companies</th>\n",
       "      <th>release_date</th>\n",
       "      <th>vote_average</th>\n",
       "      <th>release_year</th>\n",
       "    </tr>\n",
       "  </thead>\n",
       "  <tbody>\n",
       "    <tr>\n",
       "      <th>0</th>\n",
       "      <td>tt0369610</td>\n",
       "      <td>150000000</td>\n",
       "      <td>1513528810</td>\n",
       "      <td>Jurassic World</td>\n",
       "      <td>Chris Pratt|Bryce Dallas Howard|Irrfan Khan|Vi...</td>\n",
       "      <td>Colin Trevorrow</td>\n",
       "      <td>The park is open.</td>\n",
       "      <td>Twenty-two years after the events of Jurassic ...</td>\n",
       "      <td>124</td>\n",
       "      <td>Action|Adventure|Science Fiction|Thriller</td>\n",
       "      <td>Universal Studios|Amblin Entertainment|Legenda...</td>\n",
       "      <td>6/9/2015</td>\n",
       "      <td>6.5</td>\n",
       "      <td>2015</td>\n",
       "    </tr>\n",
       "    <tr>\n",
       "      <th>1</th>\n",
       "      <td>tt1392190</td>\n",
       "      <td>150000000</td>\n",
       "      <td>378436354</td>\n",
       "      <td>Mad Max: Fury Road</td>\n",
       "      <td>Tom Hardy|Charlize Theron|Hugh Keays-Byrne|Nic...</td>\n",
       "      <td>George Miller</td>\n",
       "      <td>What a Lovely Day.</td>\n",
       "      <td>An apocalyptic story set in the furthest reach...</td>\n",
       "      <td>120</td>\n",
       "      <td>Action|Adventure|Science Fiction|Thriller</td>\n",
       "      <td>Village Roadshow Pictures|Kennedy Miller Produ...</td>\n",
       "      <td>5/13/2015</td>\n",
       "      <td>7.1</td>\n",
       "      <td>2015</td>\n",
       "    </tr>\n",
       "    <tr>\n",
       "      <th>2</th>\n",
       "      <td>tt2908446</td>\n",
       "      <td>110000000</td>\n",
       "      <td>295238201</td>\n",
       "      <td>Insurgent</td>\n",
       "      <td>Shailene Woodley|Theo James|Kate Winslet|Ansel...</td>\n",
       "      <td>Robert Schwentke</td>\n",
       "      <td>One Choice Can Destroy You</td>\n",
       "      <td>Beatrice Prior must confront her inner demons ...</td>\n",
       "      <td>119</td>\n",
       "      <td>Adventure|Science Fiction|Thriller</td>\n",
       "      <td>Summit Entertainment|Mandeville Films|Red Wago...</td>\n",
       "      <td>3/18/2015</td>\n",
       "      <td>6.3</td>\n",
       "      <td>2015</td>\n",
       "    </tr>\n",
       "    <tr>\n",
       "      <th>3</th>\n",
       "      <td>tt2488496</td>\n",
       "      <td>200000000</td>\n",
       "      <td>2068178225</td>\n",
       "      <td>Star Wars: The Force Awakens</td>\n",
       "      <td>Harrison Ford|Mark Hamill|Carrie Fisher|Adam D...</td>\n",
       "      <td>J.J. Abrams</td>\n",
       "      <td>Every generation has a story.</td>\n",
       "      <td>Thirty years after defeating the Galactic Empi...</td>\n",
       "      <td>136</td>\n",
       "      <td>Action|Adventure|Science Fiction|Fantasy</td>\n",
       "      <td>Lucasfilm|Truenorth Productions|Bad Robot</td>\n",
       "      <td>12/15/2015</td>\n",
       "      <td>7.5</td>\n",
       "      <td>2015</td>\n",
       "    </tr>\n",
       "    <tr>\n",
       "      <th>4</th>\n",
       "      <td>tt2820852</td>\n",
       "      <td>190000000</td>\n",
       "      <td>1506249360</td>\n",
       "      <td>Furious 7</td>\n",
       "      <td>Vin Diesel|Paul Walker|Jason Statham|Michelle ...</td>\n",
       "      <td>James Wan</td>\n",
       "      <td>Vengeance Hits Home</td>\n",
       "      <td>Deckard Shaw seeks revenge against Dominic Tor...</td>\n",
       "      <td>137</td>\n",
       "      <td>Action|Crime|Thriller</td>\n",
       "      <td>Universal Pictures|Original Film|Media Rights ...</td>\n",
       "      <td>4/1/2015</td>\n",
       "      <td>7.3</td>\n",
       "      <td>2015</td>\n",
       "    </tr>\n",
       "    <tr>\n",
       "      <th>...</th>\n",
       "      <td>...</td>\n",
       "      <td>...</td>\n",
       "      <td>...</td>\n",
       "      <td>...</td>\n",
       "      <td>...</td>\n",
       "      <td>...</td>\n",
       "      <td>...</td>\n",
       "      <td>...</td>\n",
       "      <td>...</td>\n",
       "      <td>...</td>\n",
       "      <td>...</td>\n",
       "      <td>...</td>\n",
       "      <td>...</td>\n",
       "      <td>...</td>\n",
       "    </tr>\n",
       "    <tr>\n",
       "      <th>1884</th>\n",
       "      <td>tt0120903</td>\n",
       "      <td>75000000</td>\n",
       "      <td>157299717</td>\n",
       "      <td>X-Men</td>\n",
       "      <td>Patrick Stewart|Hugh Jackman|Ian McKellen|Hall...</td>\n",
       "      <td>Bryan Singer</td>\n",
       "      <td>Evolution Begins</td>\n",
       "      <td>Two mutants, Rogue and Wolverine, come to a pr...</td>\n",
       "      <td>104</td>\n",
       "      <td>Adventure|Action|Science Fiction</td>\n",
       "      <td>Twentieth Century Fox Film Corporation|Donners...</td>\n",
       "      <td>7/13/2000</td>\n",
       "      <td>6.6</td>\n",
       "      <td>2000</td>\n",
       "    </tr>\n",
       "    <tr>\n",
       "      <th>1885</th>\n",
       "      <td>tt0192255</td>\n",
       "      <td>22000000</td>\n",
       "      <td>13555988</td>\n",
       "      <td>The Little Vampire</td>\n",
       "      <td>Richard E. Grant|Jonathan Lipnicki|Jim Carter|...</td>\n",
       "      <td>Uli Edel</td>\n",
       "      <td>They're not just best friends, they're blood b...</td>\n",
       "      <td>Based on the popular books, the story tells of...</td>\n",
       "      <td>95</td>\n",
       "      <td>Horror|Family|Foreign</td>\n",
       "      <td>New Line Cinema</td>\n",
       "      <td>10/27/2000</td>\n",
       "      <td>6.4</td>\n",
       "      <td>2000</td>\n",
       "    </tr>\n",
       "    <tr>\n",
       "      <th>1886</th>\n",
       "      <td>tt0131704</td>\n",
       "      <td>76000000</td>\n",
       "      <td>35134820</td>\n",
       "      <td>The Adventures of Rocky &amp; Bullwinkle</td>\n",
       "      <td>Rene Russo|Jason Alexander|Piper Perabo|Randy ...</td>\n",
       "      <td>Des McAnuff</td>\n",
       "      <td>This summer it's not the same old bull.</td>\n",
       "      <td>Rocky and Bullwinkle have been living off the ...</td>\n",
       "      <td>88</td>\n",
       "      <td>Adventure|Animation|Action|Comedy|Family</td>\n",
       "      <td>Universal Pictures|Capella International|KC Me...</td>\n",
       "      <td>6/30/2000</td>\n",
       "      <td>4.0</td>\n",
       "      <td>2000</td>\n",
       "    </tr>\n",
       "    <tr>\n",
       "      <th>1887</th>\n",
       "      <td>tt0162983</td>\n",
       "      <td>40000000</td>\n",
       "      <td>36037909</td>\n",
       "      <td>Hanging Up</td>\n",
       "      <td>Meg Ryan|Diane Keaton|Lisa Kudrow|Walter Matth...</td>\n",
       "      <td>Diane Keaton</td>\n",
       "      <td>Every family has a few hang-ups.</td>\n",
       "      <td>A trio of sisters bond over their ambivalence ...</td>\n",
       "      <td>94</td>\n",
       "      <td>Comedy|Drama</td>\n",
       "      <td>Laurence Mark Productions|Columbia Pictures Co...</td>\n",
       "      <td>2/16/2000</td>\n",
       "      <td>5.2</td>\n",
       "      <td>2000</td>\n",
       "    </tr>\n",
       "    <tr>\n",
       "      <th>1888</th>\n",
       "      <td>tt0163676</td>\n",
       "      <td>15000000</td>\n",
       "      <td>5217498</td>\n",
       "      <td>The In Crowd</td>\n",
       "      <td>Susan Ward|Lori Heuring|Matthew Settle|Nathan ...</td>\n",
       "      <td>Mary Lambert</td>\n",
       "      <td>What would you do to get in?</td>\n",
       "      <td>A mentally disturbed young woman takes a job a...</td>\n",
       "      <td>105</td>\n",
       "      <td>Thriller</td>\n",
       "      <td>Warner Bros. Pictures</td>\n",
       "      <td>7/19/2000</td>\n",
       "      <td>5.2</td>\n",
       "      <td>2000</td>\n",
       "    </tr>\n",
       "  </tbody>\n",
       "</table>\n",
       "<p>1889 rows × 14 columns</p>\n",
       "</div>"
      ],
      "text/plain": [
       "        imdb_id     budget     revenue                        original_title  \\\n",
       "0     tt0369610  150000000  1513528810                        Jurassic World   \n",
       "1     tt1392190  150000000   378436354                    Mad Max: Fury Road   \n",
       "2     tt2908446  110000000   295238201                             Insurgent   \n",
       "3     tt2488496  200000000  2068178225          Star Wars: The Force Awakens   \n",
       "4     tt2820852  190000000  1506249360                             Furious 7   \n",
       "...         ...        ...         ...                                   ...   \n",
       "1884  tt0120903   75000000   157299717                                 X-Men   \n",
       "1885  tt0192255   22000000    13555988                    The Little Vampire   \n",
       "1886  tt0131704   76000000    35134820  The Adventures of Rocky & Bullwinkle   \n",
       "1887  tt0162983   40000000    36037909                            Hanging Up   \n",
       "1888  tt0163676   15000000     5217498                          The In Crowd   \n",
       "\n",
       "                                                   cast          director  \\\n",
       "0     Chris Pratt|Bryce Dallas Howard|Irrfan Khan|Vi...   Colin Trevorrow   \n",
       "1     Tom Hardy|Charlize Theron|Hugh Keays-Byrne|Nic...     George Miller   \n",
       "2     Shailene Woodley|Theo James|Kate Winslet|Ansel...  Robert Schwentke   \n",
       "3     Harrison Ford|Mark Hamill|Carrie Fisher|Adam D...       J.J. Abrams   \n",
       "4     Vin Diesel|Paul Walker|Jason Statham|Michelle ...         James Wan   \n",
       "...                                                 ...               ...   \n",
       "1884  Patrick Stewart|Hugh Jackman|Ian McKellen|Hall...      Bryan Singer   \n",
       "1885  Richard E. Grant|Jonathan Lipnicki|Jim Carter|...          Uli Edel   \n",
       "1886  Rene Russo|Jason Alexander|Piper Perabo|Randy ...       Des McAnuff   \n",
       "1887  Meg Ryan|Diane Keaton|Lisa Kudrow|Walter Matth...      Diane Keaton   \n",
       "1888  Susan Ward|Lori Heuring|Matthew Settle|Nathan ...      Mary Lambert   \n",
       "\n",
       "                                                tagline  \\\n",
       "0                                     The park is open.   \n",
       "1                                    What a Lovely Day.   \n",
       "2                            One Choice Can Destroy You   \n",
       "3                         Every generation has a story.   \n",
       "4                                   Vengeance Hits Home   \n",
       "...                                                 ...   \n",
       "1884                                   Evolution Begins   \n",
       "1885  They're not just best friends, they're blood b...   \n",
       "1886            This summer it's not the same old bull.   \n",
       "1887                   Every family has a few hang-ups.   \n",
       "1888                       What would you do to get in?   \n",
       "\n",
       "                                               overview  runtime  \\\n",
       "0     Twenty-two years after the events of Jurassic ...      124   \n",
       "1     An apocalyptic story set in the furthest reach...      120   \n",
       "2     Beatrice Prior must confront her inner demons ...      119   \n",
       "3     Thirty years after defeating the Galactic Empi...      136   \n",
       "4     Deckard Shaw seeks revenge against Dominic Tor...      137   \n",
       "...                                                 ...      ...   \n",
       "1884  Two mutants, Rogue and Wolverine, come to a pr...      104   \n",
       "1885  Based on the popular books, the story tells of...       95   \n",
       "1886  Rocky and Bullwinkle have been living off the ...       88   \n",
       "1887  A trio of sisters bond over their ambivalence ...       94   \n",
       "1888  A mentally disturbed young woman takes a job a...      105   \n",
       "\n",
       "                                         genres  \\\n",
       "0     Action|Adventure|Science Fiction|Thriller   \n",
       "1     Action|Adventure|Science Fiction|Thriller   \n",
       "2            Adventure|Science Fiction|Thriller   \n",
       "3      Action|Adventure|Science Fiction|Fantasy   \n",
       "4                         Action|Crime|Thriller   \n",
       "...                                         ...   \n",
       "1884           Adventure|Action|Science Fiction   \n",
       "1885                      Horror|Family|Foreign   \n",
       "1886   Adventure|Animation|Action|Comedy|Family   \n",
       "1887                               Comedy|Drama   \n",
       "1888                                   Thriller   \n",
       "\n",
       "                                   production_companies release_date  \\\n",
       "0     Universal Studios|Amblin Entertainment|Legenda...     6/9/2015   \n",
       "1     Village Roadshow Pictures|Kennedy Miller Produ...    5/13/2015   \n",
       "2     Summit Entertainment|Mandeville Films|Red Wago...    3/18/2015   \n",
       "3             Lucasfilm|Truenorth Productions|Bad Robot   12/15/2015   \n",
       "4     Universal Pictures|Original Film|Media Rights ...     4/1/2015   \n",
       "...                                                 ...          ...   \n",
       "1884  Twentieth Century Fox Film Corporation|Donners...    7/13/2000   \n",
       "1885                                    New Line Cinema   10/27/2000   \n",
       "1886  Universal Pictures|Capella International|KC Me...    6/30/2000   \n",
       "1887  Laurence Mark Productions|Columbia Pictures Co...    2/16/2000   \n",
       "1888                              Warner Bros. Pictures    7/19/2000   \n",
       "\n",
       "      vote_average  release_year  \n",
       "0              6.5          2015  \n",
       "1              7.1          2015  \n",
       "2              6.3          2015  \n",
       "3              7.5          2015  \n",
       "4              7.3          2015  \n",
       "...            ...           ...  \n",
       "1884           6.6          2000  \n",
       "1885           6.4          2000  \n",
       "1886           4.0          2000  \n",
       "1887           5.2          2000  \n",
       "1888           5.2          2000  \n",
       "\n",
       "[1889 rows x 14 columns]"
      ]
     },
     "execution_count": 2,
     "metadata": {},
     "output_type": "execute_result"
    }
   ],
   "source": [
    "data = pd.read_csv('movie_bd_v5.csv')\n",
    "data\n",
    "#data.sample(5)"
   ]
  },
  {
   "cell_type": "code",
   "execution_count": 3,
   "metadata": {
    "colab": {},
    "colab_type": "code",
    "id": "CoYUnagMVp-C"
   },
   "outputs": [
    {
     "data": {
      "text/html": [
       "<div>\n",
       "<style scoped>\n",
       "    .dataframe tbody tr th:only-of-type {\n",
       "        vertical-align: middle;\n",
       "    }\n",
       "\n",
       "    .dataframe tbody tr th {\n",
       "        vertical-align: top;\n",
       "    }\n",
       "\n",
       "    .dataframe thead th {\n",
       "        text-align: right;\n",
       "    }\n",
       "</style>\n",
       "<table border=\"1\" class=\"dataframe\">\n",
       "  <thead>\n",
       "    <tr style=\"text-align: right;\">\n",
       "      <th></th>\n",
       "      <th>budget</th>\n",
       "      <th>revenue</th>\n",
       "      <th>runtime</th>\n",
       "      <th>vote_average</th>\n",
       "      <th>release_year</th>\n",
       "    </tr>\n",
       "  </thead>\n",
       "  <tbody>\n",
       "    <tr>\n",
       "      <th>count</th>\n",
       "      <td>1.889000e+03</td>\n",
       "      <td>1.889000e+03</td>\n",
       "      <td>1889.000000</td>\n",
       "      <td>1889.000000</td>\n",
       "      <td>1889.000000</td>\n",
       "    </tr>\n",
       "    <tr>\n",
       "      <th>mean</th>\n",
       "      <td>5.431083e+07</td>\n",
       "      <td>1.553653e+08</td>\n",
       "      <td>109.658549</td>\n",
       "      <td>6.140762</td>\n",
       "      <td>2007.860773</td>\n",
       "    </tr>\n",
       "    <tr>\n",
       "      <th>std</th>\n",
       "      <td>4.858721e+07</td>\n",
       "      <td>2.146698e+08</td>\n",
       "      <td>18.017041</td>\n",
       "      <td>0.764763</td>\n",
       "      <td>4.468841</td>\n",
       "    </tr>\n",
       "    <tr>\n",
       "      <th>min</th>\n",
       "      <td>5.000000e+06</td>\n",
       "      <td>2.033165e+06</td>\n",
       "      <td>63.000000</td>\n",
       "      <td>3.300000</td>\n",
       "      <td>2000.000000</td>\n",
       "    </tr>\n",
       "    <tr>\n",
       "      <th>25%</th>\n",
       "      <td>2.000000e+07</td>\n",
       "      <td>3.456058e+07</td>\n",
       "      <td>97.000000</td>\n",
       "      <td>5.600000</td>\n",
       "      <td>2004.000000</td>\n",
       "    </tr>\n",
       "    <tr>\n",
       "      <th>50%</th>\n",
       "      <td>3.800000e+07</td>\n",
       "      <td>8.361541e+07</td>\n",
       "      <td>107.000000</td>\n",
       "      <td>6.100000</td>\n",
       "      <td>2008.000000</td>\n",
       "    </tr>\n",
       "    <tr>\n",
       "      <th>75%</th>\n",
       "      <td>7.200000e+07</td>\n",
       "      <td>1.782626e+08</td>\n",
       "      <td>120.000000</td>\n",
       "      <td>6.600000</td>\n",
       "      <td>2012.000000</td>\n",
       "    </tr>\n",
       "    <tr>\n",
       "      <th>max</th>\n",
       "      <td>3.800000e+08</td>\n",
       "      <td>2.781506e+09</td>\n",
       "      <td>214.000000</td>\n",
       "      <td>8.100000</td>\n",
       "      <td>2015.000000</td>\n",
       "    </tr>\n",
       "  </tbody>\n",
       "</table>\n",
       "</div>"
      ],
      "text/plain": [
       "             budget       revenue      runtime  vote_average  release_year\n",
       "count  1.889000e+03  1.889000e+03  1889.000000   1889.000000   1889.000000\n",
       "mean   5.431083e+07  1.553653e+08   109.658549      6.140762   2007.860773\n",
       "std    4.858721e+07  2.146698e+08    18.017041      0.764763      4.468841\n",
       "min    5.000000e+06  2.033165e+06    63.000000      3.300000   2000.000000\n",
       "25%    2.000000e+07  3.456058e+07    97.000000      5.600000   2004.000000\n",
       "50%    3.800000e+07  8.361541e+07   107.000000      6.100000   2008.000000\n",
       "75%    7.200000e+07  1.782626e+08   120.000000      6.600000   2012.000000\n",
       "max    3.800000e+08  2.781506e+09   214.000000      8.100000   2015.000000"
      ]
     },
     "execution_count": 3,
     "metadata": {},
     "output_type": "execute_result"
    }
   ],
   "source": [
    "data.describe()"
   ]
  },
  {
   "cell_type": "markdown",
   "metadata": {
    "colab_type": "text",
    "id": "DTIt7ezGVp-G"
   },
   "source": [
    "# Предобработка"
   ]
  },
  {
   "cell_type": "code",
   "execution_count": 4,
   "metadata": {
    "colab": {},
    "colab_type": "code",
    "id": "jNb40DwKVp-H"
   },
   "outputs": [],
   "source": [
    "answers = {} # создадим словарь для ответов\n",
    "\n",
    "# тут другие ваши предобработки колонок например:\n",
    "\n",
    "data['profit'] = data['revenue'] - data['budget'] # создаем колонку прибыль в датафрейме\n",
    "\n",
    "#the time given in the dataset is in string format.\n",
    "#So we need to change this in datetime format\n",
    "# ...\n",
    "\n",
    "# трансформация ячейки датафрейма\n",
    "\n",
    "def _trans(_l):\n",
    "    return list(itertools.combinations(sorted(_l),2))"
   ]
  },
  {
   "cell_type": "markdown",
   "metadata": {
    "colab_type": "text",
    "id": "YxZaH-nPVp-L"
   },
   "source": [
    "# 1. У какого фильма из списка самый большой бюджет?"
   ]
  },
  {
   "cell_type": "markdown",
   "metadata": {
    "colab_type": "text",
    "id": "Nd-G5gX6Vp-M"
   },
   "source": [
    "Использовать варианты ответов в коде решения запрещено.    \n",
    "Вы думаете и в жизни у вас будут варианты ответов?)"
   ]
  },
  {
   "cell_type": "code",
   "execution_count": 5,
   "metadata": {
    "colab": {},
    "colab_type": "code",
    "id": "uVnXAY5RVp-O"
   },
   "outputs": [],
   "source": [
    "# в словарь вставляем номер вопроса и ваш ответ на него\n",
    "# Пример: \n",
    "answers['1'] = '2. Spider-Man 3 (tt0413300)'\n",
    "# запишите свой вариант ответа\n",
    "answers['1'] = '...'\n",
    "# если ответили верно, можете добавить комментарий со значком \"+\""
   ]
  },
  {
   "cell_type": "code",
   "execution_count": 6,
   "metadata": {
    "colab": {},
    "colab_type": "code",
    "id": "dZwb3m28Vp-S"
   },
   "outputs": [],
   "source": [
    "# тут пишем ваш код для решения данного вопроса:\n",
    "answers['1'] = data[data.budget == data.budget.max()]['original_title'].values[0]"
   ]
  },
  {
   "cell_type": "markdown",
   "metadata": {
    "colab_type": "text",
    "id": "K7L3nbRXVp-X"
   },
   "source": [
    "ВАРИАНТ 2"
   ]
  },
  {
   "cell_type": "code",
   "execution_count": 7,
   "metadata": {
    "colab": {},
    "colab_type": "code",
    "id": "OGaoQI7rVp-X"
   },
   "outputs": [],
   "source": [
    "# можно добавлять разные варианты решения"
   ]
  },
  {
   "cell_type": "markdown",
   "metadata": {
    "colab_type": "text",
    "id": "FNRbbI3vVp-c"
   },
   "source": [
    "# 2. Какой из фильмов самый длительный (в минутах)?"
   ]
  },
  {
   "cell_type": "code",
   "execution_count": 8,
   "metadata": {
    "colab": {},
    "colab_type": "code",
    "id": "vHAoEXNTVp-d"
   },
   "outputs": [],
   "source": [
    "# думаю логику работы с этим словарем вы уже поняли, \n",
    "# по этому не буду больше его дублировать\n",
    "answers['2'] = '...'"
   ]
  },
  {
   "cell_type": "code",
   "execution_count": 9,
   "metadata": {
    "colab": {},
    "colab_type": "code",
    "id": "ot-VX2XrVp-g"
   },
   "outputs": [],
   "source": [
    "answers['2'] = data[data.runtime == data.runtime.max()]['original_title'].values[0]"
   ]
  },
  {
   "cell_type": "markdown",
   "metadata": {
    "colab_type": "text",
    "id": "bapLlpW8Vp-k"
   },
   "source": [
    "# 3. Какой из фильмов самый короткий (в минутах)?\n",
    "\n",
    "\n",
    "\n"
   ]
  },
  {
   "cell_type": "code",
   "execution_count": 10,
   "metadata": {
    "colab": {},
    "colab_type": "code",
    "id": "YBxaSHuAVp-l"
   },
   "outputs": [],
   "source": [
    "answers['3'] = data[data.runtime == data.runtime.min()]['original_title'].values[0]"
   ]
  },
  {
   "cell_type": "markdown",
   "metadata": {
    "colab_type": "text",
    "id": "TfQbxbfNVp-p"
   },
   "source": [
    "# 4. Какова средняя длительность фильмов?\n"
   ]
  },
  {
   "cell_type": "code",
   "execution_count": 11,
   "metadata": {
    "colab": {},
    "colab_type": "code",
    "id": "5K6dKZYVVp-q"
   },
   "outputs": [],
   "source": [
    "answers['4'] = round(data.runtime.mean(),0) # значение средней длительности округляем до целой величины минут"
   ]
  },
  {
   "cell_type": "markdown",
   "metadata": {
    "colab_type": "text",
    "id": "r5TvbnT_Vp-u"
   },
   "source": [
    "# 5. Каково медианное значение длительности фильмов? "
   ]
  },
  {
   "cell_type": "code",
   "execution_count": 12,
   "metadata": {
    "colab": {},
    "colab_type": "code",
    "id": "iBROplKnVp-v"
   },
   "outputs": [],
   "source": [
    "answers['5'] = round(data.runtime.median(),2) # значение медианной длительности округляем до целой величины минут"
   ]
  },
  {
   "cell_type": "markdown",
   "metadata": {
    "colab_type": "text",
    "id": "39P-deDSVp-y"
   },
   "source": [
    "# 6. Какой самый прибыльный фильм?\n",
    "#### Внимание! Здесь и далее под «прибылью» или «убытками» понимается разность между сборами и бюджетом фильма. (прибыль = сборы - бюджет) в нашем датасете это будет (profit = revenue - budget) "
   ]
  },
  {
   "cell_type": "code",
   "execution_count": 13,
   "metadata": {
    "colab": {},
    "colab_type": "code",
    "id": "UYZh4T9WVp-y"
   },
   "outputs": [],
   "source": [
    "# лучше код получения столбца profit вынести в Предобработку что в начале\n",
    "answers['6'] = data[data.profit == data.profit.max()].sort_values('profit', ascending=False).iloc[0]['original_title']"
   ]
  },
  {
   "cell_type": "markdown",
   "metadata": {
    "colab_type": "text",
    "id": "M99JmIX4Vp-2"
   },
   "source": [
    "# 7. Какой фильм самый убыточный? "
   ]
  },
  {
   "cell_type": "code",
   "execution_count": 14,
   "metadata": {
    "colab": {},
    "colab_type": "code",
    "id": "w-D2m4XPVp-3"
   },
   "outputs": [],
   "source": [
    "answers['7'] = data[data.profit == data.profit.min()].sort_values('profit').iloc[0]['original_title']"
   ]
  },
  {
   "cell_type": "markdown",
   "metadata": {
    "colab_type": "text",
    "id": "wEOM5ERVVp-6"
   },
   "source": [
    "# 8. У скольких фильмов из датасета объем сборов оказался выше бюджета?"
   ]
  },
  {
   "cell_type": "code",
   "execution_count": 15,
   "metadata": {
    "colab": {},
    "colab_type": "code",
    "id": "y00_7HD6Vp-7"
   },
   "outputs": [],
   "source": [
    "answers['8'] = len(data[data.revenue > data.budget])"
   ]
  },
  {
   "cell_type": "markdown",
   "metadata": {
    "colab_type": "text",
    "id": "xhpspA9KVp_A"
   },
   "source": [
    "# 9. Какой фильм оказался самым кассовым в 2008 году?"
   ]
  },
  {
   "cell_type": "code",
   "execution_count": 16,
   "metadata": {
    "colab": {},
    "colab_type": "code",
    "id": "MoUyQr9RVp_B"
   },
   "outputs": [],
   "source": [
    "answers['9'] = data[data['release_year']==2008].sort_values('revenue', ascending=False) \\\n",
    "                                               .iloc[0]['original_title']"
   ]
  },
  {
   "cell_type": "markdown",
   "metadata": {
    "colab_type": "text",
    "id": "Zi4hDKidVp_F"
   },
   "source": [
    "# 10. Самый убыточный фильм за период с 2012 по 2014 г. (включительно)?\n"
   ]
  },
  {
   "cell_type": "code",
   "execution_count": 17,
   "metadata": {
    "colab": {},
    "colab_type": "code",
    "id": "XqyRmufJVp_F"
   },
   "outputs": [],
   "source": [
    "answers['10'] = data[data['release_year'].between(2012,2014)].sort_values('profit') \\\n",
    "                                                             .iloc[0]['original_title']"
   ]
  },
  {
   "cell_type": "markdown",
   "metadata": {
    "colab_type": "text",
    "id": "EA7Sa9dkVp_I"
   },
   "source": [
    "# 11. Какого жанра фильмов больше всего?"
   ]
  },
  {
   "cell_type": "code",
   "execution_count": 18,
   "metadata": {
    "colab": {},
    "colab_type": "code",
    "id": "zsJAwJ8QVp_J"
   },
   "outputs": [],
   "source": [
    "# эту задачу тоже можно решать разными подходами, попробуй реализовать разные варианты\n",
    "# если будешь добавлять функцию - выноси ее в предобработку что в начале\n",
    "\n",
    "data11 = data.copy()\n",
    "data11.genres = data11.genres.str.split('|')\n",
    "data11 = data11.explode('genres')\n",
    "answers['11'] = data11.genres.value_counts().index[0]"
   ]
  },
  {
   "cell_type": "markdown",
   "metadata": {
    "colab_type": "text",
    "id": "Ax6g2C8SVp_M"
   },
   "source": [
    "ВАРИАНТ 2"
   ]
  },
  {
   "cell_type": "code",
   "execution_count": 19,
   "metadata": {
    "colab": {},
    "colab_type": "code",
    "id": "otO3SbrSVp_N"
   },
   "outputs": [],
   "source": [
    "lg = []\n",
    "data11 = data.copy()\n",
    "for _, row in data11.iterrows():  # Итерация по строкая датафрейма\n",
    "    lg = lg + row['genres'].split('|')\n",
    "\n",
    "c = collections.Counter()\n",
    "for genre in lg:  # Итерация по списку и формирование счетчика\n",
    "    c[genre] += 1\n",
    "\n",
    "answers['11'] = c.most_common(1)[0][0]"
   ]
  },
  {
   "cell_type": "markdown",
   "metadata": {
    "colab_type": "text",
    "id": "T9_bPWpkVp_Q"
   },
   "source": [
    "# 12. Фильмы какого жанра чаще всего становятся прибыльными?"
   ]
  },
  {
   "cell_type": "code",
   "execution_count": 20,
   "metadata": {
    "colab": {},
    "colab_type": "code",
    "id": "Tmt8MaK1Vp_R"
   },
   "outputs": [],
   "source": [
    "data12 = data.copy()\n",
    "data12.genres = data12.genres.str.split('|')\n",
    "data12 = data12.explode('genres')\n",
    "answers['12'] = data12[data12['profit'] > 0].groupby(['genres'])['genres'].count() \\\n",
    "                                            .sort_values(ascending=False).index[0]"
   ]
  },
  {
   "cell_type": "markdown",
   "metadata": {
    "colab_type": "text",
    "id": "0F23bgsDVp_U"
   },
   "source": [
    "# 13. У какого режиссера самые большие суммарные кассовые сбооры?"
   ]
  },
  {
   "cell_type": "code",
   "execution_count": 21,
   "metadata": {
    "colab": {},
    "colab_type": "code",
    "id": "K6Z3J8ygVp_X"
   },
   "outputs": [],
   "source": [
    "data13 = data.copy()\n",
    "answers['13'] = data13.groupby(['director']).revenue.sum().sort_values(ascending=False).index[0]"
   ]
  },
  {
   "cell_type": "markdown",
   "metadata": {
    "colab_type": "text",
    "id": "PsYC9FgRVp_a"
   },
   "source": [
    "# 14. Какой режисер снял больше всего фильмов в стиле Action?"
   ]
  },
  {
   "cell_type": "code",
   "execution_count": 22,
   "metadata": {
    "colab": {},
    "colab_type": "code",
    "id": "wd2M-wHeVp_b"
   },
   "outputs": [],
   "source": [
    "data14 = data.copy()\n",
    "data14.director = data14.director.str.split('|')\n",
    "data14 = data14.explode('director')\n",
    "data14 = data14[data14.genres.str.contains('Action')]\n",
    "answers['14'] = data14.groupby(['director']).director.count().sort_values(ascending=False).index[0]"
   ]
  },
  {
   "cell_type": "markdown",
   "metadata": {
    "colab_type": "text",
    "id": "PQ0KciD7Vp_f"
   },
   "source": [
    "# 15. Фильмы с каким актером принесли самые высокие кассовые сборы в 2012 году? "
   ]
  },
  {
   "cell_type": "code",
   "execution_count": 23,
   "metadata": {
    "colab": {},
    "colab_type": "code",
    "id": "aga62oeKVp_g"
   },
   "outputs": [],
   "source": [
    "data15 = data[data['release_year'] == 2012].copy()\n",
    "data15['cast'] = data15.cast.str.split('|')\n",
    "data15 = data15.explode('cast')\n",
    "answers['15'] = data15.groupby(['cast']).revenue.sum().sort_values(ascending=False).index[0]"
   ]
  },
  {
   "cell_type": "markdown",
   "metadata": {
    "colab_type": "text",
    "id": "mWHyyL7QVp_j"
   },
   "source": [
    "# 16. Какой актер снялся в большем количестве высокобюджетных фильмов?"
   ]
  },
  {
   "cell_type": "code",
   "execution_count": 24,
   "metadata": {
    "colab": {},
    "colab_type": "code",
    "id": "qQtmHKTFVp_k"
   },
   "outputs": [],
   "source": [
    "data16 = data[data.budget > data.budget.mean()].copy()\n",
    "data16.cast = data16.cast.str.split('|')\n",
    "answers['16'] = data16.explode('cast').cast.value_counts().index[0]"
   ]
  },
  {
   "cell_type": "markdown",
   "metadata": {
    "colab_type": "text",
    "id": "NIh6AaW5Vp_n"
   },
   "source": [
    "# 17. В фильмах какого жанра больше всего снимался Nicolas Cage? "
   ]
  },
  {
   "cell_type": "code",
   "execution_count": 25,
   "metadata": {
    "colab": {},
    "colab_type": "code",
    "id": "H74SJDIBVp_n"
   },
   "outputs": [],
   "source": [
    "data17 = data[data.cast.str.contains('Nicolas Cage')].copy()\n",
    "data17.genres = data17.genres.str.split('|')\n",
    "answers['17'] = data17.explode('genres').genres.value_counts().index[0]"
   ]
  },
  {
   "cell_type": "markdown",
   "metadata": {
    "colab_type": "text",
    "id": "RqOmPRfWVp_q"
   },
   "source": [
    "# 18. Самый убыточный фильм от Paramount Pictures"
   ]
  },
  {
   "cell_type": "code",
   "execution_count": 26,
   "metadata": {
    "colab": {},
    "colab_type": "code",
    "id": "9E_B0Y96Vp_r"
   },
   "outputs": [],
   "source": [
    "answers['18'] = data[data['production_companies'].str.contains('Paramount Pictures')].sort_values('profit') \\\n",
    "                                                                                     .iloc[0]['original_title']"
   ]
  },
  {
   "cell_type": "markdown",
   "metadata": {
    "colab_type": "text",
    "id": "vS8Ur6ddVp_u"
   },
   "source": [
    "# 19. Какой год стал самым успешным по суммарным кассовым сборам?"
   ]
  },
  {
   "cell_type": "code",
   "execution_count": 27,
   "metadata": {
    "colab": {},
    "colab_type": "code",
    "id": "Dnbt4GdIVp_v"
   },
   "outputs": [],
   "source": [
    "data19 = data.copy()\n",
    "answers['19'] = data19.groupby(['release_year']).revenue.sum().sort_values(ascending=False).index[0]"
   ]
  },
  {
   "cell_type": "markdown",
   "metadata": {
    "colab_type": "text",
    "id": "JAzJh4QAVp_z"
   },
   "source": [
    "# 20. Какой самый прибыльный год для студии Warner Bros?"
   ]
  },
  {
   "cell_type": "code",
   "execution_count": 28,
   "metadata": {
    "colab": {},
    "colab_type": "code",
    "id": "wgVu02DEVp_0"
   },
   "outputs": [],
   "source": [
    "data20 = data[data.production_companies.str.contains('Warner Bros')].copy()\n",
    "answers['20'] = data20.groupby(['release_year']).profit.sum().sort_values(ascending=False).index[0]"
   ]
  },
  {
   "cell_type": "markdown",
   "metadata": {
    "colab_type": "text",
    "id": "8Im1S2HRVp_4"
   },
   "source": [
    "# 21. В каком месяце за все годы суммарно вышло больше всего фильмов?"
   ]
  },
  {
   "cell_type": "code",
   "execution_count": 29,
   "metadata": {
    "colab": {},
    "colab_type": "code",
    "id": "lev6TH7gVp_4"
   },
   "outputs": [
    {
     "data": {
      "text/plain": [
       "month\n",
       "9     227\n",
       "12    190\n",
       "10    186\n",
       "8     161\n",
       "3     156\n",
       "4     149\n",
       "6     147\n",
       "11    146\n",
       "7     142\n",
       "5     140\n",
       "2     135\n",
       "1     110\n",
       "Name: month, dtype: int64"
      ]
     },
     "execution_count": 29,
     "metadata": {},
     "output_type": "execute_result"
    }
   ],
   "source": [
    "data21 = data.copy()\n",
    "data21['release_date'] = pd.to_datetime(data21['release_date'], format = '%m/%d/%Y')\n",
    "data21['month'] = data21['release_date'].dt.month\n",
    "data21 = data21.groupby(['month']).month.count().sort_values(ascending=False)\n",
    "\n",
    "answers['21'] = data21.index[0]\n",
    "data21"
   ]
  },
  {
   "cell_type": "markdown",
   "metadata": {
    "colab_type": "text",
    "id": "uAJsZ_NeVp_7"
   },
   "source": [
    "# 22. Сколько суммарно вышло фильмов летом? (за июнь, июль, август)"
   ]
  },
  {
   "cell_type": "code",
   "execution_count": 30,
   "metadata": {
    "colab": {},
    "colab_type": "code",
    "id": "Aa-hEREoVp_8"
   },
   "outputs": [],
   "source": [
    "data22 = data21\n",
    "a = 0\n",
    "for m in [6,7,8]:\n",
    "    a += data22[m]\n",
    "\n",
    "answers[22] = a"
   ]
  },
  {
   "cell_type": "markdown",
   "metadata": {
    "colab_type": "text",
    "id": "G94ppOY1VqAA"
   },
   "source": [
    "# 23. Для какого режиссера зима – самое продуктивное время года? "
   ]
  },
  {
   "cell_type": "code",
   "execution_count": 31,
   "metadata": {
    "colab": {},
    "colab_type": "code",
    "id": "RhNTsamuVqAB"
   },
   "outputs": [],
   "source": [
    "data23 = data.copy()\n",
    "data23['release_date'] = pd.to_datetime(data23['release_date'], format = '%m/%d/%Y')\n",
    "data23.director = data23.director.str.split('|')\n",
    "data23 = data23.explode('director')\n",
    "answers['23'] = data23[(data23['release_date'].dt.month == 1) | \\\n",
    "                       (data23['release_date'].dt.month == 2) | \\\n",
    "                       (data23['release_date'].dt.month == 12)]\\\n",
    "                       .groupby(['director']).director.count().sort_values(ascending=False).index[0]"
   ]
  },
  {
   "cell_type": "markdown",
   "metadata": {
    "colab_type": "text",
    "id": "RBo0JVjVVqAF"
   },
   "source": [
    "# 24. Какая студия дает самые длинные названия своим фильмам по количеству символов?"
   ]
  },
  {
   "cell_type": "code",
   "execution_count": 32,
   "metadata": {
    "colab": {},
    "colab_type": "code",
    "id": "QRGS8L0iVqAG"
   },
   "outputs": [],
   "source": [
    "data24 = data.copy()\n",
    "data24['title_length'] = data24.original_title.str.len()\n",
    "data24.production_companies = data24.production_companies.str.split('|')\n",
    "data24 = data24.explode('production_companies')\n",
    "answers['24'] = data24.groupby(['production_companies']).title_length.max().sort_values(ascending=False).index[0]"
   ]
  },
  {
   "cell_type": "markdown",
   "metadata": {
    "colab_type": "text",
    "id": "9G0hbvR7VqAK"
   },
   "source": [
    "# 25. Описание фильмов какой студии в среднем самые длинные по количеству слов?"
   ]
  },
  {
   "cell_type": "code",
   "execution_count": 33,
   "metadata": {
    "colab": {},
    "colab_type": "code",
    "id": "Ge2GsLNxVqAK"
   },
   "outputs": [],
   "source": [
    "data25 = data.copy()\n",
    "data25['overview_length'] = data25.overview.str.split().apply(len)\n",
    "data25.production_companies = data25.production_companies.str.split('|')\n",
    "data25 = data25.explode('production_companies')\n",
    "answers['25'] = data25.groupby(['production_companies']).overview_length.mean().sort_values(ascending=False).index[0]"
   ]
  },
  {
   "cell_type": "markdown",
   "metadata": {
    "colab_type": "text",
    "id": "FJ1AFt90VqAP"
   },
   "source": [
    "# 26. Какие фильмы входят в 1 процент лучших по рейтингу? \n",
    "по vote_average"
   ]
  },
  {
   "cell_type": "code",
   "execution_count": 34,
   "metadata": {
    "colab": {},
    "colab_type": "code",
    "id": "8qmJVq4CVqAQ"
   },
   "outputs": [],
   "source": [
    "data26 = data.copy()\n",
    "interval = data26.vote_average.value_counts(normalize = True, bins = 100).index.sort_values(ascending=False)[0]\n",
    "data26 = data26[(data26['vote_average'] >= interval.left) & (data26['vote_average'] <= interval.right)]\n",
    "answers['26'] = data26.original_title.values[0]"
   ]
  },
  {
   "cell_type": "markdown",
   "metadata": {
    "colab_type": "text",
    "id": "MdXsUXbCVqAV"
   },
   "source": [
    "# 27. Какие актеры чаще всего снимаются в одном фильме вместе?\n"
   ]
  },
  {
   "cell_type": "code",
   "execution_count": 35,
   "metadata": {
    "colab": {},
    "colab_type": "code",
    "id": "8qmJVq4CVqAQ"
   },
   "outputs": [],
   "source": [
    "data27 = data.copy()\n",
    "\n",
    "data27['cast'] = data27['cast'].str.split('|').apply(sorted)\n",
    "data27['cast'] = data27['cast'].apply(lambda _l : list(itertools.combinations(_l,2)))\n",
    "answers['27'] = data27.explode('cast').cast.value_counts()[:5]"
   ]
  },
  {
   "cell_type": "code",
   "execution_count": 36,
   "metadata": {
    "colab": {},
    "colab_type": "code",
    "id": "8qmJVq4CVqAQ"
   },
   "outputs": [],
   "source": [
    "data27 = data.copy()\n",
    "\n",
    "data27['cast'] = data27['cast'].str.split('|').apply(sorted)\n",
    "data27['cast'] = data27['cast'].apply(_trans)\n",
    "answers['27'] = data27.explode('cast').cast.value_counts()[:5]"
   ]
  },
  {
   "cell_type": "code",
   "execution_count": 37,
   "metadata": {
    "colab": {},
    "colab_type": "code",
    "id": "8qmJVq4CVqAQ"
   },
   "outputs": [],
   "source": [
    "data27 = data.copy()\n",
    "pairs = []\n",
    "\n",
    "data27.cast = sorted(data27.cast.str.split('|'))\n",
    "\n",
    "for _, row in data27.iterrows():  # Итерация по строкая датафрейма\n",
    "    pairs.extend(list(itertools.combinations(row['cast'],2)))\n",
    "\n",
    "c = collections.Counter()\n",
    "for pair in pairs:  # Итерация по списку и формирование счетчика\n",
    "    c[pair] += 1\n",
    "\n",
    "answers['27'] = c.most_common(5)"
   ]
  },
  {
   "cell_type": "markdown",
   "metadata": {
    "colab_type": "text",
    "id": "U0nONFnGVqAX"
   },
   "source": [
    "# Submission"
   ]
  },
  {
   "cell_type": "code",
   "execution_count": 38,
   "metadata": {
    "colab": {},
    "colab_type": "code",
    "id": "IfcaRO9-VqAX",
    "outputId": "0f132912-32bb-4196-c98c-abfbc4ad5a5f"
   },
   "outputs": [
    {
     "data": {
      "text/plain": [
       "{'1': 'Pirates of the Caribbean: On Stranger Tides',\n",
       " '2': 'Gods and Generals',\n",
       " '3': 'Winnie the Pooh',\n",
       " '4': 110.0,\n",
       " '5': 107.0,\n",
       " '6': 'Avatar',\n",
       " '7': 'The Lone Ranger',\n",
       " '8': 1478,\n",
       " '9': 'The Dark Knight',\n",
       " '10': 'The Lone Ranger',\n",
       " '11': 'Drama',\n",
       " '12': 'Drama',\n",
       " '13': 'Peter Jackson',\n",
       " '14': 'Robert Rodriguez',\n",
       " '15': 'Chris Hemsworth',\n",
       " '16': 'Matt Damon',\n",
       " '17': 'Action',\n",
       " '18': 'K-19: The Widowmaker',\n",
       " '19': 2015,\n",
       " '20': 2014,\n",
       " '21': 9,\n",
       " 22: 450,\n",
       " '23': 'Peter Jackson',\n",
       " '24': 'Four By Two Productions',\n",
       " '25': 'Midnight Picture Show',\n",
       " '26': 'The Dark Knight',\n",
       " '27': [(('Daniel Radcliffe', 'Emma Watson'), 8),\n",
       "  (('Daniel Radcliffe', 'Rupert Grint'), 8),\n",
       "  (('Rupert Grint', 'Emma Watson'), 7),\n",
       "  (('Ben Stiller', 'Owen Wilson'), 6),\n",
       "  (('Johnny Depp', 'Helena Bonham Carter'), 6)]}"
      ]
     },
     "execution_count": 38,
     "metadata": {},
     "output_type": "execute_result"
    }
   ],
   "source": [
    "# в конце можно посмотреть свои ответы к каждому вопросу\n",
    "answers"
   ]
  },
  {
   "cell_type": "code",
   "execution_count": 39,
   "metadata": {
    "colab": {},
    "colab_type": "code",
    "id": "SiRmHPl8VqAd"
   },
   "outputs": [
    {
     "data": {
      "text/plain": [
       "27"
      ]
     },
     "execution_count": 39,
     "metadata": {},
     "output_type": "execute_result"
    }
   ],
   "source": [
    "# и убедиться что ни чего не пропустил)\n",
    "len(answers)"
   ]
  },
  {
   "cell_type": "code",
   "execution_count": null,
   "metadata": {
    "colab": {},
    "colab_type": "code",
    "id": "uCfuTkRbVqAg"
   },
   "outputs": [],
   "source": []
  },
  {
   "cell_type": "code",
   "execution_count": null,
   "metadata": {
    "colab": {},
    "colab_type": "code",
    "id": "Vwx3NrkSVqAl"
   },
   "outputs": [],
   "source": []
  }
 ],
 "metadata": {
  "colab": {
   "name": "Copy of [SF-DST] Movies IMBD v4.1 TEMPLATE.ipynb",
   "provenance": []
  },
  "kernelspec": {
   "display_name": "Python 3",
   "language": "python",
   "name": "python3"
  },
  "language_info": {
   "codemirror_mode": {
    "name": "ipython",
    "version": 3
   },
   "file_extension": ".py",
   "mimetype": "text/x-python",
   "name": "python",
   "nbconvert_exporter": "python",
   "pygments_lexer": "ipython3",
   "version": "3.8.3"
  }
 },
 "nbformat": 4,
 "nbformat_minor": 1
}
